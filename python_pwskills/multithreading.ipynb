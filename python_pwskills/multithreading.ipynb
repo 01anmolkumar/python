{
 "cells": [
  {
   "cell_type": "code",
   "execution_count": 1,
   "id": "6e5831e2-1325-42cd-b23a-56f34354d564",
   "metadata": {},
   "outputs": [],
   "source": [
    "## A process is an instance of acomputer program\n",
    "#executed program ,data ,executed context\n",
    "# 4 processor parallely >> multiprocessing\n",
    "# thread >> smallest part of program is thread\n",
    "# multiple threads in processor /core >> multi threading\n"
   ]
  },
  {
   "cell_type": "code",
   "execution_count": 1,
   "id": "e177aff6-951d-4108-bc8f-a1e1bbdf2971",
   "metadata": {},
   "outputs": [
    {
     "name": "stdout",
     "output_type": "stream",
     "text": [
      "do something\n",
      "sleep for 1 sec\n",
      "done with sleeping\n",
      "the program finished in 1.0\n"
     ]
    }
   ],
   "source": [
    "import time\n",
    "start = time.perf_counter()\n",
    "\n",
    "def test_func():\n",
    "    print(\"do something\")\n",
    "    print(\"sleep for 1 sec\")\n",
    "    time.sleep(1)\n",
    "    print(\"done with sleeping\")\n",
    "\n",
    "test_func()\n",
    "end = time.perf_counter()\n",
    "\n",
    "print(f\"the program finished in {round(end-start ,2)}\")"
   ]
  },
  {
   "cell_type": "code",
   "execution_count": 3,
   "id": "f94aac28-10e5-4c00-b589-c7efb7300ca4",
   "metadata": {},
   "outputs": [
    {
     "name": "stdout",
     "output_type": "stream",
     "text": [
      "do something\n",
      "sleep for 1 sec\n",
      "done with sleeping\n",
      "do something\n",
      "sleep for 1 sec\n",
      "done with sleeping\n",
      "do something\n",
      "sleep for 1 sec\n",
      "done with sleeping\n",
      "do something\n",
      "sleep for 1 sec\n",
      "done with sleeping\n",
      "the program finished in 4.0\n"
     ]
    }
   ],
   "source": [
    "import time\n",
    "start = time.perf_counter()\n",
    "\n",
    "def test_func():\n",
    "    print(\"do something\")\n",
    "    print(\"sleep for 1 sec\")\n",
    "    time.sleep(1)\n",
    "    print(\"done with sleeping\")\n",
    "\n",
    "test_func()\n",
    "test_func()\n",
    "test_func()\n",
    "test_func()\n",
    "end = time.perf_counter()\n",
    "\n",
    "print(f\"the program finished in {round(end-start ,2)}\")"
   ]
  },
  {
   "cell_type": "code",
   "execution_count": 8,
   "id": "7842f0df-b727-469b-9827-0da26c2d8ffd",
   "metadata": {},
   "outputs": [
    {
     "name": "stdout",
     "output_type": "stream",
     "text": [
      "do something\n",
      "sleep for 1 sec\n",
      "do something\n",
      "sleep for 1 sec\n",
      "done with sleeping\n",
      "done with sleeping\n",
      "The program finished in 1.01 seconds.\n"
     ]
    }
   ],
   "source": [
    "import time\n",
    "import threading\n",
    "start = time.perf_counter()\n",
    "\n",
    "def test_func():\n",
    "    print(\"do something\")\n",
    "    print(\"sleep for 1 sec\")\n",
    "    time.sleep(1)\n",
    "    print(\"done with sleeping\")\n",
    "\n",
    "t1 = threading.Thread(target = test_func)\n",
    "t2 = threading.Thread(target = test_func)\n",
    "\n",
    "t1.start() #to start the thread\n",
    "t2.start()\n",
    "\n",
    "t1.join()\n",
    "t2.join()\n",
    "\n",
    "\n",
    "end = time.perf_counter()\n",
    "\n",
    "\n",
    "print(f\"The program finished in {round(end-start, 2)} seconds.\")"
   ]
  },
  {
   "cell_type": "code",
   "execution_count": 2,
   "id": "b80a259e-9dbe-4fbf-84d4-04c19ef76a3f",
   "metadata": {},
   "outputs": [
    {
     "name": "stdout",
     "output_type": "stream",
     "text": [
      "do something\n",
      "sleep for 5 sec\n",
      "do something\n",
      "sleep for 5 sec\n",
      "done with sleeping\n",
      "done with sleeping\n",
      "The program finished in 5.01 seconds.\n"
     ]
    }
   ],
   "source": [
    "import time\n",
    "import threading\n",
    "start = time.perf_counter()\n",
    "\n",
    "def test_func():\n",
    "    print(\"do something\")\n",
    "    print(\"sleep for 5 sec\")\n",
    "    time.sleep(5)\n",
    "    print(\"done with sleeping\")\n",
    "\n",
    "t1 = threading.Thread(target = test_func)\n",
    "t2 = threading.Thread(target = test_func)\n",
    "\n",
    "t1.start() #to start the thread\n",
    "t2.start()\n",
    "\n",
    "t1.join()\n",
    "t2.join()\n",
    "\n",
    "\n",
    "end = time.perf_counter()\n",
    "\n",
    "\n",
    "print(f\"The program finished in {round(end-start, 2)} seconds.\")\n",
    "\n"
   ]
  },
  {
   "cell_type": "code",
   "execution_count": 4,
   "id": "e65e5fa9-df1c-4edb-9dc5-efa0d629c7b2",
   "metadata": {},
   "outputs": [
    {
     "name": "stdout",
     "output_type": "stream",
     "text": [
      "do something\n",
      "sleep for 5 sec\n",
      "do something\n",
      "sleep for 5 sec\n",
      "do something\n",
      "sleep for 5 sec\n",
      "do something\n",
      "sleep for 5 sec\n",
      "do something\n",
      "sleep for 5 sec\n",
      "do something\n",
      "sleep for 5 sec\n",
      "do something\n",
      "sleep for 5 sec\n",
      "do something\n",
      "sleep for 5 sec\n",
      "do something\n",
      "sleep for 5 sec\n",
      "do something\n",
      "sleep for 5 sec\n",
      "done with sleeping\n",
      "done with sleeping\n",
      "done with sleeping\n",
      "done with sleeping\n",
      "done with sleeping\n",
      "done with sleeping\n",
      "done with sleeping\n",
      "done with sleeping\n",
      "done with sleeping\n",
      "done with sleeping\n",
      "The program finished in 5.01 seconds.\n"
     ]
    }
   ],
   "source": [
    "import time\n",
    "import threading\n",
    "start = time.perf_counter()\n",
    "\n",
    "def test_func():\n",
    "    print(\"do something\")\n",
    "    print(\"sleep for 5 sec\")\n",
    "    time.sleep(5)\n",
    "    print(\"done with sleeping\")\n",
    "\n",
    "threads = []\n",
    "for i in range(10):\n",
    "    t = threading.Thread(target= test_func)\n",
    "    t.start()\n",
    "    threads.append(t)\n",
    "\n",
    "for thread in threads:\n",
    "    thread.join()\n",
    "   \n",
    "\n",
    "\n",
    "end = time.perf_counter()\n",
    "\n",
    "\n",
    "print(f\"The program finished in {round(end-start, 2)} seconds.\")\n",
    "\n"
   ]
  },
  {
   "cell_type": "code",
   "execution_count": 13,
   "id": "6ac18bbf-f7c4-4dce-9621-6af8ecbac652",
   "metadata": {},
   "outputs": [
    {
     "name": "stdout",
     "output_type": "stream",
     "text": [
      "do something\n",
      "sleep for2 sec\n",
      "do something\n",
      "sleep for2 sec\n",
      "do something\n",
      "sleep for2 sec\n",
      "do something\n",
      "sleep for2 sec\n",
      "do something\n",
      "sleep for2 sec\n",
      "do something\n",
      "sleep for2 sec\n",
      "do something\n",
      "sleep for2 sec\n",
      "do something\n",
      "sleep for2 sec\n",
      "do something\n",
      "sleep for2 sec\n",
      "do something\n",
      "sleep for2 sec\n",
      "done with sleeping\n",
      "done with sleeping\n",
      "done with sleeping\n",
      "done with sleeping\n",
      "done with sleeping\n",
      "done with sleeping\n",
      "done with sleeping\n",
      "done with sleeping\n",
      "done with sleeping\n",
      "done with sleeping\n",
      "The program finished in 2.01 seconds.\n"
     ]
    }
   ],
   "source": [
    "import time\n",
    "import threading\n",
    "start = time.perf_counter()\n",
    "\n",
    "def test_func(args):\n",
    "    print(\"do something\")\n",
    "    print(f\"sleep for{args} sec\")\n",
    "    time.sleep(args)\n",
    "    print(\"done with sleeping\")\n",
    "\n",
    "threads = []\n",
    "for i in range(10):\n",
    "    t = threading.Thread(target= test_func, args =[2])\n",
    "    t.start()\n",
    "    threads.append(t)\n",
    "\n",
    "for thread in threads:\n",
    "    thread.join()\n",
    "   \n",
    "\n",
    "\n",
    "end = time.perf_counter()\n",
    "\n",
    "\n",
    "print(f\"The program finished in {round(end-start, 2)} seconds.\")\n"
   ]
  },
  {
   "cell_type": "code",
   "execution_count": 14,
   "id": "d2c7c243-751d-4656-bda2-aa8074853562",
   "metadata": {},
   "outputs": [],
   "source": [
    "# I/O bound task >> performance can be improved using multithreading >> reading writing files, network comunication , database quary\n"
   ]
  },
  {
   "cell_type": "code",
   "execution_count": 15,
   "id": "304951cc-bdb8-47ee-92ce-2236a187a093",
   "metadata": {},
   "outputs": [],
   "source": [
    "url_list = [\n",
    "    'https://raw.githubusercontent.com/dscape/spell/master/test/resources/big.txt',\n",
    "    'https://raw.githubusercontent.com/first20hours/google-10000-english/master/google-10000-english-no-swears.txt',\n",
    "    'https://raw.githubusercontent.com/itsfoss/text-files/master/sherlock.txt' ,\n",
    "    'https://raw.githubusercontent.com/itsfoss/text-files/master/sample_log_file.txt',\n",
    "]"
   ]
  },
  {
   "cell_type": "code",
   "execution_count": 4,
   "id": "0b34db14-a78d-474f-96bc-e715c2b3a39c",
   "metadata": {},
   "outputs": [
    {
     "name": "stdout",
     "output_type": "stream",
     "text": [
      "The program finished in 3.48 seconds.\n"
     ]
    }
   ],
   "source": [
    "import time\n",
    "import threading\n",
    "start = time.perf_counter()\n",
    "\n",
    "url_list = [\n",
    "    'https://raw.githubusercontent.com/dscape/spell/master/test/resources/big.txt',\n",
    "    'https://raw.githubusercontent.com/first20hours/google-10000-english/master/google-10000-english-no-swears.txt',\n",
    "    'https://raw.githubusercontent.com/itsfoss/text-files/master/sherlock.txt' ,\n",
    "    'https://raw.githubusercontent.com/itsfoss/text-files/master/sample_log_file.txt',\n",
    "]\n",
    "\n",
    "\n",
    "data_list = ['data1.txt', 'data2.txt', 'data3.txt', 'data4.txt']\n",
    "    \n",
    "import urllib.request\n",
    "def file_download(url, filename):\n",
    "    urllib.request.urlretrieve(url, filename)\n",
    "\n",
    "threads=[]\n",
    "for i in range(len(url_list)):\n",
    "    t = threading.Thread(target = file_download, args = (url_list[i], data_list[i]))\n",
    "    t.start()\n",
    "    threads.append(t)\n",
    "    \n",
    "for thread in threads:\n",
    "    thread.join()\n",
    "\n",
    "for thread in threads:\n",
    "    thread.join()\n",
    "    \n",
    "\n",
    "end = time.perf_counter()\n",
    "\n",
    "\n",
    "print(f\"The program finished in {round(end-start, 2)} seconds.\")\n",
    "    "
   ]
  },
  {
   "cell_type": "code",
   "execution_count": 5,
   "id": "022e7b23-d82b-499e-a45c-0ea36962d46d",
   "metadata": {},
   "outputs": [
    {
     "name": "stdout",
     "output_type": "stream",
     "text": [
      "The program finished in 2.66 seconds.\n"
     ]
    }
   ],
   "source": [
    "import time\n",
    "import concurrent.futures\n",
    "start = time.perf_counter()\n",
    "\n",
    "url_list = [\n",
    "    'https://raw.githubusercontent.com/dscape/spell/master/test/resources/big.txt',\n",
    "    'https://raw.githubusercontent.com/first20hours/google-10000-english/master/google-10000-english-no-swears.txt',\n",
    "    'https://raw.githubusercontent.com/itsfoss/text-files/master/sherlock.txt' ,\n",
    "    'https://raw.githubusercontent.com/itsfoss/text-files/master/sample_log_file.txt',\n",
    "]\n",
    "\n",
    "\n",
    "data_list = ['data1.txt', 'data2.txt', 'data3.txt', 'data4.txt']\n",
    "    \n",
    "import urllib.request\n",
    "def file_download(url, filename):\n",
    "    urllib.request.urlretrieve(url, filename)\n",
    "\n",
    "with concurrent.futures.ThreadPoolExecutor() as executor:\n",
    "    executor.map(file_download, url_list, data_list)\n",
    "\n",
    "\n",
    "end = time.perf_counter()\n",
    "\n",
    "print(f\"The program finished in {round(end-start, 2)} seconds.\")\n",
    "    \n"
   ]
  },
  {
   "cell_type": "code",
   "execution_count": 6,
   "id": "9021c289-38db-465f-9780-a8e674044b14",
   "metadata": {},
   "outputs": [
    {
     "name": "stdout",
     "output_type": "stream",
     "text": [
      "Thread 1: incremented shared counter to 1\n",
      "Thread 2: incremented shared counter to 2\n",
      "Thread 3: incremented shared counter to 3\n",
      "Thread 4: incremented shared counter to 4\n",
      "Thread 5: incremented shared counter to 5\n",
      "Thread 6: incremented shared counter to 6\n",
      "The program finished in 6.04 seconds.\n"
     ]
    }
   ],
   "source": [
    "#shared varaible across all the threads\n",
    "\n",
    "start = time.perf_counter()\n",
    "shared_counter = 0\n",
    "counter_lock = threading.Lock()\n",
    "\n",
    "def increment_shared_counter(x):\n",
    "    global shared_counter \n",
    "    with counter_lock:\n",
    "        shared_counter = shared_counter+1\n",
    "        print(f\"Thread {x}: incremented shared counter to {shared_counter}\")\n",
    "        time.sleep(1)\n",
    "        \n",
    "threads = [threading.Thread(target = increment_shared_counter, args=(i,)) for i in [1, 2, 3, 4, 5, 6]]\n",
    "\n",
    "for thread in threads:\n",
    "    thread.start()\n",
    "\n",
    "for thread in threads:\n",
    "    thread.join()\n",
    "    \n",
    "end = time.perf_counter()\n",
    "\n",
    "\n",
    "print(f\"The program finished in {round(end-start, 2)} seconds.\")"
   ]
  },
  {
   "cell_type": "code",
   "execution_count": 7,
   "id": "e0271b11-a816-4181-b088-527093209a8b",
   "metadata": {},
   "outputs": [
    {
     "name": "stdout",
     "output_type": "stream",
     "text": [
      "Thread 1: incremented shared counter to 1\n",
      "Thread 2: incremented shared counter to 2\n",
      "Thread 3: incremented shared counter to 3\n",
      "Thread 4: incremented shared counter to 4\n",
      "Thread 5: incremented shared counter to 5\n",
      "Thread 6: incremented shared counter to 6\n",
      "The program finished in 6.04 seconds.\n"
     ]
    }
   ],
   "source": [
    "start = time.perf_counter()\n",
    "shared_counter = 0\n",
    "counter_lock = threading.Lock()\n",
    "\n",
    "def increment_shared_counter(x):\n",
    "    global shared_counter \n",
    "    with counter_lock:\n",
    "        shared_counter = shared_counter+1\n",
    "        print(f\"Thread {x}: incremented shared counter to {shared_counter}\")\n",
    "        time.sleep(1)\n",
    "\n",
    "with concurrent.futures.ThreadPoolExecutor() as executor:\n",
    "    thread_args =[1, 2, 3, 4, 5, 6]\n",
    "    executor.map(increment_shared_counter, thread_args)\n",
    "\n",
    "        \n",
    "end = time.perf_counter()\n",
    "\n",
    "\n",
    "print(f\"The program finished in {round(end-start, 2)} seconds.\")"
   ]
  },
  {
   "cell_type": "code",
   "execution_count": null,
   "id": "c5d40592-9601-4a7c-a14b-52592adeb1a1",
   "metadata": {},
   "outputs": [],
   "source": []
  }
 ],
 "metadata": {
  "kernelspec": {
   "display_name": "Python 3 (ipykernel)",
   "language": "python",
   "name": "python3"
  },
  "language_info": {
   "codemirror_mode": {
    "name": "ipython",
    "version": 3
   },
   "file_extension": ".py",
   "mimetype": "text/x-python",
   "name": "python",
   "nbconvert_exporter": "python",
   "pygments_lexer": "ipython3",
   "version": "3.12.3"
  }
 },
 "nbformat": 4,
 "nbformat_minor": 5
}
