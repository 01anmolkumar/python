{
 "cells": [
  {
   "cell_type": "code",
   "execution_count": 1,
   "id": "42bad0c2-c27e-4e8c-baf9-1c9556b49764",
   "metadata": {},
   "outputs": [
    {
     "name": "stdout",
     "output_type": "stream",
     "text": [
      "the current no is 0\n",
      "the current no is 1\n",
      "the current no is 2\n",
      "the current no is 3\n",
      "the current no is 4\n",
      "the current no is 5\n",
      "the current no is 6\n",
      "the current no is 7\n",
      "the current no is 8\n",
      "the current no is 9\n"
     ]
    }
   ],
   "source": [
    "for i in range(10):\n",
    "    print(\"the current no is\",i)\n"
   ]
  },
  {
   "cell_type": "code",
   "execution_count": 2,
   "id": "14d03c64-07a9-4754-9258-845caebf7bb6",
   "metadata": {},
   "outputs": [],
   "source": [
    "#logging>> keeps track of \n",
    "#logging module keep track of event in a software run\n",
    "\n",
    "import logging\n",
    "\n",
    "#logging supports different levels of lagging which helps to catrgorize message based on their severity"
   ]
  },
  {
   "cell_type": "code",
   "execution_count": 13,
   "id": "3671af4f-f896-4e56-9cb3-90ba44e0ce1d",
   "metadata": {},
   "outputs": [],
   "source": [
    "logging.basicConfig(filename = \"test.log\", level = logging.INFO)"
   ]
  },
  {
   "cell_type": "code",
   "execution_count": 14,
   "id": "4b60d791-36b5-4589-b2f9-47bbf0ad23b7",
   "metadata": {},
   "outputs": [],
   "source": [
    "logging.info(\"this is my normal information about the software run\")\n",
    "logging.error(\"this is the error msg\")"
   ]
  },
  {
   "cell_type": "code",
   "execution_count": 15,
   "id": "993e78cf-3b71-4dee-9a12-74224e339fc3",
   "metadata": {},
   "outputs": [],
   "source": [
    "logging.warning(\"this is my warning\")"
   ]
  },
  {
   "cell_type": "code",
   "execution_count": 16,
   "id": "d94e5453-aa8e-476f-bc57-cf3bd18aab73",
   "metadata": {},
   "outputs": [],
   "source": [
    "logging.debug(\"this is my msg for debugging\")"
   ]
  },
  {
   "cell_type": "code",
   "execution_count": 17,
   "id": "588a3541-bf98-45ea-b968-48570036b1c6",
   "metadata": {},
   "outputs": [],
   "source": [
    "logging.critical(\"this is critical msg\")"
   ]
  },
  {
   "cell_type": "code",
   "execution_count": 18,
   "id": "28dbdcbf-a571-4405-8336-c4a8136fd681",
   "metadata": {},
   "outputs": [],
   "source": [
    "logging.shutdown()"
   ]
  },
  {
   "cell_type": "code",
   "execution_count": null,
   "id": "13a2349d-eed6-46f0-8015-c6c317d5539b",
   "metadata": {},
   "outputs": [],
   "source": [
    "1. DEBUG >>lowest level, debugging msg and variables\n",
    "2. INFO >> the things are working as expected\n",
    "3. WARNING >> potential issues\n",
    "4. ERROR >> serious problem \n",
    "5. CRITICAL >> termination of program\n"
   ]
  },
  {
   "cell_type": "code",
   "execution_count": 3,
   "id": "aa538455-f004-4cad-9ef4-5e41d693e9c9",
   "metadata": {},
   "outputs": [],
   "source": [
    "import logging\n",
    "logging.basicConfig(filename = \"test_new.log\", level = logging.DEBUG, format = '%(asctime)s %(message)s')"
   ]
  },
  {
   "cell_type": "code",
   "execution_count": 4,
   "id": "c3d3ea9f-adf3-4db4-a769-3b2d715ea2ae",
   "metadata": {},
   "outputs": [],
   "source": [
    "logging.debug(\"this is my msg for debugging\")"
   ]
  },
  {
   "cell_type": "code",
   "execution_count": 5,
   "id": "3cf8b93f-128d-410c-96b7-bd96fae5bce7",
   "metadata": {},
   "outputs": [],
   "source": [
    "logging.info(\"this is my normal information about the software run\")"
   ]
  },
  {
   "cell_type": "code",
   "execution_count": 6,
   "id": "6024618c-9aeb-4c57-92a9-28ea413eb2c3",
   "metadata": {},
   "outputs": [],
   "source": [
    "logging.warning(\"this is my warning\")"
   ]
  },
  {
   "cell_type": "code",
   "execution_count": 7,
   "id": "d6e34a97-d097-4e07-9945-43c16ffee859",
   "metadata": {},
   "outputs": [],
   "source": [
    "logging.shutdown()"
   ]
  },
  {
   "cell_type": "code",
   "execution_count": 1,
   "id": "ed658fb2-1eda-48d4-a114-7f3a00fcb01e",
   "metadata": {},
   "outputs": [],
   "source": [
    "import logging\n",
    "logging.basicConfig(filename = \"test_new1.log\" , level = logging.DEBUG ,format = '%(asctime)s %(levelname)s %(message)s'  )"
   ]
  },
  {
   "cell_type": "code",
   "execution_count": 2,
   "id": "a5c4ce4f-6d6d-4d03-89e2-404099650a06",
   "metadata": {},
   "outputs": [],
   "source": [
    "logging.debug(\"debugging message\")"
   ]
  },
  {
   "cell_type": "code",
   "execution_count": 3,
   "id": "70ebddf8-bd9d-4d1f-a007-2886b7015e29",
   "metadata": {},
   "outputs": [],
   "source": [
    "logging.info(\"info message\")"
   ]
  },
  {
   "cell_type": "code",
   "execution_count": 4,
   "id": "49ab00a6-3260-4992-ab9e-323cd0af29ae",
   "metadata": {},
   "outputs": [],
   "source": [
    "logging.shutdown()\n"
   ]
  },
  {
   "cell_type": "code",
   "execution_count": 1,
   "id": "4d369e6b-5b1a-45ed-9c8b-64916e452e1b",
   "metadata": {},
   "outputs": [],
   "source": [
    "import logging\n",
    "logging.basicConfig(filename = \"program.log\" , level = logging.DEBUG ,format = '%(asctime)s %(levelname)s %(message)s'  )"
   ]
  },
  {
   "cell_type": "code",
   "execution_count": 2,
   "id": "430cdb32-26cd-4f49-aa7d-f7a553b42ea2",
   "metadata": {},
   "outputs": [],
   "source": [
    "l = [1, \"hello\", [2, \"world\"], 3, [\"python\", 4]]\n",
    "\n",
    "#write a prog to separate the integer and string in two list separfately"
   ]
  },
  {
   "cell_type": "code",
   "execution_count": 3,
   "id": "d360f60a-602e-40fc-84ae-233fee027cfb",
   "metadata": {},
   "outputs": [],
   "source": [
    "l1_int = []\n",
    "l2_str = []\n",
    "\n",
    "for i in l:\n",
    "    logging.info(f\"processing each element {i}\")\n",
    "    \n",
    "    if type(i) == list:\n",
    "        for j in i:\n",
    "            logging.info(f\"processing sublist element: {j}\")\n",
    "            if type(j) == int:\n",
    "                l1_int.append(j)\n",
    "    elif type(i) == int:\n",
    "        l1_int.append(i)\n",
    "    else:\n",
    "        l2_str.append(i)\n",
    "logging.info(f\"The final result is: {l1_int}, {l2_str}\")\n",
    "logging.shutdown()"
   ]
  },
  {
   "cell_type": "code",
   "execution_count": null,
   "id": "a85f6bdf-2955-4b8c-b663-75fdaed32f9b",
   "metadata": {},
   "outputs": [],
   "source": []
  }
 ],
 "metadata": {
  "kernelspec": {
   "display_name": "Python 3 (ipykernel)",
   "language": "python",
   "name": "python3"
  },
  "language_info": {
   "codemirror_mode": {
    "name": "ipython",
    "version": 3
   },
   "file_extension": ".py",
   "mimetype": "text/x-python",
   "name": "python",
   "nbconvert_exporter": "python",
   "pygments_lexer": "ipython3",
   "version": "3.12.3"
  }
 },
 "nbformat": 4,
 "nbformat_minor": 5
}
