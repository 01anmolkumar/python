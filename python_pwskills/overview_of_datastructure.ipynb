{
 "cells": [
  {
   "cell_type": "code",
   "execution_count": 1,
   "id": "92311d6a-da79-4b14-89f5-7a72130e13ac",
   "metadata": {},
   "outputs": [],
   "source": [
    "#data structure>> way of arganizing and stroing data so that it can be accessed and manipulated effcient"
   ]
  },
  {
   "cell_type": "code",
   "execution_count": 2,
   "id": "ba61a8ab-81b2-4443-b146-fadf5ae8d6c9",
   "metadata": {},
   "outputs": [],
   "source": [
    "#list >> it is an ordered collection of elements that can be of any data type,integer ,float\n",
    "#list are mutable"
   ]
  },
  {
   "cell_type": "code",
   "execution_count": 1,
   "id": "eaa46052-9804-47ea-878f-e7852c207d62",
   "metadata": {},
   "outputs": [
    {
     "data": {
      "text/plain": [
       "list"
      ]
     },
     "execution_count": 1,
     "metadata": {},
     "output_type": "execute_result"
    }
   ],
   "source": [
    "num = [1,2,3,4,5]\n",
    "type(num)"
   ]
  },
  {
   "cell_type": "code",
   "execution_count": 2,
   "id": "66ed55cc-adbc-409b-8fe3-eeec9cd82869",
   "metadata": {},
   "outputs": [
    {
     "data": {
      "text/plain": [
       "1"
      ]
     },
     "execution_count": 2,
     "metadata": {},
     "output_type": "execute_result"
    }
   ],
   "source": [
    "num[0]"
   ]
  },
  {
   "cell_type": "code",
   "execution_count": 3,
   "id": "34e46bc7-aa49-4937-a328-400d6e4c4ca6",
   "metadata": {},
   "outputs": [
    {
     "data": {
      "text/plain": [
       "2"
      ]
     },
     "execution_count": 3,
     "metadata": {},
     "output_type": "execute_result"
    }
   ],
   "source": [
    "num[1]"
   ]
  },
  {
   "cell_type": "code",
   "execution_count": 4,
   "id": "d6088eed-259a-4a2d-8984-f10ee05c49a9",
   "metadata": {},
   "outputs": [
    {
     "data": {
      "text/plain": [
       "3"
      ]
     },
     "execution_count": 4,
     "metadata": {},
     "output_type": "execute_result"
    }
   ],
   "source": [
    "num[2]"
   ]
  },
  {
   "cell_type": "code",
   "execution_count": 5,
   "id": "fc95282e-25ad-45d0-80b5-769e64624ed7",
   "metadata": {},
   "outputs": [
    {
     "data": {
      "text/plain": [
       "4"
      ]
     },
     "execution_count": 5,
     "metadata": {},
     "output_type": "execute_result"
    }
   ],
   "source": [
    "num[3]"
   ]
  },
  {
   "cell_type": "code",
   "execution_count": 6,
   "id": "eb9072f7-e419-488a-a7c1-344d822dae14",
   "metadata": {},
   "outputs": [
    {
     "ename": "IndexError",
     "evalue": "list index out of range",
     "output_type": "error",
     "traceback": [
      "\u001b[1;31m---------------------------------------------------------------------------\u001b[0m",
      "\u001b[1;31mIndexError\u001b[0m                                Traceback (most recent call last)",
      "Cell \u001b[1;32mIn[6], line 1\u001b[0m\n\u001b[1;32m----> 1\u001b[0m \u001b[43mnum\u001b[49m\u001b[43m[\u001b[49m\u001b[38;5;241;43m5\u001b[39;49m\u001b[43m]\u001b[49m\n",
      "\u001b[1;31mIndexError\u001b[0m: list index out of range"
     ]
    }
   ],
   "source": [
    "num[5]"
   ]
  },
  {
   "cell_type": "code",
   "execution_count": 7,
   "id": "c65af402-9685-4c13-9708-df508a68844b",
   "metadata": {},
   "outputs": [],
   "source": [
    "lis=[1,2,\"ajay\",True,3+7j]"
   ]
  },
  {
   "cell_type": "code",
   "execution_count": 8,
   "id": "380104ab-9b28-480e-b7d3-7fd8b93e884d",
   "metadata": {},
   "outputs": [
    {
     "data": {
      "text/plain": [
       "list"
      ]
     },
     "execution_count": 8,
     "metadata": {},
     "output_type": "execute_result"
    }
   ],
   "source": [
    "type(lis)"
   ]
  },
  {
   "cell_type": "code",
   "execution_count": 9,
   "id": "784c0071-0eaa-4948-8a4b-19126e3c391e",
   "metadata": {},
   "outputs": [
    {
     "data": {
      "text/plain": [
       "[1, 2, 'ajay', True, (3+7j)]"
      ]
     },
     "execution_count": 9,
     "metadata": {},
     "output_type": "execute_result"
    }
   ],
   "source": [
    "lis"
   ]
  },
  {
   "cell_type": "code",
   "execution_count": 10,
   "id": "8e0b5d6c-d708-4411-8e1e-2347e8a1fbab",
   "metadata": {},
   "outputs": [],
   "source": [
    "lis.append(\"pwskills\")"
   ]
  },
  {
   "cell_type": "code",
   "execution_count": 11,
   "id": "76d00332-2e63-4fb8-92a2-f049104da6a3",
   "metadata": {},
   "outputs": [
    {
     "data": {
      "text/plain": [
       "[1, 2, 'ajay', True, (3+7j), 'pwskills']"
      ]
     },
     "execution_count": 11,
     "metadata": {},
     "output_type": "execute_result"
    }
   ],
   "source": [
    "lis"
   ]
  },
  {
   "cell_type": "code",
   "execution_count": 12,
   "id": "db0bb293-6db9-428c-84f5-001129b50466",
   "metadata": {},
   "outputs": [],
   "source": [
    "lis.remove(\"ajay\")"
   ]
  },
  {
   "cell_type": "code",
   "execution_count": 13,
   "id": "fd0a718b-ea1a-41a4-b2b2-56453ab1c597",
   "metadata": {},
   "outputs": [
    {
     "data": {
      "text/plain": [
       "[1, 2, True, (3+7j), 'pwskills']"
      ]
     },
     "execution_count": 13,
     "metadata": {},
     "output_type": "execute_result"
    }
   ],
   "source": [
    "lis"
   ]
  },
  {
   "cell_type": "code",
   "execution_count": 15,
   "id": "0a6fcb50-61bd-4cd2-8d3c-8cdca1dad07f",
   "metadata": {},
   "outputs": [
    {
     "data": {
      "text/plain": [
       "True"
      ]
     },
     "execution_count": 15,
     "metadata": {},
     "output_type": "execute_result"
    }
   ],
   "source": [
    "lis[2]"
   ]
  },
  {
   "cell_type": "code",
   "execution_count": 18,
   "id": "75ce70db-578b-4567-8690-4cea0f943403",
   "metadata": {},
   "outputs": [],
   "source": [
    "lis=[[1,2,3],[4,5,6],[7,8,9]]"
   ]
  },
  {
   "cell_type": "code",
   "execution_count": 19,
   "id": "56e5fc9c-c8e7-4033-81a0-d23a24a15c6f",
   "metadata": {},
   "outputs": [
    {
     "data": {
      "text/plain": [
       "list"
      ]
     },
     "execution_count": 19,
     "metadata": {},
     "output_type": "execute_result"
    }
   ],
   "source": [
    "type(lis)"
   ]
  },
  {
   "cell_type": "code",
   "execution_count": 20,
   "id": "3f7848e8-6f1a-4a8f-940b-ba53516dba2a",
   "metadata": {},
   "outputs": [
    {
     "data": {
      "text/plain": [
       "2"
      ]
     },
     "execution_count": 20,
     "metadata": {},
     "output_type": "execute_result"
    }
   ],
   "source": [
    "lis[0][1]"
   ]
  },
  {
   "cell_type": "code",
   "execution_count": 21,
   "id": "b591859c-589e-4cb8-a1ae-2bb289dce9a0",
   "metadata": {},
   "outputs": [
    {
     "data": {
      "text/plain": [
       "9"
      ]
     },
     "execution_count": 21,
     "metadata": {},
     "output_type": "execute_result"
    }
   ],
   "source": [
    "lis[2][2]"
   ]
  },
  {
   "cell_type": "code",
   "execution_count": 2,
   "id": "dd1d073c-99d5-4b8f-ba6a-8e0e371c5985",
   "metadata": {},
   "outputs": [
    {
     "data": {
      "text/plain": [
       "list"
      ]
     },
     "execution_count": 2,
     "metadata": {},
     "output_type": "execute_result"
    }
   ],
   "source": [
    "shopping_list =[\"banana\",\"apple\",\"mango\",\"lichi\",\"guava\"]\n",
    "type(shopping_list)"
   ]
  },
  {
   "cell_type": "code",
   "execution_count": 3,
   "id": "1c214687-5327-40f0-9390-27722b4f362e",
   "metadata": {},
   "outputs": [
    {
     "name": "stdout",
     "output_type": "stream",
     "text": [
      "banana\n",
      "apple\n",
      "mango\n",
      "lichi\n",
      "guava\n"
     ]
    }
   ],
   "source": [
    "for item in shopping_list:\n",
    "    print(item,end=\" \")"
   ]
  },
  {
   "cell_type": "code",
   "execution_count": null,
   "id": "cd408aa2-d96f-4d41-bc6b-cfd3c224ba03",
   "metadata": {},
   "outputs": [],
   "source": []
  },
  {
   "cell_type": "code",
   "execution_count": 26,
   "id": "94b1e9a4-b60a-486a-be45-219562005cae",
   "metadata": {},
   "outputs": [],
   "source": [
    "#Tuples >> immutable"
   ]
  },
  {
   "cell_type": "code",
   "execution_count": 27,
   "id": "31ef293e-2c0a-4c93-9594-7c76e2b82aa6",
   "metadata": {},
   "outputs": [],
   "source": [
    "point = (2,3)"
   ]
  },
  {
   "cell_type": "code",
   "execution_count": 29,
   "id": "568ab245-2ad8-4938-8200-95c9d020a4c3",
   "metadata": {},
   "outputs": [
    {
     "data": {
      "text/plain": [
       "(2, 3)"
      ]
     },
     "execution_count": 29,
     "metadata": {},
     "output_type": "execute_result"
    }
   ],
   "source": [
    "point"
   ]
  },
  {
   "cell_type": "code",
   "execution_count": 30,
   "id": "c43b1182-ad29-43fa-a9dc-addc3d34eb6c",
   "metadata": {},
   "outputs": [
    {
     "data": {
      "text/plain": [
       "tuple"
      ]
     },
     "execution_count": 30,
     "metadata": {},
     "output_type": "execute_result"
    }
   ],
   "source": [
    "type(point)"
   ]
  },
  {
   "cell_type": "code",
   "execution_count": 32,
   "id": "b45ee4c4-3c81-44a0-bfdc-bdc16356a909",
   "metadata": {},
   "outputs": [],
   "source": [
    "point=(\"ajay\",1,2,2.3)"
   ]
  },
  {
   "cell_type": "code",
   "execution_count": 33,
   "id": "220ad615-be27-4867-bdb7-cb3fd4325af8",
   "metadata": {},
   "outputs": [
    {
     "data": {
      "text/plain": [
       "('ajay', 1, 2, 2.3)"
      ]
     },
     "execution_count": 33,
     "metadata": {},
     "output_type": "execute_result"
    }
   ],
   "source": [
    "point"
   ]
  },
  {
   "cell_type": "code",
   "execution_count": 34,
   "id": "a70501e1-c962-44bd-bfe7-6a640b71b21c",
   "metadata": {},
   "outputs": [],
   "source": [
    "name=(\"ajay\",\"sumit\",\"bijay\")"
   ]
  },
  {
   "cell_type": "code",
   "execution_count": 35,
   "id": "c8e9c948-ceb5-4d29-b474-24ff00243dde",
   "metadata": {},
   "outputs": [
    {
     "data": {
      "text/plain": [
       "'sumit'"
      ]
     },
     "execution_count": 35,
     "metadata": {},
     "output_type": "execute_result"
    }
   ],
   "source": [
    "name[1]"
   ]
  },
  {
   "cell_type": "code",
   "execution_count": 36,
   "id": "2e1d3a85-41cd-4e6e-b43b-0316089c6dbc",
   "metadata": {},
   "outputs": [
    {
     "data": {
      "text/plain": [
       "'ajay'"
      ]
     },
     "execution_count": 36,
     "metadata": {},
     "output_type": "execute_result"
    }
   ],
   "source": [
    "name[0]"
   ]
  },
  {
   "cell_type": "code",
   "execution_count": 37,
   "id": "7fa48394-490e-4bff-97f9-b62925d2b0c2",
   "metadata": {},
   "outputs": [
    {
     "ename": "TypeError",
     "evalue": "'tuple' object does not support item assignment",
     "output_type": "error",
     "traceback": [
      "\u001b[1;31m---------------------------------------------------------------------------\u001b[0m",
      "\u001b[1;31mTypeError\u001b[0m                                 Traceback (most recent call last)",
      "Cell \u001b[1;32mIn[37], line 1\u001b[0m\n\u001b[1;32m----> 1\u001b[0m \u001b[43mname\u001b[49m\u001b[43m[\u001b[49m\u001b[38;5;241;43m1\u001b[39;49m\u001b[43m]\u001b[49m\u001b[38;5;241m=\u001b[39m\u001b[38;5;124m\"\u001b[39m\u001b[38;5;124mbangalore\u001b[39m\u001b[38;5;124m\"\u001b[39m\n",
      "\u001b[1;31mTypeError\u001b[0m: 'tuple' object does not support item assignment"
     ]
    }
   ],
   "source": [
    "name[1]=\"bangalore\""
   ]
  },
  {
   "cell_type": "code",
   "execution_count": 38,
   "id": "98f9b430-49b3-4743-83ba-23615ce5524e",
   "metadata": {},
   "outputs": [],
   "source": [
    "box1 =(\"a\",\"b\")\n",
    "box2 =(\"c\",\"d\")\n",
    "\n",
    "choclate_bag = (box1,box2)"
   ]
  },
  {
   "cell_type": "code",
   "execution_count": 39,
   "id": "48cdf1c3-9fa9-4301-ad1a-11581a1b0d0c",
   "metadata": {},
   "outputs": [
    {
     "data": {
      "text/plain": [
       "(('a', 'b'), ('c', 'd'))"
      ]
     },
     "execution_count": 39,
     "metadata": {},
     "output_type": "execute_result"
    }
   ],
   "source": [
    "choclate_bag "
   ]
  },
  {
   "cell_type": "code",
   "execution_count": 42,
   "id": "0f1f8004-47bd-40df-98f4-755bd511fc06",
   "metadata": {},
   "outputs": [
    {
     "name": "stdout",
     "output_type": "stream",
     "text": [
      "a\n",
      "b\n",
      "c\n",
      "d\n"
     ]
    }
   ],
   "source": [
    "for bag in choclate_bag:\n",
    "    for choc in bag:\n",
    "        print(choc)"
   ]
  },
  {
   "cell_type": "code",
   "execution_count": null,
   "id": "71a07496-d541-4cb3-82d5-86a5cb65de86",
   "metadata": {},
   "outputs": [],
   "source": []
  },
  {
   "cell_type": "code",
   "execution_count": 2,
   "id": "6420de5e-d188-4906-98d6-501a2e4a568f",
   "metadata": {},
   "outputs": [],
   "source": [
    "#lists >> are unordered collection of unique elements"
   ]
  },
  {
   "cell_type": "code",
   "execution_count": 3,
   "id": "4b506af5-5b94-4f91-b796-6a3e0699e5b4",
   "metadata": {},
   "outputs": [],
   "source": [
    "s={\"red\",\"blue\"}"
   ]
  },
  {
   "cell_type": "code",
   "execution_count": 5,
   "id": "9cc3f8cc-cb9c-4ab8-b43d-f32412875c27",
   "metadata": {},
   "outputs": [
    {
     "data": {
      "text/plain": [
       "set"
      ]
     },
     "execution_count": 5,
     "metadata": {},
     "output_type": "execute_result"
    }
   ],
   "source": [
    "type(s)"
   ]
  },
  {
   "cell_type": "code",
   "execution_count": 6,
   "id": "c3e0b542-2704-4c6c-b852-0fa28b70137e",
   "metadata": {},
   "outputs": [
    {
     "data": {
      "text/plain": [
       "{'blue', 'red'}"
      ]
     },
     "execution_count": 6,
     "metadata": {},
     "output_type": "execute_result"
    }
   ],
   "source": [
    "s"
   ]
  },
  {
   "cell_type": "code",
   "execution_count": 7,
   "id": "d90ed10f-ce4b-4d17-b8f8-02a16b44df76",
   "metadata": {},
   "outputs": [],
   "source": [
    "s={\"a\",\"a\",\"a\",1.2,1.2}"
   ]
  },
  {
   "cell_type": "code",
   "execution_count": 8,
   "id": "641cbb2f-d8bd-4a6f-8ea9-e4a7813dc64d",
   "metadata": {},
   "outputs": [
    {
     "data": {
      "text/plain": [
       "{1.2, 'a'}"
      ]
     },
     "execution_count": 8,
     "metadata": {},
     "output_type": "execute_result"
    }
   ],
   "source": [
    "s"
   ]
  },
  {
   "cell_type": "code",
   "execution_count": 10,
   "id": "aacff252-5430-4057-b152-ef2375e64877",
   "metadata": {},
   "outputs": [],
   "source": [
    "s.add(\"pwskills\")"
   ]
  },
  {
   "cell_type": "code",
   "execution_count": 11,
   "id": "00ae3b04-8313-421e-9d5a-7ffa5e9ad6a3",
   "metadata": {},
   "outputs": [
    {
     "data": {
      "text/plain": [
       "{1.2, 'a', 'pwskills'}"
      ]
     },
     "execution_count": 11,
     "metadata": {},
     "output_type": "execute_result"
    }
   ],
   "source": [
    "s"
   ]
  },
  {
   "cell_type": "code",
   "execution_count": 12,
   "id": "230ef729-9ce0-441c-9c3b-c3b89ec2263f",
   "metadata": {},
   "outputs": [],
   "source": [
    "s.add(\"pwskills\")"
   ]
  },
  {
   "cell_type": "code",
   "execution_count": 13,
   "id": "ec36ba56-9441-4330-ae3a-27e9aeadc410",
   "metadata": {},
   "outputs": [
    {
     "data": {
      "text/plain": [
       "{1.2, 'a', 'pwskills'}"
      ]
     },
     "execution_count": 13,
     "metadata": {},
     "output_type": "execute_result"
    }
   ],
   "source": [
    "s"
   ]
  },
  {
   "cell_type": "code",
   "execution_count": 14,
   "id": "0d6911f8-8279-461b-950c-20cc360edc00",
   "metadata": {},
   "outputs": [],
   "source": [
    "s.remove(\"pwskills\")"
   ]
  },
  {
   "cell_type": "code",
   "execution_count": 15,
   "id": "a2cd67f1-5a92-4274-8f54-210ec68d1d35",
   "metadata": {},
   "outputs": [
    {
     "data": {
      "text/plain": [
       "{1.2, 'a'}"
      ]
     },
     "execution_count": 15,
     "metadata": {},
     "output_type": "execute_result"
    }
   ],
   "source": [
    "s"
   ]
  },
  {
   "cell_type": "code",
   "execution_count": 16,
   "id": "779f15c3-a5a2-4c41-8fab-9bae6efe5b8c",
   "metadata": {},
   "outputs": [
    {
     "data": {
      "text/plain": [
       "{'apple', 'banana', 'orange'}"
      ]
     },
     "execution_count": 16,
     "metadata": {},
     "output_type": "execute_result"
    }
   ],
   "source": [
    "grocery_list={\"apple\",\"banana\",\"orange\",\"banana\",\"orange\"}\n",
    "grocery_list"
   ]
  },
  {
   "cell_type": "code",
   "execution_count": null,
   "id": "5e6dc35e-8845-4543-b6b2-e8d9dc34e98d",
   "metadata": {},
   "outputs": [],
   "source": []
  },
  {
   "cell_type": "code",
   "execution_count": 18,
   "id": "646ee264-100f-4543-ae79-5cfe1195af04",
   "metadata": {},
   "outputs": [],
   "source": [
    "#dictionaries >> key value pair\n",
    "my_dict ={}"
   ]
  },
  {
   "cell_type": "code",
   "execution_count": 19,
   "id": "02d2242d-f198-44c7-9fcc-f0ee1326e113",
   "metadata": {},
   "outputs": [
    {
     "data": {
      "text/plain": [
       "{}"
      ]
     },
     "execution_count": 19,
     "metadata": {},
     "output_type": "execute_result"
    }
   ],
   "source": [
    "my_dict"
   ]
  },
  {
   "cell_type": "code",
   "execution_count": 20,
   "id": "00f9833a-677a-448e-82e0-fbdc27e618e9",
   "metadata": {},
   "outputs": [
    {
     "data": {
      "text/plain": [
       "dict"
      ]
     },
     "execution_count": 20,
     "metadata": {},
     "output_type": "execute_result"
    }
   ],
   "source": [
    "type(my_dict)"
   ]
  },
  {
   "cell_type": "code",
   "execution_count": 22,
   "id": "aeb330ba-5838-45ac-b866-5d6aa1b1ef76",
   "metadata": {},
   "outputs": [
    {
     "data": {
      "text/plain": [
       "dict"
      ]
     },
     "execution_count": 22,
     "metadata": {},
     "output_type": "execute_result"
    }
   ],
   "source": [
    "s={}\n",
    "type(s)"
   ]
  },
  {
   "cell_type": "code",
   "execution_count": 23,
   "id": "48248f1d-eeb9-40ad-aaed-0bfc585b049f",
   "metadata": {},
   "outputs": [],
   "source": [
    "my_dict ={\"key_course\":data science,\"duration\":2}"
   ]
  },
  {
   "cell_type": "code",
   "execution_count": 24,
   "id": "d762c04e-a43f-4a4b-91ac-5bb89a06a34b",
   "metadata": {},
   "outputs": [
    {
     "data": {
      "text/plain": [
       "dict"
      ]
     },
     "execution_count": 24,
     "metadata": {},
     "output_type": "execute_result"
    }
   ],
   "source": [
    "type(my_dict)"
   ]
  },
  {
   "cell_type": "code",
   "execution_count": 27,
   "id": "017844c2-c8ff-4615-9fe9-7f604b0c62d5",
   "metadata": {
    "scrolled": true
   },
   "outputs": [
    {
     "data": {
      "text/plain": [
       "'data science'"
      ]
     },
     "execution_count": 27,
     "metadata": {},
     "output_type": "execute_result"
    }
   ],
   "source": [
    "my_dict[\"key_course\"] "
   ]
  },
  {
   "cell_type": "code",
   "execution_count": 28,
   "id": "19dc34af-a074-4ad3-9f29-1d57267f79ca",
   "metadata": {},
   "outputs": [],
   "source": [
    "phonebook = {\"dad\" : 1234, \"mom\":234}"
   ]
  },
  {
   "cell_type": "code",
   "execution_count": 29,
   "id": "da8c5b02-ec9a-4100-97d3-5b8281b2bee5",
   "metadata": {},
   "outputs": [
    {
     "data": {
      "text/plain": [
       "dict"
      ]
     },
     "execution_count": 29,
     "metadata": {},
     "output_type": "execute_result"
    }
   ],
   "source": [
    "type(phonebook)"
   ]
  },
  {
   "cell_type": "code",
   "execution_count": 30,
   "id": "89f41ad9-af8a-4316-8540-d46f2d9920d9",
   "metadata": {},
   "outputs": [
    {
     "data": {
      "text/plain": [
       "1234"
      ]
     },
     "execution_count": 30,
     "metadata": {},
     "output_type": "execute_result"
    }
   ],
   "source": [
    "phonebook[\"dad\"]"
   ]
  },
  {
   "cell_type": "code",
   "execution_count": 31,
   "id": "3078aaad-92ad-49c6-b244-9c72d1f9d09b",
   "metadata": {},
   "outputs": [],
   "source": [
    "phonebook = {\"dad\":1234,\"mom\":234,\"dad\":789}"
   ]
  },
  {
   "cell_type": "code",
   "execution_count": 32,
   "id": "7f4825f8-0c90-4991-8ea6-609c49482eca",
   "metadata": {},
   "outputs": [
    {
     "data": {
      "text/plain": [
       "{'dad': 789, 'mom': 234}"
      ]
     },
     "execution_count": 32,
     "metadata": {},
     "output_type": "execute_result"
    }
   ],
   "source": [
    "phonebook"
   ]
  },
  {
   "cell_type": "code",
   "execution_count": 34,
   "id": "cdbc8468-5fcf-4bf0-8baf-17fa7e0e1c3c",
   "metadata": {},
   "outputs": [
    {
     "data": {
      "text/plain": [
       "dict_keys(['dad', 'mom'])"
      ]
     },
     "execution_count": 34,
     "metadata": {},
     "output_type": "execute_result"
    }
   ],
   "source": [
    "phonebook.keys()"
   ]
  },
  {
   "cell_type": "code",
   "execution_count": 35,
   "id": "82403033-f591-4344-b6a6-85fe41d1dca8",
   "metadata": {},
   "outputs": [
    {
     "data": {
      "text/plain": [
       "dict_values([789, 234])"
      ]
     },
     "execution_count": 35,
     "metadata": {},
     "output_type": "execute_result"
    }
   ],
   "source": [
    "phonebook.values()"
   ]
  },
  {
   "cell_type": "code",
   "execution_count": 36,
   "id": "6ae30c4c-b93b-49e5-a44f-bc25ea782c54",
   "metadata": {},
   "outputs": [],
   "source": [
    "phonebook[\"dad\"]=677 #we are changed any values"
   ]
  },
  {
   "cell_type": "code",
   "execution_count": 37,
   "id": "76821a4a-70cf-4d1e-aa0b-60ac6df84275",
   "metadata": {},
   "outputs": [
    {
     "data": {
      "text/plain": [
       "{'dad': 677, 'mom': 234}"
      ]
     },
     "execution_count": 37,
     "metadata": {},
     "output_type": "execute_result"
    }
   ],
   "source": [
    "phonebook"
   ]
  },
  {
   "cell_type": "code",
   "execution_count": null,
   "id": "d80d7c41-1673-4274-9ee4-d9c9776825e7",
   "metadata": {},
   "outputs": [],
   "source": []
  },
  {
   "cell_type": "code",
   "execution_count": 38,
   "id": "019f67bd-b41d-4656-a278-703eac4d22d0",
   "metadata": {},
   "outputs": [],
   "source": [
    "#array\n",
    "from array import array #array is similar to list >> homgenous data"
   ]
  },
  {
   "cell_type": "code",
   "execution_count": 39,
   "id": "ba9fba9d-ed62-4aae-b457-31528d2eab10",
   "metadata": {},
   "outputs": [
    {
     "data": {
      "text/plain": [
       "array('i', [1, 2, 3, 4])"
      ]
     },
     "execution_count": 39,
     "metadata": {},
     "output_type": "execute_result"
    }
   ],
   "source": [
    "array(\"i\",[1,2,3,4])"
   ]
  },
  {
   "cell_type": "code",
   "execution_count": 40,
   "id": "706f0cfd-ecd0-4a29-acc7-c5dcd8ed4115",
   "metadata": {},
   "outputs": [],
   "source": [
    "a= array(\"i\",[1,2,3,4])"
   ]
  },
  {
   "cell_type": "code",
   "execution_count": 41,
   "id": "a797b02a-d84b-4769-9544-a6ad069deee7",
   "metadata": {},
   "outputs": [
    {
     "data": {
      "text/plain": [
       "1"
      ]
     },
     "execution_count": 41,
     "metadata": {},
     "output_type": "execute_result"
    }
   ],
   "source": [
    "a[0]"
   ]
  },
  {
   "cell_type": "code",
   "execution_count": 42,
   "id": "3e718b0d-e7d1-4b32-bb44-f6d5f4a39cde",
   "metadata": {},
   "outputs": [
    {
     "data": {
      "text/plain": [
       "2"
      ]
     },
     "execution_count": 42,
     "metadata": {},
     "output_type": "execute_result"
    }
   ],
   "source": [
    "a[1]"
   ]
  },
  {
   "cell_type": "code",
   "execution_count": 43,
   "id": "26798cee-9a46-4107-b2fe-336bb3f4c000",
   "metadata": {},
   "outputs": [
    {
     "ename": "TypeError",
     "evalue": "'str' object cannot be interpreted as an integer",
     "output_type": "error",
     "traceback": [
      "\u001b[1;31m---------------------------------------------------------------------------\u001b[0m",
      "\u001b[1;31mTypeError\u001b[0m                                 Traceback (most recent call last)",
      "Cell \u001b[1;32mIn[43], line 1\u001b[0m\n\u001b[1;32m----> 1\u001b[0m a \u001b[38;5;241m=\u001b[39m\u001b[43marray\u001b[49m\u001b[43m(\u001b[49m\u001b[38;5;124;43m\"\u001b[39;49m\u001b[38;5;124;43mi\u001b[39;49m\u001b[38;5;124;43m\"\u001b[39;49m\u001b[43m,\u001b[49m\u001b[43m[\u001b[49m\u001b[38;5;241;43m1\u001b[39;49m\u001b[43m,\u001b[49m\u001b[38;5;241;43m2\u001b[39;49m\u001b[43m,\u001b[49m\u001b[38;5;241;43m3\u001b[39;49m\u001b[43m,\u001b[49m\u001b[38;5;124;43m\"\u001b[39;49m\u001b[38;5;124;43majay\u001b[39;49m\u001b[38;5;124;43m\"\u001b[39;49m\u001b[43m]\u001b[49m\u001b[43m)\u001b[49m\n",
      "\u001b[1;31mTypeError\u001b[0m: 'str' object cannot be interpreted as an integer"
     ]
    }
   ],
   "source": [
    "a =array(\"i\",[1,2,3,\"ajay\"])"
   ]
  },
  {
   "cell_type": "code",
   "execution_count": null,
   "id": "8ef8e158-7991-4eae-bac2-278295d8729b",
   "metadata": {},
   "outputs": [],
   "source": []
  }
 ],
 "metadata": {
  "kernelspec": {
   "display_name": "Python 3 (ipykernel)",
   "language": "python",
   "name": "python3"
  },
  "language_info": {
   "codemirror_mode": {
    "name": "ipython",
    "version": 3
   },
   "file_extension": ".py",
   "mimetype": "text/x-python",
   "name": "python",
   "nbconvert_exporter": "python",
   "pygments_lexer": "ipython3",
   "version": "3.12.3"
  }
 },
 "nbformat": 4,
 "nbformat_minor": 5
}
