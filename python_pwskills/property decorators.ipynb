{
 "cells": [
  {
   "cell_type": "code",
   "execution_count": 16,
   "id": "a466bc86-2a0e-4fde-b550-172a2f502866",
   "metadata": {},
   "outputs": [],
   "source": [
    "class student:\n",
    "    def __init__(self,name,price):\n",
    "        self.name = name\n",
    "        self.__price =price"
   ]
  },
  {
   "cell_type": "code",
   "execution_count": 17,
   "id": "0d1b9ccd-e997-44f0-aeca-913fba288039",
   "metadata": {},
   "outputs": [],
   "source": [
    "stud = student(\"ajay\",3000)"
   ]
  },
  {
   "cell_type": "code",
   "execution_count": 18,
   "id": "a12e6cbf-e042-476d-8691-7eaddec7bc19",
   "metadata": {},
   "outputs": [
    {
     "data": {
      "text/plain": [
       "'ajay'"
      ]
     },
     "execution_count": 18,
     "metadata": {},
     "output_type": "execute_result"
    }
   ],
   "source": [
    "stud.name  "
   ]
  },
  {
   "cell_type": "code",
   "execution_count": 19,
   "id": "4df87c22-e989-4704-b493-cc1ff48fb31a",
   "metadata": {},
   "outputs": [
    {
     "ename": "AttributeError",
     "evalue": "'student' object has no attribute 'price'",
     "output_type": "error",
     "traceback": [
      "\u001b[1;31m---------------------------------------------------------------------------\u001b[0m",
      "\u001b[1;31mAttributeError\u001b[0m                            Traceback (most recent call last)",
      "Cell \u001b[1;32mIn[19], line 1\u001b[0m\n\u001b[1;32m----> 1\u001b[0m \u001b[43mstud\u001b[49m\u001b[38;5;241;43m.\u001b[39;49m\u001b[43mprice\u001b[49m\n",
      "\u001b[1;31mAttributeError\u001b[0m: 'student' object has no attribute 'price'"
     ]
    }
   ],
   "source": [
    "stud.price #because it is private variable"
   ]
  },
  {
   "cell_type": "code",
   "execution_count": 26,
   "id": "ba8fb373-0421-4ba2-a5e7-823b8251a0fe",
   "metadata": {},
   "outputs": [],
   "source": [
    "class student:\n",
    "    def __init__(self,name,price):\n",
    "        self.__name = name\n",
    "        self.__price =price\n",
    "\n",
    "    @property\n",
    "    def access_price(self): #it will access_name as atribute of the class \n",
    "        return self.__price"
   ]
  },
  {
   "cell_type": "code",
   "execution_count": 27,
   "id": "1a0c3f57-de33-4001-9ec4-b244da82e5cb",
   "metadata": {},
   "outputs": [],
   "source": [
    "stud =student(\"ajay\",2000)"
   ]
  },
  {
   "cell_type": "code",
   "execution_count": 29,
   "id": "0eab1724-b4a5-4d74-80dc-f72af30c53d6",
   "metadata": {},
   "outputs": [
    {
     "data": {
      "text/plain": [
       "2000"
      ]
     },
     "execution_count": 29,
     "metadata": {},
     "output_type": "execute_result"
    }
   ],
   "source": [
    "stud.access_price"
   ]
  },
  {
   "cell_type": "code",
   "execution_count": 26,
   "id": "833af2bc-3804-47c6-846e-7837b8e2b077",
   "metadata": {},
   "outputs": [],
   "source": [
    "class student:\n",
    "    def __init__(self,name,price):\n",
    "        self.__name = name\n",
    "        self.__price =price\n",
    "\n",
    "    @property\n",
    "    def access_price(self): #it will access_name as atribute of the class \n",
    "        return self.__price\n",
    "\n",
    "    @access_price.setter\n",
    "    def price_set(self,price_new):\n",
    "           self.__price = price_new\n"
   ]
  },
  {
   "cell_type": "code",
   "execution_count": 27,
   "id": "1dd9a93f-f7fa-4ddc-af03-6cac01ec4a99",
   "metadata": {},
   "outputs": [],
   "source": [
    "stud = student(\"ajay\",3000)"
   ]
  },
  {
   "cell_type": "code",
   "execution_count": 28,
   "id": "52a92288-269a-45af-a94d-9f09206c9c8d",
   "metadata": {},
   "outputs": [
    {
     "data": {
      "text/plain": [
       "3000"
      ]
     },
     "execution_count": 28,
     "metadata": {},
     "output_type": "execute_result"
    }
   ],
   "source": [
    "stud.access_price"
   ]
  },
  {
   "cell_type": "code",
   "execution_count": 29,
   "id": "27476688-eda7-48c9-8766-2b37800e3085",
   "metadata": {},
   "outputs": [],
   "source": [
    "stud.price_set=1500\n"
   ]
  },
  {
   "cell_type": "code",
   "execution_count": 31,
   "id": "28767bf6-708d-47ca-880e-cff27ba79a7e",
   "metadata": {},
   "outputs": [
    {
     "data": {
      "text/plain": [
       "1500"
      ]
     },
     "execution_count": 31,
     "metadata": {},
     "output_type": "execute_result"
    }
   ],
   "source": [
    "stud.access_price"
   ]
  },
  {
   "cell_type": "code",
   "execution_count": 42,
   "id": "a9377782-32ce-44d4-a24e-56be70a1c55d",
   "metadata": {},
   "outputs": [],
   "source": [
    "class student:\n",
    "    def __init__(self,name,price):\n",
    "        self.__name = name\n",
    "        self.__price =price\n",
    "\n",
    "    @property\n",
    "    def access_price(self): #it will access_name as atribute of the class \n",
    "        return self.__price\n",
    "\n",
    "    @access_price.setter\n",
    "    def price_set(self,price_new):\n",
    "           self.__price = price_new\n",
    "\n",
    "    @access_price.deleter\n",
    "    def del_price(self):\n",
    "         del self.__price\n"
   ]
  },
  {
   "cell_type": "code",
   "execution_count": 43,
   "id": "346513e6-66e1-4e15-aef6-70517940d5d5",
   "metadata": {},
   "outputs": [],
   "source": [
    "stud = student(\"ajay\",1000)"
   ]
  },
  {
   "cell_type": "code",
   "execution_count": 44,
   "id": "5283622e-d019-4769-a843-dff33ab48b4a",
   "metadata": {},
   "outputs": [
    {
     "data": {
      "text/plain": [
       "1000"
      ]
     },
     "execution_count": 44,
     "metadata": {},
     "output_type": "execute_result"
    }
   ],
   "source": [
    "stud.access_price"
   ]
  },
  {
   "cell_type": "code",
   "execution_count": 45,
   "id": "6669603b-0c41-4d3e-b660-0fb898aad033",
   "metadata": {},
   "outputs": [],
   "source": [
    "stud.price_set=2000"
   ]
  },
  {
   "cell_type": "code",
   "execution_count": 46,
   "id": "9670b06c-a47f-4591-a3eb-256e7485f8e9",
   "metadata": {},
   "outputs": [
    {
     "data": {
      "text/plain": [
       "2000"
      ]
     },
     "execution_count": 46,
     "metadata": {},
     "output_type": "execute_result"
    }
   ],
   "source": [
    "stud.access_price"
   ]
  },
  {
   "cell_type": "code",
   "execution_count": 47,
   "id": "633e587d-c28b-46b1-bce8-a7db1ebdd890",
   "metadata": {},
   "outputs": [],
   "source": [
    "del stud.del_price"
   ]
  },
  {
   "cell_type": "code",
   "execution_count": 48,
   "id": "91b49d3b-c034-4cd2-8d1c-3cddc0157d41",
   "metadata": {},
   "outputs": [
    {
     "ename": "AttributeError",
     "evalue": "'student' object has no attribute '_student__price'",
     "output_type": "error",
     "traceback": [
      "\u001b[1;31m---------------------------------------------------------------------------\u001b[0m",
      "\u001b[1;31mAttributeError\u001b[0m                            Traceback (most recent call last)",
      "Cell \u001b[1;32mIn[48], line 1\u001b[0m\n\u001b[1;32m----> 1\u001b[0m \u001b[43mstud\u001b[49m\u001b[38;5;241;43m.\u001b[39;49m\u001b[43maccess_price\u001b[49m\n",
      "Cell \u001b[1;32mIn[42], line 8\u001b[0m, in \u001b[0;36mstudent.access_price\u001b[1;34m(self)\u001b[0m\n\u001b[0;32m      6\u001b[0m \u001b[38;5;129m@property\u001b[39m\n\u001b[0;32m      7\u001b[0m \u001b[38;5;28;01mdef\u001b[39;00m \u001b[38;5;21maccess_price\u001b[39m(\u001b[38;5;28mself\u001b[39m): \u001b[38;5;66;03m#it will access_name as atribute of the class \u001b[39;00m\n\u001b[1;32m----> 8\u001b[0m     \u001b[38;5;28;01mreturn\u001b[39;00m \u001b[38;5;28;43mself\u001b[39;49m\u001b[38;5;241;43m.\u001b[39;49m\u001b[43m__price\u001b[49m\n",
      "\u001b[1;31mAttributeError\u001b[0m: 'student' object has no attribute '_student__price'"
     ]
    }
   ],
   "source": [
    "stud.access_price"
   ]
  },
  {
   "cell_type": "code",
   "execution_count": 56,
   "id": "e3ace720-0f9f-437f-ae56-684ee2e7d581",
   "metadata": {},
   "outputs": [],
   "source": [
    "class circle:\n",
    "    def __init__(self,radius):\n",
    "        self.__radius = radius\n",
    "    @property\n",
    "    def radius(self):\n",
    "        return self.__radius\n",
    "\n",
    "        "
   ]
  },
  {
   "cell_type": "code",
   "execution_count": 57,
   "id": "a26cdf6b-cf65-428c-b342-f8011b252604",
   "metadata": {},
   "outputs": [],
   "source": [
    "c =circle(5)"
   ]
  },
  {
   "cell_type": "code",
   "execution_count": 58,
   "id": "e143737b-b4a9-4fdc-84a8-764e31a0e23d",
   "metadata": {},
   "outputs": [
    {
     "data": {
      "text/plain": [
       "5"
      ]
     },
     "execution_count": 58,
     "metadata": {},
     "output_type": "execute_result"
    }
   ],
   "source": [
    "c.radius"
   ]
  },
  {
   "cell_type": "code",
   "execution_count": 65,
   "id": "3b262070-7388-41f2-bf17-c34dd9f118f2",
   "metadata": {},
   "outputs": [],
   "source": [
    "class Circle:\n",
    "    def __init__(self, radius):\n",
    "        self.__radius = radius\n",
    "    @property\n",
    "    def radius(self):\n",
    "        return self.__radius\n",
    "    @radius.setter\n",
    "    def radius(self, value):\n",
    "        if value <= 0:\n",
    "            raise ValueError(\"Radius is not pos\")\n",
    "        self.__radius =value\n",
    "    def area(self):\n",
    "        return 3.14 * self.__radius * self.__radius"
   ]
  },
  {
   "cell_type": "code",
   "execution_count": 69,
   "id": "1db62123-0ade-4aac-8005-1a0330619541",
   "metadata": {},
   "outputs": [],
   "source": [
    "c=Circle(5)"
   ]
  },
  {
   "cell_type": "code",
   "execution_count": 70,
   "id": "cbfdb67c-7bf6-46b7-b1d4-6ecb9533d3ce",
   "metadata": {},
   "outputs": [
    {
     "data": {
      "text/plain": [
       "5"
      ]
     },
     "execution_count": 70,
     "metadata": {},
     "output_type": "execute_result"
    }
   ],
   "source": [
    "c.radius"
   ]
  },
  {
   "cell_type": "code",
   "execution_count": 71,
   "id": "674f1dc9-5552-4178-af56-c01d4e512966",
   "metadata": {},
   "outputs": [],
   "source": [
    "radius =10"
   ]
  },
  {
   "cell_type": "code",
   "execution_count": 72,
   "id": "e5aa0730-8dda-435c-b9eb-e2442ab1f23c",
   "metadata": {},
   "outputs": [
    {
     "data": {
      "text/plain": [
       "5"
      ]
     },
     "execution_count": 72,
     "metadata": {},
     "output_type": "execute_result"
    }
   ],
   "source": [
    "c.radius"
   ]
  },
  {
   "cell_type": "code",
   "execution_count": 74,
   "id": "81b38b72-decd-4c39-982f-fc81a58969e7",
   "metadata": {},
   "outputs": [],
   "source": [
    "c.radius=10"
   ]
  },
  {
   "cell_type": "code",
   "execution_count": 76,
   "id": "858ec9e8-0a6a-4047-ab7f-3746e5e77e46",
   "metadata": {},
   "outputs": [
    {
     "data": {
      "text/plain": [
       "314.0"
      ]
     },
     "execution_count": 76,
     "metadata": {},
     "output_type": "execute_result"
    }
   ],
   "source": [
    "c.area()"
   ]
  },
  {
   "cell_type": "code",
   "execution_count": null,
   "id": "5ff37343-4185-4585-8c58-011312302bbd",
   "metadata": {},
   "outputs": [],
   "source": []
  }
 ],
 "metadata": {
  "kernelspec": {
   "display_name": "Python 3 (ipykernel)",
   "language": "python",
   "name": "python3"
  },
  "language_info": {
   "codemirror_mode": {
    "name": "ipython",
    "version": 3
   },
   "file_extension": ".py",
   "mimetype": "text/x-python",
   "name": "python",
   "nbconvert_exporter": "python",
   "pygments_lexer": "ipython3",
   "version": "3.12.3"
  }
 },
 "nbformat": 4,
 "nbformat_minor": 5
}
