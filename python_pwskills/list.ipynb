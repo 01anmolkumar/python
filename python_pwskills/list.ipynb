{
 "cells": [
  {
   "cell_type": "code",
   "execution_count": 1,
   "id": "4c7cd9a1-3f0f-4dec-8714-15010842d43a",
   "metadata": {},
   "outputs": [],
   "source": [
    "#list are ordered collection of items\n",
    "#[]\n",
    "#list is like a shopping bag which can store everything"
   ]
  },
  {
   "cell_type": "code",
   "execution_count": 2,
   "id": "d85040ab-52d2-401e-95ca-bf6ed88db0b7",
   "metadata": {},
   "outputs": [
    {
     "data": {
      "text/plain": [
       "list"
      ]
     },
     "execution_count": 2,
     "metadata": {},
     "output_type": "execute_result"
    }
   ],
   "source": [
    "type([])"
   ]
  },
  {
   "cell_type": "code",
   "execution_count": 3,
   "id": "188ecedf-2a61-4158-8132-b3c32d5006ae",
   "metadata": {},
   "outputs": [],
   "source": [
    "grocery_list = [\"milk\", \"orange\",1,2,3, True ,2+3j,2.3]"
   ]
  },
  {
   "cell_type": "code",
   "execution_count": 4,
   "id": "d9fbcb12-e9a2-4dea-97db-213eb9212e6d",
   "metadata": {},
   "outputs": [
    {
     "data": {
      "text/plain": [
       "list"
      ]
     },
     "execution_count": 4,
     "metadata": {},
     "output_type": "execute_result"
    }
   ],
   "source": [
    "type(grocery_list)"
   ]
  },
  {
   "cell_type": "code",
   "execution_count": 5,
   "id": "3edca646-7b85-431e-af5c-7bc4508d4532",
   "metadata": {},
   "outputs": [],
   "source": [
    "#list are mutable"
   ]
  },
  {
   "cell_type": "code",
   "execution_count": 6,
   "id": "0d1b030d-4f4a-4ae1-92e6-a18cb6301699",
   "metadata": {},
   "outputs": [
    {
     "data": {
      "text/plain": [
       "'milk'"
      ]
     },
     "execution_count": 6,
     "metadata": {},
     "output_type": "execute_result"
    }
   ],
   "source": [
    "grocery_list[0]"
   ]
  },
  {
   "cell_type": "code",
   "execution_count": 7,
   "id": "92e1ad0f-9777-45c9-8889-6e9c84c58a3a",
   "metadata": {},
   "outputs": [
    {
     "data": {
      "text/plain": [
       "2.3"
      ]
     },
     "execution_count": 7,
     "metadata": {},
     "output_type": "execute_result"
    }
   ],
   "source": [
    "grocery_list[-1]"
   ]
  },
  {
   "cell_type": "code",
   "execution_count": 8,
   "id": "2348c73c-68de-4cab-8faf-5aa7cdac010a",
   "metadata": {},
   "outputs": [
    {
     "data": {
      "text/plain": [
       "['orange', 1, 2, 3, True, (2+3j), 2.3]"
      ]
     },
     "execution_count": 8,
     "metadata": {},
     "output_type": "execute_result"
    }
   ],
   "source": [
    "grocery_list[1:]"
   ]
  },
  {
   "cell_type": "code",
   "execution_count": 9,
   "id": "30048298-5011-4481-a2d7-0475c6bbbfb7",
   "metadata": {},
   "outputs": [
    {
     "data": {
      "text/plain": [
       "['orange', 1, 2]"
      ]
     },
     "execution_count": 9,
     "metadata": {},
     "output_type": "execute_result"
    }
   ],
   "source": [
    "grocery_list[1:4]"
   ]
  },
  {
   "cell_type": "code",
   "execution_count": 13,
   "id": "c6c25514-339e-45f6-934d-cab230de519f",
   "metadata": {},
   "outputs": [
    {
     "data": {
      "text/plain": [
       "['apple', 'banana']"
      ]
     },
     "execution_count": 13,
     "metadata": {},
     "output_type": "execute_result"
    }
   ],
   "source": [
    "list1 = [\"apple\",\"banana\"]\n",
    "list1"
   ]
  },
  {
   "cell_type": "code",
   "execution_count": 14,
   "id": "31ba64f6-7903-4d52-bc14-b0099fa4bf31",
   "metadata": {},
   "outputs": [],
   "source": [
    "#append >> add element to the end of list\n",
    "\n",
    "list1.append(\"orange\")"
   ]
  },
  {
   "cell_type": "code",
   "execution_count": 15,
   "id": "6cccf9b1-e33f-4c16-a2a8-33a448ba84b3",
   "metadata": {},
   "outputs": [
    {
     "data": {
      "text/plain": [
       "['apple', 'banana', 'orange']"
      ]
     },
     "execution_count": 15,
     "metadata": {},
     "output_type": "execute_result"
    }
   ],
   "source": [
    "list1"
   ]
  },
  {
   "cell_type": "code",
   "execution_count": 16,
   "id": "ba5ff288-7457-42f5-ba7c-2513577f23ce",
   "metadata": {},
   "outputs": [],
   "source": [
    "bookshelf = []\n",
    "bookshelf.append(\"book1\")\n",
    "bookshelf.append(\"book2\")"
   ]
  },
  {
   "cell_type": "code",
   "execution_count": 17,
   "id": "3a1d0902-df24-4c2b-8b9e-bb5fa4eebabb",
   "metadata": {},
   "outputs": [
    {
     "data": {
      "text/plain": [
       "['book1', 'book2']"
      ]
     },
     "execution_count": 17,
     "metadata": {},
     "output_type": "execute_result"
    }
   ],
   "source": [
    "bookshelf"
   ]
  },
  {
   "cell_type": "code",
   "execution_count": 19,
   "id": "45537f53-eb5e-44bb-a861-610b614454ac",
   "metadata": {},
   "outputs": [
    {
     "data": {
      "text/plain": [
       "['apple', 'banana', 'orange']"
      ]
     },
     "execution_count": 19,
     "metadata": {},
     "output_type": "execute_result"
    }
   ],
   "source": [
    "list1"
   ]
  },
  {
   "cell_type": "code",
   "execution_count": 21,
   "id": "c80eb351-24ab-4f16-b843-7cf94fafc65a",
   "metadata": {},
   "outputs": [],
   "source": [
    "list1[1] = \"gauva\""
   ]
  },
  {
   "cell_type": "code",
   "execution_count": 22,
   "id": "a3235102-7537-430b-8ef7-c3215c3fe9f7",
   "metadata": {},
   "outputs": [
    {
     "data": {
      "text/plain": [
       "['apple', 'gauva', 'orange']"
      ]
     },
     "execution_count": 22,
     "metadata": {},
     "output_type": "execute_result"
    }
   ],
   "source": [
    "list1 #list is mutable"
   ]
  },
  {
   "cell_type": "code",
   "execution_count": 23,
   "id": "5b76d653-64ed-4e40-a188-f3feef041afd",
   "metadata": {},
   "outputs": [],
   "source": [
    "list1.insert(1,\"banana\")"
   ]
  },
  {
   "cell_type": "code",
   "execution_count": 24,
   "id": "ad4b671d-1065-4094-8dcc-44fa89e73adb",
   "metadata": {},
   "outputs": [
    {
     "data": {
      "text/plain": [
       "['apple', 'banana', 'gauva', 'orange']"
      ]
     },
     "execution_count": 24,
     "metadata": {},
     "output_type": "execute_result"
    }
   ],
   "source": [
    "list1"
   ]
  },
  {
   "cell_type": "code",
   "execution_count": 26,
   "id": "f8a9be85-ed35-4040-85f8-1d0a896b5d88",
   "metadata": {},
   "outputs": [],
   "source": [
    "bus_seat = [\"ajay\",\"bob\",\"sanjay\"]\n",
    "bus_seat.insert(1,\"ram\")"
   ]
  },
  {
   "cell_type": "code",
   "execution_count": 27,
   "id": "7db0ba23-75ad-4693-b838-c9371d0f312c",
   "metadata": {},
   "outputs": [
    {
     "data": {
      "text/plain": [
       "['ajay', 'ram', 'bob', 'sanjay']"
      ]
     },
     "execution_count": 27,
     "metadata": {},
     "output_type": "execute_result"
    }
   ],
   "source": [
    "bus_seat"
   ]
  },
  {
   "cell_type": "code",
   "execution_count": 30,
   "id": "43dafe2f-270b-4287-a8da-a47028251280",
   "metadata": {},
   "outputs": [],
   "source": [
    "#extend>> used to oppend elements from another iterable\n",
    "my_list=[\"apple\",\"banana\",\"orange\"]\n",
    "brother_list=[\"brinjal\",\"potato\"]\n",
    "\n",
    "my_list.extend(brother_list)"
   ]
  },
  {
   "cell_type": "code",
   "execution_count": 31,
   "id": "97e3d7bc-4b2d-4d70-ac46-23b4b2230ab9",
   "metadata": {},
   "outputs": [
    {
     "data": {
      "text/plain": [
       "['apple', 'banana', 'orange', 'brinjal', 'potato']"
      ]
     },
     "execution_count": 31,
     "metadata": {},
     "output_type": "execute_result"
    }
   ],
   "source": [
    "my_list"
   ]
  },
  {
   "cell_type": "code",
   "execution_count": 33,
   "id": "11400df7-1751-4eb8-9adf-62175c4f756a",
   "metadata": {},
   "outputs": [
    {
     "data": {
      "text/plain": [
       "['apple', 'banana', 'orange', 'brinjal', 'potato', 'brinjal', 'potato']"
      ]
     },
     "execution_count": 33,
     "metadata": {},
     "output_type": "execute_result"
    }
   ],
   "source": [
    "#concatenate\n",
    "my_list+brother_list"
   ]
  },
  {
   "cell_type": "code",
   "execution_count": 34,
   "id": "65b9b040-b073-422a-b2ad-f0aa16f12cc3",
   "metadata": {},
   "outputs": [
    {
     "data": {
      "text/plain": [
       "'*****'"
      ]
     },
     "execution_count": 34,
     "metadata": {},
     "output_type": "execute_result"
    }
   ],
   "source": [
    "#repeation operation\n",
    "\"*\" *5"
   ]
  },
  {
   "cell_type": "code",
   "execution_count": 36,
   "id": "cb226e21-d502-49bb-85ca-f669ac49dcd3",
   "metadata": {},
   "outputs": [
    {
     "data": {
      "text/plain": [
       "'--------------------------------------------------'"
      ]
     },
     "execution_count": 36,
     "metadata": {},
     "output_type": "execute_result"
    }
   ],
   "source": [
    "\"-\" * 50"
   ]
  },
  {
   "cell_type": "code",
   "execution_count": 38,
   "id": "6bde3def-9a49-4d0e-9557-f3b18457abfc",
   "metadata": {},
   "outputs": [
    {
     "data": {
      "text/plain": [
       "[0, 0, 0, 0, 0, 0, 0, 0, 0, 0]"
      ]
     },
     "execution_count": 38,
     "metadata": {},
     "output_type": "execute_result"
    }
   ],
   "source": [
    "[0]*10"
   ]
  },
  {
   "cell_type": "code",
   "execution_count": 40,
   "id": "9587ea4a-e223-4e13-b01b-755163afed10",
   "metadata": {},
   "outputs": [
    {
     "data": {
      "text/plain": [
       "[1, 2, 3, 1, 2, 3, 1, 2, 3]"
      ]
     },
     "execution_count": 40,
     "metadata": {},
     "output_type": "execute_result"
    }
   ],
   "source": [
    "[1,2,3]*3"
   ]
  },
  {
   "cell_type": "code",
   "execution_count": 43,
   "id": "8c65d57e-5d46-44b1-bde6-f9bee7a1ccc1",
   "metadata": {},
   "outputs": [
    {
     "data": {
      "text/plain": [
       "[1, 2, 3, 4, 5, 1, 2, 3, 4, 5, 1, 2, 3, 4, 5]"
      ]
     },
     "execution_count": 43,
     "metadata": {},
     "output_type": "execute_result"
    }
   ],
   "source": [
    "list(range(1,6)) *3"
   ]
  },
  {
   "cell_type": "code",
   "execution_count": 44,
   "id": "4e545a29-6d2b-400f-9b92-4aa4a24b8eba",
   "metadata": {},
   "outputs": [
    {
     "name": "stdout",
     "output_type": "stream",
     "text": [
      "your appointment is tomorrow \n",
      "your appointment is tomorrow \n",
      "your appointment is tomorrow \n",
      "\n"
     ]
    }
   ],
   "source": [
    "msg=\"your appointment is tomorrow \\n\"\n",
    "print(msg*3)"
   ]
  },
  {
   "cell_type": "code",
   "execution_count": 45,
   "id": "ed332f3a-70ab-4885-837e-e6f2055342ca",
   "metadata": {},
   "outputs": [
    {
     "data": {
      "text/plain": [
       "['milk', 'orange', 1, 2, 3, True, (2+3j), 2.3]"
      ]
     },
     "execution_count": 45,
     "metadata": {},
     "output_type": "execute_result"
    }
   ],
   "source": [
    "grocery_list"
   ]
  },
  {
   "cell_type": "code",
   "execution_count": 46,
   "id": "c7faf3ab-6b82-4463-af1d-583fb2554b4c",
   "metadata": {},
   "outputs": [
    {
     "data": {
      "text/plain": [
       "True"
      ]
     },
     "execution_count": 46,
     "metadata": {},
     "output_type": "execute_result"
    }
   ],
   "source": [
    "\"milk\" in grocery_list"
   ]
  },
  {
   "cell_type": "code",
   "execution_count": 47,
   "id": "74f67ae9-88ae-4855-b178-4479de75bd0a",
   "metadata": {},
   "outputs": [
    {
     "data": {
      "text/plain": [
       "False"
      ]
     },
     "execution_count": 47,
     "metadata": {},
     "output_type": "execute_result"
    }
   ],
   "source": [
    "\"banana\" in grocery_list"
   ]
  },
  {
   "cell_type": "code",
   "execution_count": 48,
   "id": "fb7a9242-6eba-4bce-8bd7-5827d6e2cbf9",
   "metadata": {},
   "outputs": [
    {
     "data": {
      "text/plain": [
       "['milk', 'orange', 1, 2, 3, True, (2+3j), 2.3]"
      ]
     },
     "execution_count": 48,
     "metadata": {},
     "output_type": "execute_result"
    }
   ],
   "source": [
    "grocery_list"
   ]
  },
  {
   "cell_type": "code",
   "execution_count": 60,
   "id": "22522b9a-895a-4496-b621-f8bdae82395f",
   "metadata": {},
   "outputs": [],
   "source": [
    "#shallow copy>>valu will change with change in other list\n",
    "a=grocery_list\n"
   ]
  },
  {
   "cell_type": "code",
   "execution_count": 51,
   "id": "9078a0e1-3959-499a-b1fe-6734d7102a2e",
   "metadata": {},
   "outputs": [
    {
     "data": {
      "text/plain": [
       "['milk', 'orange', 1, 2, 3, True, (2+3j), 2.3]"
      ]
     },
     "execution_count": 51,
     "metadata": {},
     "output_type": "execute_result"
    }
   ],
   "source": [
    "a"
   ]
  },
  {
   "cell_type": "code",
   "execution_count": 53,
   "id": "3b9e6ebd-0c12-4313-847c-fa7d9ae6c0b8",
   "metadata": {},
   "outputs": [
    {
     "data": {
      "text/plain": [
       "['banana', 'orange', 1, 2, 3, True, (2+3j), 2.3]"
      ]
     },
     "execution_count": 53,
     "metadata": {},
     "output_type": "execute_result"
    }
   ],
   "source": [
    "grocery_list[0] = \"banana\"\n",
    "a"
   ]
  },
  {
   "cell_type": "code",
   "execution_count": 54,
   "id": "c62fd1f1-b9eb-4da9-b20b-db5431d6b024",
   "metadata": {},
   "outputs": [],
   "source": [
    "#deep copy and shallo copy\n",
    "#deep copy will not change with change in other list\n",
    "b= grocery_list.copy()"
   ]
  },
  {
   "cell_type": "code",
   "execution_count": 55,
   "id": "1d0c1242-beee-4982-aa2c-0eb0e4035b9a",
   "metadata": {},
   "outputs": [
    {
     "data": {
      "text/plain": [
       "['banana', 'orange', 1, 2, 3, True, (2+3j), 2.3]"
      ]
     },
     "execution_count": 55,
     "metadata": {},
     "output_type": "execute_result"
    }
   ],
   "source": [
    "grocery_list"
   ]
  },
  {
   "cell_type": "code",
   "execution_count": 57,
   "id": "efa1c20c-eb12-4ec2-a47b-673244da6d5b",
   "metadata": {},
   "outputs": [],
   "source": [
    "grocery_list[0] = \"guava\"\n"
   ]
  },
  {
   "cell_type": "code",
   "execution_count": 58,
   "id": "2abcdb17-8571-4248-b2fc-82f03e12f197",
   "metadata": {},
   "outputs": [
    {
     "data": {
      "text/plain": [
       "['guava', 'orange', 1, 2, 3, True, (2+3j), 2.3]"
      ]
     },
     "execution_count": 58,
     "metadata": {},
     "output_type": "execute_result"
    }
   ],
   "source": [
    "grocery_list"
   ]
  },
  {
   "cell_type": "code",
   "execution_count": 59,
   "id": "fefb1301-b707-4a96-88ff-61e05c516e03",
   "metadata": {},
   "outputs": [
    {
     "data": {
      "text/plain": [
       "['banana', 'orange', 1, 2, 3, True, (2+3j), 2.3]"
      ]
     },
     "execution_count": 59,
     "metadata": {},
     "output_type": "execute_result"
    }
   ],
   "source": [
    "b"
   ]
  },
  {
   "cell_type": "code",
   "execution_count": 62,
   "id": "d6d260ee-e4e4-4410-a6d6-c3ba5f0791ce",
   "metadata": {},
   "outputs": [
    {
     "data": {
      "text/plain": [
       "['algorithm', 'data structure', 'web dev']"
      ]
     },
     "execution_count": 62,
     "metadata": {},
     "output_type": "execute_result"
    }
   ],
   "source": [
    "#sorting lists\n",
    "book_list = [\"data structure\",\"algorithm\",\"web dev\"]\n",
    "sorted(book_list)"
   ]
  },
  {
   "cell_type": "code",
   "execution_count": 63,
   "id": "f4c00ad5-bb3a-44ba-9607-595204bcbeea",
   "metadata": {},
   "outputs": [
    {
     "data": {
      "text/plain": [
       "1"
      ]
     },
     "execution_count": 63,
     "metadata": {},
     "output_type": "execute_result"
    }
   ],
   "source": [
    "book_list.index(\"algorithm\")"
   ]
  },
  {
   "cell_type": "code",
   "execution_count": 64,
   "id": "8ebf5015-9e2f-49b4-a540-a20f69339f31",
   "metadata": {},
   "outputs": [
    {
     "data": {
      "text/plain": [
       "2"
      ]
     },
     "execution_count": 64,
     "metadata": {},
     "output_type": "execute_result"
    }
   ],
   "source": [
    "book_list.index(\"web dev\")"
   ]
  },
  {
   "cell_type": "code",
   "execution_count": 65,
   "id": "465f03a2-2ac2-47b8-b28e-df316dc0281f",
   "metadata": {},
   "outputs": [],
   "source": [
    "book_list =[\"data structure\", \"data structure\",\"algorithm\",\"web dev\"]"
   ]
  },
  {
   "cell_type": "code",
   "execution_count": 66,
   "id": "52352aec-fa50-4f56-91c1-1c5bbacb89b1",
   "metadata": {},
   "outputs": [
    {
     "data": {
      "text/plain": [
       "['data structure', 'data structure', 'algorithm', 'web dev']"
      ]
     },
     "execution_count": 66,
     "metadata": {},
     "output_type": "execute_result"
    }
   ],
   "source": [
    "book_list"
   ]
  },
  {
   "cell_type": "code",
   "execution_count": 67,
   "id": "8c9c1b4a-e575-4869-b715-f753d3545dd7",
   "metadata": {},
   "outputs": [
    {
     "data": {
      "text/plain": [
       "2"
      ]
     },
     "execution_count": 67,
     "metadata": {},
     "output_type": "execute_result"
    }
   ],
   "source": [
    "book_list.count(\"data structure\")"
   ]
  },
  {
   "cell_type": "code",
   "execution_count": 68,
   "id": "7adde787-71e1-4c47-8d86-41d4b172e47b",
   "metadata": {},
   "outputs": [],
   "source": [
    "book_list.remove(\"data structure\")"
   ]
  },
  {
   "cell_type": "code",
   "execution_count": 69,
   "id": "40edc16c-b833-4cef-b008-cf104344b3da",
   "metadata": {},
   "outputs": [
    {
     "data": {
      "text/plain": [
       "['data structure', 'algorithm', 'web dev']"
      ]
     },
     "execution_count": 69,
     "metadata": {},
     "output_type": "execute_result"
    }
   ],
   "source": [
    "book_list"
   ]
  },
  {
   "cell_type": "code",
   "execution_count": 3,
   "id": "50947336-f770-420f-b899-5e44563948cb",
   "metadata": {},
   "outputs": [],
   "source": [
    "book_list=[\"data structure\",\"algorithm\",\"web dev\"]\n",
    "           "
   ]
  },
  {
   "cell_type": "code",
   "execution_count": 5,
   "id": "6266010a-0891-46e3-bd4b-cccd9826d060",
   "metadata": {},
   "outputs": [
    {
     "data": {
      "text/plain": [
       "['algorithm', 'data structure', 'web dev']"
      ]
     },
     "execution_count": 5,
     "metadata": {},
     "output_type": "execute_result"
    }
   ],
   "source": [
    "book_list.sort()\n",
    "book_list"
   ]
  },
  {
   "cell_type": "code",
   "execution_count": 6,
   "id": "5dcef06a-7011-4439-80db-be14abf98f40",
   "metadata": {},
   "outputs": [
    {
     "data": {
      "text/plain": [
       "[]"
      ]
     },
     "execution_count": 6,
     "metadata": {},
     "output_type": "execute_result"
    }
   ],
   "source": [
    "book_list.clear()\n",
    "book_list"
   ]
  },
  {
   "cell_type": "code",
   "execution_count": 9,
   "id": "4aef8b73-06a8-493e-880d-ec01f6f6e224",
   "metadata": {},
   "outputs": [],
   "source": [
    "book_list =[\"data structure\",\"algorithm\",\"web dev\"]"
   ]
  },
  {
   "cell_type": "code",
   "execution_count": 10,
   "id": "29158488-a404-46a3-a3a4-16b899c12206",
   "metadata": {},
   "outputs": [
    {
     "data": {
      "text/plain": [
       "'web dev'"
      ]
     },
     "execution_count": 10,
     "metadata": {},
     "output_type": "execute_result"
    }
   ],
   "source": [
    "book_list.pop()"
   ]
  },
  {
   "cell_type": "code",
   "execution_count": 11,
   "id": "c67ed768-5696-45c6-845a-888242302e7b",
   "metadata": {},
   "outputs": [
    {
     "data": {
      "text/plain": [
       "['data structure', 'algorithm']"
      ]
     },
     "execution_count": 11,
     "metadata": {},
     "output_type": "execute_result"
    }
   ],
   "source": [
    "book_list"
   ]
  },
  {
   "cell_type": "code",
   "execution_count": 14,
   "id": "84ed364a-61c4-4f31-90de-8cfd84be1b75",
   "metadata": {},
   "outputs": [
    {
     "data": {
      "text/plain": [
       "'algorithm'"
      ]
     },
     "execution_count": 14,
     "metadata": {},
     "output_type": "execute_result"
    }
   ],
   "source": [
    "book_list =[\"data structure\",\"algorithm\",\"web dev\"]\n",
    "book_list.pop(1)\n"
   ]
  },
  {
   "cell_type": "code",
   "execution_count": 15,
   "id": "6d01a310-0eae-45e6-baa2-b7abc6c2747a",
   "metadata": {},
   "outputs": [
    {
     "data": {
      "text/plain": [
       "['data structure', 'web dev']"
      ]
     },
     "execution_count": 15,
     "metadata": {},
     "output_type": "execute_result"
    }
   ],
   "source": [
    "book_list"
   ]
  },
  {
   "cell_type": "code",
   "execution_count": 16,
   "id": "d50fe01b-c7ef-4731-8dc9-3495f08986e6",
   "metadata": {},
   "outputs": [],
   "source": [
    "#list comprehension"
   ]
  },
  {
   "cell_type": "code",
   "execution_count": 17,
   "id": "206cd74b-1828-4d3d-91c8-8314095f16c6",
   "metadata": {},
   "outputs": [],
   "source": [
    "prices = [10,20,30,40,50]\n",
    "doubled_price =[]\n",
    "for i in prices:\n",
    "    doubled_price.append(i*2)\n"
   ]
  },
  {
   "cell_type": "code",
   "execution_count": 19,
   "id": "fe844f23-106d-4a4c-a3a5-784d29a5ee06",
   "metadata": {},
   "outputs": [
    {
     "data": {
      "text/plain": [
       "[20, 40, 60, 80, 100]"
      ]
     },
     "execution_count": 19,
     "metadata": {},
     "output_type": "execute_result"
    }
   ],
   "source": [
    "doubled_price"
   ]
  },
  {
   "cell_type": "code",
   "execution_count": 20,
   "id": "e034fee6-e19c-4250-ad27-cf8b2bac261f",
   "metadata": {},
   "outputs": [],
   "source": [
    "doubled_price = [price *2 for price in prices]"
   ]
  },
  {
   "cell_type": "code",
   "execution_count": 21,
   "id": "7937e96a-1cb5-4695-8fb0-42c5df9d0fef",
   "metadata": {},
   "outputs": [
    {
     "data": {
      "text/plain": [
       "[20, 40, 60, 80, 100]"
      ]
     },
     "execution_count": 21,
     "metadata": {},
     "output_type": "execute_result"
    }
   ],
   "source": [
    "doubled_price"
   ]
  },
  {
   "cell_type": "code",
   "execution_count": 24,
   "id": "87d17941-9b25-4a57-bd2f-1f95d14bbeb5",
   "metadata": {},
   "outputs": [
    {
     "data": {
      "text/plain": [
       "['Ajay', 'Bijay', 'Sanjay']"
      ]
     },
     "execution_count": 24,
     "metadata": {},
     "output_type": "execute_result"
    }
   ],
   "source": [
    "names =[\"ajay\",\"bijay\",\"sanjay\"]\n",
    "[name.capitalize() for name in names]"
   ]
  },
  {
   "cell_type": "code",
   "execution_count": 25,
   "id": "a8fc3ea6-de5a-48d8-b9a3-316b0202643b",
   "metadata": {},
   "outputs": [
    {
     "data": {
      "text/plain": [
       "[1, 4, 9, 16, 25]"
      ]
     },
     "execution_count": 25,
     "metadata": {},
     "output_type": "execute_result"
    }
   ],
   "source": [
    "numbers = [1,2,3,4,5]\n",
    "[num **2 for num in numbers]"
   ]
  },
  {
   "cell_type": "code",
   "execution_count": 29,
   "id": "70b40972-3f0e-4419-8262-a58da9298aee",
   "metadata": {},
   "outputs": [
    {
     "data": {
      "text/plain": [
       "'ppt'"
      ]
     },
     "execution_count": 29,
     "metadata": {},
     "output_type": "execute_result"
    }
   ],
   "source": [
    "#split\n",
    "str1 = \"doc1.ppt\"\n",
    "\n",
    "str1.split(\".\") [-1]  "
   ]
  },
  {
   "cell_type": "code",
   "execution_count": 35,
   "id": "912c5469-a347-4063-82de-08f5088f944a",
   "metadata": {},
   "outputs": [
    {
     "data": {
      "text/plain": [
       "['ppt', 'pdf', 'jpg', 'py']"
      ]
     },
     "execution_count": 35,
     "metadata": {},
     "output_type": "execute_result"
    }
   ],
   "source": [
    "file_name = [\"doc1.ppt\",\"doc2.pdf\",\"doc3.jpg\",\"doc4.py\"]\n",
    "[file.split(\".\")[-1] for file in file_name]\n",
    "    "
   ]
  },
  {
   "cell_type": "code",
   "execution_count": 39,
   "id": "9534d85d-e0d0-438d-a318-cf4987ee0ace",
   "metadata": {},
   "outputs": [
    {
     "data": {
      "text/plain": [
       "['sj@yahoo.com', 'rj@yahoo.com']"
      ]
     },
     "execution_count": 39,
     "metadata": {},
     "output_type": "execute_result"
    }
   ],
   "source": [
    " #conditional list comrehension\n",
    "\n",
    "email_address = [\"aj@gmail.com\",\"sj@yahoo.com\",\"rj@yahoo.com\",\"mj@gmail.com\"]\n",
    "\n",
    "[email for email in email_address if email.endswith(\"@yahoo.com\") ]"
   ]
  },
  {
   "cell_type": "code",
   "execution_count": 40,
   "id": "55c6836e-2471-4460-9df1-de2dc732daef",
   "metadata": {},
   "outputs": [],
   "source": [
    "#nestednlist comprehension\n",
    "\n",
    "pairs = []\n",
    "\n",
    "for x in [1,2,3]:\n",
    "    for y in [4,5,6]:\n",
    "        pairs.append([x,y])"
   ]
  },
  {
   "cell_type": "code",
   "execution_count": 41,
   "id": "83c036b2-2733-4c0c-981c-71f63e42746b",
   "metadata": {},
   "outputs": [
    {
     "data": {
      "text/plain": [
       "[[1, 4], [1, 5], [1, 6], [2, 4], [2, 5], [2, 6], [3, 4], [3, 5], [3, 6]]"
      ]
     },
     "execution_count": 41,
     "metadata": {},
     "output_type": "execute_result"
    }
   ],
   "source": [
    "pairs"
   ]
  },
  {
   "cell_type": "code",
   "execution_count": 42,
   "id": "7996ae61-6174-4817-8991-aa5c25f25011",
   "metadata": {},
   "outputs": [
    {
     "data": {
      "text/plain": [
       "[[1, 4], [1, 5], [1, 6], [2, 4], [2, 5], [2, 6], [3, 4], [3, 5], [3, 6]]"
      ]
     },
     "execution_count": 42,
     "metadata": {},
     "output_type": "execute_result"
    }
   ],
   "source": [
    "[[x,y] for x in [1,2,3] for y in [4,5,6]]"
   ]
  },
  {
   "cell_type": "code",
   "execution_count": 43,
   "id": "db1c472c-71f6-4ac6-bced-3c2fba4a3745",
   "metadata": {},
   "outputs": [],
   "source": [
    "#list as stack and queue\n",
    "\n",
    "#stack >> LIFO>> last in first out principle > the last element added to the stack will be the first one to be removed "
   ]
  },
  {
   "cell_type": "code",
   "execution_count": 44,
   "id": "1009ff13-89d5-4f3e-aebc-4d2fa8532d27",
   "metadata": {},
   "outputs": [],
   "source": [
    "#stack\n",
    "stack_of_plates=[]\n",
    "stack_of_plates.append(\"plate1\")\n",
    "stack_of_plates.append(\"plate2\")\n",
    "stack_of_plates.append(\"plate3\")\n",
    "stack_of_plates.append(\"plate4\")"
   ]
  },
  {
   "cell_type": "code",
   "execution_count": 45,
   "id": "11bc87a2-bd9f-487c-8afc-6dc65fc8ff79",
   "metadata": {},
   "outputs": [
    {
     "data": {
      "text/plain": [
       "['plate1', 'plate2', 'plate3', 'plate4']"
      ]
     },
     "execution_count": 45,
     "metadata": {},
     "output_type": "execute_result"
    }
   ],
   "source": [
    "stack_of_plates"
   ]
  },
  {
   "cell_type": "code",
   "execution_count": 46,
   "id": "754ad2cb-c4ae-4082-9fb2-1aefe00d96b5",
   "metadata": {},
   "outputs": [
    {
     "data": {
      "text/plain": [
       "'plate4'"
      ]
     },
     "execution_count": 46,
     "metadata": {},
     "output_type": "execute_result"
    }
   ],
   "source": [
    "stack_of_plates.pop()"
   ]
  },
  {
   "cell_type": "code",
   "execution_count": 47,
   "id": "f9873c89-eb5e-43c2-8564-4f5427a5a759",
   "metadata": {},
   "outputs": [
    {
     "data": {
      "text/plain": [
       "['plate1', 'plate2', 'plate3']"
      ]
     },
     "execution_count": 47,
     "metadata": {},
     "output_type": "execute_result"
    }
   ],
   "source": [
    "stack_of_plates"
   ]
  },
  {
   "cell_type": "code",
   "execution_count": 48,
   "id": "f87516c8-e286-434f-a6aa-7b95c9b1b1d4",
   "metadata": {},
   "outputs": [],
   "source": [
    "#queue>> FIFO >> first IN first out\n",
    "#orderly sequential manner\n",
    "# two ends"
   ]
  },
  {
   "cell_type": "code",
   "execution_count": 52,
   "id": "5858c003-3837-4c77-a304-92a7eee1e251",
   "metadata": {},
   "outputs": [],
   "source": [
    "from collections import deque\n",
    "\n",
    "checkout = deque()\n",
    "\n",
    "checkout.append(\"cus1\")\n",
    "checkout.append(\"cus2\")\n",
    "checkout.append(\"cus3\")\n",
    "checkout.append(\"cus4\")"
   ]
  },
  {
   "cell_type": "code",
   "execution_count": 53,
   "id": "f9708938-7d68-42a1-aadb-e0dedbfd4ed9",
   "metadata": {},
   "outputs": [
    {
     "data": {
      "text/plain": [
       "deque(['cus1', 'cus2', 'cus3', 'cus4'])"
      ]
     },
     "execution_count": 53,
     "metadata": {},
     "output_type": "execute_result"
    }
   ],
   "source": [
    "checkout"
   ]
  },
  {
   "cell_type": "code",
   "execution_count": 54,
   "id": "adf00dcf-1716-426a-a0be-35277f0fba77",
   "metadata": {},
   "outputs": [
    {
     "name": "stdout",
     "output_type": "stream",
     "text": [
      "serving cus1\n",
      "serving cus2\n",
      "serving cus3\n",
      "serving cus4\n"
     ]
    }
   ],
   "source": [
    "while checkout:\n",
    "    customer = checkout.popleft()\n",
    "    print(\"serving\",customer)"
   ]
  },
  {
   "cell_type": "code",
   "execution_count": 58,
   "id": "6bccc3a6-c36f-49a6-91e0-6077148120d9",
   "metadata": {},
   "outputs": [],
   "source": [
    " from queue import Queue"
   ]
  },
  {
   "cell_type": "code",
   "execution_count": 61,
   "id": "8415a6cd-db76-4311-9787-6d9da95d20f0",
   "metadata": {},
   "outputs": [
    {
     "name": "stdout",
     "output_type": "stream",
     "text": [
      "printing print job 1\n",
      "printing print job 2\n",
      "printing print job 3\n"
     ]
    }
   ],
   "source": [
    "print_queue = Queue()\n",
    "\n",
    "print_queue.put(\"print job 1\")\n",
    "print_queue.put(\"print job 2\")\n",
    "print_queue.put(\"print job 3\")\n",
    "\n",
    "while not print_queue.empty():\n",
    "         print_job = print_queue.get()\n",
    "         print(\"printing\",print_job)"
   ]
  },
  {
   "cell_type": "code",
   "execution_count": null,
   "id": "2c06c2f5-63d6-4310-aa67-1bb693971626",
   "metadata": {},
   "outputs": [],
   "source": []
  }
 ],
 "metadata": {
  "kernelspec": {
   "display_name": "Python 3 (ipykernel)",
   "language": "python",
   "name": "python3"
  },
  "language_info": {
   "codemirror_mode": {
    "name": "ipython",
    "version": 3
   },
   "file_extension": ".py",
   "mimetype": "text/x-python",
   "name": "python",
   "nbconvert_exporter": "python",
   "pygments_lexer": "ipython3",
   "version": "3.12.3"
  }
 },
 "nbformat": 4,
 "nbformat_minor": 5
}
