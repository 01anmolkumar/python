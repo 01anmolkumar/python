{
 "cells": [
  {
   "cell_type": "code",
   "execution_count": 1,
   "id": "349662e6-8dd0-49ce-a7d6-d66d2caf50e8",
   "metadata": {},
   "outputs": [],
   "source": [
    "# polymorphism >> poly means many, morphism means forms/states\n",
    "#refers to an oobject taking several forms depending on data\n"
   ]
  },
  {
   "cell_type": "code",
   "execution_count": 2,
   "id": "28e5287e-8667-43f7-baa0-bee8a04059ca",
   "metadata": {},
   "outputs": [
    {
     "data": {
      "text/plain": [
       "4"
      ]
     },
     "execution_count": 2,
     "metadata": {},
     "output_type": "execute_result"
    }
   ],
   "source": [
    "len(\"ajay\")"
   ]
  },
  {
   "cell_type": "code",
   "execution_count": 6,
   "id": "2559385a-8cbf-4d3c-9875-3d4cace36a1c",
   "metadata": {},
   "outputs": [
    {
     "data": {
      "text/plain": [
       "6"
      ]
     },
     "execution_count": 6,
     "metadata": {},
     "output_type": "execute_result"
    }
   ],
   "source": [
    "len([1,2,3,4,5,6])"
   ]
  },
  {
   "cell_type": "code",
   "execution_count": 7,
   "id": "93e8af92-7443-45c7-a7b7-08cb3e562973",
   "metadata": {},
   "outputs": [],
   "source": [
    "def func(a,b):\n",
    "    return a+b"
   ]
  },
  {
   "cell_type": "code",
   "execution_count": 8,
   "id": "416cee92-d658-4f85-b646-197f4941e032",
   "metadata": {},
   "outputs": [
    {
     "data": {
      "text/plain": [
       "7"
      ]
     },
     "execution_count": 8,
     "metadata": {},
     "output_type": "execute_result"
    }
   ],
   "source": [
    "func(3,4)"
   ]
  },
  {
   "cell_type": "code",
   "execution_count": 9,
   "id": "f7a1ca40-5676-485a-bd1a-f6b59405032d",
   "metadata": {},
   "outputs": [
    {
     "data": {
      "text/plain": [
       "'pwskills'"
      ]
     },
     "execution_count": 9,
     "metadata": {},
     "output_type": "execute_result"
    }
   ],
   "source": [
    "func(\"pw\",\"skills\")"
   ]
  },
  {
   "cell_type": "code",
   "execution_count": 10,
   "id": "ac432db5-df34-4624-bddf-1deae84d5e72",
   "metadata": {},
   "outputs": [
    {
     "data": {
      "text/plain": [
       "[1, 2, 3, 4, 5, 6]"
      ]
     },
     "execution_count": 10,
     "metadata": {},
     "output_type": "execute_result"
    }
   ],
   "source": [
    "func([1,2,3],[4,5,6])"
   ]
  },
  {
   "cell_type": "code",
   "execution_count": 11,
   "id": "30808061-d95c-497e-8c07-1006c548e9c9",
   "metadata": {},
   "outputs": [],
   "source": [
    "class teacher_lecture:\n",
    "    def lec_info(self):\n",
    "        print(\"this is lec info with teacher perspective\")"
   ]
  },
  {
   "cell_type": "code",
   "execution_count": 12,
   "id": "97ff07cf-89f8-4b6d-a0a7-fdd070e7edf7",
   "metadata": {},
   "outputs": [],
   "source": [
    "class student_lecture:\n",
    "    def lec_info(self):\n",
    "        print(\"this is lec info with student perspactive\")"
   ]
  },
  {
   "cell_type": "code",
   "execution_count": 15,
   "id": "d49ec11b-4562-45d1-ba06-16c81253400e",
   "metadata": {},
   "outputs": [],
   "source": [
    "def parcer(class_obj):\n",
    "    for i in class_obj:\n",
    "        i.lec_info()"
   ]
  },
  {
   "cell_type": "code",
   "execution_count": 16,
   "id": "dbba6dab-58ed-45bc-985a-045ce50369ed",
   "metadata": {},
   "outputs": [],
   "source": [
    "obj1 = teacher_lecture()\n",
    "obj2 = student_lecture()"
   ]
  },
  {
   "cell_type": "code",
   "execution_count": 18,
   "id": "3e38ed7c-47da-49b1-a120-b1cffa2d2dc0",
   "metadata": {},
   "outputs": [],
   "source": [
    "class_obj = [obj1,obj2]"
   ]
  },
  {
   "cell_type": "code",
   "execution_count": 19,
   "id": "d1ed130b-9649-43e4-862d-a7aa79533a11",
   "metadata": {},
   "outputs": [
    {
     "name": "stdout",
     "output_type": "stream",
     "text": [
      "this is lec info with teacher perspective\n",
      "this is lec info with student perspactive\n"
     ]
    }
   ],
   "source": [
    "parcer(class_obj)"
   ]
  },
  {
   "cell_type": "code",
   "execution_count": 20,
   "id": "9c3eba9f-5c57-41b3-8c6c-cfb55e22e739",
   "metadata": {},
   "outputs": [],
   "source": [
    "#polymorphism >> method overloading, method overriding"
   ]
  },
  {
   "cell_type": "code",
   "execution_count": 21,
   "id": "c059c349-2c19-4f86-9c0b-e4f5556db0f9",
   "metadata": {},
   "outputs": [],
   "source": [
    "#method overloading>> student is taking different forms\n",
    "class student:\n",
    "    def student(self):\n",
    "        print(\"wellcome to pwskills class\")\n",
    "    def student(self,name=\" \"):\n",
    "         print(\"welcome to pwskills class\",name)\n",
    "    def student(self,name=\"\", course=\"\"):\n",
    "        print(\"welcome to pwskills class\",name,course)\n"
   ]
  },
  {
   "cell_type": "code",
   "execution_count": 22,
   "id": "8baadefb-f29a-404f-8742-edf40c0f56f1",
   "metadata": {},
   "outputs": [],
   "source": [
    "stud =student()"
   ]
  },
  {
   "cell_type": "code",
   "execution_count": 23,
   "id": "7376ef80-8acc-4125-88e2-6f9679f1d11b",
   "metadata": {},
   "outputs": [
    {
     "name": "stdout",
     "output_type": "stream",
     "text": [
      "welcome to pwskills class  \n"
     ]
    }
   ],
   "source": [
    "stud.student()"
   ]
  },
  {
   "cell_type": "code",
   "execution_count": 24,
   "id": "6b3fda6b-9b03-468c-a0c3-b00777dc6a84",
   "metadata": {},
   "outputs": [
    {
     "name": "stdout",
     "output_type": "stream",
     "text": [
      "welcome to pwskills class anmol \n"
     ]
    }
   ],
   "source": [
    "stud.student(\"anmol\")"
   ]
  },
  {
   "cell_type": "code",
   "execution_count": 25,
   "id": "fd0dc8a0-7178-4db3-b72d-3d88d224ada8",
   "metadata": {},
   "outputs": [
    {
     "name": "stdout",
     "output_type": "stream",
     "text": [
      "welcome to pwskills class anmol data science\n"
     ]
    }
   ],
   "source": [
    "stud.student(\"anmol\",\"data science\")"
   ]
  },
  {
   "cell_type": "code",
   "execution_count": 26,
   "id": "38695b03-ff8d-4fbb-9d8c-d795ba6b5cfa",
   "metadata": {},
   "outputs": [],
   "source": [
    "#method overloading>> student is taking different forms,the last method overwrites the previous one\n",
    "class student:\n",
    "     def student(self,name=\"\", course=\" \"):\n",
    "          print(\"welcome to pwskills class\",name,course)\n",
    "        \n",
    "stud=student()"
   ]
  },
  {
   "cell_type": "code",
   "execution_count": 27,
   "id": "22defc44-1b7e-4014-901b-3e53145f196b",
   "metadata": {},
   "outputs": [
    {
     "name": "stdout",
     "output_type": "stream",
     "text": [
      "welcome to pwskills class   \n"
     ]
    }
   ],
   "source": [
    "stud.student()"
   ]
  },
  {
   "cell_type": "code",
   "execution_count": 28,
   "id": "72ff96cd-d5b4-4e94-9f19-913c8eb7653e",
   "metadata": {},
   "outputs": [
    {
     "name": "stdout",
     "output_type": "stream",
     "text": [
      "welcome to pwskills class anmol  \n"
     ]
    }
   ],
   "source": [
    "stud.student(\"anmol\")\n"
   ]
  },
  {
   "cell_type": "code",
   "execution_count": 29,
   "id": "c1eafa99-18de-4e09-b391-538448498c48",
   "metadata": {},
   "outputs": [
    {
     "name": "stdout",
     "output_type": "stream",
     "text": [
      "welcome to pwskills class anmol DS\n"
     ]
    }
   ],
   "source": [
    "stud.student(\"anmol\",\"DS\")"
   ]
  },
  {
   "cell_type": "code",
   "execution_count": 30,
   "id": "547a9bb5-4433-4db2-bba8-c2aa3640f63a",
   "metadata": {},
   "outputs": [],
   "source": [
    "#method overriding >> method in parent class and child class with same signature,the child class method will be executed\n"
   ]
  },
  {
   "cell_type": "code",
   "execution_count": 31,
   "id": "4dc2d3b1-4eff-418b-a943-e9b5effe3c19",
   "metadata": {},
   "outputs": [],
   "source": [
    "class Animal:\n",
    "    def sound(self):\n",
    "        print(\"animal sound\")\n",
    "class cat(Animal):\n",
    "    def sound(self):\n",
    "        print(\"cat meows\")\n"
   ]
  },
  {
   "cell_type": "code",
   "execution_count": 32,
   "id": "4c4a70bc-08b2-447d-9f00-54e8d4e00ef6",
   "metadata": {},
   "outputs": [],
   "source": [
    "cat = cat()"
   ]
  },
  {
   "cell_type": "code",
   "execution_count": 33,
   "id": "63fa5f16-0c23-4345-8267-3f6c129da783",
   "metadata": {},
   "outputs": [
    {
     "name": "stdout",
     "output_type": "stream",
     "text": [
      "cat meows\n"
     ]
    }
   ],
   "source": [
    "cat.sound()"
   ]
  },
  {
   "cell_type": "code",
   "execution_count": 34,
   "id": "f11dee86-b451-402a-8dba-58e32199a3f4",
   "metadata": {},
   "outputs": [],
   "source": [
    "#Encapsulation>> means hiding something\n",
    "#Bundling of data and methods\n",
    "\n",
    "#accesess modifier>> public,protacted,private\n"
   ]
  },
  {
   "cell_type": "code",
   "execution_count": 49,
   "id": "c4a5154d-f20c-42b8-be4a-8beb79f9eabf",
   "metadata": {},
   "outputs": [],
   "source": [
    "#public >> accessible from anywhere from outside/inside class\n",
    "class student:\n",
    "     def __init__(self,name,degree):\n",
    "         \n",
    "          self.name = name\n",
    "          self.degree = degree"
   ]
  },
  {
   "cell_type": "code",
   "execution_count": 52,
   "id": "73a87338-47f1-4580-8fed-ae292e090413",
   "metadata": {},
   "outputs": [],
   "source": [
    "stud= student(\"ramesh\",\"masters\")"
   ]
  },
  {
   "cell_type": "code",
   "execution_count": 54,
   "id": "b2d50bbf-7d85-4a36-b5bc-7fbe93dda489",
   "metadata": {},
   "outputs": [
    {
     "data": {
      "text/plain": [
       "'ramesh'"
      ]
     },
     "execution_count": 54,
     "metadata": {},
     "output_type": "execute_result"
    }
   ],
   "source": [
    "stud.name"
   ]
  },
  {
   "cell_type": "code",
   "execution_count": 55,
   "id": "9e9d3b53-acf6-49b2-a61c-5cd20a237f93",
   "metadata": {},
   "outputs": [
    {
     "data": {
      "text/plain": [
       "'masters'"
      ]
     },
     "execution_count": 55,
     "metadata": {},
     "output_type": "execute_result"
    }
   ],
   "source": [
    "stud.degree"
   ]
  },
  {
   "cell_type": "code",
   "execution_count": 56,
   "id": "c34811cf-4223-4b5c-893e-8a4fefe17450",
   "metadata": {},
   "outputs": [],
   "source": [
    "stud.degree=\"phd\""
   ]
  },
  {
   "cell_type": "code",
   "execution_count": 57,
   "id": "730a5b0c-1816-4f03-bd05-1266beceba1a",
   "metadata": {},
   "outputs": [
    {
     "data": {
      "text/plain": [
       "'phd'"
      ]
     },
     "execution_count": 57,
     "metadata": {},
     "output_type": "execute_result"
    }
   ],
   "source": [
    "stud.degree"
   ]
  },
  {
   "cell_type": "code",
   "execution_count": 19,
   "id": "1ff0f30c-c14d-4d97-80b2-3ab3b420e92b",
   "metadata": {},
   "outputs": [],
   "source": [
    "#private >> within the class only its accessible, use two __ to make private\n",
    "\n",
    "class student:\n",
    "    def __init__(self,name,degree):\n",
    "        self.name = name\n",
    "        self.__degree = degree\n",
    "\n",
    "    def show(self):\n",
    "           #accessing the public and private data member\n",
    "         print(\"name\",self.name,\"degree\", self.__degree)"
   ]
  },
  {
   "cell_type": "code",
   "execution_count": 21,
   "id": "10da2835-5f0f-4453-b6c7-f51210bfbd17",
   "metadata": {},
   "outputs": [],
   "source": [
    "stud = student(\"ramesh\",\"masters\")\n"
   ]
  },
  {
   "cell_type": "code",
   "execution_count": 12,
   "id": "f03da9b5-51a7-4f81-a23d-ccf4889afae3",
   "metadata": {},
   "outputs": [
    {
     "data": {
      "text/plain": [
       "'ramesh'"
      ]
     },
     "execution_count": 12,
     "metadata": {},
     "output_type": "execute_result"
    }
   ],
   "source": [
    "stud.name"
   ]
  },
  {
   "cell_type": "code",
   "execution_count": 69,
   "id": "f0e378a2-93a2-4d5b-b3e6-ea163c82aa9f",
   "metadata": {},
   "outputs": [
    {
     "ename": "AttributeError",
     "evalue": "'student' object has no attribute '__degree'",
     "output_type": "error",
     "traceback": [
      "\u001b[1;31m---------------------------------------------------------------------------\u001b[0m",
      "\u001b[1;31mAttributeError\u001b[0m                            Traceback (most recent call last)",
      "Cell \u001b[1;32mIn[69], line 1\u001b[0m\n\u001b[1;32m----> 1\u001b[0m \u001b[43mstud\u001b[49m\u001b[38;5;241;43m.\u001b[39;49m\u001b[43m__degree\u001b[49m()\n",
      "\u001b[1;31mAttributeError\u001b[0m: 'student' object has no attribute '__degree'"
     ]
    }
   ],
   "source": [
    "stud.__degree()"
   ]
  },
  {
   "cell_type": "code",
   "execution_count": 14,
   "id": "8a387f55-0e25-4a18-9c0e-27eda13a1431",
   "metadata": {},
   "outputs": [
    {
     "data": {
      "text/plain": [
       "'masters'"
      ]
     },
     "execution_count": 14,
     "metadata": {},
     "output_type": "execute_result"
    }
   ],
   "source": [
    "stud._student__degree"
   ]
  },
  {
   "cell_type": "code",
   "execution_count": 22,
   "id": "cff1b7b6-900c-4c3b-8185-060ac9420c36",
   "metadata": {},
   "outputs": [
    {
     "name": "stdout",
     "output_type": "stream",
     "text": [
      "name ramesh degree masters\n"
     ]
    }
   ],
   "source": [
    "stud.show()"
   ]
  },
  {
   "cell_type": "code",
   "execution_count": 46,
   "id": "2b456b5c-bdef-4d39-9a34-759a5153b533",
   "metadata": {},
   "outputs": [],
   "source": [
    "class Car:\n",
    "    def __init__(self, year, make, speed, model):\n",
    "        self.__year = year\n",
    "        self.__make = make\n",
    "        self.__speed = speed\n",
    "        self.__model = model\n",
    "        \n",
    "    def set_speed(self, speed):\n",
    "        self.__speed = 0 if speed < 0 else speed\n",
    "        \n",
    "    def get_speed(self):\n",
    "        return self.__speed"
   ]
  },
  {
   "cell_type": "code",
   "execution_count": 50,
   "id": "cfdbe24b-e45e-47bf-bd18-816f1471f031",
   "metadata": {},
   "outputs": [],
   "source": [
    "car = Car(\"1995\", \"Maruti\", \"80\", \"Brezza\")"
   ]
  },
  {
   "cell_type": "code",
   "execution_count": 52,
   "id": "7b8b7a7e-db0e-4248-841c-e23e3948ba1b",
   "metadata": {},
   "outputs": [
    {
     "data": {
      "text/plain": [
       "'1995'"
      ]
     },
     "execution_count": 52,
     "metadata": {},
     "output_type": "execute_result"
    }
   ],
   "source": [
    "car._Car__year"
   ]
  },
  {
   "cell_type": "code",
   "execution_count": 27,
   "id": "c1ff3971-4ecd-4ab9-b67a-3d7dec2ad972",
   "metadata": {},
   "outputs": [
    {
     "data": {
      "text/plain": [
       "'80'"
      ]
     },
     "execution_count": 27,
     "metadata": {},
     "output_type": "execute_result"
    }
   ],
   "source": [
    "car._car__speed"
   ]
  },
  {
   "cell_type": "code",
   "execution_count": 57,
   "id": "51713ff0-ed35-48b9-abf9-e125e5d296be",
   "metadata": {},
   "outputs": [
    {
     "data": {
      "text/plain": [
       "'80'"
      ]
     },
     "execution_count": 57,
     "metadata": {},
     "output_type": "execute_result"
    }
   ],
   "source": [
    "car.get_speed()"
   ]
  },
  {
   "cell_type": "code",
   "execution_count": 61,
   "id": "67f18fc2-f6e6-4b68-95f6-3b08dcf04a9c",
   "metadata": {},
   "outputs": [],
   "source": [
    "class Bank:\n",
    "    \n",
    "    def __init__(self, balance):\n",
    "        self.__balance = balance\n",
    "        \n",
    "    def deposit(self, amount):\n",
    "        self.__balance = self.__balance + amount\n",
    "        \n",
    "    def withdraw(self, amount):\n",
    "        if self.__balance >= amount:\n",
    "            self.__balance = self.__balance - amount\n",
    "            return True\n",
    "        else:\n",
    "            return False\n",
    "        \n",
    "    def get_balance(self):\n",
    "        return self.__balance"
   ]
  },
  {
   "cell_type": "code",
   "execution_count": 62,
   "id": "6303716c-f41c-4b72-a5a5-f1697e3388a4",
   "metadata": {},
   "outputs": [],
   "source": [
    "acc = Bank(1000)"
   ]
  },
  {
   "cell_type": "code",
   "execution_count": 63,
   "id": "089d30e4-1fe9-4363-a30b-8ff62784d408",
   "metadata": {},
   "outputs": [
    {
     "data": {
      "text/plain": [
       "1000"
      ]
     },
     "execution_count": 63,
     "metadata": {},
     "output_type": "execute_result"
    }
   ],
   "source": [
    "acc.get_balance()"
   ]
  },
  {
   "cell_type": "code",
   "execution_count": 65,
   "id": "d509753a-c445-4866-bbbf-83d1bc690bb3",
   "metadata": {},
   "outputs": [],
   "source": [
    "acc.deposit(100000)"
   ]
  },
  {
   "cell_type": "code",
   "execution_count": 66,
   "id": "a64b0a5e-37b2-426a-b3ff-da4fb125b4fa",
   "metadata": {},
   "outputs": [
    {
     "data": {
      "text/plain": [
       "201000"
      ]
     },
     "execution_count": 66,
     "metadata": {},
     "output_type": "execute_result"
    }
   ],
   "source": [
    "acc.get_balance()"
   ]
  },
  {
   "cell_type": "code",
   "execution_count": 68,
   "id": "022856fc-4bf6-4f13-9ae1-b27c5f829fdf",
   "metadata": {},
   "outputs": [
    {
     "data": {
      "text/plain": [
       "True"
      ]
     },
     "execution_count": 68,
     "metadata": {},
     "output_type": "execute_result"
    }
   ],
   "source": [
    "acc.withdraw(10050)"
   ]
  },
  {
   "cell_type": "code",
   "execution_count": 70,
   "id": "cb85c969-f165-497a-ab3b-14b0b7116aa4",
   "metadata": {},
   "outputs": [
    {
     "data": {
      "text/plain": [
       "190950"
      ]
     },
     "execution_count": 70,
     "metadata": {},
     "output_type": "execute_result"
    }
   ],
   "source": [
    "acc.get_balance()"
   ]
  },
  {
   "cell_type": "code",
   "execution_count": 72,
   "id": "8b927558-02cb-4607-99b9-4af6016e574a",
   "metadata": {},
   "outputs": [],
   "source": [
    "#protected with in the class and its sub class protected member can be accessed,(-)\n",
    "\n",
    "class College:\n",
    "    def __init__(self):\n",
    "        self._college_name = \"PWskills\"\n",
    "\n",
    "class Student(College):\n",
    "    def __init__(self, name):\n",
    "        self.name = name\n",
    "        College.__init__(self)\n",
    "        \n",
    "    def show(self):\n",
    "        print(\"name\", self.name, \"college\", self._college_name)\n"
   ]
  },
  {
   "cell_type": "code",
   "execution_count": 73,
   "id": "5b88a717-81fd-475a-948c-2ab42922aae6",
   "metadata": {},
   "outputs": [],
   "source": [
    "stud = Student(\"Ajay\")"
   ]
  },
  {
   "cell_type": "code",
   "execution_count": 74,
   "id": "d6e49f06-2eea-4fc5-97b2-6d8c9f2dc9f7",
   "metadata": {},
   "outputs": [
    {
     "name": "stdout",
     "output_type": "stream",
     "text": [
      "name Ajay college PWskills\n"
     ]
    }
   ],
   "source": [
    "stud.show()"
   ]
  },
  {
   "cell_type": "code",
   "execution_count": 78,
   "id": "411b2ea1-3194-4670-a689-78f7e0d465e8",
   "metadata": {},
   "outputs": [],
   "source": [
    "coll = College()"
   ]
  },
  {
   "cell_type": "code",
   "execution_count": 79,
   "id": "51f6226d-2ec7-4d63-bd51-675353514026",
   "metadata": {},
   "outputs": [
    {
     "data": {
      "text/plain": [
       "'PWskills'"
      ]
     },
     "execution_count": 79,
     "metadata": {},
     "output_type": "execute_result"
    }
   ],
   "source": [
    "coll._college_name"
   ]
  },
  {
   "cell_type": "code",
   "execution_count": 80,
   "id": "72541c3d-65b2-423c-90f3-94fb8fc9e16c",
   "metadata": {},
   "outputs": [],
   "source": [
    "class College:\n",
    "    def __init__(self):\n",
    "        self._college_name = \"PWskills\"\n",
    "\n",
    "class Student(College):\n",
    "    def __init__(self, name):\n",
    "        self.name = name\n",
    "        super().__init__()\n",
    "        \n",
    "    def show(self):\n",
    "        print(\"name\", self.name, \"college\", self._college_name)"
   ]
  },
  {
   "cell_type": "code",
   "execution_count": null,
   "id": "74e90329-ed31-4300-9511-f2f965091f19",
   "metadata": {},
   "outputs": [],
   "source": [
    "\n"
   ]
  }
 ],
 "metadata": {
  "kernelspec": {
   "display_name": "Python 3 (ipykernel)",
   "language": "python",
   "name": "python3"
  },
  "language_info": {
   "codemirror_mode": {
    "name": "ipython",
    "version": 3
   },
   "file_extension": ".py",
   "mimetype": "text/x-python",
   "name": "python",
   "nbconvert_exporter": "python",
   "pygments_lexer": "ipython3",
   "version": "3.12.3"
  }
 },
 "nbformat": 4,
 "nbformat_minor": 5
}
