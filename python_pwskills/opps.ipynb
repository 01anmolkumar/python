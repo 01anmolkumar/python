{
 "cells": [
  {
   "cell_type": "code",
   "execution_count": 1,
   "id": "190b93c6-057d-47d2-876a-7eb7d7554f25",
   "metadata": {},
   "outputs": [],
   "source": [
    "#opps>> object orianted programming system\n",
    "a=5"
   ]
  },
  {
   "cell_type": "code",
   "execution_count": 2,
   "id": "9f179fd5-f0ee-4f90-a1e3-dfaac765dcaa",
   "metadata": {},
   "outputs": [
    {
     "name": "stdout",
     "output_type": "stream",
     "text": [
      "<class 'int'>\n"
     ]
    }
   ],
   "source": [
    "print(type(a))"
   ]
  },
  {
   "cell_type": "code",
   "execution_count": 3,
   "id": "a0d17821-26bc-4871-8ed7-8f5537a23df7",
   "metadata": {},
   "outputs": [
    {
     "name": "stdout",
     "output_type": "stream",
     "text": [
      "<class 'str'>\n"
     ]
    }
   ],
   "source": [
    "s=\"pwskills\"\n",
    "print(type(s))"
   ]
  },
  {
   "cell_type": "code",
   "execution_count": 4,
   "id": "d1f83426-5a23-4305-bfef-2b98e46c4a0b",
   "metadata": {},
   "outputs": [],
   "source": [
    "class car :#naming convtion >> upercamelcase\n",
    "    pass"
   ]
  },
  {
   "cell_type": "code",
   "execution_count": 7,
   "id": "92aeda68-ea75-409c-b33f-84f47bcf6cf7",
   "metadata": {},
   "outputs": [],
   "source": [
    "a=car() #instance, object"
   ]
  },
  {
   "cell_type": "code",
   "execution_count": 9,
   "id": "d5b7b922-63c5-484a-b986-993abf08072e",
   "metadata": {},
   "outputs": [
    {
     "name": "stdout",
     "output_type": "stream",
     "text": [
      "<class '__main__.car'>\n"
     ]
    }
   ],
   "source": [
    "print(type(a))"
   ]
  },
  {
   "cell_type": "code",
   "execution_count": 1,
   "id": "5a0b3a2f-ca0f-4b56-8a9a-2a9f4c43d05a",
   "metadata": {},
   "outputs": [],
   "source": [
    "class car: #function of a car\n",
    "    def accelerate ():\n",
    "        print(\"car is accelerating\")"
   ]
  },
  {
   "cell_type": "code",
   "execution_count": 3,
   "id": "bce53fc1-6708-47e4-b9f5-983f4081d2c2",
   "metadata": {},
   "outputs": [],
   "source": [
    "a=car()"
   ]
  },
  {
   "cell_type": "code",
   "execution_count": 5,
   "id": "bf8d8c10-3f83-431f-b20d-295c6f3c146f",
   "metadata": {},
   "outputs": [
    {
     "ename": "TypeError",
     "evalue": "car.accelerate() missing 1 required positional argument: 'self'",
     "output_type": "error",
     "traceback": [
      "\u001b[1;31m---------------------------------------------------------------------------\u001b[0m",
      "\u001b[1;31mTypeError\u001b[0m                                 Traceback (most recent call last)",
      "Cell \u001b[1;32mIn[5], line 1\u001b[0m\n\u001b[1;32m----> 1\u001b[0m \u001b[43mcar\u001b[49m\u001b[38;5;241;43m.\u001b[39;49m\u001b[43maccelerate\u001b[49m\u001b[43m(\u001b[49m\u001b[43m)\u001b[49m\n",
      "\u001b[1;31mTypeError\u001b[0m: car.accelerate() missing 1 required positional argument: 'self'"
     ]
    }
   ],
   "source": [
    "car.accelerate()"
   ]
  },
  {
   "cell_type": "code",
   "execution_count": 6,
   "id": "6ca7622b-5ebe-4a06-9782-fe953d16f875",
   "metadata": {},
   "outputs": [],
   "source": [
    "class car:   #function/method of car\n",
    "    def accelerate(self):\n",
    "        print(\"car is accelerating\")"
   ]
  },
  {
   "cell_type": "code",
   "execution_count": 7,
   "id": "968d3016-1730-42b5-9c57-91edf31f1109",
   "metadata": {},
   "outputs": [],
   "source": [
    "a=car()"
   ]
  },
  {
   "cell_type": "code",
   "execution_count": 8,
   "id": "76ac61d9-2440-49d6-bc9b-85c9d88c95ee",
   "metadata": {},
   "outputs": [
    {
     "name": "stdout",
     "output_type": "stream",
     "text": [
      "car is accelerating\n"
     ]
    }
   ],
   "source": [
    "a.accelerate()"
   ]
  },
  {
   "cell_type": "code",
   "execution_count": 17,
   "id": "c6f39452-c99e-4fc2-aee0-d59a9e1b8172",
   "metadata": {},
   "outputs": [],
   "source": [
    "#self> a variable that repersents instance of the class using you can access attribute and method"
   ]
  },
  {
   "cell_type": "code",
   "execution_count": 21,
   "id": "c8ca9beb-67b6-4c2c-906f-e030470f4a93",
   "metadata": {},
   "outputs": [
    {
     "name": "stdout",
     "output_type": "stream",
     "text": [
      "<__main__.car object at 0x0000021C6BE4A420>\n"
     ]
    }
   ],
   "source": []
  },
  {
   "cell_type": "code",
   "execution_count": 23,
   "id": "f5611189-3c6f-45af-8d53-d7e7afd76b9f",
   "metadata": {},
   "outputs": [],
   "source": [
    "class car:   #function/method of car\n",
    "    def accelerate(self):\n",
    "        print(\"car is accelerating\")\n",
    "    def brake(self):\n",
    "         print(\"car is stopping\")"
   ]
  },
  {
   "cell_type": "code",
   "execution_count": 28,
   "id": "7622c6e3-d9a6-4fec-96d6-8861fa20e07c",
   "metadata": {},
   "outputs": [
    {
     "name": "stdout",
     "output_type": "stream",
     "text": [
      "car is stopping\n"
     ]
    }
   ],
   "source": [
    "a= car()\n",
    "a.brake()"
   ]
  },
  {
   "cell_type": "code",
   "execution_count": 38,
   "id": "29986deb-f043-4369-b0b7-93155d092c5b",
   "metadata": {},
   "outputs": [],
   "source": [
    "class Bank:\n",
    "    amt =10000000\n",
    "    def deposite(self,amount):\n",
    "        print(\"i am trying to deposite some money\")\n",
    "    def withdraw(self,amount_withdraw):\n",
    "        print(\"i am trying to withdraw some money\")"
   ]
  },
  {
   "cell_type": "code",
   "execution_count": 39,
   "id": "6aee77bf-9d24-4bd5-8b12-7622655d26d5",
   "metadata": {},
   "outputs": [],
   "source": [
    "anmol = Bank()"
   ]
  },
  {
   "cell_type": "code",
   "execution_count": 34,
   "id": "b80f7fee-442c-4e4b-9628-666090c86df2",
   "metadata": {},
   "outputs": [
    {
     "name": "stdout",
     "output_type": "stream",
     "text": [
      "i am trying to deposite some money\n"
     ]
    }
   ],
   "source": [
    "anmol.deposite(1000000)"
   ]
  },
  {
   "cell_type": "code",
   "execution_count": 41,
   "id": "1f0845f5-73b3-4470-8068-f9a936942651",
   "metadata": {},
   "outputs": [
    {
     "data": {
      "text/plain": [
       "10000000"
      ]
     },
     "execution_count": 41,
     "metadata": {},
     "output_type": "execute_result"
    }
   ],
   "source": [
    "anmol.amt"
   ]
  },
  {
   "cell_type": "code",
   "execution_count": 54,
   "id": "3ddcc013-3ac1-4938-8762-c3a3a8f50815",
   "metadata": {},
   "outputs": [],
   "source": [
    "class Listops:\n",
    "    l = [1,2,3,4,5]\n",
    "    def extract_even(self,l):\n",
    "        l1 =[]\n",
    "        for i in l:\n",
    "            if i%2==0:\n",
    "                l1.apend(i)\n",
    "        return l1\n",
    "        \n",
    "    def extract_even(self,l):\n",
    "        l1 =[]\n",
    "        for i in l:\n",
    "            if i%2==0:\n",
    "                l1.append(i)\n",
    "        return l1\n",
    "    "
   ]
  },
  {
   "cell_type": "code",
   "execution_count": 55,
   "id": "06754be4-5dd1-44d3-a79d-74b2c6ff5235",
   "metadata": {},
   "outputs": [],
   "source": [
    "ops1 = Listops()"
   ]
  },
  {
   "cell_type": "code",
   "execution_count": 56,
   "id": "654c1c23-d2e8-4aba-88bb-5d33a5bef440",
   "metadata": {},
   "outputs": [
    {
     "data": {
      "text/plain": [
       "[1, 2, 3, 4, 5]"
      ]
     },
     "execution_count": 56,
     "metadata": {},
     "output_type": "execute_result"
    }
   ],
   "source": [
    "ops1.l\n"
   ]
  },
  {
   "cell_type": "code",
   "execution_count": 64,
   "id": "52de4933-8352-4cd5-a4e5-3202a5d41146",
   "metadata": {},
   "outputs": [
    {
     "data": {
      "text/plain": [
       "[2, 4]"
      ]
     },
     "execution_count": 64,
     "metadata": {},
     "output_type": "execute_result"
    }
   ],
   "source": [
    "ops1.extract_even(ops1.l)"
   ]
  },
  {
   "cell_type": "code",
   "execution_count": 59,
   "id": "83e498ca-7134-4ad5-b409-04c964ff5cd2",
   "metadata": {},
   "outputs": [],
   "source": [
    "ops2=Listops()"
   ]
  },
  {
   "cell_type": "code",
   "execution_count": 68,
   "id": "05745832-fae8-492c-956f-9fcf31935f75",
   "metadata": {},
   "outputs": [
    {
     "data": {
      "text/plain": [
       "[2, 4]"
      ]
     },
     "execution_count": 68,
     "metadata": {},
     "output_type": "execute_result"
    }
   ],
   "source": [
    "ops2.extract_even(ops2.l)"
   ]
  },
  {
   "cell_type": "code",
   "execution_count": 85,
   "id": "30b627d4-064a-435d-94da-2852b06d1836",
   "metadata": {},
   "outputs": [],
   "source": [
    "class Listops:\n",
    "    \n",
    "    def __init__(self, l):\n",
    "        self.l = l\n",
    "        \n",
    "    def extract_even(self):\n",
    "        l = self.l\n",
    "        l1 = []\n",
    "        for i in l:\n",
    "            if i % 2 ==0:\n",
    "                l1.append(i)\n",
    "        return l1\n",
    "    \n",
    "    def extract_odd(self):\n",
    "        l=self.l\n",
    "        l1 = []\n",
    "        for i in l:\n",
    "            if i % 2 !=0:\n",
    "                l1.append(i)\n",
    "        return l1"
   ]
  },
  {
   "cell_type": "code",
   "execution_count": 86,
   "id": "9f1610a6-a60c-419f-8a72-1ac64bd19043",
   "metadata": {},
   "outputs": [],
   "source": [
    "obj1 =Listops([1,2,3,4,5])"
   ]
  },
  {
   "cell_type": "code",
   "execution_count": 87,
   "id": "408b24f2-af17-4452-8b17-5139151e11c0",
   "metadata": {},
   "outputs": [
    {
     "data": {
      "text/plain": [
       "[2, 4]"
      ]
     },
     "execution_count": 87,
     "metadata": {},
     "output_type": "execute_result"
    }
   ],
   "source": [
    "obj1.extract_even()"
   ]
  },
  {
   "cell_type": "code",
   "execution_count": 88,
   "id": "e87dfbfb-4fc7-48fe-84ee-484856ec64e1",
   "metadata": {},
   "outputs": [
    {
     "data": {
      "text/plain": [
       "[2, 4, 10, 12]"
      ]
     },
     "execution_count": 88,
     "metadata": {},
     "output_type": "execute_result"
    }
   ],
   "source": [
    "obj2 =Listops([2,3,4,5,10,12])\n",
    "obj2.extract_even()"
   ]
  },
  {
   "cell_type": "code",
   "execution_count": 89,
   "id": "9d92ac36-f3ed-422d-abd2-f8d01a2e4b9c",
   "metadata": {},
   "outputs": [],
   "source": [
    "class Book:\n",
    "    \n",
    "    def __init__(self, name, author, title):\n",
    "        self.name_of_book = name\n",
    "        self.book_author = author\n",
    "        self.title_name = title\n",
    "        \n",
    "    def extract_details_name_title(self):\n",
    "        print(self.name_of_book, self.title_name)\n",
    "        \n",
    "    def extract_details_name_author(self):\n",
    "        print(self.name_of_book, self.book_author)"
   ]
  },
  {
   "cell_type": "code",
   "execution_count": 90,
   "id": "c8c53df9-d25d-4184-80d7-7e24ac5a9242",
   "metadata": {},
   "outputs": [
    {
     "name": "stdout",
     "output_type": "stream",
     "text": [
      "ML MURPHY\n"
     ]
    }
   ],
   "source": [
    "student1 = Book(\"ML\", \"MURPHY\", \"Linear Regression\")\n",
    "student1.extract_details_name_author()"
   ]
  },
  {
   "cell_type": "code",
   "execution_count": 93,
   "id": "cde6346e-6fae-4ab6-b1bd-5cea9134dcb3",
   "metadata": {},
   "outputs": [
    {
     "name": "stdout",
     "output_type": "stream",
     "text": [
      "DL cnn\n"
     ]
    }
   ],
   "source": [
    "student2 = Book(\"DL\",\"abc\",\"cnn\")\n",
    "student2.extract_details_name_title()"
   ]
  },
  {
   "cell_type": "code",
   "execution_count": 94,
   "id": "cdbe191d-7977-4ca2-bba6-46e1766356a3",
   "metadata": {},
   "outputs": [],
   "source": [
    "class Book:\n",
    "    \n",
    "    def __init__(self):\n",
    "        self.name_of_book = \"DSA\"\n",
    "        self.book_author = \"CORMEN\"\n",
    "        self.title_name = \"STACKS\"\n",
    "        \n",
    "    def extract_details_name_title(self):\n",
    "        print(self.name_of_book, self.title_name)\n",
    "        \n",
    "    def extract_details_name_author(self):\n",
    "        print(self.name_of_book, self.book_author)"
   ]
  },
  {
   "cell_type": "code",
   "execution_count": 96,
   "id": "b2297b54-4a5e-43b7-a6f4-1000e7ce3b4c",
   "metadata": {},
   "outputs": [
    {
     "name": "stdout",
     "output_type": "stream",
     "text": [
      "DSA CORMEN\n"
     ]
    }
   ],
   "source": [
    "student1=Book()\n",
    "student1. extract_details_name_author()"
   ]
  },
  {
   "cell_type": "code",
   "execution_count": 97,
   "id": "d4086fce-7711-4f08-8b68-d2351e17735d",
   "metadata": {},
   "outputs": [
    {
     "name": "stdout",
     "output_type": "stream",
     "text": [
      "DSA STACKS\n"
     ]
    }
   ],
   "source": [
    "student2=Book()\n",
    "student2. extract_details_name_title()"
   ]
  },
  {
   "cell_type": "code",
   "execution_count": null,
   "id": "1ee36c77-e12f-4e67-897b-c8ac16a11a56",
   "metadata": {},
   "outputs": [],
   "source": []
  }
 ],
 "metadata": {
  "kernelspec": {
   "display_name": "Python 3 (ipykernel)",
   "language": "python",
   "name": "python3"
  },
  "language_info": {
   "codemirror_mode": {
    "name": "ipython",
    "version": 3
   },
   "file_extension": ".py",
   "mimetype": "text/x-python",
   "name": "python",
   "nbconvert_exporter": "python",
   "pygments_lexer": "ipython3",
   "version": "3.12.3"
  }
 },
 "nbformat": 4,
 "nbformat_minor": 5
}
