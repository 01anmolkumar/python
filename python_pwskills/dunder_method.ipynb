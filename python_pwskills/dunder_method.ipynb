{
 "cells": [
  {
   "cell_type": "code",
   "execution_count": 1,
   "id": "42343794-d6b9-4b94-8b25-8cadbe1b6327",
   "metadata": {},
   "outputs": [],
   "source": [
    "#dunder/special/magic method"
   ]
  },
  {
   "cell_type": "code",
   "execution_count": 2,
   "id": "bb26423b-1fe7-441e-9774-62e057fa9bae",
   "metadata": {},
   "outputs": [
    {
     "data": {
      "text/plain": [
       "'pwskills'"
      ]
     },
     "execution_count": 2,
     "metadata": {},
     "output_type": "execute_result"
    }
   ],
   "source": [
    "a=\"pw\"\n",
    "b= \"skills\"\n",
    "a+b"
   ]
  },
  {
   "cell_type": "code",
   "execution_count": 3,
   "id": "2dde75bc-680a-41f2-b4e1-f04361682149",
   "metadata": {},
   "outputs": [
    {
     "data": {
      "text/plain": [
       "'pwskills'"
      ]
     },
     "execution_count": 3,
     "metadata": {},
     "output_type": "execute_result"
    }
   ],
   "source": [
    "a.__add__(b)"
   ]
  },
  {
   "cell_type": "code",
   "execution_count": 4,
   "id": "fdc12acd-2535-4172-88aa-7376939507c4",
   "metadata": {},
   "outputs": [
    {
     "data": {
      "text/plain": [
       "['__add__',\n",
       " '__class__',\n",
       " '__contains__',\n",
       " '__delattr__',\n",
       " '__dir__',\n",
       " '__doc__',\n",
       " '__eq__',\n",
       " '__format__',\n",
       " '__ge__',\n",
       " '__getattribute__',\n",
       " '__getitem__',\n",
       " '__getnewargs__',\n",
       " '__getstate__',\n",
       " '__gt__',\n",
       " '__hash__',\n",
       " '__init__',\n",
       " '__init_subclass__',\n",
       " '__iter__',\n",
       " '__le__',\n",
       " '__len__',\n",
       " '__lt__',\n",
       " '__mod__',\n",
       " '__mul__',\n",
       " '__ne__',\n",
       " '__new__',\n",
       " '__reduce__',\n",
       " '__reduce_ex__',\n",
       " '__repr__',\n",
       " '__rmod__',\n",
       " '__rmul__',\n",
       " '__setattr__',\n",
       " '__sizeof__',\n",
       " '__str__',\n",
       " '__subclasshook__',\n",
       " 'capitalize',\n",
       " 'casefold',\n",
       " 'center',\n",
       " 'count',\n",
       " 'encode',\n",
       " 'endswith',\n",
       " 'expandtabs',\n",
       " 'find',\n",
       " 'format',\n",
       " 'format_map',\n",
       " 'index',\n",
       " 'isalnum',\n",
       " 'isalpha',\n",
       " 'isascii',\n",
       " 'isdecimal',\n",
       " 'isdigit',\n",
       " 'isidentifier',\n",
       " 'islower',\n",
       " 'isnumeric',\n",
       " 'isprintable',\n",
       " 'isspace',\n",
       " 'istitle',\n",
       " 'isupper',\n",
       " 'join',\n",
       " 'ljust',\n",
       " 'lower',\n",
       " 'lstrip',\n",
       " 'maketrans',\n",
       " 'partition',\n",
       " 'removeprefix',\n",
       " 'removesuffix',\n",
       " 'replace',\n",
       " 'rfind',\n",
       " 'rindex',\n",
       " 'rjust',\n",
       " 'rpartition',\n",
       " 'rsplit',\n",
       " 'rstrip',\n",
       " 'split',\n",
       " 'splitlines',\n",
       " 'startswith',\n",
       " 'strip',\n",
       " 'swapcase',\n",
       " 'title',\n",
       " 'translate',\n",
       " 'upper',\n",
       " 'zfill']"
      ]
     },
     "execution_count": 4,
     "metadata": {},
     "output_type": "execute_result"
    }
   ],
   "source": [
    "dir(str)"
   ]
  },
  {
   "cell_type": "code",
   "execution_count": 5,
   "id": "22718255-08ca-4899-a501-f5d277952609",
   "metadata": {},
   "outputs": [
    {
     "data": {
      "text/plain": [
       "8"
      ]
     },
     "execution_count": 5,
     "metadata": {},
     "output_type": "execute_result"
    }
   ],
   "source": [
    "3+5"
   ]
  },
  {
   "cell_type": "code",
   "execution_count": 6,
   "id": "4247bb63-2e3a-42fa-9a02-949b54d271a5",
   "metadata": {},
   "outputs": [
    {
     "data": {
      "text/plain": [
       "8"
      ]
     },
     "execution_count": 6,
     "metadata": {},
     "output_type": "execute_result"
    }
   ],
   "source": [
    "a=3\n",
    "b=5\n",
    "a+b"
   ]
  },
  {
   "cell_type": "code",
   "execution_count": 7,
   "id": "1e9295ae-0e4e-4f4e-8cb8-124365f47e0b",
   "metadata": {},
   "outputs": [
    {
     "data": {
      "text/plain": [
       "8"
      ]
     },
     "execution_count": 7,
     "metadata": {},
     "output_type": "execute_result"
    }
   ],
   "source": [
    "a.__add__(b)"
   ]
  },
  {
   "cell_type": "code",
   "execution_count": 8,
   "id": "c687fafb-2987-498b-bcca-fb99af0f47d6",
   "metadata": {},
   "outputs": [
    {
     "data": {
      "text/plain": [
       "['__abs__',\n",
       " '__add__',\n",
       " '__and__',\n",
       " '__bool__',\n",
       " '__ceil__',\n",
       " '__class__',\n",
       " '__delattr__',\n",
       " '__dir__',\n",
       " '__divmod__',\n",
       " '__doc__',\n",
       " '__eq__',\n",
       " '__float__',\n",
       " '__floor__',\n",
       " '__floordiv__',\n",
       " '__format__',\n",
       " '__ge__',\n",
       " '__getattribute__',\n",
       " '__getnewargs__',\n",
       " '__getstate__',\n",
       " '__gt__',\n",
       " '__hash__',\n",
       " '__index__',\n",
       " '__init__',\n",
       " '__init_subclass__',\n",
       " '__int__',\n",
       " '__invert__',\n",
       " '__le__',\n",
       " '__lshift__',\n",
       " '__lt__',\n",
       " '__mod__',\n",
       " '__mul__',\n",
       " '__ne__',\n",
       " '__neg__',\n",
       " '__new__',\n",
       " '__or__',\n",
       " '__pos__',\n",
       " '__pow__',\n",
       " '__radd__',\n",
       " '__rand__',\n",
       " '__rdivmod__',\n",
       " '__reduce__',\n",
       " '__reduce_ex__',\n",
       " '__repr__',\n",
       " '__rfloordiv__',\n",
       " '__rlshift__',\n",
       " '__rmod__',\n",
       " '__rmul__',\n",
       " '__ror__',\n",
       " '__round__',\n",
       " '__rpow__',\n",
       " '__rrshift__',\n",
       " '__rshift__',\n",
       " '__rsub__',\n",
       " '__rtruediv__',\n",
       " '__rxor__',\n",
       " '__setattr__',\n",
       " '__sizeof__',\n",
       " '__str__',\n",
       " '__sub__',\n",
       " '__subclasshook__',\n",
       " '__truediv__',\n",
       " '__trunc__',\n",
       " '__xor__',\n",
       " 'as_integer_ratio',\n",
       " 'bit_count',\n",
       " 'bit_length',\n",
       " 'conjugate',\n",
       " 'denominator',\n",
       " 'from_bytes',\n",
       " 'imag',\n",
       " 'is_integer',\n",
       " 'numerator',\n",
       " 'real',\n",
       " 'to_bytes']"
      ]
     },
     "execution_count": 8,
     "metadata": {},
     "output_type": "execute_result"
    }
   ],
   "source": [
    "dir(int)"
   ]
  },
  {
   "cell_type": "code",
   "execution_count": 10,
   "id": "01fcddf9-e8c8-4fa7-926b-d717cec13537",
   "metadata": {},
   "outputs": [],
   "source": [
    "class student:\n",
    "    def __init__(self):\n",
    "        print(\"this is the first thing it will be executed once you make instance/object of the class\")"
   ]
  },
  {
   "cell_type": "code",
   "execution_count": 11,
   "id": "f04992fb-d4aa-40e1-ad21-a0c16f575398",
   "metadata": {},
   "outputs": [
    {
     "name": "stdout",
     "output_type": "stream",
     "text": [
      "this is the first thing it will be executed once you make instance/object of the class\n"
     ]
    }
   ],
   "source": [
    "obj = student()"
   ]
  },
  {
   "cell_type": "code",
   "execution_count": 16,
   "id": "3c2e10af-aac0-463c-9391-25b4a4f5a662",
   "metadata": {},
   "outputs": [],
   "source": [
    "class student:\n",
    "    def __new__(cls):\n",
    "        print(\"this will be exeuted even before init\")\n",
    "    def __init__(self):\n",
    "        print(\"this is the first thing it will be executed once you make instance/object of the class\")   "
   ]
  },
  {
   "cell_type": "code",
   "execution_count": 17,
   "id": "72aa28a6-f547-4783-94f2-089d30e98d18",
   "metadata": {},
   "outputs": [
    {
     "name": "stdout",
     "output_type": "stream",
     "text": [
      "this will be exeuted even before init\n"
     ]
    }
   ],
   "source": [
    "obj = student()"
   ]
  },
  {
   "cell_type": "code",
   "execution_count": 18,
   "id": "7db4a737-ce81-4a60-b91b-70d6f40ca5c8",
   "metadata": {},
   "outputs": [],
   "source": [
    "class student:\n",
    "    def __init__(self):\n",
    "        self.phone = 99999999"
   ]
  },
  {
   "cell_type": "code",
   "execution_count": 19,
   "id": "a8b3b24b-de11-4665-97b7-4268497c59d9",
   "metadata": {},
   "outputs": [
    {
     "data": {
      "text/plain": [
       "<__main__.student at 0x14edb9530e0>"
      ]
     },
     "execution_count": 19,
     "metadata": {},
     "output_type": "execute_result"
    }
   ],
   "source": [
    "student() #hexadecimal repersentation"
   ]
  },
  {
   "cell_type": "code",
   "execution_count": 20,
   "id": "6602d540-eec6-4448-9fbd-ad8b2a1c8b02",
   "metadata": {},
   "outputs": [],
   "source": [
    "class student:\n",
    "    def __init__(self):\n",
    "        self.phone = 99999999\n",
    "\n",
    "    def __str__(self): #__str__ will return a string represenation\n",
    "        return\"this method overrides the print statement of object method\""
   ]
  },
  {
   "cell_type": "code",
   "execution_count": 21,
   "id": "48933bd7-344c-4f22-9bcf-f333d243f2c2",
   "metadata": {},
   "outputs": [
    {
     "name": "stdout",
     "output_type": "stream",
     "text": [
      "this method overrides the print statement of object method\n"
     ]
    }
   ],
   "source": [
    "print(student())"
   ]
  },
  {
   "cell_type": "code",
   "execution_count": 25,
   "id": "3907a5dc-44ab-46db-b34b-4ce4484642b6",
   "metadata": {},
   "outputs": [],
   "source": [
    "#reper \n",
    "class myclass:\n",
    "    def __init__(self,x):\n",
    "        self.x =x\n",
    "\n",
    "    def __repr__(self):\n",
    "        return f\"myclass({self.x})\"\n",
    "\n",
    "\n"
   ]
  },
  {
   "cell_type": "code",
   "execution_count": 26,
   "id": "0bf74b17-ea3c-4181-b20f-67e6acf8871c",
   "metadata": {},
   "outputs": [],
   "source": [
    "obj=myclass(2)"
   ]
  },
  {
   "cell_type": "code",
   "execution_count": 27,
   "id": "15b457d0-6cb1-4f5a-aad1-a541efea63b2",
   "metadata": {},
   "outputs": [
    {
     "data": {
      "text/plain": [
       "'myclass(2)'"
      ]
     },
     "execution_count": 27,
     "metadata": {},
     "output_type": "execute_result"
    }
   ],
   "source": [
    "print(repr(obj)) #return the string repersentation of object"
   ]
  },
  {
   "cell_type": "code",
   "execution_count": 28,
   "id": "644cf037-828f-4a12-a2a9-0a20c396dbdd",
   "metadata": {},
   "outputs": [
    {
     "data": {
      "text/plain": [
       "True"
      ]
     },
     "execution_count": 28,
     "metadata": {},
     "output_type": "execute_result"
    }
   ],
   "source": [
    "True == True"
   ]
  },
  {
   "cell_type": "code",
   "execution_count": 29,
   "id": "5feb77e3-3303-4616-9b26-9119b11feadd",
   "metadata": {},
   "outputs": [
    {
     "data": {
      "text/plain": [
       "True"
      ]
     },
     "execution_count": 29,
     "metadata": {},
     "output_type": "execute_result"
    }
   ],
   "source": [
    "a=3\n",
    "b=3\n",
    "a.__eq__(b)"
   ]
  },
  {
   "cell_type": "code",
   "execution_count": 36,
   "id": "e154b9f2-4140-42df-b4eb-785045968cb7",
   "metadata": {},
   "outputs": [],
   "source": [
    "class point:\n",
    "    def __init__(self,x,y):\n",
    "        self.x =x\n",
    "        self.y=y\n",
    "\n",
    "    def __eq__(self,other):\n",
    "         return self.x == other.x and self.y == other.y\n",
    "    "
   ]
  },
  {
   "cell_type": "code",
   "execution_count": 37,
   "id": "65c1484e-fbdf-42ba-9102-6151757aa81c",
   "metadata": {},
   "outputs": [],
   "source": [
    "p1 = point(1,3)\n",
    "p2 = point(1,2)"
   ]
  },
  {
   "cell_type": "code",
   "execution_count": 38,
   "id": "7cd79c10-3a53-402b-9433-23b9cfe2106f",
   "metadata": {},
   "outputs": [
    {
     "name": "stdout",
     "output_type": "stream",
     "text": [
      "False\n"
     ]
    }
   ],
   "source": [
    "print(p1==p2)"
   ]
  },
  {
   "cell_type": "code",
   "execution_count": null,
   "id": "97cd565b-ea44-4ac1-92e7-61ec005c3c97",
   "metadata": {},
   "outputs": [],
   "source": []
  }
 ],
 "metadata": {
  "kernelspec": {
   "display_name": "Python 3 (ipykernel)",
   "language": "python",
   "name": "python3"
  },
  "language_info": {
   "codemirror_mode": {
    "name": "ipython",
    "version": 3
   },
   "file_extension": ".py",
   "mimetype": "text/x-python",
   "name": "python",
   "nbconvert_exporter": "python",
   "pygments_lexer": "ipython3",
   "version": "3.12.3"
  }
 },
 "nbformat": 4,
 "nbformat_minor": 5
}
