{
 "cells": [
  {
   "cell_type": "code",
   "execution_count": 1,
   "id": "220c10cc-f226-4626-a879-354de039fcbb",
   "metadata": {},
   "outputs": [
    {
     "data": {
      "text/plain": [
       "7"
      ]
     },
     "execution_count": 1,
     "metadata": {},
     "output_type": "execute_result"
    }
   ],
   "source": [
    "#what is operator>>> special keywords to perform operations\n",
    "#why? to manipulate data \n",
    "\n",
    "#arthmatic operator\n",
    "a = 5\n",
    "b = 2\n",
    "a+b"
   ]
  },
  {
   "cell_type": "code",
   "execution_count": 6,
   "id": "ce379b57-b4bc-4a11-a13c-5cfc17c23caf",
   "metadata": {},
   "outputs": [
    {
     "name": "stdout",
     "output_type": "stream",
     "text": [
      "7\n"
     ]
    }
   ],
   "source": [
    "add = 5+2\n",
    "print(add)"
   ]
  },
  {
   "cell_type": "code",
   "execution_count": 7,
   "id": "4b242456-fcc2-41dd-b86d-3ea62525e6e7",
   "metadata": {},
   "outputs": [
    {
     "data": {
      "text/plain": [
       "7"
      ]
     },
     "execution_count": 7,
     "metadata": {},
     "output_type": "execute_result"
    }
   ],
   "source": [
    "5+2"
   ]
  },
  {
   "cell_type": "code",
   "execution_count": 8,
   "id": "f6f4152b-d436-4fe2-bf20-deb45a5373b8",
   "metadata": {},
   "outputs": [
    {
     "data": {
      "text/plain": [
       "12"
      ]
     },
     "execution_count": 8,
     "metadata": {},
     "output_type": "execute_result"
    }
   ],
   "source": [
    "3*4"
   ]
  },
  {
   "cell_type": "code",
   "execution_count": 9,
   "id": "c3327bb9-141c-4af0-a786-eaf9b58c227c",
   "metadata": {},
   "outputs": [
    {
     "data": {
      "text/plain": [
       "5.0"
      ]
     },
     "execution_count": 9,
     "metadata": {},
     "output_type": "execute_result"
    }
   ],
   "source": [
    "20/4"
   ]
  },
  {
   "cell_type": "code",
   "execution_count": 10,
   "id": "392e1bd1-367f-4eb9-aaef-05e94bcdc277",
   "metadata": {},
   "outputs": [
    {
     "data": {
      "text/plain": [
       "1"
      ]
     },
     "execution_count": 10,
     "metadata": {},
     "output_type": "execute_result"
    }
   ],
   "source": [
    "#modulus operator\n",
    "17 % 4"
   ]
  },
  {
   "cell_type": "code",
   "execution_count": 13,
   "id": "797b1412-e192-428f-b42a-50d7430fb52d",
   "metadata": {},
   "outputs": [
    {
     "data": {
      "text/plain": [
       "8"
      ]
     },
     "execution_count": 13,
     "metadata": {},
     "output_type": "execute_result"
    }
   ],
   "source": [
    "2**3 # 2*2*2"
   ]
  },
  {
   "cell_type": "code",
   "execution_count": 14,
   "id": "9b8fd1f7-ae03-43ac-ae89-a75b5a1b67c8",
   "metadata": {},
   "outputs": [
    {
     "data": {
      "text/plain": [
       "1.3333333333333333"
      ]
     },
     "execution_count": 14,
     "metadata": {},
     "output_type": "execute_result"
    }
   ],
   "source": [
    "4/3"
   ]
  },
  {
   "cell_type": "code",
   "execution_count": 1,
   "id": "6ea24fcc-daa9-4791-8d11-2d0a21506932",
   "metadata": {},
   "outputs": [
    {
     "data": {
      "text/plain": [
       "1"
      ]
     },
     "execution_count": 1,
     "metadata": {},
     "output_type": "execute_result"
    }
   ],
   "source": [
    "4//3 #floor operator"
   ]
  },
  {
   "cell_type": "code",
   "execution_count": 15,
   "id": "2e5d0b31-7f56-48e1-89f4-d1dfc75076c4",
   "metadata": {},
   "outputs": [
    {
     "data": {
      "text/plain": [
       "True"
      ]
     },
     "execution_count": 15,
     "metadata": {},
     "output_type": "execute_result"
    }
   ],
   "source": [
    "# comperison operator >>\n",
    "2==2"
   ]
  },
  {
   "cell_type": "code",
   "execution_count": 16,
   "id": "e3875357-65ef-41ae-beaf-30d8304a6ab9",
   "metadata": {},
   "outputs": [
    {
     "data": {
      "text/plain": [
       "True"
      ]
     },
     "execution_count": 16,
     "metadata": {},
     "output_type": "execute_result"
    }
   ],
   "source": [
    "5!=3"
   ]
  },
  {
   "cell_type": "code",
   "execution_count": 17,
   "id": "fdadde4d-fb07-46f3-be34-9eb01f70f50a",
   "metadata": {},
   "outputs": [
    {
     "data": {
      "text/plain": [
       "True"
      ]
     },
     "execution_count": 17,
     "metadata": {},
     "output_type": "execute_result"
    }
   ],
   "source": [
    "10>2"
   ]
  },
  {
   "cell_type": "code",
   "execution_count": 18,
   "id": "f3d2625f-ee30-4dae-ba16-f8fd384ccf40",
   "metadata": {},
   "outputs": [
    {
     "data": {
      "text/plain": [
       "False"
      ]
     },
     "execution_count": 18,
     "metadata": {},
     "output_type": "execute_result"
    }
   ],
   "source": [
    "10<5"
   ]
  },
  {
   "cell_type": "code",
   "execution_count": 19,
   "id": "601c6e24-5f40-4b29-bc52-cb69777af234",
   "metadata": {},
   "outputs": [
    {
     "data": {
      "text/plain": [
       "True"
      ]
     },
     "execution_count": 19,
     "metadata": {},
     "output_type": "execute_result"
    }
   ],
   "source": [
    "10>=5"
   ]
  },
  {
   "cell_type": "code",
   "execution_count": 20,
   "id": "68a6c8cd-c2d0-484b-977e-4ff2a4844932",
   "metadata": {},
   "outputs": [
    {
     "data": {
      "text/plain": [
       "True"
      ]
     },
     "execution_count": 20,
     "metadata": {},
     "output_type": "execute_result"
    }
   ],
   "source": [
    "10<=10"
   ]
  },
  {
   "cell_type": "code",
   "execution_count": 21,
   "id": "c4280db6-c034-4023-8b21-182c76e2fe1f",
   "metadata": {},
   "outputs": [
    {
     "data": {
      "text/plain": [
       "True"
      ]
     },
     "execution_count": 21,
     "metadata": {},
     "output_type": "execute_result"
    }
   ],
   "source": [
    "#logical operator\n",
    "#and\n",
    "\n",
    "True and True"
   ]
  },
  {
   "cell_type": "code",
   "execution_count": 22,
   "id": "2bb297a1-b81a-4558-9d69-457b7dec44d5",
   "metadata": {},
   "outputs": [
    {
     "data": {
      "text/plain": [
       "False"
      ]
     },
     "execution_count": 22,
     "metadata": {},
     "output_type": "execute_result"
    }
   ],
   "source": [
    "True and False"
   ]
  },
  {
   "cell_type": "code",
   "execution_count": 23,
   "id": "614835a8-bada-479d-bda4-0b79a6437095",
   "metadata": {},
   "outputs": [],
   "source": [
    "#assigement operator\n",
    "a = 10"
   ]
  },
  {
   "cell_type": "code",
   "execution_count": 24,
   "id": "b1e1f743-22fd-4375-a96f-8c255bd30c0f",
   "metadata": {},
   "outputs": [
    {
     "data": {
      "text/plain": [
       "10"
      ]
     },
     "execution_count": 24,
     "metadata": {},
     "output_type": "execute_result"
    }
   ],
   "source": [
    "a"
   ]
  },
  {
   "cell_type": "code",
   "execution_count": 25,
   "id": "e77557e0-1700-4ac2-9a85-aed630fe224e",
   "metadata": {},
   "outputs": [
    {
     "data": {
      "text/plain": [
       "15"
      ]
     },
     "execution_count": 25,
     "metadata": {},
     "output_type": "execute_result"
    }
   ],
   "source": [
    "a +5"
   ]
  },
  {
   "cell_type": "code",
   "execution_count": 26,
   "id": "fa6825c9-9395-42c8-a683-8ff4edc7b5b0",
   "metadata": {},
   "outputs": [
    {
     "data": {
      "text/plain": [
       "True"
      ]
     },
     "execution_count": 26,
     "metadata": {},
     "output_type": "execute_result"
    }
   ],
   "source": [
    "#membership operator\n",
    "a = \"pwskills\"\n",
    "\"p\" in a"
   ]
  },
  {
   "cell_type": "code",
   "execution_count": 27,
   "id": "fb236678-5049-4fd9-b588-ec50eb3a7082",
   "metadata": {},
   "outputs": [
    {
     "data": {
      "text/plain": [
       "True"
      ]
     },
     "execution_count": 27,
     "metadata": {},
     "output_type": "execute_result"
    }
   ],
   "source": [
    "\"am\" in \"i am anmol\""
   ]
  },
  {
   "cell_type": "code",
   "execution_count": 28,
   "id": "3d2f3f65-841f-4358-b8b2-2ec3814e2dc3",
   "metadata": {},
   "outputs": [
    {
     "data": {
      "text/plain": [
       "False"
      ]
     },
     "execution_count": 28,
     "metadata": {},
     "output_type": "execute_result"
    }
   ],
   "source": [
    "\"data\" in \"pwskills\""
   ]
  },
  {
   "cell_type": "code",
   "execution_count": 29,
   "id": "3e5cb153-0dd4-49b2-bdcc-77f140f766e5",
   "metadata": {},
   "outputs": [],
   "source": [
    "#identity operator\n",
    "#compare the memory location of two object\n",
    "a = 2"
   ]
  },
  {
   "cell_type": "code",
   "execution_count": 30,
   "id": "41b03a52-a44c-44c4-a009-48e6209fecc3",
   "metadata": {},
   "outputs": [],
   "source": [
    "b= 3\n"
   ]
  },
  {
   "cell_type": "code",
   "execution_count": 31,
   "id": "30a31440-d8ce-4309-a65b-5ef7f4de9ed3",
   "metadata": {},
   "outputs": [
    {
     "data": {
      "text/plain": [
       "False"
      ]
     },
     "execution_count": 31,
     "metadata": {},
     "output_type": "execute_result"
    }
   ],
   "source": [
    "a is b"
   ]
  },
  {
   "cell_type": "code",
   "execution_count": 32,
   "id": "67aa6fc5-32c2-475c-8908-accc380c9eb2",
   "metadata": {},
   "outputs": [],
   "source": [
    "a=\"pwskills\"\n",
    "b=a"
   ]
  },
  {
   "cell_type": "code",
   "execution_count": 34,
   "id": "bfe3196c-764c-439b-8ae6-2a127d6b3819",
   "metadata": {},
   "outputs": [
    {
     "data": {
      "text/plain": [
       "True"
      ]
     },
     "execution_count": 34,
     "metadata": {},
     "output_type": "execute_result"
    }
   ],
   "source": [
    "a is b"
   ]
  },
  {
   "cell_type": "code",
   "execution_count": 35,
   "id": "3a3cedce-71da-4bda-aaaa-d28b370f0105",
   "metadata": {},
   "outputs": [
    {
     "data": {
      "text/plain": [
       "10"
      ]
     },
     "execution_count": 35,
     "metadata": {},
     "output_type": "execute_result"
    }
   ],
   "source": [
    "#bitwise operator >> operation at bint level\n",
    "10 & 10\n"
   ]
  },
  {
   "cell_type": "code",
   "execution_count": 36,
   "id": "b4c03be9-d73f-4ac2-9ebb-ae717629ae38",
   "metadata": {},
   "outputs": [
    {
     "data": {
      "text/plain": [
       "2"
      ]
     },
     "execution_count": 36,
     "metadata": {},
     "output_type": "execute_result"
    }
   ],
   "source": [
    "10 & 3"
   ]
  },
  {
   "cell_type": "code",
   "execution_count": 37,
   "id": "12d5613c-0f2c-4069-85fc-cf8e5c12b7e7",
   "metadata": {},
   "outputs": [
    {
     "data": {
      "text/plain": [
       "'0b1010'"
      ]
     },
     "execution_count": 37,
     "metadata": {},
     "output_type": "execute_result"
    }
   ],
   "source": [
    "bin(10)"
   ]
  },
  {
   "cell_type": "code",
   "execution_count": 38,
   "id": "bdee2c37-0f26-4bd4-bd47-7146337ae034",
   "metadata": {},
   "outputs": [
    {
     "data": {
      "text/plain": [
       "2"
      ]
     },
     "execution_count": 38,
     "metadata": {},
     "output_type": "execute_result"
    }
   ],
   "source": [
    "18 & 3"
   ]
  },
  {
   "cell_type": "code",
   "execution_count": 39,
   "id": "dba4cece-5be6-4f80-9034-17788037e72a",
   "metadata": {},
   "outputs": [
    {
     "data": {
      "text/plain": [
       "'0b10010'"
      ]
     },
     "execution_count": 39,
     "metadata": {},
     "output_type": "execute_result"
    }
   ],
   "source": [
    "bin(18)"
   ]
  },
  {
   "cell_type": "code",
   "execution_count": 40,
   "id": "9b3e8a0d-76ee-4b6b-b9be-cc5d3d155db7",
   "metadata": {},
   "outputs": [
    {
     "data": {
      "text/plain": [
       "'0b11'"
      ]
     },
     "execution_count": 40,
     "metadata": {},
     "output_type": "execute_result"
    }
   ],
   "source": [
    "bin(3)"
   ]
  },
  {
   "cell_type": "code",
   "execution_count": 41,
   "id": "821c56a4-ae4e-45bf-9005-59db58add826",
   "metadata": {},
   "outputs": [
    {
     "data": {
      "text/plain": [
       "'0b10'"
      ]
     },
     "execution_count": 41,
     "metadata": {},
     "output_type": "execute_result"
    }
   ],
   "source": [
    "bin(2)"
   ]
  },
  {
   "cell_type": "code",
   "execution_count": 42,
   "id": "545c3fed-1118-4c72-aafa-cab3370be3c3",
   "metadata": {},
   "outputs": [
    {
     "data": {
      "text/plain": [
       "7"
      ]
     },
     "execution_count": 42,
     "metadata": {},
     "output_type": "execute_result"
    }
   ],
   "source": [
    "3|5"
   ]
  },
  {
   "cell_type": "code",
   "execution_count": 43,
   "id": "60d98cbd-8753-4423-a569-da44339805b4",
   "metadata": {},
   "outputs": [
    {
     "data": {
      "text/plain": [
       "-4"
      ]
     },
     "execution_count": 43,
     "metadata": {},
     "output_type": "execute_result"
    }
   ],
   "source": [
    "#negation\n",
    "~3"
   ]
  },
  {
   "cell_type": "code",
   "execution_count": 44,
   "id": "6bf619cf-2634-4560-a742-283385337294",
   "metadata": {},
   "outputs": [
    {
     "data": {
      "text/plain": [
       "-7"
      ]
     },
     "execution_count": 44,
     "metadata": {},
     "output_type": "execute_result"
    }
   ],
   "source": [
    "~6"
   ]
  },
  {
   "cell_type": "code",
   "execution_count": 45,
   "id": "e62cd3c8-5c1a-414c-a094-7be57996ef2c",
   "metadata": {},
   "outputs": [],
   "source": [
    "# shift >> left and right shift"
   ]
  },
  {
   "cell_type": "code",
   "execution_count": 46,
   "id": "f5698e91-2c11-4c5c-bdd1-60613a15f60d",
   "metadata": {},
   "outputs": [
    {
     "data": {
      "text/plain": [
       "280"
      ]
     },
     "execution_count": 46,
     "metadata": {},
     "output_type": "execute_result"
    }
   ],
   "source": [
    "#left shift put no of zeroes in right side\n",
    "35 << 3"
   ]
  },
  {
   "cell_type": "code",
   "execution_count": 47,
   "id": "82dc61d7-8f9b-412a-ae8e-a09fd7bab96d",
   "metadata": {},
   "outputs": [
    {
     "data": {
      "text/plain": [
       "'0b100011'"
      ]
     },
     "execution_count": 47,
     "metadata": {},
     "output_type": "execute_result"
    }
   ],
   "source": [
    "bin (35)"
   ]
  },
  {
   "cell_type": "code",
   "execution_count": 48,
   "id": "15cb9eca-9e75-4927-b838-a8262d73423a",
   "metadata": {},
   "outputs": [
    {
     "data": {
      "text/plain": [
       "'0b100011000'"
      ]
     },
     "execution_count": 48,
     "metadata": {},
     "output_type": "execute_result"
    }
   ],
   "source": [
    "bin(280)"
   ]
  },
  {
   "cell_type": "code",
   "execution_count": 50,
   "id": "71b0f5f0-3867-4a06-b30f-9debff284057",
   "metadata": {},
   "outputs": [
    {
     "data": {
      "text/plain": [
       "10"
      ]
     },
     "execution_count": 50,
     "metadata": {},
     "output_type": "execute_result"
    }
   ],
   "source": [
    "5 <<1"
   ]
  },
  {
   "cell_type": "code",
   "execution_count": 53,
   "id": "85528ea9-ee79-497b-bd15-cdfe9d38f2cf",
   "metadata": {},
   "outputs": [
    {
     "data": {
      "text/plain": [
       "35"
      ]
     },
     "execution_count": 53,
     "metadata": {},
     "output_type": "execute_result"
    }
   ],
   "source": [
    "# right shift >> remove the no of elements in the binary\n",
    "280 >> 3"
   ]
  },
  {
   "cell_type": "code",
   "execution_count": 54,
   "id": "eaac437f-1de4-4b67-b4e3-0af10de4839c",
   "metadata": {},
   "outputs": [
    {
     "data": {
      "text/plain": [
       "'0b100011000'"
      ]
     },
     "execution_count": 54,
     "metadata": {},
     "output_type": "execute_result"
    }
   ],
   "source": [
    "bin(280)"
   ]
  },
  {
   "cell_type": "code",
   "execution_count": 55,
   "id": "17e5651d-a487-4c9e-901f-3e0f705c385c",
   "metadata": {},
   "outputs": [
    {
     "data": {
      "text/plain": [
       "'0b100011'"
      ]
     },
     "execution_count": 55,
     "metadata": {},
     "output_type": "execute_result"
    }
   ],
   "source": [
    "bin(35)"
   ]
  },
  {
   "cell_type": "code",
   "execution_count": 56,
   "id": "7e1a3042-55c4-422b-bc43-0103ad3acdf0",
   "metadata": {},
   "outputs": [
    {
     "data": {
      "text/plain": [
       "1"
      ]
     },
     "execution_count": 56,
     "metadata": {},
     "output_type": "execute_result"
    }
   ],
   "source": [
    "##  order of precdence\n",
    "#exection will start from left\n",
    "2+3-4"
   ]
  },
  {
   "cell_type": "code",
   "execution_count": 57,
   "id": "944de73c-3736-4187-8d1c-778a65387f04",
   "metadata": {},
   "outputs": [
    {
     "data": {
      "text/plain": [
       "4"
      ]
     },
     "execution_count": 57,
     "metadata": {},
     "output_type": "execute_result"
    }
   ],
   "source": [
    "#alwayes of precedence\n",
    "(5+3)-4"
   ]
  },
  {
   "cell_type": "code",
   "execution_count": 58,
   "id": "e0fb7649-9fc1-432d-9b01-e0622d76494e",
   "metadata": {},
   "outputs": [
    {
     "data": {
      "text/plain": [
       "19.0"
      ]
     },
     "execution_count": 58,
     "metadata": {},
     "output_type": "execute_result"
    }
   ],
   "source": [
    "(10+5) + (8/2)"
   ]
  },
  {
   "cell_type": "code",
   "execution_count": null,
   "id": "9424da1d-a43f-400b-a887-198f860b16f7",
   "metadata": {},
   "outputs": [],
   "source": []
  }
 ],
 "metadata": {
  "kernelspec": {
   "display_name": "Python 3 (ipykernel)",
   "language": "python",
   "name": "python3"
  },
  "language_info": {
   "codemirror_mode": {
    "name": "ipython",
    "version": 3
   },
   "file_extension": ".py",
   "mimetype": "text/x-python",
   "name": "python",
   "nbconvert_exporter": "python",
   "pygments_lexer": "ipython3",
   "version": "3.12.3"
  }
 },
 "nbformat": 4,
 "nbformat_minor": 5
}
