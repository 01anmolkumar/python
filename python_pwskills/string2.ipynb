{
 "cells": [
  {
   "cell_type": "code",
   "execution_count": 3,
   "id": "d8ca73d3-f170-48e7-80ee-1c2a11736034",
   "metadata": {},
   "outputs": [
    {
     "name": "stdout",
     "output_type": "stream",
     "text": [
      "its a pdf file\n"
     ]
    }
   ],
   "source": [
    "document =\"some_file.pdf\"\n",
    "if \".pdf\" in document:\n",
    "    print(\"its a pdf file\")\n",
    "else:\n",
    "    print(\"not\")"
   ]
  },
  {
   "cell_type": "code",
   "execution_count": 4,
   "id": "6757d164-aace-47d3-9b33-2257c91f5b10",
   "metadata": {},
   "outputs": [
    {
     "data": {
      "text/plain": [
       "False"
      ]
     },
     "execution_count": 4,
     "metadata": {},
     "output_type": "execute_result"
    }
   ],
   "source": [
    "#string compersion\n",
    "\n",
    "str1 = \"Hello\"\n",
    "str2 = \"hello\"\n",
    "\n",
    "str1 == str2"
   ]
  },
  {
   "cell_type": "code",
   "execution_count": 5,
   "id": "0266850e-90fa-40fe-893f-202207a8cb21",
   "metadata": {},
   "outputs": [
    {
     "data": {
      "text/plain": [
       "True"
      ]
     },
     "execution_count": 5,
     "metadata": {},
     "output_type": "execute_result"
    }
   ],
   "source": [
    "str1 = \"Hello\"\n",
    "str2 = \"Hello\"\n",
    "\n",
    "str1 == str2"
   ]
  },
  {
   "cell_type": "code",
   "execution_count": 7,
   "id": "047aebd2-bdb3-4ca8-9012-3a6972eca54b",
   "metadata": {},
   "outputs": [
    {
     "data": {
      "text/plain": [
       "True"
      ]
     },
     "execution_count": 7,
     "metadata": {},
     "output_type": "execute_result"
    }
   ],
   "source": [
    "str1 = \"Hello\"\n",
    "str2 = \"hello\"\n",
    "\n",
    "str1.lower() == str2.lower()"
   ]
  },
  {
   "cell_type": "code",
   "execution_count": 12,
   "id": "a8235d3f-f23a-4a34-be84-97698d74283e",
   "metadata": {},
   "outputs": [
    {
     "name": "stdout",
     "output_type": "stream",
     "text": [
      "username is available\n"
     ]
    }
   ],
   "source": [
    "reg_username = [\"pw\",\"PW\" ,\"pW\"]\n",
    "new_user = \"pW1\"\n",
    "\n",
    "if new_user in reg_username:\n",
    "    print(\"already in use\")\n",
    "else:\n",
    "    print(\"username is available\")"
   ]
  },
  {
   "cell_type": "code",
   "execution_count": 2,
   "id": "39806691-d7ef-4d3e-afac-bcf54e838052",
   "metadata": {},
   "outputs": [
    {
     "name": "stdin",
     "output_type": "stream",
     "text": [
      "scan the product code p123\n"
     ]
    },
    {
     "name": "stdout",
     "output_type": "stream",
     "text": [
      "the price is 100\n"
     ]
    }
   ],
   "source": [
    "product_code = \"p123\"\n",
    "scanned_code = input(\"scan the product code\")\n",
    "\n",
    "if product_code == scanned_code:\n",
    "    print(\"the price is 100\")\n",
    "else: \n",
    "    print(\" talk to reception\")"
   ]
  },
  {
   "cell_type": "code",
   "execution_count": 4,
   "id": "ffa67011-e236-442c-9c08-8a107bc5c049",
   "metadata": {},
   "outputs": [
    {
     "data": {
      "text/plain": [
       "['Ajay', 'Bee', 'Nakula']"
      ]
     },
     "execution_count": 4,
     "metadata": {},
     "output_type": "execute_result"
    }
   ],
   "source": [
    "#string ordering\n",
    "names = [\"Ajay\" ,\"Nakula\",\"Bee\"]\n",
    "sorted(names)"
   ]
  },
  {
   "cell_type": "code",
   "execution_count": 5,
   "id": "546f6f94-0580-478b-8d9c-9c2ae359de76",
   "metadata": {},
   "outputs": [
    {
     "data": {
      "text/plain": [
       "['hello', 'kkhh', 'magic', 'magic']"
      ]
     },
     "execution_count": 5,
     "metadata": {},
     "output_type": "execute_result"
    }
   ],
   "source": [
    "playlist = [\"kkhh\" , \"magic\", \"hello\" , \"magic\"]\n",
    "sorted(playlist)"
   ]
  },
  {
   "cell_type": "code",
   "execution_count": 6,
   "id": "b0361b69-8b79-42f5-a74b-4edf0c94d40c",
   "metadata": {},
   "outputs": [
    {
     "data": {
      "text/plain": [
       "'pwskills'"
      ]
     },
     "execution_count": 6,
     "metadata": {},
     "output_type": "execute_result"
    }
   ],
   "source": [
    "#common string operations\n",
    "\n",
    "\n",
    "input_str = \"     pwskills      \"\n",
    "input_str.strip()\n"
   ]
  },
  {
   "cell_type": "code",
   "execution_count": 7,
   "id": "cda1e5c6-04ce-4ed7-93ff-919466d7387d",
   "metadata": {},
   "outputs": [
    {
     "data": {
      "text/plain": [
       "'pw skills'"
      ]
     },
     "execution_count": 7,
     "metadata": {},
     "output_type": "execute_result"
    }
   ],
   "source": [
    "input_str = \"     pw skills      \"\n",
    "input_str.strip()\n"
   ]
  },
  {
   "cell_type": "code",
   "execution_count": 9,
   "id": "d7148044-7143-4353-aaf5-276b9cb1c338",
   "metadata": {},
   "outputs": [
    {
     "data": {
      "text/plain": [
       "'Apple'"
      ]
     },
     "execution_count": 9,
     "metadata": {},
     "output_type": "execute_result"
    }
   ],
   "source": [
    "cvs_row = \"Apple    \"\n",
    "cvs_row.strip()"
   ]
  },
  {
   "cell_type": "code",
   "execution_count": 11,
   "id": "d5efc137-c244-495a-b113-40252c4e7a2a",
   "metadata": {},
   "outputs": [
    {
     "data": {
      "text/plain": [
       "'Ajay, data science ,teacher'"
      ]
     },
     "execution_count": 11,
     "metadata": {},
     "output_type": "execute_result"
    }
   ],
   "source": [
    "#string splitting\n",
    "data = \"Ajay, data science ,teacher\"\n",
    "data"
   ]
  },
  {
   "cell_type": "code",
   "execution_count": 12,
   "id": "63f62ee6-c938-4141-9f78-e3304c7cf004",
   "metadata": {},
   "outputs": [],
   "source": [
    "teacher_info = data.split(',')"
   ]
  },
  {
   "cell_type": "code",
   "execution_count": 13,
   "id": "8d637cfc-70d5-499d-aaa5-82499ad8c7a9",
   "metadata": {},
   "outputs": [
    {
     "data": {
      "text/plain": [
       "['Ajay', ' data science ', 'teacher']"
      ]
     },
     "execution_count": 13,
     "metadata": {},
     "output_type": "execute_result"
    }
   ],
   "source": [
    "teacher_info"
   ]
  },
  {
   "cell_type": "code",
   "execution_count": 16,
   "id": "8b5c71d4-ba59-4f33-82d7-5fcd81fc01fd",
   "metadata": {},
   "outputs": [],
   "source": [
    "name = teacher_info[0]\n",
    "sub = teacher_info[1]\n",
    "des = teacher_info[2]"
   ]
  },
  {
   "cell_type": "code",
   "execution_count": 21,
   "id": "2c50492d-9189-42ce-a8b6-fbc1a7ba1424",
   "metadata": {},
   "outputs": [
    {
     "data": {
      "text/plain": [
       "'teacher'"
      ]
     },
     "execution_count": 21,
     "metadata": {},
     "output_type": "execute_result"
    }
   ],
   "source": [
    "des"
   ]
  },
  {
   "cell_type": "code",
   "execution_count": 18,
   "id": "0c36baa8-ff65-4aa9-aa76-5fb2f4398373",
   "metadata": {},
   "outputs": [
    {
     "data": {
      "text/plain": [
       "'Ajay'"
      ]
     },
     "execution_count": 18,
     "metadata": {},
     "output_type": "execute_result"
    }
   ],
   "source": [
    "name"
   ]
  },
  {
   "cell_type": "code",
   "execution_count": 19,
   "id": "2267f541-fb66-4d16-8caa-48aa5ae75ded",
   "metadata": {},
   "outputs": [
    {
     "data": {
      "text/plain": [
       "' data science '"
      ]
     },
     "execution_count": 19,
     "metadata": {},
     "output_type": "execute_result"
    }
   ],
   "source": [
    "sub"
   ]
  },
  {
   "cell_type": "code",
   "execution_count": 22,
   "id": "7caf0003-f47b-41c4-9a03-a90f30ca733d",
   "metadata": {},
   "outputs": [],
   "source": [
    "#Escape sequence\n",
    "\n",
    "address = \"\"\" 123, sanmkha villa,\n",
    "marathali,\n",
    "bangalore\"\"\""
   ]
  },
  {
   "cell_type": "code",
   "execution_count": 23,
   "id": "27944201-449e-4367-9f2a-ff03c0b97f12",
   "metadata": {},
   "outputs": [
    {
     "data": {
      "text/plain": [
       "' 123, sanmkha villa,\\nmarathali,\\nbangalore'"
      ]
     },
     "execution_count": 23,
     "metadata": {},
     "output_type": "execute_result"
    }
   ],
   "source": [
    "address"
   ]
  },
  {
   "cell_type": "code",
   "execution_count": 24,
   "id": "0641517b-6be8-4af5-b80e-0027e834b4e1",
   "metadata": {},
   "outputs": [],
   "source": [
    "address = \"\"\"123,sanmukha villa, \\nmarathali, \\nbangalore\"\"\""
   ]
  },
  {
   "cell_type": "code",
   "execution_count": 25,
   "id": "8488710e-b5ef-4e20-b5f0-5a9ed6b21345",
   "metadata": {},
   "outputs": [
    {
     "name": "stdout",
     "output_type": "stream",
     "text": [
      "123,sanmukha villa, \n",
      "marathali, \n",
      "bangalore\n"
     ]
    }
   ],
   "source": [
    "print (address) #\"\\n\" >> to insert a nuw line character"
   ]
  },
  {
   "cell_type": "code",
   "execution_count": 32,
   "id": "68d8d065-fc92-4f96-886c-0635ff422c53",
   "metadata": {},
   "outputs": [
    {
     "name": "stdout",
     "output_type": "stream",
     "text": [
      "Name\tAge\tGrade\n",
      "Alice\t20\tA\n",
      "ram\t30\tA+\n"
     ]
    }
   ],
   "source": [
    "#\\t escape charcter\n",
    "table =\"Name\\tAge\\tGrade\\nAlice\\t20\\tA\\nram\\t30\\tA+\"\n",
    "print(table)"
   ]
  },
  {
   "cell_type": "code",
   "execution_count": 33,
   "id": "01a92a63-eb66-41f4-a1c3-4869f7282463",
   "metadata": {},
   "outputs": [
    {
     "name": "stdout",
     "output_type": "stream",
     "text": [
      "c:\\USERS\\DOWNLOAD\\FILES.text\n"
     ]
    }
   ],
   "source": [
    "file_path = \"c:\\\\USERS\\\\DOWNLOAD\\\\FILES.text\"\n",
    "print(file_path)"
   ]
  },
  {
   "cell_type": "code",
   "execution_count": 35,
   "id": "541ab53c-cbfd-4af1-9182-da80669d3c65",
   "metadata": {},
   "outputs": [
    {
     "data": {
      "text/plain": [
       "\"i can 't believe its a friday\""
      ]
     },
     "execution_count": 35,
     "metadata": {},
     "output_type": "execute_result"
    }
   ],
   "source": [
    "#\\' single quote escape\n",
    "str1 ='i can \\'t believe its a friday'\n",
    "str1\n"
   ]
  },
  {
   "cell_type": "code",
   "execution_count": 38,
   "id": "89025948-5a30-459f-8d8a-f13dbfb05f87",
   "metadata": {},
   "outputs": [
    {
     "name": "stdout",
     "output_type": "stream",
     "text": [
      "Ajay. i am going to delhi\n"
     ]
    }
   ],
   "source": [
    "#carriage return \\r >> moves the cursor to the beginning of line\n",
    "\n",
    "print(\"hello anmol i am \\rAjay. i am going to delhi\")"
   ]
  },
  {
   "cell_type": "code",
   "execution_count": 40,
   "id": "17b3ad96-a32a-41bb-9850-82245190b534",
   "metadata": {},
   "outputs": [
    {
     "name": "stdout",
     "output_type": "stream",
     "text": [
      "hello shyam,how are you?\n"
     ]
    }
   ],
   "source": [
    "#string formatting >> creating with placeholder for variables\n",
    "username = \"shyam\"\n",
    "greeting = f\"hello {username},how are you?\"\n",
    "print(greeting)"
   ]
  },
  {
   "cell_type": "code",
   "execution_count": 43,
   "id": "032dbce6-8385-4494-bf6d-49ba6301fba8",
   "metadata": {},
   "outputs": [
    {
     "name": "stdout",
     "output_type": "stream",
     "text": [
      "hello pw skills! wish you a wonderful day\n"
     ]
    }
   ],
   "source": [
    "#string formatting\n",
    "name = \"pw skills\"\n",
    "greeting = \"hello %s! wish you a wonderful day\"%name\n",
    "print(greeting)"
   ]
  },
  {
   "cell_type": "code",
   "execution_count": 44,
   "id": "1b0e7945-0c11-4ee2-b87c-820352d62ae5",
   "metadata": {},
   "outputs": [
    {
     "name": "stdout",
     "output_type": "stream",
     "text": [
      "hello, Bijay welcome to Data science\n"
     ]
    }
   ],
   "source": [
    "#formate\n",
    "template = \"hello, {} welcome to {}\"\n",
    "message = template.format(\"Bijay\",\"Data science\")\n",
    "print(message)"
   ]
  },
  {
   "cell_type": "code",
   "execution_count": 48,
   "id": "1109a858-8b20-4f5f-b387-0097a7590dfe",
   "metadata": {},
   "outputs": [
    {
     "data": {
      "text/plain": [
       "'my course is data science and its duration is 4 years.'"
      ]
     },
     "execution_count": 48,
     "metadata": {},
     "output_type": "execute_result"
    }
   ],
   "source": [
    "#if strings (formatted string literals)\n",
    "course = \"data science\"\n",
    "duration= 4\n",
    "f\"my course is {course} and its duration is {duration} years.\""
   ]
  },
  {
   "cell_type": "code",
   "execution_count": 51,
   "id": "decb0e75-c5df-40a6-99b6-f283503f3cc0",
   "metadata": {},
   "outputs": [
    {
     "name": "stdout",
     "output_type": "stream",
     "text": [
      "hello user Ajay, today is 2024-02-22 post\n"
     ]
    }
   ],
   "source": [
    "user_name = \"Ajay\"\n",
    "post_data = \"2024-02-22\"\n",
    "\n",
    "print(f\"hello user {user_name}, today is {post_data} post\")"
   ]
  },
  {
   "cell_type": "code",
   "execution_count": 53,
   "id": "e1f3d216-a865-4f5d-89e4-ff3ef695cb86",
   "metadata": {},
   "outputs": [
    {
     "data": {
      "text/plain": [
       "'40 is equal to 104.0F'"
      ]
     },
     "execution_count": 53,
     "metadata": {},
     "output_type": "execute_result"
    }
   ],
   "source": [
    "celsius = 40\n",
    "f\"{celsius} is equal to {(celsius *9/5) + 32}F\""
   ]
  },
  {
   "cell_type": "code",
   "execution_count": 58,
   "id": "e0d185c2-a85b-4924-b8c2-071c2ff96662",
   "metadata": {},
   "outputs": [
    {
     "data": {
      "text/plain": [
       "True"
      ]
     },
     "execution_count": 58,
     "metadata": {},
     "output_type": "execute_result"
    }
   ],
   "source": [
    "str1 = \"pwskills\"\n",
    "str1.startswith(\"p\")"
   ]
  },
  {
   "cell_type": "code",
   "execution_count": 59,
   "id": "c54727b6-b0f0-46b7-a180-7c63ca6af535",
   "metadata": {},
   "outputs": [
    {
     "data": {
      "text/plain": [
       "False"
      ]
     },
     "execution_count": 59,
     "metadata": {},
     "output_type": "execute_result"
    }
   ],
   "source": [
    "str1.startswith(\"q\")"
   ]
  },
  {
   "cell_type": "code",
   "execution_count": 60,
   "id": "27706a9c-60f6-4c68-ac3c-38ebf55fb6c0",
   "metadata": {},
   "outputs": [
    {
     "data": {
      "text/plain": [
       "True"
      ]
     },
     "execution_count": 60,
     "metadata": {},
     "output_type": "execute_result"
    }
   ],
   "source": [
    "str1.endswith(\"s\")"
   ]
  },
  {
   "cell_type": "code",
   "execution_count": 61,
   "id": "26cecbb6-cbc0-4e9b-b682-a8b3793d2538",
   "metadata": {},
   "outputs": [
    {
     "data": {
      "text/plain": [
       "False"
      ]
     },
     "execution_count": 61,
     "metadata": {},
     "output_type": "execute_result"
    }
   ],
   "source": [
    "str1.endswith(\"A\")"
   ]
  },
  {
   "cell_type": "code",
   "execution_count": 62,
   "id": "f66d3de3-9cd3-4a67-98f8-08a765ebcaf8",
   "metadata": {},
   "outputs": [
    {
     "data": {
      "text/plain": [
       "True"
      ]
     },
     "execution_count": 62,
     "metadata": {},
     "output_type": "execute_result"
    }
   ],
   "source": [
    "a=\"abcd\"\n",
    "a.isalnum()"
   ]
  },
  {
   "cell_type": "code",
   "execution_count": 63,
   "id": "65f81d2c-90a4-49c2-810a-9a206b636093",
   "metadata": {},
   "outputs": [
    {
     "data": {
      "text/plain": [
       "True"
      ]
     },
     "execution_count": 63,
     "metadata": {},
     "output_type": "execute_result"
    }
   ],
   "source": [
    "a=\"abc\"\n",
    "a.isalnum()"
   ]
  },
  {
   "cell_type": "code",
   "execution_count": 64,
   "id": "7bd5b455-b2de-4ae0-8a04-7940e6b496d3",
   "metadata": {},
   "outputs": [
    {
     "data": {
      "text/plain": [
       "8"
      ]
     },
     "execution_count": 64,
     "metadata": {},
     "output_type": "execute_result"
    }
   ],
   "source": [
    "s= \"pwskills\"\n",
    "len(s)"
   ]
  },
  {
   "cell_type": "code",
   "execution_count": 67,
   "id": "3767dd95-cb5f-4628-b93e-ca9a61a582d7",
   "metadata": {},
   "outputs": [
    {
     "name": "stdout",
     "output_type": "stream",
     "text": [
      "p\n",
      "w\n",
      "s\n",
      "k\n",
      "i\n",
      "l\n",
      "l\n",
      "s\n"
     ]
    }
   ],
   "source": [
    "for i in s:\n",
    "    print(i)"
   ]
  },
  {
   "cell_type": "code",
   "execution_count": 68,
   "id": "a9ee5afb-906f-4ba4-850a-ce5f5e2032bb",
   "metadata": {},
   "outputs": [
    {
     "name": "stdout",
     "output_type": "stream",
     "text": [
      "8\n"
     ]
    }
   ],
   "source": [
    "count =0\n",
    "for i in s:\n",
    "   count =count+1\n",
    "print(count)    \n",
    "    "
   ]
  },
  {
   "cell_type": "code",
   "execution_count": 69,
   "id": "3349e16b-b88e-405a-9fb7-c79fe336ec2a",
   "metadata": {},
   "outputs": [
    {
     "data": {
      "text/plain": [
       "'pwskills'"
      ]
     },
     "execution_count": 69,
     "metadata": {},
     "output_type": "execute_result"
    }
   ],
   "source": [
    "s\n"
   ]
  },
  {
   "cell_type": "code",
   "execution_count": 70,
   "id": "f79c1de3-7cca-4c3e-954d-987b5d1f4554",
   "metadata": {},
   "outputs": [
    {
     "data": {
      "text/plain": [
       "[0, 1, 2, 3, 4, 5, 6, 7]"
      ]
     },
     "execution_count": 70,
     "metadata": {},
     "output_type": "execute_result"
    }
   ],
   "source": [
    "list(range(len(s)))"
   ]
  },
  {
   "cell_type": "code",
   "execution_count": 74,
   "id": "0e7d9ca3-0138-4301-99e5-7871eef47635",
   "metadata": {},
   "outputs": [
    {
     "name": "stdout",
     "output_type": "stream",
     "text": [
      "0\n",
      "p\n",
      "1\n",
      "w\n",
      "2\n",
      "s\n",
      "3\n",
      "k\n",
      "4\n",
      "i\n",
      "5\n",
      "l\n",
      "6\n",
      "l\n",
      "7\n",
      "s\n"
     ]
    }
   ],
   "source": [
    "for ch in range(len(s)):\n",
    "    print(ch)\n",
    "    print(s[ch])"
   ]
  },
  {
   "cell_type": "code",
   "execution_count": null,
   "id": "ceff1d7c-4845-475c-a2e9-482a5b835412",
   "metadata": {},
   "outputs": [],
   "source": []
  }
 ],
 "metadata": {
  "kernelspec": {
   "display_name": "Python 3 (ipykernel)",
   "language": "python",
   "name": "python3"
  },
  "language_info": {
   "codemirror_mode": {
    "name": "ipython",
    "version": 3
   },
   "file_extension": ".py",
   "mimetype": "text/x-python",
   "name": "python",
   "nbconvert_exporter": "python",
   "pygments_lexer": "ipython3",
   "version": "3.12.3"
  }
 },
 "nbformat": 4,
 "nbformat_minor": 5
}
