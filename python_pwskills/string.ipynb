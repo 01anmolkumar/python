{
 "cells": [
  {
   "cell_type": "code",
   "execution_count": null,
   "id": "f530501b-4430-49ca-b081-ff6e821e8f72",
   "metadata": {},
   "outputs": [],
   "source": [
    "#string is a sequence of character \n",
    "#cgard using numerical values\n",
    "#ASCII (7bit) and UNICODE (16 bits)\n",
    "#UTF-8, UTF 16>> popular encoding schemes"
   ]
  },
  {
   "cell_type": "code",
   "execution_count": 1,
   "id": "f5ac1798-700a-494a-b07c-fcdcbe34babf",
   "metadata": {},
   "outputs": [
    {
     "data": {
      "text/plain": [
       "65"
      ]
     },
     "execution_count": 1,
     "metadata": {},
     "output_type": "execute_result"
    }
   ],
   "source": [
    "#ASCII Repersentation\n",
    "char =\"A\"\n",
    "ord(char)"
   ]
  },
  {
   "cell_type": "code",
   "execution_count": 2,
   "id": "36d67b0b-81f6-48ea-90b9-c596eb9c9d79",
   "metadata": {},
   "outputs": [
    {
     "data": {
      "text/plain": [
       "66"
      ]
     },
     "execution_count": 2,
     "metadata": {},
     "output_type": "execute_result"
    }
   ],
   "source": [
    "ord(\"B\")"
   ]
  },
  {
   "cell_type": "code",
   "execution_count": 3,
   "id": "5ed83800-14ae-41f6-939f-a27bd3bf067d",
   "metadata": {},
   "outputs": [
    {
     "data": {
      "text/plain": [
       "97"
      ]
     },
     "execution_count": 3,
     "metadata": {},
     "output_type": "execute_result"
    }
   ],
   "source": [
    "ord(\"a\")"
   ]
  },
  {
   "cell_type": "code",
   "execution_count": 5,
   "id": "20631495-445b-47d8-9e79-a7f3b8aced69",
   "metadata": {},
   "outputs": [
    {
     "data": {
      "text/plain": [
       "'e'"
      ]
     },
     "execution_count": 5,
     "metadata": {},
     "output_type": "execute_result"
    }
   ],
   "source": [
    "chr(101)"
   ]
  },
  {
   "cell_type": "code",
   "execution_count": 6,
   "id": "64016144-3914-4fb8-90ff-eaca59f91455",
   "metadata": {},
   "outputs": [
    {
     "data": {
      "text/plain": [
       "'B'"
      ]
     },
     "execution_count": 6,
     "metadata": {},
     "output_type": "execute_result"
    }
   ],
   "source": [
    "chr(66)"
   ]
  },
  {
   "cell_type": "code",
   "execution_count": 9,
   "id": "afce93f4-054f-4309-ac0e-009cbd4a7998",
   "metadata": {},
   "outputs": [
    {
     "data": {
      "text/plain": [
       "'Ω'"
      ]
     },
     "execution_count": 9,
     "metadata": {},
     "output_type": "execute_result"
    }
   ],
   "source": [
    "#UNICODE Representation #omega\n",
    "\"\\u03A9\""
   ]
  },
  {
   "cell_type": "code",
   "execution_count": 11,
   "id": "0b0e37b9-a879-46c1-881f-40fe409b1d32",
   "metadata": {},
   "outputs": [
    {
     "data": {
      "text/plain": [
       "'Σ'"
      ]
     },
     "execution_count": 11,
     "metadata": {},
     "output_type": "execute_result"
    }
   ],
   "source": [
    "\"\\u03A3\""
   ]
  },
  {
   "cell_type": "code",
   "execution_count": 12,
   "id": "8ad273a1-a868-4908-90f9-02714c94739e",
   "metadata": {},
   "outputs": [
    {
     "data": {
      "text/plain": [
       "'ॳ'"
      ]
     },
     "execution_count": 12,
     "metadata": {},
     "output_type": "execute_result"
    }
   ],
   "source": [
    "\"\\u0973\""
   ]
  },
  {
   "cell_type": "code",
   "execution_count": 13,
   "id": "c74c8f0e-e814-4ae5-9a5e-6b8af286978d",
   "metadata": {},
   "outputs": [
    {
     "data": {
      "text/plain": [
       "'Ϗ'"
      ]
     },
     "execution_count": 13,
     "metadata": {},
     "output_type": "execute_result"
    }
   ],
   "source": [
    "chr(975)\n"
   ]
  },
  {
   "cell_type": "code",
   "execution_count": 17,
   "id": "918fb6cd-09ef-4064-b6ef-3f0c6e4ae4ae",
   "metadata": {},
   "outputs": [
    {
     "data": {
      "text/plain": [
       "'ř'"
      ]
     },
     "execution_count": 17,
     "metadata": {},
     "output_type": "execute_result"
    }
   ],
   "source": [
    "chr(345)"
   ]
  },
  {
   "cell_type": "code",
   "execution_count": 1,
   "id": "85fe814a-3053-40b1-b38c-d7c8791f08f3",
   "metadata": {},
   "outputs": [],
   "source": [
    "string1 = 'pwskills'"
   ]
  },
  {
   "cell_type": "code",
   "execution_count": 2,
   "id": "68045345-0784-4f05-a7f0-53aabfaa413f",
   "metadata": {},
   "outputs": [
    {
     "data": {
      "text/plain": [
       "str"
      ]
     },
     "execution_count": 2,
     "metadata": {},
     "output_type": "execute_result"
    }
   ],
   "source": [
    "type(string1)"
   ]
  },
  {
   "cell_type": "code",
   "execution_count": 3,
   "id": "eef1743a-f539-46c4-bf54-5731fceee888",
   "metadata": {},
   "outputs": [
    {
     "data": {
      "text/plain": [
       "'pwskills'"
      ]
     },
     "execution_count": 3,
     "metadata": {},
     "output_type": "execute_result"
    }
   ],
   "source": [
    "'pwskills'"
   ]
  },
  {
   "cell_type": "code",
   "execution_count": 5,
   "id": "755a9ac2-f74d-480a-b50c-df1590631d01",
   "metadata": {},
   "outputs": [
    {
     "data": {
      "text/plain": [
       "\"i'm a good boy\""
      ]
     },
     "execution_count": 5,
     "metadata": {},
     "output_type": "execute_result"
    }
   ],
   "source": [
    "\"i'm a good boy\""
   ]
  },
  {
   "cell_type": "code",
   "execution_count": 6,
   "id": "9ccd60e2-cd61-4a46-a822-a05880f23161",
   "metadata": {},
   "outputs": [
    {
     "data": {
      "text/plain": [
       "'i\"am a good student'"
      ]
     },
     "execution_count": 6,
     "metadata": {},
     "output_type": "execute_result"
    }
   ],
   "source": [
    "\"\"\"i\"am a good student\"\"\""
   ]
  },
  {
   "cell_type": "code",
   "execution_count": 7,
   "id": "a6e0f93a-ec10-4303-9771-5c7cefa32488",
   "metadata": {},
   "outputs": [
    {
     "data": {
      "text/plain": [
       "'i\"m a good boy'"
      ]
     },
     "execution_count": 7,
     "metadata": {},
     "output_type": "execute_result"
    }
   ],
   "source": [
    "'''i\"m a good boy'''"
   ]
  },
  {
   "cell_type": "code",
   "execution_count": 8,
   "id": "2a382c4b-1c8e-4a95-a15f-fe489e78d2ab",
   "metadata": {},
   "outputs": [
    {
     "data": {
      "text/plain": [
       "'i\"m good student.\\ni study at pwskills\\ni am data scientist'"
      ]
     },
     "execution_count": 8,
     "metadata": {},
     "output_type": "execute_result"
    }
   ],
   "source": [
    "'''i\"m good student.\n",
    "i study at pwskills\n",
    "i am data scientist'''"
   ]
  },
  {
   "cell_type": "code",
   "execution_count": 16,
   "id": "ffa3fd92-92ab-46f6-9ddd-1b0c6a3b79a6",
   "metadata": {},
   "outputs": [
    {
     "data": {
      "text/plain": [
       "'hello,world'"
      ]
     },
     "execution_count": 16,
     "metadata": {},
     "output_type": "execute_result"
    }
   ],
   "source": [
    "#concatenation of string ?? combining of two stringh\n",
    "stringh1 = \"hello\"\n",
    "stringh2 = \"world\"\n",
    "stringh1 + \",\"+ stringh2"
   ]
  },
  {
   "cell_type": "code",
   "execution_count": 10,
   "id": "3489208c-d193-42da-9aef-2370ad8be369",
   "metadata": {},
   "outputs": [
    {
     "data": {
      "text/plain": [
       "'stringh>concatenation'"
      ]
     },
     "execution_count": 10,
     "metadata": {},
     "output_type": "execute_result"
    }
   ],
   "source": [
    "\"stringh\" + \">\" + \"concatenation\""
   ]
  },
  {
   "cell_type": "code",
   "execution_count": 17,
   "id": "395e3798-036a-485d-a452-03990860628b",
   "metadata": {},
   "outputs": [],
   "source": [
    "#extract a string \n",
    "string1 = \"i am a good student\""
   ]
  },
  {
   "cell_type": "code",
   "execution_count": 18,
   "id": "5ad7057f-047a-4028-bb60-4cc77ddbe7c2",
   "metadata": {},
   "outputs": [
    {
     "data": {
      "text/plain": [
       "'i am'"
      ]
     },
     "execution_count": 18,
     "metadata": {},
     "output_type": "execute_result"
    }
   ],
   "source": [
    "string1[0:4]"
   ]
  },
  {
   "cell_type": "code",
   "execution_count": 19,
   "id": "35f10eb4-20c5-492b-ba43-10e041016a01",
   "metadata": {},
   "outputs": [
    {
     "data": {
      "text/plain": [
       "'a good '"
      ]
     },
     "execution_count": 19,
     "metadata": {},
     "output_type": "execute_result"
    }
   ],
   "source": [
    "string1[5:12]"
   ]
  },
  {
   "cell_type": "code",
   "execution_count": 3,
   "id": "b9f31e05-8f0c-4b27-a329-151cc7e1a624",
   "metadata": {},
   "outputs": [
    {
     "data": {
      "text/plain": [
       "'wskills'"
      ]
     },
     "execution_count": 3,
     "metadata": {},
     "output_type": "execute_result"
    }
   ],
   "source": [
    "string2 = \"pwskills\"\n",
    "string2[1:]"
   ]
  },
  {
   "cell_type": "code",
   "execution_count": 4,
   "id": "a115b081-1c65-4394-97d8-08ea9205ea3b",
   "metadata": {},
   "outputs": [
    {
     "data": {
      "text/plain": [
       "'w'"
      ]
     },
     "execution_count": 4,
     "metadata": {},
     "output_type": "execute_result"
    }
   ],
   "source": [
    "string2[1]"
   ]
  },
  {
   "cell_type": "code",
   "execution_count": 7,
   "id": "8bc2c4c8-db4b-4057-9a63-41260e4353b6",
   "metadata": {},
   "outputs": [
    {
     "data": {
      "text/plain": [
       "'i'"
      ]
     },
     "execution_count": 7,
     "metadata": {},
     "output_type": "execute_result"
    }
   ],
   "source": [
    "string2[-4]"
   ]
  },
  {
   "cell_type": "code",
   "execution_count": 8,
   "id": "6766f2f9-34e1-4b08-af2f-2620eeda872d",
   "metadata": {},
   "outputs": [
    {
     "data": {
      "text/plain": [
       "'pwski'"
      ]
     },
     "execution_count": 8,
     "metadata": {},
     "output_type": "execute_result"
    }
   ],
   "source": [
    "string2[:-3] #except last three characters"
   ]
  },
  {
   "cell_type": "code",
   "execution_count": 9,
   "id": "f645a7ad-411c-42a9-94b5-262ab50205e4",
   "metadata": {},
   "outputs": [
    {
     "data": {
      "text/plain": [
       "'lls'"
      ]
     },
     "execution_count": 9,
     "metadata": {},
     "output_type": "execute_result"
    }
   ],
   "source": [
    "string2[-3:] #last 3 charcters"
   ]
  },
  {
   "cell_type": "code",
   "execution_count": 10,
   "id": "1dfade3f-f1e1-4094-8f56-05aecb565fc3",
   "metadata": {},
   "outputs": [
    {
     "data": {
      "text/plain": [
       "'pwskills'"
      ]
     },
     "execution_count": 10,
     "metadata": {},
     "output_type": "execute_result"
    }
   ],
   "source": [
    "string2[::1] #step size is by deault "
   ]
  },
  {
   "cell_type": "code",
   "execution_count": 11,
   "id": "cecce458-a31f-4505-9bd9-4ec6844a2072",
   "metadata": {},
   "outputs": [],
   "source": [
    "string = \"hello world\""
   ]
  },
  {
   "cell_type": "code",
   "execution_count": 12,
   "id": "bdce7801-2b10-48d9-85ec-0a042ac25d3a",
   "metadata": {},
   "outputs": [
    {
     "data": {
      "text/plain": [
       "'hello world'"
      ]
     },
     "execution_count": 12,
     "metadata": {},
     "output_type": "execute_result"
    }
   ],
   "source": [
    "string[::1] # step by step default 1"
   ]
  },
  {
   "cell_type": "code",
   "execution_count": 13,
   "id": "b93ae1ea-3a57-456b-94fa-08ceb7cadd7b",
   "metadata": {},
   "outputs": [
    {
     "data": {
      "text/plain": [
       "'hello world'"
      ]
     },
     "execution_count": 13,
     "metadata": {},
     "output_type": "execute_result"
    }
   ],
   "source": [
    "string[0:]"
   ]
  },
  {
   "cell_type": "code",
   "execution_count": 14,
   "id": "d8e97f28-bd4a-4ebe-8303-3d23f657f9b6",
   "metadata": {},
   "outputs": [
    {
     "data": {
      "text/plain": [
       "'hello world'"
      ]
     },
     "execution_count": 14,
     "metadata": {},
     "output_type": "execute_result"
    }
   ],
   "source": [
    "string[0:]"
   ]
  },
  {
   "cell_type": "code",
   "execution_count": 16,
   "id": "447baea1-a9d9-4ef8-a6fb-5d9b705e2143",
   "metadata": {},
   "outputs": [
    {
     "data": {
      "text/plain": [
       "'hello'"
      ]
     },
     "execution_count": 16,
     "metadata": {},
     "output_type": "execute_result"
    }
   ],
   "source": [
    "string[0:5]"
   ]
  },
  {
   "cell_type": "code",
   "execution_count": 17,
   "id": "64926641-54c7-466e-9104-126e6d1eec8a",
   "metadata": {},
   "outputs": [
    {
     "data": {
      "text/plain": [
       "'hlow'"
      ]
     },
     "execution_count": 17,
     "metadata": {},
     "output_type": "execute_result"
    }
   ],
   "source": [
    "string[0:7:2]"
   ]
  },
  {
   "cell_type": "code",
   "execution_count": 18,
   "id": "2c47ddef-612e-4446-9c69-c90ba488cbaa",
   "metadata": {},
   "outputs": [
    {
     "data": {
      "text/plain": [
       "'dlrow olleh'"
      ]
     },
     "execution_count": 18,
     "metadata": {},
     "output_type": "execute_result"
    }
   ],
   "source": [
    "string[::-1]"
   ]
  },
  {
   "cell_type": "code",
   "execution_count": 19,
   "id": "461d620a-d5fe-4425-9556-fb9cc05d3f69",
   "metadata": {},
   "outputs": [],
   "source": [
    "s=\"pwskills\"\n"
   ]
  },
  {
   "cell_type": "code",
   "execution_count": 20,
   "id": "b1fb8077-e504-4ed7-8c0f-038427b842eb",
   "metadata": {},
   "outputs": [
    {
     "data": {
      "text/plain": [
       "'pwskills'"
      ]
     },
     "execution_count": 20,
     "metadata": {},
     "output_type": "execute_result"
    }
   ],
   "source": [
    "#string is immutable\n",
    "s"
   ]
  },
  {
   "cell_type": "code",
   "execution_count": 21,
   "id": "ebff5376-0441-42ec-87ce-23af254fe69d",
   "metadata": {},
   "outputs": [
    {
     "ename": "TypeError",
     "evalue": "'str' object does not support item assignment",
     "output_type": "error",
     "traceback": [
      "\u001b[1;31m---------------------------------------------------------------------------\u001b[0m",
      "\u001b[1;31mTypeError\u001b[0m                                 Traceback (most recent call last)",
      "Cell \u001b[1;32mIn[21], line 1\u001b[0m\n\u001b[1;32m----> 1\u001b[0m \u001b[43ms\u001b[49m\u001b[43m[\u001b[49m\u001b[38;5;241;43m1\u001b[39;49m\u001b[43m]\u001b[49m \u001b[38;5;241m=\u001b[39m\u001b[38;5;124m\"\u001b[39m\u001b[38;5;124mx\u001b[39m\u001b[38;5;124m\"\u001b[39m\n",
      "\u001b[1;31mTypeError\u001b[0m: 'str' object does not support item assignment"
     ]
    }
   ],
   "source": [
    "s[1] =\"x\""
   ]
  },
  {
   "cell_type": "code",
   "execution_count": 23,
   "id": "2ef74b6b-13da-42f4-97d5-91a51233e280",
   "metadata": {},
   "outputs": [
    {
     "data": {
      "text/plain": [
       "'pwskills'"
      ]
     },
     "execution_count": 23,
     "metadata": {},
     "output_type": "execute_result"
    }
   ],
   "source": [
    "\"pw\" + \"skills\""
   ]
  },
  {
   "cell_type": "code",
   "execution_count": 24,
   "id": "59fde095-825d-4759-84b8-49c77a3db89e",
   "metadata": {},
   "outputs": [
    {
     "data": {
      "text/plain": [
       "8"
      ]
     },
     "execution_count": 24,
     "metadata": {},
     "output_type": "execute_result"
    }
   ],
   "source": [
    "len(s)"
   ]
  },
  {
   "cell_type": "code",
   "execution_count": 26,
   "id": "6b98b17c-a9ec-43d0-b2fb-f10deedc3b4d",
   "metadata": {},
   "outputs": [
    {
     "data": {
      "text/plain": [
       "12"
      ]
     },
     "execution_count": 26,
     "metadata": {},
     "output_type": "execute_result"
    }
   ],
   "source": [
    "s= \"i am student\"\n",
    "len(s)"
   ]
  },
  {
   "cell_type": "code",
   "execution_count": 27,
   "id": "b75940f2-1fde-468a-935e-7821243f690b",
   "metadata": {},
   "outputs": [
    {
     "data": {
      "text/plain": [
       "'i am a teacher'"
      ]
     },
     "execution_count": 27,
     "metadata": {},
     "output_type": "execute_result"
    }
   ],
   "source": [
    "#modification of string\n",
    "s = \"i am a student\"\n",
    "s.replace('student','teacher')"
   ]
  },
  {
   "cell_type": "code",
   "execution_count": 28,
   "id": "d6e43cd8-5156-4d76-9baa-0ed98704ac02",
   "metadata": {},
   "outputs": [],
   "source": [
    "address =\"123 suhana apt, marathali ,bangalore\""
   ]
  },
  {
   "cell_type": "code",
   "execution_count": 29,
   "id": "4cd3a8a4-0c29-497b-867e-30ea6aa1e3cb",
   "metadata": {},
   "outputs": [
    {
     "data": {
      "text/plain": [
       "'123 suhana apt, marathali ,bangalore'"
      ]
     },
     "execution_count": 29,
     "metadata": {},
     "output_type": "execute_result"
    }
   ],
   "source": [
    "address"
   ]
  },
  {
   "cell_type": "code",
   "execution_count": 30,
   "id": "8a8d54dc-7957-4e7b-bfd4-960e3a5ebdb4",
   "metadata": {},
   "outputs": [
    {
     "data": {
      "text/plain": [
       "'123 suhana apartment, marathali ,bangalore'"
      ]
     },
     "execution_count": 30,
     "metadata": {},
     "output_type": "execute_result"
    }
   ],
   "source": [
    "address.replace(\"apt\",\"apartment\")"
   ]
  },
  {
   "cell_type": "code",
   "execution_count": 35,
   "id": "74715038-94b3-4b19-9938-97d04a0b3e22",
   "metadata": {},
   "outputs": [
    {
     "data": {
      "text/plain": [
       "'Be right back,talk to you later,laughing out loud'"
      ]
     },
     "execution_count": 35,
     "metadata": {},
     "output_type": "execute_result"
    }
   ],
   "source": [
    "text =\"brb,ttyl,lol\"\n",
    "text.replace(\"brb\",\"Be right back\").replace(\"ttyl\",\"talk to you later\").replace(\"lol\",\"laughing out loud\")"
   ]
  },
  {
   "cell_type": "code",
   "execution_count": 40,
   "id": "eb1698e8-9eca-4367-aa34-b90f26c59ae8",
   "metadata": {},
   "outputs": [],
   "source": [
    "text =\"Hello, World\""
   ]
  },
  {
   "cell_type": "code",
   "execution_count": 41,
   "id": "41baccfe-86ae-42b1-8e10-12892fbd8078",
   "metadata": {},
   "outputs": [
    {
     "data": {
      "text/plain": [
       "'Hello, World'"
      ]
     },
     "execution_count": 41,
     "metadata": {},
     "output_type": "execute_result"
    }
   ],
   "source": [
    "text"
   ]
  },
  {
   "cell_type": "code",
   "execution_count": 42,
   "id": "1457157b-a7c1-409d-8638-1934f829db5d",
   "metadata": {},
   "outputs": [
    {
     "data": {
      "text/plain": [
       "'hello, world'"
      ]
     },
     "execution_count": 42,
     "metadata": {},
     "output_type": "execute_result"
    }
   ],
   "source": [
    "text.lower() "
   ]
  },
  {
   "cell_type": "code",
   "execution_count": 43,
   "id": "2857a608-ae3e-449b-bbcb-1b6a62bfc550",
   "metadata": {},
   "outputs": [
    {
     "data": {
      "text/plain": [
       "'HELLO, WORLD'"
      ]
     },
     "execution_count": 43,
     "metadata": {},
     "output_type": "execute_result"
    }
   ],
   "source": [
    "text.upper()"
   ]
  },
  {
   "cell_type": "code",
   "execution_count": 44,
   "id": "f51b7947-452c-4d13-a6ce-284ead69eb59",
   "metadata": {},
   "outputs": [
    {
     "data": {
      "text/plain": [
       "'Hello, World'"
      ]
     },
     "execution_count": 44,
     "metadata": {},
     "output_type": "execute_result"
    }
   ],
   "source": [
    "text.title()"
   ]
  },
  {
   "cell_type": "code",
   "execution_count": 45,
   "id": "f76d4848-6d0b-4dc1-8d3c-816d0dab547e",
   "metadata": {},
   "outputs": [
    {
     "data": {
      "text/plain": [
       "'I AM IS A STUDENT '"
      ]
     },
     "execution_count": 45,
     "metadata": {},
     "output_type": "execute_result"
    }
   ],
   "source": [
    "text1 = \"i am is a student \"\n",
    "text1.swapcase()"
   ]
  },
  {
   "cell_type": "code",
   "execution_count": 47,
   "id": "e577b125-0f76-41ec-8181-57cd2a5de4b5",
   "metadata": {},
   "outputs": [
    {
     "data": {
      "text/plain": [
       "'I am is a student '"
      ]
     },
     "execution_count": 47,
     "metadata": {},
     "output_type": "execute_result"
    }
   ],
   "source": [
    "text1.capitalize()"
   ]
  },
  {
   "cell_type": "code",
   "execution_count": 48,
   "id": "81ceae86-8d39-463d-abf3-52721dd78047",
   "metadata": {},
   "outputs": [
    {
     "data": {
      "text/plain": [
       "True"
      ]
     },
     "execution_count": 48,
     "metadata": {},
     "output_type": "execute_result"
    }
   ],
   "source": [
    "#string searching \n",
    "\n",
    "sentence = \"I am astudent at pwskills\"\n",
    "\"am\" in sentence"
   ]
  },
  {
   "cell_type": "code",
   "execution_count": 51,
   "id": "2b40d3dd-77d1-445a-aeab-385a3a981afa",
   "metadata": {},
   "outputs": [
    {
     "name": "stdout",
     "output_type": "stream",
     "text": [
      "the search word is present\n"
     ]
    }
   ],
   "source": [
    "sentence = \"i am a student at pwskills\"\n",
    "search_word = \"am\"\n",
    "\n",
    "if search_word in sentence:\n",
    "    print(\"the search word is present\")\n",
    "else: \n",
    "    print(\"not\")\n",
    "    "
   ]
  },
  {
   "cell_type": "code",
   "execution_count": 1,
   "id": "5d2a01fb-e5ba-4478-9dd6-9ed4d93c1c37",
   "metadata": {},
   "outputs": [
    {
     "name": "stdout",
     "output_type": "stream",
     "text": [
      "valide email\n"
     ]
    }
   ],
   "source": [
    "email = \" anmolkumar50@gmia.com\"\n",
    "if \"@\" in email:\n",
    "    print(\"valide email\")\n",
    "else:\n",
    "    print(\"invalide\")"
   ]
  },
  {
   "cell_type": "raw",
   "id": "4a65b81c-cfb1-4403-b8d6-4a76c9e44987",
   "metadata": {},
   "source": []
  },
  {
   "cell_type": "code",
   "execution_count": null,
   "id": "4ee54a65-efb1-4697-9abf-7cd2a98f335e",
   "metadata": {},
   "outputs": [],
   "source": []
  },
  {
   "cell_type": "code",
   "execution_count": null,
   "id": "2b2470b0-53a3-45fc-870d-c68ae8763ee3",
   "metadata": {},
   "outputs": [],
   "source": []
  }
 ],
 "metadata": {
  "kernelspec": {
   "display_name": "Python 3 (ipykernel)",
   "language": "python",
   "name": "python3"
  },
  "language_info": {
   "codemirror_mode": {
    "name": "ipython",
    "version": 3
   },
   "file_extension": ".py",
   "mimetype": "text/x-python",
   "name": "python",
   "nbconvert_exporter": "python",
   "pygments_lexer": "ipython3",
   "version": "3.12.3"
  }
 },
 "nbformat": 4,
 "nbformat_minor": 5
}
