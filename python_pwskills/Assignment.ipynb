{
 "cells": [
  {
   "cell_type": "code",
   "execution_count": 2,
   "id": "25a524f8-d184-4157-9c19-a98d064952b2",
   "metadata": {},
   "outputs": [],
   "source": [
    "#1.Write a code to reverse a string."
   ]
  },
  {
   "cell_type": "code",
   "execution_count": 2,
   "id": "7f9f2ca3-8afe-4073-8519-4412df52aedb",
   "metadata": {},
   "outputs": [
    {
     "data": {
      "text/plain": [
       "'ramuk lomna'"
      ]
     },
     "execution_count": 2,
     "metadata": {},
     "output_type": "execute_result"
    }
   ],
   "source": [
    "str1=\"anmol kumar\"\n",
    "str1[::-1]"
   ]
  },
  {
   "cell_type": "code",
   "execution_count": 11,
   "id": "d9cfeee3-008b-4e8f-8b17-ef0344f438e7",
   "metadata": {},
   "outputs": [
    {
     "name": "stdin",
     "output_type": "stream",
     "text": [
      "enter the sentence: welcome to pwskills\n"
     ]
    },
    {
     "name": "stdout",
     "output_type": "stream",
     "text": [
      "5\n"
     ]
    }
   ],
   "source": [
    "#2.Write a code to count the number of vowels in a string.\n",
    "sentence = input(\"enter the sentence:\")\n",
    "count = 0\n",
    "list1 = [\"a\",\"e\",\"i\",\"o\",\"u\"]\n",
    "for char in sentence:\n",
    "    if char in list1:\n",
    "        count+=1\n",
    "print(count)        \n",
    " \n",
    "     \n"
   ]
  },
  {
   "cell_type": "code",
   "execution_count": 27,
   "id": "597675d5-cb07-47e8-8b65-ec3765d7c03e",
   "metadata": {},
   "outputs": [
    {
     "name": "stdin",
     "output_type": "stream",
     "text": [
      "enter a number radqr\n"
     ]
    },
    {
     "name": "stdout",
     "output_type": "stream",
     "text": [
      "not plidrom\n"
     ]
    }
   ],
   "source": [
    " #3.Write a code to check if a given string is a palindrome or not.\n",
    "sentence=input(\"enter a string\")\n",
    "revers=sentence[::-1]\n",
    "if sentence== revers:\n",
    "    print(\"plindrom\")\n",
    "else:\n",
    "    print(\"not plidrom\")\n",
    "    \n",
    "    \n",
    "    \n",
    "\n",
    "\n",
    "   "
   ]
  },
  {
   "cell_type": "code",
   "execution_count": 10,
   "id": "3789af42-24da-4c34-b6e4-fd1ea578b4fc",
   "metadata": {},
   "outputs": [
    {
     "name": "stdin",
     "output_type": "stream",
     "text": [
      "Enter the first string:  a,b,c\n",
      "Enter the second string:  b,c,a\n"
     ]
    },
    {
     "name": "stdout",
     "output_type": "stream",
     "text": [
      "anagrams\n"
     ]
    }
   ],
   "source": [
    "#4 Write a code to check if two given strings are anagrams of each other\n",
    "str1 = input(\"Enter the first string: \")\n",
    "str2 = input(\"Enter the second string: \") \n",
    "\n",
    "if(sorted(str1)==sorted(str2)):\n",
    "    print(\"anagrams\")\n",
    "else:\n",
    "    print(\"not anagrams\")\n"
   ]
  },
  {
   "cell_type": "code",
   "execution_count": null,
   "id": "00b77172-d614-4754-a373-c4acbc4ccfae",
   "metadata": {},
   "outputs": [],
   "source": []
  }
 ],
 "metadata": {
  "kernelspec": {
   "display_name": "Python 3 (ipykernel)",
   "language": "python",
   "name": "python3"
  },
  "language_info": {
   "codemirror_mode": {
    "name": "ipython",
    "version": 3
   },
   "file_extension": ".py",
   "mimetype": "text/x-python",
   "name": "python",
   "nbconvert_exporter": "python",
   "pygments_lexer": "ipython3",
   "version": "3.12.3"
  }
 },
 "nbformat": 4,
 "nbformat_minor": 5
}
