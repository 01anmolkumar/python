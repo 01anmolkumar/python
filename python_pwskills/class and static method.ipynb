{
 "cells": [
  {
   "cell_type": "code",
   "execution_count": 1,
   "id": "a42df0ae-b4c6-44b6-8dac-6d0d8594837d",
   "metadata": {},
   "outputs": [],
   "source": [
    "#class method : bound to the class, can access and modify method and attribute of all"
   ]
  },
  {
   "cell_type": "code",
   "execution_count": 3,
   "id": "c9007af4-214f-404a-bc81-ee85f5a4d2ba",
   "metadata": {},
   "outputs": [],
   "source": [
    "class student:\n",
    "    def __init__(self,name):\n",
    "        self.name = name"
   ]
  },
  {
   "cell_type": "code",
   "execution_count": 4,
   "id": "fca2f682-e679-43af-8a50-9181d2b5aafa",
   "metadata": {},
   "outputs": [],
   "source": [
    "obj = student(\"ajay\")"
   ]
  },
  {
   "cell_type": "code",
   "execution_count": 5,
   "id": "e6a3196f-36de-4174-b558-1a54235844eb",
   "metadata": {},
   "outputs": [
    {
     "data": {
      "text/plain": [
       "'ajay'"
      ]
     },
     "execution_count": 5,
     "metadata": {},
     "output_type": "execute_result"
    }
   ],
   "source": [
    "obj.name"
   ]
  },
  {
   "cell_type": "code",
   "execution_count": 7,
   "id": "5783f55e-67d8-44bd-8afd-f85a2a131f17",
   "metadata": {},
   "outputs": [],
   "source": [
    "class student:\n",
    "    def __init__ (self,name):  #instance\n",
    "        self.name = name\n",
    "     \n",
    "    @classmethod #bound to the class\n",
    "    def student_details(cls,name):\n",
    "        return cls(name)"
   ]
  },
  {
   "cell_type": "code",
   "execution_count": 8,
   "id": "06ba965e-5fd9-4f16-af43-77f4f3254681",
   "metadata": {},
   "outputs": [],
   "source": [
    "obj1 = student.student_details(\"ajay\")"
   ]
  },
  {
   "cell_type": "code",
   "execution_count": 9,
   "id": "e4d69097-f68f-4481-a73d-f5cee3fa38ee",
   "metadata": {},
   "outputs": [
    {
     "data": {
      "text/plain": [
       "'ajay'"
      ]
     },
     "execution_count": 9,
     "metadata": {},
     "output_type": "execute_result"
    }
   ],
   "source": [
    "obj.name"
   ]
  },
  {
   "cell_type": "code",
   "execution_count": 10,
   "id": "52d07c3a-7505-47c9-8724-01b5c2e1d2f9",
   "metadata": {},
   "outputs": [],
   "source": [
    "class student:\n",
    "    def __init__ (self,name):  #instance\n",
    "        self.name = name\n",
    "     \n",
    "    @classmethod #bound to the class\n",
    "    def student_details(cls,name1):\n",
    "        return cls(name1)"
   ]
  },
  {
   "cell_type": "code",
   "execution_count": 11,
   "id": "9ccdd79c-3c7a-4002-aa52-9dc9dd0d6e6d",
   "metadata": {},
   "outputs": [],
   "source": [
    "stud = student.student_details(\"sanjay\")"
   ]
  },
  {
   "cell_type": "code",
   "execution_count": 12,
   "id": "bf3298bf-ce3c-4cc2-a3f0-8106b32dc387",
   "metadata": {},
   "outputs": [
    {
     "data": {
      "text/plain": [
       "'sanjay'"
      ]
     },
     "execution_count": 12,
     "metadata": {},
     "output_type": "execute_result"
    }
   ],
   "source": [
    "stud.name"
   ]
  },
  {
   "cell_type": "code",
   "execution_count": 77,
   "id": "24ffe187-46eb-4772-97ff-2f659604becf",
   "metadata": {},
   "outputs": [],
   "source": [
    "class student:\n",
    "    \n",
    "    total_students =0\n",
    "    def __init__(self,name):  #instance\n",
    "        self.name = name\n",
    "        student.total_students = student.total_students  + 1\n",
    "     \n",
    "    @classmethod #bound to the class\n",
    "    def get_total_students(cls):\n",
    "        return cls.total_students "
   ]
  },
  {
   "cell_type": "code",
   "execution_count": 78,
   "id": "1a559c55-0c8f-41e4-8ed2-0b296a416180",
   "metadata": {},
   "outputs": [
    {
     "data": {
      "text/plain": [
       "0"
      ]
     },
     "execution_count": 78,
     "metadata": {},
     "output_type": "execute_result"
    }
   ],
   "source": [
    "student.total_students"
   ]
  },
  {
   "cell_type": "code",
   "execution_count": 79,
   "id": "809e9af5-e0fc-4b84-83e4-543c8e054044",
   "metadata": {},
   "outputs": [],
   "source": [
    "std1 = student(\"ajay\")"
   ]
  },
  {
   "cell_type": "code",
   "execution_count": 80,
   "id": "f64b3a63-1794-44ce-8d53-b47c99b4c6ed",
   "metadata": {},
   "outputs": [],
   "source": [
    "std2 = student(\"bijay\") "
   ]
  },
  {
   "cell_type": "code",
   "execution_count": 81,
   "id": "d3274c3b-4fbd-457f-9729-649d6ac9b8db",
   "metadata": {},
   "outputs": [
    {
     "data": {
      "text/plain": [
       "2"
      ]
     },
     "execution_count": 81,
     "metadata": {},
     "output_type": "execute_result"
    }
   ],
   "source": [
    "student. get_total_students()"
   ]
  },
  {
   "cell_type": "code",
   "execution_count": 82,
   "id": "175bd871-efc5-4b52-877a-6f94588cbf91",
   "metadata": {},
   "outputs": [],
   "source": [
    "# to make external class method to be part of the class \n",
    "class student:\n",
    "    \n",
    "    total_students =0\n",
    "    def __init__(self,name):  #instance\n",
    "        self.name = name\n",
    "        student.total_students = student.total_students  + 1\n",
    "     \n",
    "    @classmethod #bound to the class\n",
    "    def get_total_students(cls):\n",
    "        return cls.total_students "
   ]
  },
  {
   "cell_type": "code",
   "execution_count": 83,
   "id": "800ef109-2e87-49d7-8bff-910bbdfb32fd",
   "metadata": {},
   "outputs": [],
   "source": [
    "def course_details(cls,course_name):\n",
    "    print(\"the details of the course is :\",course_name)"
   ]
  },
  {
   "cell_type": "code",
   "execution_count": 84,
   "id": "f2070f6a-b6a1-454f-8e22-d9c1a6d43c2f",
   "metadata": {},
   "outputs": [],
   "source": [
    "student.course_details=classmethod(course_details) #adding the external class method"
   ]
  },
  {
   "cell_type": "code",
   "execution_count": 85,
   "id": "a1d32039-4d74-4657-b29c-ce25918a259c",
   "metadata": {},
   "outputs": [
    {
     "name": "stdout",
     "output_type": "stream",
     "text": [
      "the details of the course is : Data science\n"
     ]
    }
   ],
   "source": [
    "student.course_details(\"Data science\")"
   ]
  },
  {
   "cell_type": "code",
   "execution_count": 87,
   "id": "d7b1f327-7278-48d4-8862-b807c1f4c393",
   "metadata": {},
   "outputs": [],
   "source": [
    "#delete any class method\n",
    "del student.course_details"
   ]
  },
  {
   "cell_type": "code",
   "execution_count": 88,
   "id": "a869684c-1832-4469-b870-86e642b8312a",
   "metadata": {},
   "outputs": [
    {
     "ename": "AttributeError",
     "evalue": "type object 'student' has no attribute 'course_details'",
     "output_type": "error",
     "traceback": [
      "\u001b[1;31m---------------------------------------------------------------------------\u001b[0m",
      "\u001b[1;31mAttributeError\u001b[0m                            Traceback (most recent call last)",
      "Cell \u001b[1;32mIn[88], line 1\u001b[0m\n\u001b[1;32m----> 1\u001b[0m \u001b[43mstudent\u001b[49m\u001b[38;5;241;43m.\u001b[39;49m\u001b[43mcourse_details\u001b[49m(\u001b[38;5;124m\"\u001b[39m\u001b[38;5;124mData science\u001b[39m\u001b[38;5;124m\"\u001b[39m)\n",
      "\u001b[1;31mAttributeError\u001b[0m: type object 'student' has no attribute 'course_details'"
     ]
    }
   ],
   "source": [
    "student.course_details(\"Data science\")"
   ]
  },
  {
   "cell_type": "code",
   "execution_count": 89,
   "id": "4abfd782-6fd4-44fc-a64f-5bfd8df32ef5",
   "metadata": {},
   "outputs": [
    {
     "data": {
      "text/plain": [
       "0"
      ]
     },
     "execution_count": 89,
     "metadata": {},
     "output_type": "execute_result"
    }
   ],
   "source": [
    "student.get_total_students()"
   ]
  },
  {
   "cell_type": "code",
   "execution_count": 90,
   "id": "8d675bf4-60a8-412d-ad6b-cf66ddeb4302",
   "metadata": {},
   "outputs": [],
   "source": [
    "delattr(student,\"get_total_students\")"
   ]
  },
  {
   "cell_type": "code",
   "execution_count": 91,
   "id": "3f54a36b-d0d1-480d-b332-3ac287af2006",
   "metadata": {},
   "outputs": [
    {
     "ename": "AttributeError",
     "evalue": "type object 'student' has no attribute 'get_total_students'",
     "output_type": "error",
     "traceback": [
      "\u001b[1;31m---------------------------------------------------------------------------\u001b[0m",
      "\u001b[1;31mAttributeError\u001b[0m                            Traceback (most recent call last)",
      "Cell \u001b[1;32mIn[91], line 1\u001b[0m\n\u001b[1;32m----> 1\u001b[0m \u001b[43mstudent\u001b[49m\u001b[38;5;241;43m.\u001b[39;49m\u001b[43mget_total_students\u001b[49m()\n",
      "\u001b[1;31mAttributeError\u001b[0m: type object 'student' has no attribute 'get_total_students'"
     ]
    }
   ],
   "source": [
    "student.get_total_students()"
   ]
  },
  {
   "cell_type": "code",
   "execution_count": 92,
   "id": "ebf809da-08f2-44a6-b922-5c403087dcb2",
   "metadata": {},
   "outputs": [],
   "source": [
    "#statics method >> don't have access or modify class"
   ]
  },
  {
   "cell_type": "code",
   "execution_count": 101,
   "id": "8b0aff7a-6f44-46e0-81ce-16369eb9cb23",
   "metadata": {},
   "outputs": [],
   "source": [
    "class calculator:\n",
    "\n",
    "    @staticmethod\n",
    "    def add(x,y):\n",
    "        return x+y\n",
    "\n",
    "    @staticmethod\n",
    "    def sub(x,y):\n",
    "        return x-y\n",
    "\n",
    "    @staticmethod\n",
    "    def mul(x,y):\n",
    "      return x*y"
   ]
  },
  {
   "cell_type": "code",
   "execution_count": 102,
   "id": "bddb313d-6517-40fb-95eb-8f471c3bc6fd",
   "metadata": {},
   "outputs": [
    {
     "data": {
      "text/plain": [
       "8"
      ]
     },
     "execution_count": 102,
     "metadata": {},
     "output_type": "execute_result"
    }
   ],
   "source": [
    "calculator.add(5,3)"
   ]
  },
  {
   "cell_type": "code",
   "execution_count": 103,
   "id": "f0f4445c-2b70-4303-9b16-b420dc690cbf",
   "metadata": {},
   "outputs": [
    {
     "data": {
      "text/plain": [
       "15"
      ]
     },
     "execution_count": 103,
     "metadata": {},
     "output_type": "execute_result"
    }
   ],
   "source": [
    "calculator.mul(5,3)"
   ]
  },
  {
   "cell_type": "code",
   "execution_count": 104,
   "id": "6f7db889-cb5d-459d-8424-389097fc6c9a",
   "metadata": {},
   "outputs": [
    {
     "data": {
      "text/plain": [
       "5"
      ]
     },
     "execution_count": 104,
     "metadata": {},
     "output_type": "execute_result"
    }
   ],
   "source": [
    "calculator.sub(10,5)"
   ]
  },
  {
   "cell_type": "code",
   "execution_count": null,
   "id": "60a055eb-16a8-43e0-9663-144d96678c30",
   "metadata": {},
   "outputs": [],
   "source": []
  }
 ],
 "metadata": {
  "kernelspec": {
   "display_name": "Python 3 (ipykernel)",
   "language": "python",
   "name": "python3"
  },
  "language_info": {
   "codemirror_mode": {
    "name": "ipython",
    "version": 3
   },
   "file_extension": ".py",
   "mimetype": "text/x-python",
   "name": "python",
   "nbconvert_exporter": "python",
   "pygments_lexer": "ipython3",
   "version": "3.12.3"
  }
 },
 "nbformat": 4,
 "nbformat_minor": 5
}
