{
 "cells": [
  {
   "cell_type": "code",
   "execution_count": null,
   "id": "cc3b566b-f67d-45c5-a86b-f3fad8b04808",
   "metadata": {},
   "outputs": [],
   "source": [
    "#loops allows you to repeatedly execute a block of code, while and for loop\n",
    "\n",
    "#while loop\n",
    "\n",
    "#repeatedly excutes a block of code as long as condition true\n"
   ]
  },
  {
   "cell_type": "code",
   "execution_count": 2,
   "id": "0da5b921-cc68-479b-9764-178bf3eb35ed",
   "metadata": {},
   "outputs": [
    {
     "name": "stdout",
     "output_type": "stream",
     "text": [
      "1\n",
      "2\n",
      "3\n",
      "4\n",
      "5\n",
      "6\n"
     ]
    }
   ],
   "source": [
    "n=7\n",
    "i=1\n",
    "while i<n:\n",
    "    print(i)\n",
    "    i=i+1"
   ]
  },
  {
   "cell_type": "code",
   "execution_count": 3,
   "id": "e64cbe0c-3e9c-41a0-9667-192403e92077",
   "metadata": {},
   "outputs": [
    {
     "name": "stdout",
     "output_type": "stream",
     "text": [
      "5\n",
      "4\n",
      "3\n",
      "2\n",
      "1\n"
     ]
    }
   ],
   "source": [
    "count = 5\n",
    "while count > 0:\n",
    "    print(count)\n",
    "    count = count - 1\n",
    "    "
   ]
  },
  {
   "cell_type": "code",
   "execution_count": 5,
   "id": "ef293d8e-3340-4ad8-a5e5-cfc63ea6c25e",
   "metadata": {},
   "outputs": [
    {
     "name": "stdout",
     "output_type": "stream",
     "text": [
      "1\n",
      "2\n",
      "3\n",
      "4\n",
      "5\n",
      "6\n",
      "this will be executed when the will loop is ru succesfully\n"
     ]
    }
   ],
   "source": [
    "n=7\n",
    "i=1\n",
    "while i<n:\n",
    "    print(i)\n",
    "    i=i+1\n",
    "else:    \n",
    "    print(\"this will be executed when the will loop is ru succesfully\")"
   ]
  },
  {
   "cell_type": "code",
   "execution_count": 6,
   "id": "088a2147-aae0-4f0b-a979-fc13ee978d86",
   "metadata": {},
   "outputs": [
    {
     "name": "stdout",
     "output_type": "stream",
     "text": [
      "1\n",
      "2\n"
     ]
    }
   ],
   "source": [
    "#break\n",
    "n=7\n",
    "i=1\n",
    "while i<n:\n",
    "    print(i)\n",
    "    i=i+1\n",
    "    if i== 3:\n",
    "        break\n",
    "else:\n",
    "    print(\"this will be executed when the while loop is run succesfully\")"
   ]
  },
  {
   "cell_type": "code",
   "execution_count": 14,
   "id": "861efdef-b9b1-4565-b90d-8c8772d0710d",
   "metadata": {},
   "outputs": [
    {
     "name": "stdout",
     "output_type": "stream",
     "text": [
      "2\n",
      "4\n",
      "5\n",
      "6\n",
      "7\n",
      "this will be executed when the while loop is run succesfully\n"
     ]
    }
   ],
   "source": [
    "#continue  >>to skipe the iteration\n",
    "n=7\n",
    "i=1\n",
    "while i<n:\n",
    "    i=i+1\n",
    "    if i== 3:\n",
    "        continue\n",
    "    print(i)\n",
    "else:\n",
    "    print(\"this will be executed when the while loop is run succesfully\")\n"
   ]
  },
  {
   "cell_type": "code",
   "execution_count": 15,
   "id": "4adb1a92-b09b-4df4-90f3-6e8d1e74514d",
   "metadata": {},
   "outputs": [],
   "source": [
    "#for loop>> iterate over a sequence if element >> string or list\n"
   ]
  },
  {
   "cell_type": "code",
   "execution_count": 17,
   "id": "bde50cc8-ed15-477d-8620-77df917826c4",
   "metadata": {},
   "outputs": [
    {
     "name": "stdout",
     "output_type": "stream",
     "text": [
      "p\n",
      "w\n",
      "s\n",
      "k\n",
      "i\n",
      "l\n",
      "l\n",
      "s\n"
     ]
    }
   ],
   "source": [
    "a = \"pwskills\"\n",
    "for char in a:\n",
    "    print (char)"
   ]
  },
  {
   "cell_type": "code",
   "execution_count": 18,
   "id": "d3821237-fc6f-4c71-8cf3-acecbe384053",
   "metadata": {},
   "outputs": [
    {
     "name": "stdout",
     "output_type": "stream",
     "text": [
      "p\n",
      "w\n",
      "s\n",
      "k\n",
      "i\n",
      "l\n",
      "l\n",
      "s\n"
     ]
    }
   ],
   "source": [
    "for i in a:\n",
    "    print(i)"
   ]
  },
  {
   "cell_type": "code",
   "execution_count": 19,
   "id": "c282499d-4613-4874-b4c5-6b617ae5fdb1",
   "metadata": {},
   "outputs": [
    {
     "name": "stdout",
     "output_type": "stream",
     "text": [
      "1\n",
      "2\n",
      "ajay\n",
      "pwskills\n"
     ]
    }
   ],
   "source": [
    "l = [1,2,\"ajay\",\"pwskills\"]\n",
    "for i in l:\n",
    "    print(i)"
   ]
  },
  {
   "cell_type": "code",
   "execution_count": 20,
   "id": "64150e3e-e964-4dda-affd-120a92d8a943",
   "metadata": {},
   "outputs": [
    {
     "name": "stdout",
     "output_type": "stream",
     "text": [
      "1\n",
      "2\n",
      "ajay\n",
      "pwskills\n",
      "this will executes when for loop ends\n"
     ]
    }
   ],
   "source": [
    "for i in l:\n",
    "    print(i)\n",
    "else:\n",
    "    print(\"this will executes when for loop ends\")"
   ]
  },
  {
   "cell_type": "code",
   "execution_count": 21,
   "id": "001d1dba-f0b7-479a-9a93-26ccb45bad30",
   "metadata": {},
   "outputs": [
    {
     "name": "stdout",
     "output_type": "stream",
     "text": [
      "1\n",
      "2\n"
     ]
    }
   ],
   "source": [
    "for i in l:\n",
    "    if i == \"ajay\":\n",
    "        break\n",
    "    print(i)\n",
    "else:\n",
    "    print(\"this will executes when for loop ends\")"
   ]
  },
  {
   "cell_type": "code",
   "execution_count": 22,
   "id": "b6033e15-1ce6-4db6-9b49-0ec2b1d7db72",
   "metadata": {},
   "outputs": [
    {
     "name": "stdout",
     "output_type": "stream",
     "text": [
      "1\n",
      "2\n",
      "pwskills\n",
      "this will executes when for loop ends\n"
     ]
    }
   ],
   "source": [
    "for i in l:\n",
    "    if i == \"ajay\":\n",
    "       continue\n",
    "    print(i)\n",
    "else:\n",
    "    print(\"this will executes when for loop ends\")"
   ]
  },
  {
   "cell_type": "code",
   "execution_count": 24,
   "id": "d601f4bc-1de6-46f3-a02d-da0026fd39ee",
   "metadata": {},
   "outputs": [
    {
     "data": {
      "text/plain": [
       "[0, 1, 2, 3, 4, 5, 6, 7, 8, 9]"
      ]
     },
     "execution_count": 24,
     "metadata": {},
     "output_type": "execute_result"
    }
   ],
   "source": [
    "#range\n",
    "\n",
    "list(range(0 ,10))"
   ]
  },
  {
   "cell_type": "code",
   "execution_count": 25,
   "id": "824cb126-d6c1-4d1e-8e9c-8aa7b255f961",
   "metadata": {},
   "outputs": [
    {
     "name": "stdout",
     "output_type": "stream",
     "text": [
      "0\n",
      "1\n",
      "2\n",
      "3\n",
      "4\n",
      "5\n",
      "6\n",
      "7\n",
      "8\n",
      "9\n"
     ]
    }
   ],
   "source": [
    "for i in range(10):\n",
    "    print(i)"
   ]
  },
  {
   "cell_type": "code",
   "execution_count": 1,
   "id": "8737ae5d-8cb0-4019-b269-a4c22d98c6d6",
   "metadata": {},
   "outputs": [],
   "source": [
    "#syntax range(start, stop,step)"
   ]
  },
  {
   "cell_type": "code",
   "execution_count": 2,
   "id": "aa413157-687c-42c0-95fc-9a6f1df5250c",
   "metadata": {},
   "outputs": [
    {
     "data": {
      "text/plain": [
       "[0, 1, 2, 3, 4, 5, 6, 7, 8, 9]"
      ]
     },
     "execution_count": 2,
     "metadata": {},
     "output_type": "execute_result"
    }
   ],
   "source": [
    "list(range(0,10))"
   ]
  },
  {
   "cell_type": "code",
   "execution_count": 3,
   "id": "ea3e4733-25ef-4751-b9b6-340fd4ea3bf1",
   "metadata": {},
   "outputs": [
    {
     "data": {
      "text/plain": [
       "[0, 2, 4, 6, 8]"
      ]
     },
     "execution_count": 3,
     "metadata": {},
     "output_type": "execute_result"
    }
   ],
   "source": [
    "list(range(0,10,2))"
   ]
  },
  {
   "cell_type": "code",
   "execution_count": 4,
   "id": "5e64c616-ac2f-4fe4-a475-d1aa55822532",
   "metadata": {},
   "outputs": [
    {
     "data": {
      "text/plain": [
       "[0, 3, 6, 9]"
      ]
     },
     "execution_count": 4,
     "metadata": {},
     "output_type": "execute_result"
    }
   ],
   "source": [
    "list(range(0,10,3))"
   ]
  },
  {
   "cell_type": "code",
   "execution_count": 5,
   "id": "079d14b0-4d03-43e1-9d87-7c9404003ad0",
   "metadata": {},
   "outputs": [
    {
     "data": {
      "text/plain": [
       "[0, 1, 2, 3, 4, 5, 6, 7, 8, 9]"
      ]
     },
     "execution_count": 5,
     "metadata": {},
     "output_type": "execute_result"
    }
   ],
   "source": [
    "list(range(10))"
   ]
  },
  {
   "cell_type": "code",
   "execution_count": 6,
   "id": "a76ab56c-d27d-4998-ad87-09fc6a080bfe",
   "metadata": {},
   "outputs": [],
   "source": [
    "#print a right triangle using while loop"
   ]
  },
  {
   "cell_type": "code",
   "execution_count": 1,
   "id": "3ce9a731-55b6-43a6-9c00-20108360c1c1",
   "metadata": {},
   "outputs": [
    {
     "name": "stdout",
     "output_type": "stream",
     "text": [
      "*\n",
      "**\n",
      "***\n",
      "****\n"
     ]
    }
   ],
   "source": [
    "row = 1\n",
    "while row <= 4:\n",
    "    col =1\n",
    "    while col <= row:\n",
    "        print(\"*\", end=\"\")\n",
    "        col = col+1\n",
    "    print()  \n",
    "    row = row+1"
   ]
  },
  {
   "cell_type": "code",
   "execution_count": 3,
   "id": "13c0de32-2df0-453a-83db-c1c110534a9c",
   "metadata": {},
   "outputs": [
    {
     "name": "stdout",
     "output_type": "stream",
     "text": [
      "01234"
     ]
    }
   ],
   "source": [
    "for i in range(5):\n",
    "    print(i,end=\"\")"
   ]
  },
  {
   "cell_type": "code",
   "execution_count": 4,
   "id": "b6a0344c-89fa-4213-9558-9cf64be6e409",
   "metadata": {},
   "outputs": [
    {
     "name": "stdout",
     "output_type": "stream",
     "text": [
      "data sci\n",
      "ml\n",
      "stats\n"
     ]
    }
   ],
   "source": [
    "course =[\"data sci\",\"ml\",\"stats\"]\n",
    "index =0\n",
    "\n",
    "while index < len(course):\n",
    "    print(course[index])\n",
    "    index = index+1"
   ]
  },
  {
   "cell_type": "code",
   "execution_count": 5,
   "id": "18286f6e-3960-43a2-9fe4-baf484b5eb39",
   "metadata": {},
   "outputs": [
    {
     "data": {
      "text/plain": [
       "3"
      ]
     },
     "execution_count": 5,
     "metadata": {},
     "output_type": "execute_result"
    }
   ],
   "source": [
    "course = [\"data\",\"ml\",\"stats\"]\n",
    "len(course)"
   ]
  },
  {
   "cell_type": "code",
   "execution_count": 8,
   "id": "0f376093-9ada-4be6-856e-19863139223d",
   "metadata": {},
   "outputs": [
    {
     "name": "stdout",
     "output_type": "stream",
     "text": [
      "*\n",
      "**\n",
      "***\n",
      "****\n"
     ]
    }
   ],
   "source": [
    "for i in range(4):\n",
    "    for j in range(i+1):\n",
    "        print(\"*\",end=\"\")\n",
    "    print()"
   ]
  },
  {
   "cell_type": "code",
   "execution_count": 12,
   "id": "b924c338-cedf-468c-b4eb-69dca63f9174",
   "metadata": {},
   "outputs": [
    {
     "name": "stdout",
     "output_type": "stream",
     "text": [
      "1\n",
      "2\n",
      "4\n",
      "5\n",
      "6\n",
      "8\n",
      "9\n"
     ]
    }
   ],
   "source": [
    "number= [1,2,3,4,5,6,7,8,9]\n",
    "for number in number:\n",
    "    if (number==3) or (number == 7):\n",
    "       continue\n",
    "    print(number)   "
   ]
  },
  {
   "cell_type": "code",
   "execution_count": 15,
   "id": "aebf52e5-7fa3-48c3-a344-d3315c170152",
   "metadata": {},
   "outputs": [
    {
     "name": "stdout",
     "output_type": "stream",
     "text": [
      "0\n",
      "2\n",
      "4\n",
      "6\n",
      "8\n"
     ]
    }
   ],
   "source": [
    "for i in range(10):\n",
    "    if i%2!=0:\n",
    "        continue\n",
    "    print(i)   "
   ]
  },
  {
   "cell_type": "code",
   "execution_count": null,
   "id": "20fc714f-ed23-435f-98f4-dc04a1041893",
   "metadata": {},
   "outputs": [],
   "source": []
  }
 ],
 "metadata": {
  "kernelspec": {
   "display_name": "Python 3 (ipykernel)",
   "language": "python",
   "name": "python3"
  },
  "language_info": {
   "codemirror_mode": {
    "name": "ipython",
    "version": 3
   },
   "file_extension": ".py",
   "mimetype": "text/x-python",
   "name": "python",
   "nbconvert_exporter": "python",
   "pygments_lexer": "ipython3",
   "version": "3.12.3"
  }
 },
 "nbformat": 4,
 "nbformat_minor": 5
}
