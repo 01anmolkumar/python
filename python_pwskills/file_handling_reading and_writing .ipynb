{
 "cells": [
  {
   "cell_type": "code",
   "execution_count": 31,
   "id": "42e540f7-f76e-457d-b22c-ea249b81d773",
   "metadata": {},
   "outputs": [],
   "source": [
    "#r>> read mode\n",
    "#w >> write mode\n",
    "#a >> append mode\n",
    "#r+ >> both reading and writing\n",
    "\n",
    "file = open(\"file.text\", \"w\")"
   ]
  },
  {
   "cell_type": "code",
   "execution_count": 32,
   "id": "cd90f034-4dee-4b54-8689-4f8f3635faa6",
   "metadata": {},
   "outputs": [
    {
     "data": {
      "text/plain": [
       "28"
      ]
     },
     "execution_count": 32,
     "metadata": {},
     "output_type": "execute_result"
    }
   ],
   "source": [
    "file.write(\"hello, this is my first line\") #number below is no of bytes you have written"
   ]
  },
  {
   "cell_type": "code",
   "execution_count": 33,
   "id": "ec08d15f-0d1c-4909-a850-3f72f1ef2547",
   "metadata": {},
   "outputs": [],
   "source": [
    "file.close()"
   ]
  },
  {
   "cell_type": "code",
   "execution_count": 34,
   "id": "e0c647ad-041a-4fb1-b2b4-964e78382936",
   "metadata": {},
   "outputs": [
    {
     "data": {
      "text/plain": [
       "<_io.TextIOWrapper name='file.text' mode='w' encoding='cp1252'>"
      ]
     },
     "execution_count": 34,
     "metadata": {},
     "output_type": "execute_result"
    }
   ],
   "source": [
    "# file attributes\n",
    "file"
   ]
  },
  {
   "cell_type": "code",
   "execution_count": 35,
   "id": "aacc7587-80ad-4726-9ae5-4f283314f88e",
   "metadata": {},
   "outputs": [
    {
     "data": {
      "text/plain": [
       "True"
      ]
     },
     "execution_count": 35,
     "metadata": {},
     "output_type": "execute_result"
    }
   ],
   "source": [
    "file.closed"
   ]
  },
  {
   "cell_type": "code",
   "execution_count": 36,
   "id": "d740c3b5-9efe-428c-8f05-943b1dc981a8",
   "metadata": {},
   "outputs": [
    {
     "data": {
      "text/plain": [
       "'file.text'"
      ]
     },
     "execution_count": 36,
     "metadata": {},
     "output_type": "execute_result"
    }
   ],
   "source": [
    "file.name"
   ]
  },
  {
   "cell_type": "code",
   "execution_count": 37,
   "id": "6ab53c55-8fde-4489-bd58-842abe2ecb20",
   "metadata": {},
   "outputs": [
    {
     "data": {
      "text/plain": [
       "'w'"
      ]
     },
     "execution_count": 37,
     "metadata": {},
     "output_type": "execute_result"
    }
   ],
   "source": [
    "file.mode"
   ]
  },
  {
   "cell_type": "code",
   "execution_count": 38,
   "id": "cf9a92bb-e87f-4211-a31b-102f5046192c",
   "metadata": {},
   "outputs": [
    {
     "ename": "ValueError",
     "evalue": "I/O operation on closed file.",
     "output_type": "error",
     "traceback": [
      "\u001b[1;31m---------------------------------------------------------------------------\u001b[0m",
      "\u001b[1;31mValueError\u001b[0m                                Traceback (most recent call last)",
      "Cell \u001b[1;32mIn[38], line 1\u001b[0m\n\u001b[1;32m----> 1\u001b[0m \u001b[43mfile\u001b[49m\u001b[38;5;241;43m.\u001b[39;49m\u001b[43mwrite\u001b[49m\u001b[43m(\u001b[49m\u001b[38;5;124;43m\"\u001b[39;49m\u001b[38;5;124;43mthis is my second line\u001b[39;49m\u001b[38;5;124;43m\"\u001b[39;49m\u001b[43m)\u001b[49m \u001b[38;5;66;03m#this will not be executed\u001b[39;00m\n",
      "\u001b[1;31mValueError\u001b[0m: I/O operation on closed file."
     ]
    }
   ],
   "source": [
    "file.write(\"this is my second line\") #this will not be executed"
   ]
  },
  {
   "cell_type": "code",
   "execution_count": 39,
   "id": "513ddfc0-2f03-4cd8-b799-026f25812373",
   "metadata": {},
   "outputs": [],
   "source": [
    "file = open(\"file.text\",'w')"
   ]
  },
  {
   "cell_type": "code",
   "execution_count": 40,
   "id": "7154cea2-b543-4e3b-a089-b8935bc18b78",
   "metadata": {},
   "outputs": [],
   "source": [
    "file.write(\"this is my second line\")\n",
    "file.close()"
   ]
  },
  {
   "cell_type": "code",
   "execution_count": 41,
   "id": "d3c2c322-f111-47eb-a65c-94ebe0966202",
   "metadata": {},
   "outputs": [],
   "source": [
    "file = open(\"file.text\",\"w\")\n",
    "file.write(\"this is my first line \\n\")\n",
    "file.write(\"this is my second line \\n\")   \n",
    "file.write(\"this is my thired line \\n\")\n",
    "file.write(\"this is my fourth line \\n\")\n",
    "file.close()           \n",
    "           "
   ]
  },
  {
   "cell_type": "code",
   "execution_count": 42,
   "id": "10a3bc2f-722c-41a3-b581-0f92ec963b33",
   "metadata": {},
   "outputs": [],
   "source": [
    "file = open(\"file.text\",'a')\n",
    "file.write(\"this is my fifth line.\")\n",
    "file.close()"
   ]
  },
  {
   "cell_type": "code",
   "execution_count": 43,
   "id": "c9f0e02d-1e60-44e6-95e2-eb632ea029fc",
   "metadata": {},
   "outputs": [],
   "source": [
    "file = open(\"file.text\",'r')"
   ]
  },
  {
   "cell_type": "code",
   "execution_count": 44,
   "id": "4e391ff2-97f8-47b8-96b2-89f25ce5ab87",
   "metadata": {},
   "outputs": [
    {
     "ename": "UnsupportedOperation",
     "evalue": "not writable",
     "output_type": "error",
     "traceback": [
      "\u001b[1;31m---------------------------------------------------------------------------\u001b[0m",
      "\u001b[1;31mUnsupportedOperation\u001b[0m                      Traceback (most recent call last)",
      "Cell \u001b[1;32mIn[44], line 1\u001b[0m\n\u001b[1;32m----> 1\u001b[0m \u001b[43mfile\u001b[49m\u001b[38;5;241;43m.\u001b[39;49m\u001b[43mwrite\u001b[49m\u001b[43m(\u001b[49m\u001b[38;5;124;43m\"\u001b[39;49m\u001b[38;5;124;43mhello\u001b[39;49m\u001b[38;5;124;43m\"\u001b[39;49m\u001b[43m)\u001b[49m \u001b[38;5;66;03m#this will not be executed as it is opend in read mode\u001b[39;00m\n",
      "\u001b[1;31mUnsupportedOperation\u001b[0m: not writable"
     ]
    }
   ],
   "source": [
    "file.write(\"hello\") #this will not be executed as it is opend in read mode"
   ]
  },
  {
   "cell_type": "code",
   "execution_count": 45,
   "id": "9ed756e1-b636-48ec-acd2-c8e0122e3c6e",
   "metadata": {},
   "outputs": [
    {
     "name": "stdout",
     "output_type": "stream",
     "text": [
      "this is my first line \n",
      "\n",
      "this is my second line \n",
      "\n",
      "this is my thired line \n",
      "\n",
      "this is my fourth line \n",
      "\n",
      "this is my fifth line.\n"
     ]
    }
   ],
   "source": [
    "for i in file:\n",
    "    print(i)"
   ]
  },
  {
   "cell_type": "code",
   "execution_count": 46,
   "id": "ae0e8b0c-2c3e-4a0c-a33a-d37665870994",
   "metadata": {},
   "outputs": [
    {
     "name": "stdout",
     "output_type": "stream",
     "text": [
      "\n"
     ]
    }
   ],
   "source": [
    "print(file.read()) # here the cursor or pointer is at last opsition"
   ]
  },
  {
   "cell_type": "code",
   "execution_count": 47,
   "id": "ee67d35e-0c8c-4bed-9948-80e754f9e0d1",
   "metadata": {},
   "outputs": [
    {
     "data": {
      "text/plain": [
       "121"
      ]
     },
     "execution_count": 47,
     "metadata": {},
     "output_type": "execute_result"
    }
   ],
   "source": [
    "file.tell() #it tells the current position of the cursor"
   ]
  },
  {
   "cell_type": "code",
   "execution_count": 48,
   "id": "7880f2e0-0146-41b8-b924-1d81798bd7ab",
   "metadata": {},
   "outputs": [
    {
     "data": {
      "text/plain": [
       "''"
      ]
     },
     "execution_count": 48,
     "metadata": {},
     "output_type": "execute_result"
    }
   ],
   "source": [
    "file.read()"
   ]
  },
  {
   "cell_type": "code",
   "execution_count": 49,
   "id": "5d96c5ca-485e-47bb-b282-7314f7b1f5ea",
   "metadata": {},
   "outputs": [
    {
     "data": {
      "text/plain": [
       "0"
      ]
     },
     "execution_count": 49,
     "metadata": {},
     "output_type": "execute_result"
    }
   ],
   "source": [
    "file.seek(0)"
   ]
  },
  {
   "cell_type": "code",
   "execution_count": 50,
   "id": "e3249cb9-e67f-4baa-a63f-d1df98ea19c7",
   "metadata": {},
   "outputs": [
    {
     "data": {
      "text/plain": [
       "'this is my first line \\nthis is my second line \\nthis is my thired line \\nthis is my fourth line \\nthis is my fifth line.'"
      ]
     },
     "execution_count": 50,
     "metadata": {},
     "output_type": "execute_result"
    }
   ],
   "source": [
    "file.read()"
   ]
  },
  {
   "cell_type": "code",
   "execution_count": 51,
   "id": "6cff7ff7-5a8a-4669-9b35-0136b8c6ce8c",
   "metadata": {},
   "outputs": [
    {
     "name": "stdout",
     "output_type": "stream",
     "text": [
      "this is my first line \n",
      "\n"
     ]
    }
   ],
   "source": [
    "f = open(\"file.text\",'r')\n",
    "print(f.readline())\n",
    "f.close()"
   ]
  },
  {
   "cell_type": "code",
   "execution_count": 52,
   "id": "5dddf6ce-a419-4bd7-8b93-6258ebac4622",
   "metadata": {},
   "outputs": [
    {
     "name": "stdout",
     "output_type": "stream",
     "text": [
      "this is my first line \n",
      "this is my second line \n",
      "this is my thired line \n",
      "this is my fourth line \n",
      "this is my fifth line.\n"
     ]
    }
   ],
   "source": [
    "file = open(\"file.text\",'r')\n",
    "file.seek(0)\n",
    "print(file.read())\n",
    "file.close()"
   ]
  },
  {
   "cell_type": "code",
   "execution_count": 53,
   "id": "e08931f8-0ac6-4716-9ec2-5f6f50279d69",
   "metadata": {},
   "outputs": [
    {
     "name": "stdout",
     "output_type": "stream",
     "text": [
      "['this is my first line \\n', 'this is my second line \\n', 'this is my thired line \\n', 'this is my fourth line \\n', 'this is my fifth line.']\n"
     ]
    }
   ],
   "source": [
    "file = open(\"file.text\",'r')\n",
    "file.seek(0)\n",
    "print(file.readlines())\n",
    "file.close()"
   ]
  },
  {
   "cell_type": "code",
   "execution_count": 54,
   "id": "217eefd6-556b-40a3-8a90-7ce4ce90d106",
   "metadata": {},
   "outputs": [],
   "source": [
    "import os "
   ]
  },
  {
   "cell_type": "code",
   "execution_count": 55,
   "id": "4bcc7106-5ff8-49ea-96c6-ce327aa24040",
   "metadata": {},
   "outputs": [
    {
     "data": {
      "text/plain": [
       "'E:\\\\OneDrive\\\\Desktop\\\\python_ws'"
      ]
     },
     "execution_count": 55,
     "metadata": {},
     "output_type": "execute_result"
    }
   ],
   "source": [
    "pwd"
   ]
  },
  {
   "cell_type": "code",
   "execution_count": 56,
   "id": "0e0c697f-eef5-4de4-b0c4-7795979f100e",
   "metadata": {},
   "outputs": [
    {
     "data": {
      "text/plain": [
       "'E:\\\\OneDrive\\\\Desktop\\\\python_ws'"
      ]
     },
     "execution_count": 56,
     "metadata": {},
     "output_type": "execute_result"
    }
   ],
   "source": [
    "os.getcwd()"
   ]
  },
  {
   "cell_type": "code",
   "execution_count": 57,
   "id": "a89b3234-4a6c-4ba0-8c8c-590c4943f7d1",
   "metadata": {},
   "outputs": [
    {
     "name": "stdout",
     "output_type": "stream",
     "text": [
      " Volume in drive E is New Volume\n",
      " Volume Serial Number is D8E2-6FC8\n",
      "\n",
      " Directory of E:\\OneDrive\\Desktop\\python_ws\n",
      "\n",
      "19-05-2024  03:16    <DIR>          .\n",
      "16-05-2024  18:20    <DIR>          ..\n",
      "03-05-2024  02:07    <DIR>          .idea\n",
      "19-05-2024  02:44    <DIR>          .ipynb_checkpoints\n",
      "15-05-2024  11:20             3,451 Assignment.ipynb\n",
      "02-05-2024  17:27             1,965 basices.ipynb\n",
      "17-05-2024  01:23            11,191 class and static method.ipynb\n",
      "05-05-2024  02:32             6,687 conditional.ipynb\n",
      "18-05-2024  01:35             8,834 decoratores.ipynb\n",
      "11-05-2024  21:17            22,679 dictionary.ipynb\n",
      "17-05-2024  03:29            12,751 dunder_method.ipynb\n",
      "04-05-2024  17:50             1,781 fifth.ipynb\n",
      "19-05-2024  03:16               121 file.text\n",
      "19-05-2024  03:10            17,777 file_handling_reading and_writing .ipynb\n",
      "07-05-2024  02:45            17,581 fourth.ipynb\n",
      "13-05-2024  01:39            31,596 function.ipynb\n",
      "15-05-2024  18:50            20,860 inheritance & abstraction.ipynb\n",
      "14-05-2024  02:32            21,973 iterators and generator.ipynb\n",
      "14-05-2024  09:54            19,347 lambda,map,reduce&filter.ipynb\n",
      "10-05-2024  23:23            30,033 list.ipynb\n",
      "06-05-2024  02:11            12,372 loop.ipynb\n",
      "17-05-2024  03:10            13,390 opps.ipynb\n",
      "07-05-2024  02:41            25,000 overview_of_datastructure.ipynb\n",
      "16-05-2024  20:13            20,686 polymorphism and encapsulation.ipynb\n",
      "18-05-2024  04:30            11,593 property decorators.ipynb\n",
      "07-05-2024  02:43            11,926 sec_lec.ipynb\n",
      "11-05-2024  02:49            23,961 set.ipynb\n",
      "09-05-2024  19:16            22,195 string.ipynb\n",
      "09-05-2024  22:25            18,504 string2.ipynb\n",
      "03-05-2024  23:05             5,032 thiredlec.ipynb\n",
      "11-05-2024  01:53            13,140 tuples.ipynb\n",
      "              27 File(s)        406,426 bytes\n",
      "               4 Dir(s)  141,105,274,880 bytes free\n"
     ]
    }
   ],
   "source": [
    "ls"
   ]
  },
  {
   "cell_type": "code",
   "execution_count": 58,
   "id": "94491b62-0296-4d1a-a11b-92e22756d4f6",
   "metadata": {},
   "outputs": [
    {
     "data": {
      "text/plain": [
       "121"
      ]
     },
     "execution_count": 58,
     "metadata": {},
     "output_type": "execute_result"
    }
   ],
   "source": [
    "os.path.getsize(\"file.text\")"
   ]
  },
  {
   "cell_type": "code",
   "execution_count": 59,
   "id": "1ca4926c-17ce-419d-b20e-2efbd73b96bb",
   "metadata": {},
   "outputs": [
    {
     "data": {
      "text/plain": [
       "['.idea',\n",
       " '.ipynb_checkpoints',\n",
       " 'Assignment.ipynb',\n",
       " 'basices.ipynb',\n",
       " 'class and static method.ipynb',\n",
       " 'conditional.ipynb',\n",
       " 'decoratores.ipynb',\n",
       " 'dictionary.ipynb',\n",
       " 'dunder_method.ipynb',\n",
       " 'fifth.ipynb',\n",
       " 'file.text',\n",
       " 'file_handling_reading and_writing .ipynb',\n",
       " 'fourth.ipynb',\n",
       " 'function.ipynb',\n",
       " 'inheritance & abstraction.ipynb',\n",
       " 'iterators and generator.ipynb',\n",
       " 'lambda,map,reduce&filter.ipynb',\n",
       " 'list.ipynb',\n",
       " 'loop.ipynb',\n",
       " 'opps.ipynb',\n",
       " 'overview_of_datastructure.ipynb',\n",
       " 'polymorphism and encapsulation.ipynb',\n",
       " 'property decorators.ipynb',\n",
       " 'sec_lec.ipynb',\n",
       " 'set.ipynb',\n",
       " 'string.ipynb',\n",
       " 'string2.ipynb',\n",
       " 'thiredlec.ipynb',\n",
       " 'tuples.ipynb']"
      ]
     },
     "execution_count": 59,
     "metadata": {},
     "output_type": "execute_result"
    }
   ],
   "source": [
    "os.listdir()"
   ]
  },
  {
   "cell_type": "code",
   "execution_count": 60,
   "id": "08838c1f-97b0-40a8-bee3-bed1a75f6dc5",
   "metadata": {},
   "outputs": [],
   "source": [
    "os.makedirs(\"1/2/3\")"
   ]
  },
  {
   "cell_type": "code",
   "execution_count": 61,
   "id": "7a72a50f-29aa-4789-98b9-947c452615ea",
   "metadata": {},
   "outputs": [],
   "source": [
    "os.mkdir(\"test\")"
   ]
  },
  {
   "cell_type": "code",
   "execution_count": 62,
   "id": "777a2416-582b-49bb-b743-64adfbabe9a9",
   "metadata": {},
   "outputs": [],
   "source": [
    "os.mkdir(\"test/test1\")"
   ]
  },
  {
   "cell_type": "code",
   "execution_count": 63,
   "id": "08fd7bda-f70c-439d-80fa-a7e83d67fc6e",
   "metadata": {},
   "outputs": [],
   "source": [
    "os.mkdir(\"feat\")"
   ]
  },
  {
   "cell_type": "code",
   "execution_count": 66,
   "id": "2a9caf7f-7f71-49ce-88b0-36bb1194e7dd",
   "metadata": {},
   "outputs": [],
   "source": [
    "os.rmdir(\"feat\")"
   ]
  },
  {
   "cell_type": "code",
   "execution_count": 69,
   "id": "16f33cf8-c6bb-426a-8868-89e60faf5f1a",
   "metadata": {},
   "outputs": [],
   "source": [
    "import shutil\n",
    "shutil.rmtree(\"1\")"
   ]
  },
  {
   "cell_type": "code",
   "execution_count": 75,
   "id": "ee74be6a-91f0-49bc-8a0d-cacd30144e9d",
   "metadata": {},
   "outputs": [
    {
     "data": {
      "text/plain": [
       "'E:\\\\OneDrive\\\\Desktop\\\\python_ws'"
      ]
     },
     "execution_count": 75,
     "metadata": {},
     "output_type": "execute_result"
    }
   ],
   "source": [
    "os.getcwd()"
   ]
  },
  {
   "cell_type": "code",
   "execution_count": 81,
   "id": "f8c86496-d1be-4810-adb9-033993e3884b",
   "metadata": {},
   "outputs": [
    {
     "name": "stdout",
     "output_type": "stream",
     "text": [
      "this is my first line \n",
      "\n"
     ]
    }
   ],
   "source": [
    "with open(\"file.text\",\"r\") as f:\n",
    "    line = f.readline()\n",
    "    print(line)\n",
    "    "
   ]
  },
  {
   "cell_type": "code",
   "execution_count": null,
   "id": "7514a18c-2111-4526-adc0-a7838fc9f7e0",
   "metadata": {},
   "outputs": [],
   "source": []
  }
 ],
 "metadata": {
  "kernelspec": {
   "display_name": "Python 3 (ipykernel)",
   "language": "python",
   "name": "python3"
  },
  "language_info": {
   "codemirror_mode": {
    "name": "ipython",
    "version": 3
   },
   "file_extension": ".py",
   "mimetype": "text/x-python",
   "name": "python",
   "nbconvert_exporter": "python",
   "pygments_lexer": "ipython3",
   "version": "3.12.3"
  }
 },
 "nbformat": 4,
 "nbformat_minor": 5
}
