{
 "cells": [
  {
   "cell_type": "code",
   "execution_count": 1,
   "id": "2dc550d9-da19-4b42-a689-87e28dc1b2e3",
   "metadata": {},
   "outputs": [],
   "source": [
    "#functions\n",
    "#inbilt>> print,len,type\n",
    "#userdefine"
   ]
  },
  {
   "cell_type": "code",
   "execution_count": 2,
   "id": "76c9a970-4907-4f5b-9905-1db937816042",
   "metadata": {},
   "outputs": [],
   "source": [
    "#functions >> it is a block of code that performs some specfic conditions\n",
    "#it keeps your code neat and clean, organise, reusable"
   ]
  },
  {
   "cell_type": "code",
   "execution_count": 3,
   "id": "dbd93e6b-abb1-4916-af9d-2cf726a27a79",
   "metadata": {},
   "outputs": [
    {
     "data": {
      "text/plain": [
       "2"
      ]
     },
     "execution_count": 3,
     "metadata": {},
     "output_type": "execute_result"
    }
   ],
   "source": [
    "int(2.5)"
   ]
  },
  {
   "cell_type": "code",
   "execution_count": 4,
   "id": "4115cd67-e44e-4a13-82a2-1e671b270342",
   "metadata": {},
   "outputs": [
    {
     "data": {
      "text/plain": [
       "2.0"
      ]
     },
     "execution_count": 4,
     "metadata": {},
     "output_type": "execute_result"
    }
   ],
   "source": [
    "float(2)"
   ]
  },
  {
   "cell_type": "code",
   "execution_count": 5,
   "id": "595c4e3d-ba58-4230-9147-0dfd64b70a08",
   "metadata": {},
   "outputs": [
    {
     "data": {
      "text/plain": [
       "7"
      ]
     },
     "execution_count": 5,
     "metadata": {},
     "output_type": "execute_result"
    }
   ],
   "source": [
    "import math as m\n",
    "m.ceil(6.5)"
   ]
  },
  {
   "cell_type": "code",
   "execution_count": 6,
   "id": "1098710d-3ff5-477a-ad20-2ffdd60f1f0f",
   "metadata": {},
   "outputs": [
    {
     "data": {
      "text/plain": [
       "3"
      ]
     },
     "execution_count": 6,
     "metadata": {},
     "output_type": "execute_result"
    }
   ],
   "source": [
    "m.floor(3.5)"
   ]
  },
  {
   "cell_type": "code",
   "execution_count": 7,
   "id": "61a9f5ed-f912-4bcd-89a4-fc8b10a9a7f1",
   "metadata": {},
   "outputs": [],
   "source": [
    "#syntex of function\n",
    "#def fun():\n",
    "     #do somenting\n",
    "     #do somenting\n",
    "     #return"
   ]
  },
  {
   "cell_type": "code",
   "execution_count": 8,
   "id": "3a7b97f9-305a-4947-9f64-aa60d5a33772",
   "metadata": {},
   "outputs": [
    {
     "name": "stdout",
     "output_type": "stream",
     "text": [
      "welcome to class rahul\n",
      "welcome to class shweta\n",
      "welcome to class amruta\n"
     ]
    }
   ],
   "source": [
    "print(\"welcome to class rahul\")\n",
    "print(\"welcome to class shweta\")\n",
    "print(\"welcome to class amruta\")"
   ]
  },
  {
   "cell_type": "code",
   "execution_count": 9,
   "id": "c2515cb5-1f6b-422e-87f7-068482851b61",
   "metadata": {},
   "outputs": [],
   "source": [
    "def greet(n):\n",
    "    print(\"welcome to class\",n)"
   ]
  },
  {
   "cell_type": "code",
   "execution_count": 10,
   "id": "22e37a1b-a611-44cb-a23e-59afac117664",
   "metadata": {},
   "outputs": [
    {
     "name": "stdout",
     "output_type": "stream",
     "text": [
      "welcome to class anmol\n"
     ]
    }
   ],
   "source": [
    "greet(\"anmol\")\n"
   ]
  },
  {
   "cell_type": "code",
   "execution_count": 11,
   "id": "f8ba3d91-f2ca-4a92-aa57-e9189cda027e",
   "metadata": {},
   "outputs": [],
   "source": [
    "def func():\n",
    "    print(\"this is my first function\")\n"
   ]
  },
  {
   "cell_type": "code",
   "execution_count": 14,
   "id": "c6c36fe5-eb40-464a-8fc7-375d8c474910",
   "metadata": {},
   "outputs": [
    {
     "name": "stdout",
     "output_type": "stream",
     "text": [
      "this is my first function\n"
     ]
    }
   ],
   "source": [
    "func()\n"
   ]
  },
  {
   "cell_type": "code",
   "execution_count": 15,
   "id": "4b5193e5-4957-49d5-a6b1-28d7e7f063b6",
   "metadata": {},
   "outputs": [
    {
     "name": "stdout",
     "output_type": "stream",
     "text": [
      "this is my first function\n"
     ]
    },
    {
     "ename": "TypeError",
     "evalue": "unsupported operand type(s) for +: 'NoneType' and 'str'",
     "output_type": "error",
     "traceback": [
      "\u001b[1;31m---------------------------------------------------------------------------\u001b[0m",
      "\u001b[1;31mTypeError\u001b[0m                                 Traceback (most recent call last)",
      "Cell \u001b[1;32mIn[15], line 1\u001b[0m\n\u001b[1;32m----> 1\u001b[0m \u001b[43mfunc\u001b[49m\u001b[43m(\u001b[49m\u001b[43m)\u001b[49m\u001b[43m \u001b[49m\u001b[38;5;241;43m+\u001b[39;49m\u001b[43m \u001b[49m\u001b[38;5;124;43m\"\u001b[39;49m\u001b[38;5;124;43min python\u001b[39;49m\u001b[38;5;124;43m\"\u001b[39;49m\n",
      "\u001b[1;31mTypeError\u001b[0m: unsupported operand type(s) for +: 'NoneType' and 'str'"
     ]
    }
   ],
   "source": [
    "func() + \"in python\""
   ]
  },
  {
   "cell_type": "code",
   "execution_count": 16,
   "id": "cbcb2b50-8f25-421b-8a38-880a566493ea",
   "metadata": {},
   "outputs": [
    {
     "name": "stdout",
     "output_type": "stream",
     "text": [
      "this is my first function\n"
     ]
    }
   ],
   "source": [
    "func()"
   ]
  },
  {
   "cell_type": "code",
   "execution_count": 18,
   "id": "ac7a3ff0-058b-4b1a-ab5f-b56b09fada7c",
   "metadata": {},
   "outputs": [
    {
     "name": "stdout",
     "output_type": "stream",
     "text": [
      "this is my first function\n"
     ]
    },
    {
     "data": {
      "text/plain": [
       "NoneType"
      ]
     },
     "execution_count": 18,
     "metadata": {},
     "output_type": "execute_result"
    }
   ],
   "source": [
    "type(func())"
   ]
  },
  {
   "cell_type": "code",
   "execution_count": 19,
   "id": "4e0a756a-711a-45e3-9e3f-84a0d7237b75",
   "metadata": {},
   "outputs": [],
   "source": [
    "def func():\n",
    "    return \"this is my first function\""
   ]
  },
  {
   "cell_type": "code",
   "execution_count": 20,
   "id": "be2db94a-96d6-48c1-b3b4-b6350462092d",
   "metadata": {},
   "outputs": [
    {
     "data": {
      "text/plain": [
       "'this is my firest functionin python'"
      ]
     },
     "execution_count": 20,
     "metadata": {},
     "output_type": "execute_result"
    }
   ],
   "source": [
    "func() + \"in python\""
   ]
  },
  {
   "cell_type": "code",
   "execution_count": 21,
   "id": "4fe89232-c97e-4dbe-9163-3bff674b6402",
   "metadata": {},
   "outputs": [],
   "source": [
    "def func():\n",
    "    return \"this is my first function\", 2, 4, 3+7j, True"
   ]
  },
  {
   "cell_type": "code",
   "execution_count": 22,
   "id": "bc57ee7a-e081-4562-8089-789622133091",
   "metadata": {},
   "outputs": [
    {
     "data": {
      "text/plain": [
       "('this is my first function', 2, 4, (3+7j), True)"
      ]
     },
     "execution_count": 22,
     "metadata": {},
     "output_type": "execute_result"
    }
   ],
   "source": [
    "func()"
   ]
  },
  {
   "cell_type": "code",
   "execution_count": 23,
   "id": "fc20fcc0-298c-4aae-b66d-33d98653a676",
   "metadata": {},
   "outputs": [],
   "source": [
    "a= func()"
   ]
  },
  {
   "cell_type": "code",
   "execution_count": 24,
   "id": "6f38e63f-d527-4331-9016-45a11cd37522",
   "metadata": {},
   "outputs": [
    {
     "data": {
      "text/plain": [
       "tuple"
      ]
     },
     "execution_count": 24,
     "metadata": {},
     "output_type": "execute_result"
    }
   ],
   "source": [
    "type(a)"
   ]
  },
  {
   "cell_type": "code",
   "execution_count": 25,
   "id": "0f15b6d9-2910-4e4e-aff4-b6de2804884c",
   "metadata": {},
   "outputs": [
    {
     "data": {
      "text/plain": [
       "'this is my first function'"
      ]
     },
     "execution_count": 25,
     "metadata": {},
     "output_type": "execute_result"
    }
   ],
   "source": [
    "a[0]"
   ]
  },
  {
   "cell_type": "code",
   "execution_count": 26,
   "id": "a072a680-eeba-4077-b746-fccead5259dd",
   "metadata": {},
   "outputs": [
    {
     "data": {
      "text/plain": [
       "2"
      ]
     },
     "execution_count": 26,
     "metadata": {},
     "output_type": "execute_result"
    }
   ],
   "source": [
    "a[1]"
   ]
  },
  {
   "cell_type": "code",
   "execution_count": 27,
   "id": "44f25b75-4352-4d38-b02a-561e06b84a28",
   "metadata": {},
   "outputs": [],
   "source": [
    "a,b,c,d,e = func()"
   ]
  },
  {
   "cell_type": "code",
   "execution_count": 28,
   "id": "de442f83-858e-4a3c-b390-273f6b98ac70",
   "metadata": {},
   "outputs": [
    {
     "data": {
      "text/plain": [
       "'this is my first function'"
      ]
     },
     "execution_count": 28,
     "metadata": {},
     "output_type": "execute_result"
    }
   ],
   "source": [
    "a"
   ]
  },
  {
   "cell_type": "code",
   "execution_count": 29,
   "id": "9eeebd7a-beca-4b96-aa85-e7417f53aa1c",
   "metadata": {},
   "outputs": [
    {
     "data": {
      "text/plain": [
       "2"
      ]
     },
     "execution_count": 29,
     "metadata": {},
     "output_type": "execute_result"
    }
   ],
   "source": [
    "b"
   ]
  },
  {
   "cell_type": "code",
   "execution_count": 30,
   "id": "7c3bf56b-59b9-4fce-83a6-579853bf893b",
   "metadata": {},
   "outputs": [
    {
     "data": {
      "text/plain": [
       "4"
      ]
     },
     "execution_count": 30,
     "metadata": {},
     "output_type": "execute_result"
    }
   ],
   "source": [
    "c"
   ]
  },
  {
   "cell_type": "code",
   "execution_count": 31,
   "id": "b4c3a3c2-a8af-432a-9c3f-d9c64e08a64f",
   "metadata": {},
   "outputs": [
    {
     "data": {
      "text/plain": [
       "(3+7j)"
      ]
     },
     "execution_count": 31,
     "metadata": {},
     "output_type": "execute_result"
    }
   ],
   "source": [
    "d"
   ]
  },
  {
   "cell_type": "code",
   "execution_count": 33,
   "id": "638c6c0e-c96f-4b7a-a019-63e48f4e34fb",
   "metadata": {},
   "outputs": [
    {
     "data": {
      "text/plain": [
       "True"
      ]
     },
     "execution_count": 33,
     "metadata": {},
     "output_type": "execute_result"
    }
   ],
   "source": [
    "e"
   ]
  },
  {
   "cell_type": "code",
   "execution_count": 34,
   "id": "71dc91a5-2651-4e20-a300-ddc94b849b28",
   "metadata": {},
   "outputs": [
    {
     "data": {
      "text/plain": [
       "4"
      ]
     },
     "execution_count": 34,
     "metadata": {},
     "output_type": "execute_result"
    }
   ],
   "source": [
    "func()[2]"
   ]
  },
  {
   "cell_type": "code",
   "execution_count": 35,
   "id": "f45cb4e9-c783-4ba6-a89f-10331f074cfc",
   "metadata": {},
   "outputs": [],
   "source": [
    "def func():\n",
    "    calc =2+3+6*5\n",
    "    return calc\n",
    "          "
   ]
  },
  {
   "cell_type": "code",
   "execution_count": 39,
   "id": "2e9e4750-e4cb-40da-bed0-c1e099ef2bf0",
   "metadata": {},
   "outputs": [
    {
     "data": {
      "text/plain": [
       "35"
      ]
     },
     "execution_count": 39,
     "metadata": {},
     "output_type": "execute_result"
    }
   ],
   "source": [
    "\n",
    "func()"
   ]
  },
  {
   "cell_type": "code",
   "execution_count": 40,
   "id": "2b937aeb-0b09-47fc-a938-46cfff617022",
   "metadata": {},
   "outputs": [],
   "source": [
    "def square_no(a): #a is called as arguement\n",
    "    return a*a"
   ]
  },
  {
   "cell_type": "code",
   "execution_count": 41,
   "id": "7c9acf25-67d1-4096-afe1-f2352d0b03c0",
   "metadata": {},
   "outputs": [
    {
     "data": {
      "text/plain": [
       "16"
      ]
     },
     "execution_count": 41,
     "metadata": {},
     "output_type": "execute_result"
    }
   ],
   "source": [
    "square_no(4)"
   ]
  },
  {
   "cell_type": "code",
   "execution_count": 45,
   "id": "e5d4dcfa-079c-41ad-ae13-115ab181e96d",
   "metadata": {},
   "outputs": [],
   "source": [
    "def sum_(a,b):\n",
    "    return a+b\n"
   ]
  },
  {
   "cell_type": "code",
   "execution_count": 46,
   "id": "0e10b3c5-cb06-4eeb-8e57-4ad531a02b9e",
   "metadata": {},
   "outputs": [
    {
     "data": {
      "text/plain": [
       "7"
      ]
     },
     "execution_count": 46,
     "metadata": {},
     "output_type": "execute_result"
    }
   ],
   "source": [
    "sum_(3,4)"
   ]
  },
  {
   "cell_type": "code",
   "execution_count": 47,
   "id": "efec2a07-280b-40a1-bf87-e61dbae3841c",
   "metadata": {},
   "outputs": [
    {
     "data": {
      "text/plain": [
       "'pwskills'"
      ]
     },
     "execution_count": 47,
     "metadata": {},
     "output_type": "execute_result"
    }
   ],
   "source": [
    "sum_(\"pw\",\"skills\")"
   ]
  },
  {
   "cell_type": "code",
   "execution_count": 48,
   "id": "b3dc0075-1c0e-493b-9654-ebfe9cf3bb1f",
   "metadata": {},
   "outputs": [
    {
     "data": {
      "text/plain": [
       "[1, 2, 3, 4, 5, 6]"
      ]
     },
     "execution_count": 48,
     "metadata": {},
     "output_type": "execute_result"
    }
   ],
   "source": [
    "sum_([1,2,3],[4,5,6])"
   ]
  },
  {
   "cell_type": "code",
   "execution_count": 49,
   "id": "401f3236-16d5-4fe4-bce2-64a4405af06d",
   "metadata": {},
   "outputs": [
    {
     "data": {
      "text/plain": [
       "[4, 5, 6, 1, 2, 3]"
      ]
     },
     "execution_count": 49,
     "metadata": {},
     "output_type": "execute_result"
    }
   ],
   "source": [
    "sum_(b=[1,2,3],a=[4,5,6])"
   ]
  },
  {
   "cell_type": "code",
   "execution_count": 50,
   "id": "a849b20f-2523-49fc-ae59-d9c42326cac5",
   "metadata": {},
   "outputs": [],
   "source": [
    "def sum_1(a,b,c):\n",
    "    return a+b+c"
   ]
  },
  {
   "cell_type": "code",
   "execution_count": 55,
   "id": "29c3391a-13ae-4c02-8bca-3561ccfec1a3",
   "metadata": {},
   "outputs": [
    {
     "ename": "NameError",
     "evalue": "name 'sum_1' is not defined",
     "output_type": "error",
     "traceback": [
      "\u001b[1;31m---------------------------------------------------------------------------\u001b[0m",
      "\u001b[1;31mNameError\u001b[0m                                 Traceback (most recent call last)",
      "Cell \u001b[1;32mIn[55], line 1\u001b[0m\n\u001b[1;32m----> 1\u001b[0m \u001b[43msum_1\u001b[49m(\u001b[38;5;241m2\u001b[39m,\u001b[38;5;241m3\u001b[39m)\n",
      "\u001b[1;31mNameError\u001b[0m: name 'sum_1' is not defined"
     ]
    }
   ],
   "source": [
    "sum_1(2,3)"
   ]
  },
  {
   "cell_type": "code",
   "execution_count": 56,
   "id": "901c5f28-0790-476c-9616-55ea54aec2e2",
   "metadata": {},
   "outputs": [],
   "source": [
    "#default arguement\n",
    "\n",
    "def sum_(a=0,b=0,c=0):\n",
    "    return a+b+c"
   ]
  },
  {
   "cell_type": "code",
   "execution_count": 57,
   "id": "bd79e4d2-2aaf-40b3-9a64-0eda2f09ab85",
   "metadata": {},
   "outputs": [
    {
     "data": {
      "text/plain": [
       "5"
      ]
     },
     "execution_count": 57,
     "metadata": {},
     "output_type": "execute_result"
    }
   ],
   "source": [
    "sum_(2,3)\n"
   ]
  },
  {
   "cell_type": "code",
   "execution_count": 59,
   "id": "8d6ac94e-f4ff-4373-95f6-1d4bc1716ec2",
   "metadata": {},
   "outputs": [
    {
     "data": {
      "text/plain": [
       "7"
      ]
     },
     "execution_count": 59,
     "metadata": {},
     "output_type": "execute_result"
    }
   ],
   "source": [
    "sum_(a=4,c=3)"
   ]
  },
  {
   "cell_type": "code",
   "execution_count": 69,
   "id": "6b526359-12ab-49a1-8e2a-b02ed7706e87",
   "metadata": {},
   "outputs": [],
   "source": [
    "def add_two_no():\n",
    "    a=int(input(\"enter the first number\"))\n",
    "    b=int(input(\"enter the second number\"))\n",
    "    return a+b"
   ]
  },
  {
   "cell_type": "code",
   "execution_count": 70,
   "id": "96623183-f50b-4ec1-aff8-f5789f33bfab",
   "metadata": {},
   "outputs": [
    {
     "name": "stdin",
     "output_type": "stream",
     "text": [
      "enter the first number 1\n",
      "enter the second number 4\n"
     ]
    },
    {
     "data": {
      "text/plain": [
       "5"
      ]
     },
     "execution_count": 70,
     "metadata": {},
     "output_type": "execute_result"
    }
   ],
   "source": [
    "add_two_no()"
   ]
  },
  {
   "cell_type": "code",
   "execution_count": 82,
   "id": "f7356b62-c387-401f-b3f9-91fcca545fb9",
   "metadata": {},
   "outputs": [],
   "source": [
    "#write a function that taken list as input and retun me allnumaric values\n",
    "def only_numeric(a):\n",
    "    n=[]\n",
    "    for i in a:\n",
    "        if type(i) == int or type(i) == float:\n",
    "            n.append(i)\n",
    "    return n      "
   ]
  },
  {
   "cell_type": "code",
   "execution_count": 84,
   "id": "798f963e-aa92-419d-b7a8-f7812af66c61",
   "metadata": {},
   "outputs": [
    {
     "data": {
      "text/plain": [
       "[1, 2, 3, 4.5, 5]"
      ]
     },
     "execution_count": 84,
     "metadata": {},
     "output_type": "execute_result"
    }
   ],
   "source": [
    "only_numeric([1,2,3,4.5,5,\"ajay\",\"pwskills\",True ,[1,2,3,4]])"
   ]
  },
  {
   "cell_type": "code",
   "execution_count": 102,
   "id": "0378659b-3a85-44c4-8f36-31ab7f362794",
   "metadata": {},
   "outputs": [],
   "source": [
    "def only_numeric(a):\n",
    "    n=[]\n",
    "    for i in a:\n",
    "        if type(i)== list:\n",
    "            for j in i:\n",
    "                if type(j) == int or type(j) == float:\n",
    "                    n.append(j)\n",
    "        else:            \n",
    "            if type(i) == int or type(i) == float:\n",
    "              n.append(i)\n",
    "    return n      "
   ]
  },
  {
   "cell_type": "code",
   "execution_count": 103,
   "id": "934d9ad7-6b3b-4927-a383-8844476eef2d",
   "metadata": {},
   "outputs": [
    {
     "data": {
      "text/plain": [
       "[1, 2, 3, 4.5, 5, 1, 2, 3, 4]"
      ]
     },
     "execution_count": 103,
     "metadata": {},
     "output_type": "execute_result"
    }
   ],
   "source": [
    "only_numeric([1,2,3,4.5,5,\"ajay\",\"pwskills\",True ,[1,2,3,4]])"
   ]
  },
  {
   "cell_type": "code",
   "execution_count": 1,
   "id": "9cf90854-7715-430d-a43a-799981b53e58",
   "metadata": {},
   "outputs": [],
   "source": [
    "def sum_(a,b):\n",
    "    return a+b\n",
    "     "
   ]
  },
  {
   "cell_type": "code",
   "execution_count": 3,
   "id": "51076488-27f9-49a9-9d40-3c518ee49512",
   "metadata": {},
   "outputs": [
    {
     "ename": "TypeError",
     "evalue": "sum_() takes 2 positional arguments but 3 were given",
     "output_type": "error",
     "traceback": [
      "\u001b[1;31m---------------------------------------------------------------------------\u001b[0m",
      "\u001b[1;31mTypeError\u001b[0m                                 Traceback (most recent call last)",
      "Cell \u001b[1;32mIn[3], line 1\u001b[0m\n\u001b[1;32m----> 1\u001b[0m \u001b[43msum_\u001b[49m\u001b[43m(\u001b[49m\u001b[38;5;241;43m2\u001b[39;49m\u001b[43m,\u001b[49m\u001b[38;5;241;43m3\u001b[39;49m\u001b[43m,\u001b[49m\u001b[38;5;241;43m4\u001b[39;49m\u001b[43m)\u001b[49m\n",
      "\u001b[1;31mTypeError\u001b[0m: sum_() takes 2 positional arguments but 3 were given"
     ]
    }
   ],
   "source": [
    "sum_(2,3,4)"
   ]
  },
  {
   "cell_type": "code",
   "execution_count": 4,
   "id": "b172ac20-8969-413b-8eaf-9f91ad7bfc26",
   "metadata": {},
   "outputs": [],
   "source": [
    "#variable length arguement\n",
    "\n",
    "def sum_(*args):\n",
    "    s = 0\n",
    "    for i in args:\n",
    "        s = s+i\n",
    "    return s     "
   ]
  },
  {
   "cell_type": "code",
   "execution_count": 5,
   "id": "e58b0558-d628-4cff-bbf1-de733923c745",
   "metadata": {},
   "outputs": [
    {
     "data": {
      "text/plain": [
       "28"
      ]
     },
     "execution_count": 5,
     "metadata": {},
     "output_type": "execute_result"
    }
   ],
   "source": [
    "sum_(1,2,3,4,5,6,7)"
   ]
  },
  {
   "cell_type": "code",
   "execution_count": 16,
   "id": "25322313-a3de-48bf-8b46-083135c09174",
   "metadata": {},
   "outputs": [],
   "source": [
    "def test1(*args):\n",
    "    return args\n"
   ]
  },
  {
   "cell_type": "code",
   "execution_count": 17,
   "id": "25f7e19c-4283-4be7-99e4-3fab9293181a",
   "metadata": {},
   "outputs": [
    {
     "data": {
      "text/plain": [
       "(1, 2, 3, 3.4, 'ajay', [1, 2, 3], (12, 3), True)"
      ]
     },
     "execution_count": 17,
     "metadata": {},
     "output_type": "execute_result"
    }
   ],
   "source": [
    "test1(1,2,3,3.4,\"ajay\",[1,2,3],(12,3),True)"
   ]
  },
  {
   "cell_type": "code",
   "execution_count": 19,
   "id": "45d649b6-ac37-4c37-bb06-8de4715845d4",
   "metadata": {},
   "outputs": [],
   "source": [
    "def test(*args,a):\n",
    "    return args,a"
   ]
  },
  {
   "cell_type": "code",
   "execution_count": 23,
   "id": "1a0d672e-8232-4457-b4be-0f7ce223712f",
   "metadata": {},
   "outputs": [
    {
     "data": {
      "text/plain": [
       "((1, 2, 3, 3.4, 'ajay', [1, 2, 3], (12, 3), True), 'ram')"
      ]
     },
     "execution_count": 23,
     "metadata": {},
     "output_type": "execute_result"
    }
   ],
   "source": [
    "test(1,2,3,3.4,\"ajay\",[1,2,3],(12,3),True,a=\"ram\")"
   ]
  },
  {
   "cell_type": "code",
   "execution_count": 1,
   "id": "5487a88c-b787-42a6-82df-2072e6f25132",
   "metadata": {},
   "outputs": [],
   "source": [
    "def return_list(*args):\n",
    "    l = []\n",
    "    for i in args:\n",
    "        if type(i) == list:\n",
    "            l.append(i)\n",
    "    return l        "
   ]
  },
  {
   "cell_type": "code",
   "execution_count": 3,
   "id": "19efcd41-ec2a-43f8-a2a4-4de064de3fb4",
   "metadata": {},
   "outputs": [
    {
     "data": {
      "text/plain": [
       "[[1, 2, 3], [4, 5, 6, 7]]"
      ]
     },
     "execution_count": 3,
     "metadata": {},
     "output_type": "execute_result"
    }
   ],
   "source": [
    "return_list(1,2,3,3.4,\"ajay\",[1,2,3],[4,5,6,7],(12,3),True,)"
   ]
  },
  {
   "cell_type": "code",
   "execution_count": 4,
   "id": "4ea747fc-1fa0-4ffd-8132-9aa2234b9b56",
   "metadata": {},
   "outputs": [],
   "source": [
    "def team (name, project):\n",
    "    return f\"{name} is working on {project}.\""
   ]
  },
  {
   "cell_type": "code",
   "execution_count": 5,
   "id": "8088f73e-55e4-44f4-9ae3-73de5b19a718",
   "metadata": {},
   "outputs": [
    {
     "data": {
      "text/plain": [
       "'ajay is working on IR.'"
      ]
     },
     "execution_count": 5,
     "metadata": {},
     "output_type": "execute_result"
    }
   ],
   "source": [
    "team(name =\"ajay\",project=\"IR\")"
   ]
  },
  {
   "cell_type": "code",
   "execution_count": null,
   "id": "c03fa348-bcfd-4894-a3c8-86488fce043b",
   "metadata": {},
   "outputs": [],
   "source": [
    "#it should accept any no of argument\n",
    "#treated as key value pair"
   ]
  },
  {
   "cell_type": "code",
   "execution_count": 6,
   "id": "d51a8d6c-6882-4cda-8bab-94bca38a7ac0",
   "metadata": {},
   "outputs": [],
   "source": [
    "def kwarg_func(**kwargs):\n",
    "    return kwargs"
   ]
  },
  {
   "cell_type": "code",
   "execution_count": 7,
   "id": "92cd3ebc-6f6f-4d83-81f1-3c234898ec67",
   "metadata": {},
   "outputs": [
    {
     "data": {
      "text/plain": [
       "{'a': 2, 'b': 3, 'c': 6, 'd': [1, 2, 3], 'e': (1, 2, 3, 4), 'f': [2, 3, 4]}"
      ]
     },
     "execution_count": 7,
     "metadata": {},
     "output_type": "execute_result"
    }
   ],
   "source": [
    "kwarg_func(a=2,b=3,c=6,d=[1,2,3],e=(1,2,3,4),f=[2,3,4])"
   ]
  },
  {
   "cell_type": "code",
   "execution_count": 8,
   "id": "55bc63e7-a202-444f-9460-ce46af5ab85e",
   "metadata": {},
   "outputs": [],
   "source": [
    "#write a function which takes variable key word argument and return only the values which is list\n",
    "\n",
    "def test(**kwargs):\n",
    "    for i in kwargs.keys():\n",
    "        if type(kwargs[i]) ==list:\n",
    "            return i, kwargs[i]"
   ]
  },
  {
   "cell_type": "code",
   "execution_count": 9,
   "id": "57a55f69-9b8d-42d3-87ea-7294afb261b9",
   "metadata": {},
   "outputs": [
    {
     "data": {
      "text/plain": [
       "('d', [1, 2, 3])"
      ]
     },
     "execution_count": 9,
     "metadata": {},
     "output_type": "execute_result"
    }
   ],
   "source": [
    "test(a=2,b=3,c=6,d=[1,2,3],e=(1,2,3,4),f=[2,3,4])"
   ]
  },
  {
   "cell_type": "code",
   "execution_count": 10,
   "id": "28f0c0ed-7e82-46f7-8cc0-949cb56d2795",
   "metadata": {},
   "outputs": [],
   "source": [
    "def test1(*ajay,**bijay):\n",
    "    return ajay,bijay"
   ]
  },
  {
   "cell_type": "code",
   "execution_count": 11,
   "id": "f968c396-7cb6-4ef8-993a-d369ddede094",
   "metadata": {},
   "outputs": [
    {
     "data": {
      "text/plain": [
       "((1, 2, 3), {'a': 100, 'c': 200})"
      ]
     },
     "execution_count": 11,
     "metadata": {},
     "output_type": "execute_result"
    }
   ],
   "source": [
    "test1(1,2,3,a=100,c=200)"
   ]
  },
  {
   "cell_type": "code",
   "execution_count": 12,
   "id": "f0237ca7-21c5-4a2c-8acf-3705b4333825",
   "metadata": {},
   "outputs": [],
   "source": [
    "#python namespace\n",
    "def greet():\n",
    "    message= \"hello,welcome\" #message is local variable\n",
    "    print(message)"
   ]
  },
  {
   "cell_type": "code",
   "execution_count": 13,
   "id": "96a0b8e3-5a05-4870-95c0-026659519acc",
   "metadata": {},
   "outputs": [
    {
     "name": "stdout",
     "output_type": "stream",
     "text": [
      "hello,welcome\n"
     ]
    }
   ],
   "source": [
    "greet()"
   ]
  },
  {
   "cell_type": "code",
   "execution_count": 14,
   "id": "8972fee0-fe08-4bb9-b1b0-cbf6f4df6511",
   "metadata": {},
   "outputs": [
    {
     "ename": "NameError",
     "evalue": "name 'message' is not defined",
     "output_type": "error",
     "traceback": [
      "\u001b[1;31m---------------------------------------------------------------------------\u001b[0m",
      "\u001b[1;31mNameError\u001b[0m                                 Traceback (most recent call last)",
      "Cell \u001b[1;32mIn[14], line 1\u001b[0m\n\u001b[1;32m----> 1\u001b[0m \u001b[38;5;28mprint\u001b[39m(\u001b[43mmessage\u001b[49m)\n",
      "\u001b[1;31mNameError\u001b[0m: name 'message' is not defined"
     ]
    }
   ],
   "source": [
    "print(message)"
   ]
  },
  {
   "cell_type": "code",
   "execution_count": 15,
   "id": "57669830-beae-4db2-ace8-eebb20d27947",
   "metadata": {},
   "outputs": [],
   "source": [
    "subpart = \"to the course.\" #global veriable >> can be accessed in and outside the function\n",
    "def greet():\n",
    "    message= \"hello,welcome\"\n",
    "    print(message)"
   ]
  },
  {
   "cell_type": "code",
   "execution_count": 19,
   "id": "cd045e36-3894-4bd5-bdbe-a46c253df0e5",
   "metadata": {},
   "outputs": [
    {
     "name": "stdout",
     "output_type": "stream",
     "text": [
      "to the course.\n"
     ]
    }
   ],
   "source": [
    "print(subpart) #global variable"
   ]
  },
  {
   "cell_type": "code",
   "execution_count": 20,
   "id": "5df990f7-74f1-40ec-a9d8-a82d14dd1394",
   "metadata": {},
   "outputs": [
    {
     "ename": "NameError",
     "evalue": "name 'message' is not defined",
     "output_type": "error",
     "traceback": [
      "\u001b[1;31m---------------------------------------------------------------------------\u001b[0m",
      "\u001b[1;31mNameError\u001b[0m                                 Traceback (most recent call last)",
      "Cell \u001b[1;32mIn[20], line 1\u001b[0m\n\u001b[1;32m----> 1\u001b[0m \u001b[38;5;28mprint\u001b[39m(\u001b[43mmessage\u001b[49m)\n",
      "\u001b[1;31mNameError\u001b[0m: name 'message' is not defined"
     ]
    }
   ],
   "source": [
    "print(message) # local variable"
   ]
  },
  {
   "cell_type": "code",
   "execution_count": 21,
   "id": "4067d2bd-51e8-4a14-ad93-53224f78c81a",
   "metadata": {},
   "outputs": [
    {
     "name": "stdout",
     "output_type": "stream",
     "text": [
      "hello,welcome\n"
     ]
    }
   ],
   "source": [
    "greet()"
   ]
  },
  {
   "cell_type": "code",
   "execution_count": 23,
   "id": "2bfcd6b1-dd05-40fa-bb4a-46626df13125",
   "metadata": {},
   "outputs": [],
   "source": [
    "#function inside function\n",
    "def marks_in_subject(**kwargs):\n",
    "    def total_marks(marks_list):\n",
    "        return sum(marks_list)\n",
    "    marks_list = []\n",
    "    for subject,marks in kwargs.items():\n",
    "        marks_list.append(marks)\n",
    "    return total_marks(marks_list)    "
   ]
  },
  {
   "cell_type": "code",
   "execution_count": 26,
   "id": "759dd192-4745-4b71-b0a1-b1b332401f2f",
   "metadata": {},
   "outputs": [
    {
     "data": {
      "text/plain": [
       "106"
      ]
     },
     "execution_count": 26,
     "metadata": {},
     "output_type": "execute_result"
    }
   ],
   "source": [
    "marks_in_subject(a=37,b=46,c=23)"
   ]
  },
  {
   "cell_type": "code",
   "execution_count": 27,
   "id": "636ffc10-1d2d-4d71-930f-4176d1e2aa6b",
   "metadata": {},
   "outputs": [],
   "source": [
    "def find_power(num,power):\n",
    "    '''this function returns the power of no\n",
    "    args:\n",
    "         num(int):insert any integer value\n",
    "         power(int): insert any integer value\n",
    "    returns:\n",
    "    integers: power of number\n",
    "  '''\n",
    "    return num**power"
   ]
  },
  {
   "cell_type": "code",
   "execution_count": 28,
   "id": "53cff57e-e588-416b-8fd4-c28d2c067842",
   "metadata": {},
   "outputs": [
    {
     "data": {
      "text/plain": [
       "8"
      ]
     },
     "execution_count": 28,
     "metadata": {},
     "output_type": "execute_result"
    }
   ],
   "source": [
    "find_power(2,3)"
   ]
  },
  {
   "cell_type": "code",
   "execution_count": 29,
   "id": "e87722c2-0193-4c86-832a-c5457ceb02c5",
   "metadata": {},
   "outputs": [
    {
     "name": "stdout",
     "output_type": "stream",
     "text": [
      "Help on function find_power in module __main__:\n",
      "\n",
      "find_power(num, power)\n",
      "    this function returns the power of no\n",
      "    args:\n",
      "         num(int):insert any integer value\n",
      "         power(int): insert any integer value\n",
      "    returns:\n",
      "    integers: power of number\n",
      "\n"
     ]
    }
   ],
   "source": [
    "help(find_power)"
   ]
  },
  {
   "cell_type": "code",
   "execution_count": 31,
   "id": "d9acd868-b841-40a0-b9b2-a1ce7fb70089",
   "metadata": {},
   "outputs": [
    {
     "name": "stdout",
     "output_type": "stream",
     "text": [
      "this function returns the power of no\n",
      "    args:\n",
      "         num(int):insert any integer value\n",
      "         power(int): insert any integer value\n",
      "    returns:\n",
      "    integers: power of number\n",
      "  \n"
     ]
    }
   ],
   "source": [
    "print(find_power.__doc__)"
   ]
  },
  {
   "cell_type": "code",
   "execution_count": null,
   "id": "2574a8a6-ad3c-4be5-b826-0598e64664e7",
   "metadata": {},
   "outputs": [],
   "source": []
  }
 ],
 "metadata": {
  "kernelspec": {
   "display_name": "Python 3 (ipykernel)",
   "language": "python",
   "name": "python3"
  },
  "language_info": {
   "codemirror_mode": {
    "name": "ipython",
    "version": 3
   },
   "file_extension": ".py",
   "mimetype": "text/x-python",
   "name": "python",
   "nbconvert_exporter": "python",
   "pygments_lexer": "ipython3",
   "version": "3.12.3"
  }
 },
 "nbformat": 4,
 "nbformat_minor": 5
}
