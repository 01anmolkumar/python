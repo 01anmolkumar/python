{
 "cells": [
  {
   "cell_type": "code",
   "execution_count": 1,
   "id": "bfdd3bcc-1b80-49cf-8463-29e28fff050f",
   "metadata": {},
   "outputs": [],
   "source": [
    "#decoraters >> allows to modify/extends the existing behaviour of function or class without modifying it"
   ]
  },
  {
   "cell_type": "code",
   "execution_count": 6,
   "id": "6e37073b-253e-47bc-ac93-6083d9e4bba3",
   "metadata": {},
   "outputs": [],
   "source": [
    "def my_decorator_func():\n",
    "    print(\"the lines being printed before the comp.\")\n",
    "    print(1+11)\n",
    "    print(\"the lines bening printed after the comp.\")"
   ]
  },
  {
   "cell_type": "code",
   "execution_count": 7,
   "id": "d627a94d-92fd-41cc-a1e4-b9a0da9fab35",
   "metadata": {},
   "outputs": [
    {
     "name": "stdout",
     "output_type": "stream",
     "text": [
      "the lines being printed before the comp.\n",
      "12\n",
      "the lines bening printed after the comp.\n"
     ]
    }
   ],
   "source": [
    "my_decorator_func()"
   ]
  },
  {
   "cell_type": "code",
   "execution_count": 16,
   "id": "a3fd817c-e757-4ac2-a0b2-1e7cd3fc0f54",
   "metadata": {},
   "outputs": [],
   "source": [
    "def my_decorator(func): #decorator func that takes another function as arguement\n",
    "    def wrapper(): #adds the functionality before and after calling func\n",
    "        print(\"The lines being printed before the func.\")\n",
    "        func()\n",
    "        print(\"The lines being printed after the func.\") \n",
    "    return wrapper"
   ]
  },
  {
   "cell_type": "code",
   "execution_count": 20,
   "id": "42c42889-70bd-4983-9bb6-d740ecf8770b",
   "metadata": {},
   "outputs": [],
   "source": [
    "@my_decorator\n",
    "def say_hello():\n",
    "    print(\"hello\")\n",
    "#when say_hello() is called, it is actually calling wrapper() which in trun calls say_hello()"
   ]
  },
  {
   "cell_type": "code",
   "execution_count": 21,
   "id": "70fb9893-3695-441d-8bd6-6cd96be81322",
   "metadata": {},
   "outputs": [
    {
     "name": "stdout",
     "output_type": "stream",
     "text": [
      "The lines being printed before the func.\n",
      "hello\n",
      "The lines being printed after the func.\n"
     ]
    }
   ],
   "source": [
    "say_hello()"
   ]
  },
  {
   "cell_type": "code",
   "execution_count": 39,
   "id": "d73fe64c-5dd9-4dbf-bab9-d77d2a1f13a2",
   "metadata": {},
   "outputs": [],
   "source": [
    "import time\n",
    "def timer_decorator(func):\n",
    "    def timer():\n",
    "        start = time.time()\n",
    "        func()\n",
    "        end = time.time()\n",
    "        print(end-start)\n",
    "    return timer\n",
    "\n"
   ]
  },
  {
   "cell_type": "code",
   "execution_count": 42,
   "id": "88e4260f-f119-481e-862c-b3aa9c9ed649",
   "metadata": {},
   "outputs": [],
   "source": [
    "@timer_decorator\n",
    "def func_test():\n",
    "    print(1100*100000000)\n"
   ]
  },
  {
   "cell_type": "code",
   "execution_count": 43,
   "id": "80bb0cdc-9220-4d7f-82f3-e8e3e8df12c6",
   "metadata": {},
   "outputs": [
    {
     "name": "stdout",
     "output_type": "stream",
     "text": [
      "110000000000\n",
      "0.0\n"
     ]
    }
   ],
   "source": [
    "func_test()"
   ]
  },
  {
   "cell_type": "code",
   "execution_count": 46,
   "id": "05f561f8-82a0-4756-b700-4fa47b788b61",
   "metadata": {},
   "outputs": [],
   "source": [
    "class mydecorator:\n",
    "    def __init__(self,func):\n",
    "        self.func = func\n",
    "    def __call__(self):\n",
    "         print(\"somehing is happening before func\")\n",
    "         self.func()\n",
    "         print(\"something is happening after func\")"
   ]
  },
  {
   "cell_type": "code",
   "execution_count": 47,
   "id": "5d44c9e5-0332-4352-ad65-52ba6429c34c",
   "metadata": {},
   "outputs": [],
   "source": [
    "@mydecorator  #__call__ is a special method which is invoked when you call a decorator class instance\n",
    "def  say_hello():\n",
    "    print(\"hello\")"
   ]
  },
  {
   "cell_type": "code",
   "execution_count": 48,
   "id": "68caee30-4604-478a-bde9-201808d6fc1f",
   "metadata": {},
   "outputs": [
    {
     "name": "stdout",
     "output_type": "stream",
     "text": [
      "somehing is happening before func\n",
      "hello\n",
      "something is happening after func\n"
     ]
    }
   ],
   "source": [
    "say_hello()"
   ]
  },
  {
   "cell_type": "code",
   "execution_count": 49,
   "id": "bf0f998e-6855-44a3-a0f7-4f6f8672505b",
   "metadata": {},
   "outputs": [],
   "source": [
    "#built in decorator >> classmethod, staticmethod property"
   ]
  },
  {
   "cell_type": "code",
   "execution_count": 50,
   "id": "14ba6d4c-308f-4514-a44e-e4880e51bb97",
   "metadata": {},
   "outputs": [],
   "source": [
    "#static method >> which can be called without creating an instanse of class "
   ]
  },
  {
   "cell_type": "code",
   "execution_count": 51,
   "id": "658d0447-85b5-40a5-914b-0256879d6177",
   "metadata": {},
   "outputs": [],
   "source": [
    "class math :\n",
    "    def add(self,x,y):\n",
    "        return x+y\n",
    "    "
   ]
  },
  {
   "cell_type": "code",
   "execution_count": 52,
   "id": "6f177c1d-d15a-4392-9613-b23b6dc531ba",
   "metadata": {},
   "outputs": [],
   "source": [
    "a= math() #makes object/instance"
   ]
  },
  {
   "cell_type": "code",
   "execution_count": 53,
   "id": "ed4443c4-8c63-4691-a1a2-db8f58479ecd",
   "metadata": {},
   "outputs": [
    {
     "data": {
      "text/plain": [
       "5"
      ]
     },
     "execution_count": 53,
     "metadata": {},
     "output_type": "execute_result"
    }
   ],
   "source": [
    "a.add(2,3) #this was a ragular class "
   ]
  },
  {
   "cell_type": "code",
   "execution_count": 59,
   "id": "7e6508bf-4dec-4b67-9c4e-6e23485ae678",
   "metadata": {},
   "outputs": [],
   "source": [
    "class Math:\n",
    "    @staticmethod\n",
    "    def add(x,y):\n",
    "        return x+y\n",
    "    "
   ]
  },
  {
   "cell_type": "code",
   "execution_count": 60,
   "id": "b5630487-19ba-405a-9c55-d68f0d91f401",
   "metadata": {},
   "outputs": [
    {
     "data": {
      "text/plain": [
       "5"
      ]
     },
     "execution_count": 60,
     "metadata": {},
     "output_type": "execute_result"
    }
   ],
   "source": [
    "Math.add(2,3)"
   ]
  },
  {
   "cell_type": "code",
   "execution_count": 72,
   "id": "012bb159-9bdc-43f9-9d70-3babeeaf4a2d",
   "metadata": {},
   "outputs": [],
   "source": [
    "#class method >> takes class itself as first argument\n",
    "\n",
    "class Math:\n",
    "    @classmethod #takes reference to the class itself to modify and access class level attributes\n",
    "    def add(cls, x, y): \n",
    "        return cls.__name__, x+y  #cls.__name__ >>Math"
   ]
  },
  {
   "cell_type": "code",
   "execution_count": 73,
   "id": "0973835f-0656-4e35-a992-700e67067cc6",
   "metadata": {},
   "outputs": [
    {
     "data": {
      "text/plain": [
       "('Math', 5)"
      ]
     },
     "execution_count": 73,
     "metadata": {},
     "output_type": "execute_result"
    }
   ],
   "source": [
    "Math.add(2,3)"
   ]
  },
  {
   "cell_type": "code",
   "execution_count": 87,
   "id": "6bc10578-65ac-4569-afef-d7ffcecb7b51",
   "metadata": {},
   "outputs": [],
   "source": [
    "#property decorator >> it allows methods to be accessed as attribute\n",
    "\n",
    "class circle:\n",
    "    def __init__(self,radius):\n",
    "        self.radius = radius\n",
    "    @property\n",
    "    def area(self):\n",
    "        radius = self.radius\n",
    "        return 3.14*radius**2\n",
    "        "
   ]
  },
  {
   "cell_type": "code",
   "execution_count": 88,
   "id": "b4ea8725-e4f3-42cf-bcff-286f660eeece",
   "metadata": {},
   "outputs": [],
   "source": [
    "c = circle(5)"
   ]
  },
  {
   "cell_type": "code",
   "execution_count": 89,
   "id": "d93b1d2e-ab5a-4ef4-a9ac-9431ab3ae87f",
   "metadata": {},
   "outputs": [
    {
     "data": {
      "text/plain": [
       "78.5"
      ]
     },
     "execution_count": 89,
     "metadata": {},
     "output_type": "execute_result"
    }
   ],
   "source": [
    "c.area"
   ]
  },
  {
   "cell_type": "code",
   "execution_count": null,
   "id": "5a6210e2-a0a0-4c63-8963-46eee9909221",
   "metadata": {},
   "outputs": [],
   "source": []
  }
 ],
 "metadata": {
  "kernelspec": {
   "display_name": "Python 3 (ipykernel)",
   "language": "python",
   "name": "python3"
  },
  "language_info": {
   "codemirror_mode": {
    "name": "ipython",
    "version": 3
   },
   "file_extension": ".py",
   "mimetype": "text/x-python",
   "name": "python",
   "nbconvert_exporter": "python",
   "pygments_lexer": "ipython3",
   "version": "3.12.3"
  }
 },
 "nbformat": 4,
 "nbformat_minor": 5
}
