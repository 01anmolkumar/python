{
 "cells": [
  {
   "cell_type": "code",
   "execution_count": 1,
   "id": "334627b6-6c66-4584-a547-317b8099f85b",
   "metadata": {},
   "outputs": [],
   "source": [
    "text_content= \"\"\"\n",
    "example 1\n",
    "example 2\n",
    "example 3\n",
    "\"\"\""
   ]
  },
  {
   "cell_type": "code",
   "execution_count": 2,
   "id": "d146dd42-022d-4a2a-9ce6-e8471995e369",
   "metadata": {},
   "outputs": [],
   "source": [
    "with open(\"example.txt\",\"w\") as file:\n",
    "    file.write(text_content)"
   ]
  },
  {
   "cell_type": "code",
   "execution_count": 3,
   "id": "fcbdca77-2917-4044-9471-4b28cc78e2f2",
   "metadata": {},
   "outputs": [
    {
     "name": "stdout",
     "output_type": "stream",
     "text": [
      "\n",
      "example 1\n",
      "example 2\n",
      "example 3\n",
      "\n"
     ]
    }
   ],
   "source": [
    "with open(\"example.txt\",\"r\") as file:\n",
    "    data = file.read()\n",
    "\n",
    "print(data)"
   ]
  },
  {
   "cell_type": "code",
   "execution_count": 4,
   "id": "0050d56e-2b9a-4d66-acc1-32cebd4e2cb2",
   "metadata": {},
   "outputs": [],
   "source": [
    "#csv>> comma separated values\n",
    "\n",
    "data =[[\"name\",\"course\",\"fee\"],\n",
    "       [\"ajay\",\"ds\",\"1000\"],\n",
    "       [\"bijay\",\"ml\",\"2000\"]]"
   ]
  },
  {
   "cell_type": "code",
   "execution_count": 6,
   "id": "10ee4331-2995-4316-8ac2-03a4365995e7",
   "metadata": {},
   "outputs": [],
   "source": [
    "import csv\n",
    "\n",
    "with open(\"example_csv.csv\", \"w\") as f:\n",
    "    w = csv.writer(f)\n",
    "    for i in data:\n",
    "        w.writerow(i)"
   ]
  },
  {
   "cell_type": "code",
   "execution_count": 10,
   "id": "42800833-c8cd-4ee1-afbf-e738b4e5c410",
   "metadata": {},
   "outputs": [
    {
     "name": "stdout",
     "output_type": "stream",
     "text": [
      "['name', 'course', 'fee']\n",
      "[]\n",
      "['ajay', 'ds', '1000']\n",
      "[]\n",
      "['bijay', 'ml', '2000']\n",
      "[]\n"
     ]
    }
   ],
   "source": [
    "with open(\"example_csv.csv\",\"r\") as f:\n",
    "    r = csv.reader(f)\n",
    "    for i in r:\n",
    "       print(i)"
   ]
  },
  {
   "cell_type": "code",
   "execution_count": 11,
   "id": "0403c2e8-b31e-45e8-b15d-a6838fbd7c6f",
   "metadata": {},
   "outputs": [],
   "source": [
    "#json >> javascript object notation\n",
    "data = {\"name\":\"ajay\",\n",
    "        \"course\":\"da\",\n",
    "        \"fee\":2900}"
   ]
  },
  {
   "cell_type": "code",
   "execution_count": 12,
   "id": "c0dc0139-ff3f-4f51-9ebe-9462866188f6",
   "metadata": {},
   "outputs": [
    {
     "data": {
      "text/plain": [
       "dict"
      ]
     },
     "execution_count": 12,
     "metadata": {},
     "output_type": "execute_result"
    }
   ],
   "source": [
    "type(data)"
   ]
  },
  {
   "cell_type": "code",
   "execution_count": 26,
   "id": "4c4d76c9-4294-4aad-9fc7-ba52e0a8e7ee",
   "metadata": {},
   "outputs": [],
   "source": [
    "import json\n",
    "with open(\"joson1.json\",\"w\") as f:\n",
    "    json.dump(data,f)"
   ]
  },
  {
   "cell_type": "code",
   "execution_count": 27,
   "id": "a357bc50-f396-4159-a59b-14e646fe748d",
   "metadata": {},
   "outputs": [
    {
     "name": "stdout",
     "output_type": "stream",
     "text": [
      "{'name': 'ajay', 'course': 'da', 'fee': 2900}\n"
     ]
    }
   ],
   "source": [
    "with open(\"joson1.json\",\"r\") as f:\n",
    "    data = json.load(f)\n",
    "print(data)\n",
    "    "
   ]
  },
  {
   "cell_type": "code",
   "execution_count": 29,
   "id": "11e179a8-8f34-4d35-93df-9d3af51137d2",
   "metadata": {},
   "outputs": [],
   "source": [
    "with open(\"test_bin.bin\", \"wb\") as f:\n",
    "    f.write(b\"\\x48\\x65\\x6c\\x6c\\x6f\\x2c\\x20\\x57\\x6f\\x72\\x6c\\x64\\x21\")"
   ]
  },
  {
   "cell_type": "code",
   "execution_count": 30,
   "id": "75b507f9-4d8b-4c86-9abd-07fdf064f1df",
   "metadata": {},
   "outputs": [
    {
     "name": "stdout",
     "output_type": "stream",
     "text": [
      "b'Hello, World!'\n"
     ]
    }
   ],
   "source": [
    "with open(\"test_bin.bin\", \"rb\") as f:\n",
    "    print(f.read())"
   ]
  },
  {
   "cell_type": "code",
   "execution_count": 31,
   "id": "c6e592d5-f169-48a6-8a53-8364fb193fc7",
   "metadata": {},
   "outputs": [],
   "source": [
    "#Buffered reading >> it allows the program to read the data in chunks\n",
    "#buffred writing"
   ]
  },
  {
   "cell_type": "code",
   "execution_count": 32,
   "id": "01b5f0e3-d876-4c16-ac19-c2699721e6f2",
   "metadata": {},
   "outputs": [],
   "source": [
    "import io\n",
    "with open(\"test_buf.txt\", \"wb\") as f:\n",
    "    file = io.BufferedWriter(f)\n",
    "    file.write(b\"A computer is a machine that can be programmed to automatically carry out sequences of arithmetic or logical operations (computation). Modern digital electronic computers can perform generic sets of operations known as programs. These programs enable computers to perform a wide range of tasks. The term computer system may refer to a nominally complete computer that includes the hardware, operating system, software, and peripheral equipment needed and used for full operation; or to a group of computers that are linked and function together, such as a computer network or computer cluster.\")\n",
    "    file.write(b\"hello\")\n",
    "    file.write(b\"I am good\")\n",
    "    file.flush() \n"
   ]
  },
  {
   "cell_type": "code",
   "execution_count": 33,
   "id": "b5026a43-6148-41a0-930a-7aa9461ab11d",
   "metadata": {},
   "outputs": [
    {
     "name": "stdout",
     "output_type": "stream",
     "text": [
      "b'A computer is a machine that can be programmed to automatically carry out sequences of arithmetic or'\n"
     ]
    }
   ],
   "source": [
    "with open(\"test_buf.txt\", \"rb\") as f:\n",
    "    file = io.BufferedReader(f)\n",
    "    data = file.read(100) #100 bytes\n",
    "    print(data)"
   ]
  },
  {
   "cell_type": "code",
   "execution_count": null,
   "id": "77617d2c-db22-40eb-81b6-edbebb951225",
   "metadata": {},
   "outputs": [],
   "source": []
  }
 ],
 "metadata": {
  "kernelspec": {
   "display_name": "Python 3 (ipykernel)",
   "language": "python",
   "name": "python3"
  },
  "language_info": {
   "codemirror_mode": {
    "name": "ipython",
    "version": 3
   },
   "file_extension": ".py",
   "mimetype": "text/x-python",
   "name": "python",
   "nbconvert_exporter": "python",
   "pygments_lexer": "ipython3",
   "version": "3.12.3"
  }
 },
 "nbformat": 4,
 "nbformat_minor": 5
}
