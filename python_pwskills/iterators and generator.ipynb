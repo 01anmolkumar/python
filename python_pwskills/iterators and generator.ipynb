{
 "cells": [
  {
   "cell_type": "code",
   "execution_count": 1,
   "id": "90e27813-b8f3-4f94-9595-83af9c39435d",
   "metadata": {},
   "outputs": [
    {
     "name": "stdout",
     "output_type": "stream",
     "text": [
      "p\n",
      "w\n",
      "s\n",
      "k\n",
      "i\n",
      "l\n",
      "l\n",
      "s\n"
     ]
    }
   ],
   "source": [
    "#iterators\n",
    "for i in \"pwskills\":\n",
    "    print(i)"
   ]
  },
  {
   "cell_type": "code",
   "execution_count": 3,
   "id": "a8df25c6-d8d1-484f-8ced-e614f28de63a",
   "metadata": {},
   "outputs": [
    {
     "name": "stdout",
     "output_type": "stream",
     "text": [
      "1\n",
      "2\n",
      "3\n",
      "4\n",
      "ajay\n"
     ]
    }
   ],
   "source": [
    "lis = [1,2,3,4,\"ajay\"]\n",
    "for i in lis:\n",
    "    print(i)"
   ]
  },
  {
   "cell_type": "code",
   "execution_count": 4,
   "id": "13f35140-28c4-4d26-94cb-a71d7b5783bc",
   "metadata": {},
   "outputs": [
    {
     "ename": "TypeError",
     "evalue": "'int' object is not iterable",
     "output_type": "error",
     "traceback": [
      "\u001b[1;31m---------------------------------------------------------------------------\u001b[0m",
      "\u001b[1;31mTypeError\u001b[0m                                 Traceback (most recent call last)",
      "Cell \u001b[1;32mIn[4], line 1\u001b[0m\n\u001b[1;32m----> 1\u001b[0m \u001b[38;5;28;43;01mfor\u001b[39;49;00m\u001b[43m \u001b[49m\u001b[43mi\u001b[49m\u001b[43m \u001b[49m\u001b[38;5;129;43;01min\u001b[39;49;00m\u001b[43m \u001b[49m\u001b[38;5;241;43m5\u001b[39;49m\u001b[43m:\u001b[49m\n\u001b[0;32m      2\u001b[0m \u001b[43m    \u001b[49m\u001b[38;5;28;43mprint\u001b[39;49m\u001b[43m(\u001b[49m\u001b[43mi\u001b[49m\u001b[43m)\u001b[49m\n",
      "\u001b[1;31mTypeError\u001b[0m: 'int' object is not iterable"
     ]
    }
   ],
   "source": [
    "for i in 5:\n",
    "    print(i)"
   ]
  },
  {
   "cell_type": "code",
   "execution_count": 5,
   "id": "da7985c5-9664-45ab-bd38-b23efe88244b",
   "metadata": {},
   "outputs": [],
   "source": [
    "#iterator is an object that is used to iterate over iterable objects \n",
    "#list,tuple,dict,string,sets"
   ]
  },
  {
   "cell_type": "code",
   "execution_count": 6,
   "id": "39e582fd-a867-424c-93b7-3fd5ab83d706",
   "metadata": {},
   "outputs": [
    {
     "data": {
      "text/plain": [
       "<str_ascii_iterator at 0x221d28da380>"
      ]
     },
     "execution_count": 6,
     "metadata": {},
     "output_type": "execute_result"
    }
   ],
   "source": [
    "s = \"pwskills\"\n",
    "iter(s)"
   ]
  },
  {
   "cell_type": "code",
   "execution_count": 7,
   "id": "23cb1085-e7d7-448e-8581-4c8f13dd6fd2",
   "metadata": {},
   "outputs": [
    {
     "ename": "TypeError",
     "evalue": "'int' object is not iterable",
     "output_type": "error",
     "traceback": [
      "\u001b[1;31m---------------------------------------------------------------------------\u001b[0m",
      "\u001b[1;31mTypeError\u001b[0m                                 Traceback (most recent call last)",
      "Cell \u001b[1;32mIn[7], line 1\u001b[0m\n\u001b[1;32m----> 1\u001b[0m \u001b[38;5;28;43miter\u001b[39;49m\u001b[43m(\u001b[49m\u001b[38;5;241;43m5\u001b[39;49m\u001b[43m)\u001b[49m\n",
      "\u001b[1;31mTypeError\u001b[0m: 'int' object is not iterable"
     ]
    }
   ],
   "source": [
    "iter(5)"
   ]
  },
  {
   "cell_type": "code",
   "execution_count": 8,
   "id": "35523d45-26fd-491e-909e-ddb05ac74ff6",
   "metadata": {},
   "outputs": [
    {
     "name": "stdout",
     "output_type": "stream",
     "text": [
      "p\n",
      "w\n",
      "s\n",
      "k\n",
      "i\n",
      "l\n",
      "l\n",
      "s\n"
     ]
    }
   ],
   "source": [
    "for i in s:\n",
    "    print(i)"
   ]
  },
  {
   "cell_type": "code",
   "execution_count": 9,
   "id": "126c0fa8-ec0c-45a4-b534-f773823906d8",
   "metadata": {},
   "outputs": [],
   "source": [
    "a=iter(s)"
   ]
  },
  {
   "cell_type": "code",
   "execution_count": 10,
   "id": "7ab42440-0eb5-44df-a6d5-967bde150030",
   "metadata": {},
   "outputs": [
    {
     "data": {
      "text/plain": [
       "<str_ascii_iterator at 0x221d2984280>"
      ]
     },
     "execution_count": 10,
     "metadata": {},
     "output_type": "execute_result"
    }
   ],
   "source": [
    "a"
   ]
  },
  {
   "cell_type": "code",
   "execution_count": 11,
   "id": "cc89ae9b-6d38-4463-b8f4-4272d4c17f59",
   "metadata": {},
   "outputs": [
    {
     "data": {
      "text/plain": [
       "'p'"
      ]
     },
     "execution_count": 11,
     "metadata": {},
     "output_type": "execute_result"
    }
   ],
   "source": [
    " next(a)"
   ]
  },
  {
   "cell_type": "code",
   "execution_count": 12,
   "id": "9ecee6ab-8ae8-4aa3-9bdb-d7dc95e4358b",
   "metadata": {},
   "outputs": [
    {
     "data": {
      "text/plain": [
       "'w'"
      ]
     },
     "execution_count": 12,
     "metadata": {},
     "output_type": "execute_result"
    }
   ],
   "source": [
    "next(a)"
   ]
  },
  {
   "cell_type": "code",
   "execution_count": 14,
   "id": "8be8d708-1a50-40b6-a0e2-a1c2d9cfe80d",
   "metadata": {},
   "outputs": [
    {
     "data": {
      "text/plain": [
       "'s'"
      ]
     },
     "execution_count": 14,
     "metadata": {},
     "output_type": "execute_result"
    }
   ],
   "source": [
    "next(a)"
   ]
  },
  {
   "cell_type": "code",
   "execution_count": 15,
   "id": "4a07c75d-d092-47cd-b805-2b4cc4e68df7",
   "metadata": {},
   "outputs": [
    {
     "name": "stdout",
     "output_type": "stream",
     "text": [
      "p\n",
      "w\n",
      "s\n",
      "k\n",
      "i\n",
      "l\n",
      "l\n",
      "s\n"
     ]
    }
   ],
   "source": [
    "for  i in s:\n",
    "    print(i)"
   ]
  },
  {
   "cell_type": "code",
   "execution_count": 36,
   "id": "c5e68c92-a6d2-4c21-b465-b4ee81d12512",
   "metadata": {},
   "outputs": [],
   "source": [
    "s =\"pwskills\""
   ]
  },
  {
   "cell_type": "code",
   "execution_count": 37,
   "id": "4e917d2d-6398-4d38-a4cb-561c16cc4876",
   "metadata": {},
   "outputs": [
    {
     "name": "stdout",
     "output_type": "stream",
     "text": [
      "p\n",
      "w\n",
      "s\n",
      "k\n",
      "i\n",
      "l\n",
      "l\n",
      "s\n"
     ]
    }
   ],
   "source": [
    "while True:\n",
    "    try:\n",
    "        s = iter(s)\n",
    "        item = next(s)\n",
    "        print(item)\n",
    "    except StopIteration:    \n",
    "        break"
   ]
  },
  {
   "cell_type": "code",
   "execution_count": 38,
   "id": "13f0363e-9376-4113-867e-e31ea31a0cd5",
   "metadata": {},
   "outputs": [
    {
     "name": "stdout",
     "output_type": "stream",
     "text": [
      "p\n",
      "w\n",
      "s\n",
      "k\n",
      "i\n",
      "l\n",
      "l\n",
      "s\n"
     ]
    }
   ],
   "source": [
    "#iterable, iterator, iterate\n",
    "for i in \"pwskills\":\n",
    "    print(i)"
   ]
  },
  {
   "cell_type": "code",
   "execution_count": 39,
   "id": "891be0f1-01d4-47cf-86fa-7f1298bf51a3",
   "metadata": {},
   "outputs": [
    {
     "data": {
      "text/plain": [
       "<str_ascii_iterator at 0x221d29cf8b0>"
      ]
     },
     "execution_count": 39,
     "metadata": {},
     "output_type": "execute_result"
    }
   ],
   "source": [
    "s= \"ajay\"# iterable>>object which can be iterated, ##iterator> to iterate the iterable is to be converted to itrator \n",
    "a=iter(s)"
   ]
  },
  {
   "cell_type": "code",
   "execution_count": 40,
   "id": "3eff4620-2e28-4c45-9a96-e8f3eb496f40",
   "metadata": {},
   "outputs": [
    {
     "data": {
      "text/plain": [
       "'k'"
      ]
     },
     "execution_count": 40,
     "metadata": {},
     "output_type": "execute_result"
    }
   ],
   "source": [
    "next(a)"
   ]
  },
  {
   "cell_type": "code",
   "execution_count": 41,
   "id": "2aaea784-6571-449b-8c11-c86c2d812d88",
   "metadata": {},
   "outputs": [
    {
     "data": {
      "text/plain": [
       "'i'"
      ]
     },
     "execution_count": 41,
     "metadata": {},
     "output_type": "execute_result"
    }
   ],
   "source": [
    "next(a)"
   ]
  },
  {
   "cell_type": "code",
   "execution_count": 42,
   "id": "76f4639b-6054-426f-9e73-e714e1f8db91",
   "metadata": {},
   "outputs": [
    {
     "data": {
      "text/plain": [
       "'l'"
      ]
     },
     "execution_count": 42,
     "metadata": {},
     "output_type": "execute_result"
    }
   ],
   "source": [
    "next(a)\n"
   ]
  },
  {
   "cell_type": "code",
   "execution_count": 43,
   "id": "f1586081-0117-4514-96f7-ed928be778cf",
   "metadata": {},
   "outputs": [
    {
     "data": {
      "text/plain": [
       "'l'"
      ]
     },
     "execution_count": 43,
     "metadata": {},
     "output_type": "execute_result"
    }
   ],
   "source": [
    "next(a)"
   ]
  },
  {
   "cell_type": "code",
   "execution_count": 44,
   "id": "cc5c678f-d84f-458d-b534-99dba8e964d4",
   "metadata": {},
   "outputs": [
    {
     "data": {
      "text/plain": [
       "'s'"
      ]
     },
     "execution_count": 44,
     "metadata": {},
     "output_type": "execute_result"
    }
   ],
   "source": [
    "next(a)"
   ]
  },
  {
   "cell_type": "code",
   "execution_count": 45,
   "id": "bb0b2de7-cee8-459a-b551-2a31045b4998",
   "metadata": {},
   "outputs": [
    {
     "ename": "StopIteration",
     "evalue": "",
     "output_type": "error",
     "traceback": [
      "\u001b[1;31m---------------------------------------------------------------------------\u001b[0m",
      "\u001b[1;31mStopIteration\u001b[0m                             Traceback (most recent call last)",
      "Cell \u001b[1;32mIn[45], line 1\u001b[0m\n\u001b[1;32m----> 1\u001b[0m \u001b[38;5;28;43mnext\u001b[39;49m\u001b[43m(\u001b[49m\u001b[43ma\u001b[49m\u001b[43m)\u001b[49m\n",
      "\u001b[1;31mStopIteration\u001b[0m: "
     ]
    }
   ],
   "source": [
    "next(a)"
   ]
  },
  {
   "cell_type": "code",
   "execution_count": 47,
   "id": "34edd8c1-6e12-44d9-ab11-ff9c6d9b1058",
   "metadata": {},
   "outputs": [
    {
     "data": {
      "text/plain": [
       "1"
      ]
     },
     "execution_count": 47,
     "metadata": {},
     "output_type": "execute_result"
    }
   ],
   "source": [
    "a =iter([1,2,3,4])\n",
    "next(a)"
   ]
  },
  {
   "cell_type": "code",
   "execution_count": 48,
   "id": "3e3904f9-5dd9-40a8-a920-7c5dd9fd5a89",
   "metadata": {},
   "outputs": [
    {
     "data": {
      "text/plain": [
       "2"
      ]
     },
     "execution_count": 48,
     "metadata": {},
     "output_type": "execute_result"
    }
   ],
   "source": [
    "next(a)"
   ]
  },
  {
   "cell_type": "code",
   "execution_count": 49,
   "id": "e62db319-4389-4bcf-bb21-5c6725ca339b",
   "metadata": {},
   "outputs": [
    {
     "data": {
      "text/plain": [
       "3"
      ]
     },
     "execution_count": 49,
     "metadata": {},
     "output_type": "execute_result"
    }
   ],
   "source": [
    "next(a)"
   ]
  },
  {
   "cell_type": "code",
   "execution_count": 50,
   "id": "6e978011-e9b0-4ac7-a568-6d99df380d37",
   "metadata": {},
   "outputs": [
    {
     "data": {
      "text/plain": [
       "4"
      ]
     },
     "execution_count": 50,
     "metadata": {},
     "output_type": "execute_result"
    }
   ],
   "source": [
    "next(a)"
   ]
  },
  {
   "cell_type": "code",
   "execution_count": 51,
   "id": "10a7f4c7-c2eb-49db-9ed6-ee9183dc1887",
   "metadata": {},
   "outputs": [
    {
     "ename": "StopIteration",
     "evalue": "",
     "output_type": "error",
     "traceback": [
      "\u001b[1;31m---------------------------------------------------------------------------\u001b[0m",
      "\u001b[1;31mStopIteration\u001b[0m                             Traceback (most recent call last)",
      "Cell \u001b[1;32mIn[51], line 1\u001b[0m\n\u001b[1;32m----> 1\u001b[0m \u001b[38;5;28;43mnext\u001b[39;49m\u001b[43m(\u001b[49m\u001b[43ma\u001b[49m\u001b[43m)\u001b[49m\n",
      "\u001b[1;31mStopIteration\u001b[0m: "
     ]
    }
   ],
   "source": [
    "next(a)\n",
    "\n"
   ]
  },
  {
   "cell_type": "code",
   "execution_count": 53,
   "id": "7f751b6a-91c5-4e09-91f9-ab31c84d7411",
   "metadata": {},
   "outputs": [
    {
     "data": {
      "text/plain": [
       "1"
      ]
     },
     "execution_count": 53,
     "metadata": {},
     "output_type": "execute_result"
    }
   ],
   "source": [
    "t =iter((1,2,3,4,5))\n",
    "next(t)"
   ]
  },
  {
   "cell_type": "code",
   "execution_count": 54,
   "id": "fac7a925-6ad3-4593-81c1-fccded28daf7",
   "metadata": {},
   "outputs": [
    {
     "data": {
      "text/plain": [
       "2"
      ]
     },
     "execution_count": 54,
     "metadata": {},
     "output_type": "execute_result"
    }
   ],
   "source": [
    "next(t)"
   ]
  },
  {
   "cell_type": "code",
   "execution_count": 55,
   "id": "607f7c01-4a7f-44ae-9764-b89a608a1892",
   "metadata": {},
   "outputs": [
    {
     "data": {
      "text/plain": [
       "3"
      ]
     },
     "execution_count": 55,
     "metadata": {},
     "output_type": "execute_result"
    }
   ],
   "source": [
    "next(t)"
   ]
  },
  {
   "cell_type": "code",
   "execution_count": 56,
   "id": "f0bcb7eb-1a6e-43ad-8540-88da47781dd7",
   "metadata": {},
   "outputs": [],
   "source": [
    "s=iter({1,2,3})"
   ]
  },
  {
   "cell_type": "code",
   "execution_count": 57,
   "id": "5671ad32-019b-4fcd-bb2b-6a09e24f054d",
   "metadata": {},
   "outputs": [
    {
     "data": {
      "text/plain": [
       "1"
      ]
     },
     "execution_count": 57,
     "metadata": {},
     "output_type": "execute_result"
    }
   ],
   "source": [
    "next(s)\n"
   ]
  },
  {
   "cell_type": "code",
   "execution_count": 58,
   "id": "c7fa83fd-7cd4-48a1-8c82-cd776620f59e",
   "metadata": {},
   "outputs": [
    {
     "data": {
      "text/plain": [
       "2"
      ]
     },
     "execution_count": 58,
     "metadata": {},
     "output_type": "execute_result"
    }
   ],
   "source": [
    "next(s)"
   ]
  },
  {
   "cell_type": "code",
   "execution_count": 59,
   "id": "4264ee4d-f5a3-4f38-9a3a-7ae7dc7799d6",
   "metadata": {},
   "outputs": [
    {
     "data": {
      "text/plain": [
       "{'sub': 'ds'}"
      ]
     },
     "execution_count": 59,
     "metadata": {},
     "output_type": "execute_result"
    }
   ],
   "source": [
    "a= {\"sub\":\"ds\"}\n",
    "a"
   ]
  },
  {
   "cell_type": "code",
   "execution_count": 60,
   "id": "b965f3ad-3f24-4574-8276-ee8560aa8d25",
   "metadata": {},
   "outputs": [
    {
     "data": {
      "text/plain": [
       "'sub'"
      ]
     },
     "execution_count": 60,
     "metadata": {},
     "output_type": "execute_result"
    }
   ],
   "source": [
    "d =iter(a)\n",
    "next(d)"
   ]
  },
  {
   "cell_type": "code",
   "execution_count": 63,
   "id": "59bc91a5-b09b-4d98-9760-3b8e2bb006b5",
   "metadata": {},
   "outputs": [],
   "source": [
    "#generator functions\n",
    "#genarator is atype of function which does not return a single value, instead returns an iterator object"
   ]
  },
  {
   "cell_type": "code",
   "execution_count": 65,
   "id": "bfb57fe8-1013-4ddc-9b11-aca0d59e1046",
   "metadata": {},
   "outputs": [
    {
     "data": {
      "text/plain": [
       "[0, 1, 4, 9, 16]"
      ]
     },
     "execution_count": 65,
     "metadata": {},
     "output_type": "execute_result"
    }
   ],
   "source": [
    "#regular function\n",
    "def square_numbers(n):\n",
    "    result=[]\n",
    "    for i in range(n):\n",
    "        result.append(i ** 2)\n",
    "    return result    \n",
    "square_numbers(5)"
   ]
  },
  {
   "cell_type": "code",
   "execution_count": 66,
   "id": "cda9203f-e45f-41ee-83d8-5318e3c4e13a",
   "metadata": {},
   "outputs": [],
   "source": [
    "def square_numbers_genrators(n):\n",
    "    for i in range(n):\n",
    "        yield i**2\n",
    "          "
   ]
  },
  {
   "cell_type": "code",
   "execution_count": 71,
   "id": "bb34ea82-b282-46dc-872b-c5f4fffe1091",
   "metadata": {},
   "outputs": [],
   "source": [
    " gen=square_numbers_genrators(5)"
   ]
  },
  {
   "cell_type": "code",
   "execution_count": 72,
   "id": "ea85d18c-d96a-4198-a24e-04a6a936e49a",
   "metadata": {},
   "outputs": [
    {
     "data": {
      "text/plain": [
       "<generator object square_numbers_genrators at 0x00000221D2F76B50>"
      ]
     },
     "execution_count": 72,
     "metadata": {},
     "output_type": "execute_result"
    }
   ],
   "source": [
    "gen"
   ]
  },
  {
   "cell_type": "code",
   "execution_count": 73,
   "id": "75ddbd4b-5941-4a77-9912-4a6368a79a63",
   "metadata": {},
   "outputs": [
    {
     "data": {
      "text/plain": [
       "0"
      ]
     },
     "execution_count": 73,
     "metadata": {},
     "output_type": "execute_result"
    }
   ],
   "source": [
    "next(gen)"
   ]
  },
  {
   "cell_type": "code",
   "execution_count": 74,
   "id": "99eb0d5d-445c-43fa-bb2d-fa370a16ca2f",
   "metadata": {},
   "outputs": [
    {
     "data": {
      "text/plain": [
       "1"
      ]
     },
     "execution_count": 74,
     "metadata": {},
     "output_type": "execute_result"
    }
   ],
   "source": [
    "next(gen)"
   ]
  },
  {
   "cell_type": "code",
   "execution_count": 75,
   "id": "9b143f81-68f6-4b26-af42-47ef007e1a57",
   "metadata": {},
   "outputs": [
    {
     "data": {
      "text/plain": [
       "4"
      ]
     },
     "execution_count": 75,
     "metadata": {},
     "output_type": "execute_result"
    }
   ],
   "source": [
    "next(gen)\n"
   ]
  },
  {
   "cell_type": "code",
   "execution_count": 76,
   "id": "8afad99c-d181-4f79-a8a5-2530ca0b2db8",
   "metadata": {},
   "outputs": [
    {
     "data": {
      "text/plain": [
       "9"
      ]
     },
     "execution_count": 76,
     "metadata": {},
     "output_type": "execute_result"
    }
   ],
   "source": [
    "next(gen)"
   ]
  },
  {
   "cell_type": "code",
   "execution_count": 77,
   "id": "b2a50979-d2bd-4841-a787-6e94f53dbb5a",
   "metadata": {},
   "outputs": [
    {
     "data": {
      "text/plain": [
       "16"
      ]
     },
     "execution_count": 77,
     "metadata": {},
     "output_type": "execute_result"
    }
   ],
   "source": [
    "next(gen)"
   ]
  },
  {
   "cell_type": "code",
   "execution_count": 78,
   "id": "605c5177-3187-4487-9c23-2d6815722b1b",
   "metadata": {},
   "outputs": [
    {
     "ename": "StopIteration",
     "evalue": "",
     "output_type": "error",
     "traceback": [
      "\u001b[1;31m---------------------------------------------------------------------------\u001b[0m",
      "\u001b[1;31mStopIteration\u001b[0m                             Traceback (most recent call last)",
      "Cell \u001b[1;32mIn[78], line 1\u001b[0m\n\u001b[1;32m----> 1\u001b[0m \u001b[38;5;28;43mnext\u001b[39;49m\u001b[43m(\u001b[49m\u001b[43mgen\u001b[49m\u001b[43m)\u001b[49m\n",
      "\u001b[1;31mStopIteration\u001b[0m: "
     ]
    }
   ],
   "source": [
    "next(gen)"
   ]
  },
  {
   "cell_type": "code",
   "execution_count": 79,
   "id": "b9cd794d-1e08-49eb-b0a1-3c4fb809a852",
   "metadata": {},
   "outputs": [],
   "source": [
    "#fibonacci series 0, 1, 1, 2, 3, 5, 8, 13 ....\n",
    "\n",
    "def fib(n):\n",
    "    a = 0\n",
    "    b = 1\n",
    "    for i in range(n): #if n=5, 0, 1, 2, 3, 4\n",
    "        yield a\n",
    "        a,b = b, a+b"
   ]
  },
  {
   "cell_type": "code",
   "execution_count": 80,
   "id": "15a3d1a5-da4d-49d3-a63d-effd13384f2b",
   "metadata": {},
   "outputs": [],
   "source": [
    "f=fib(10000000)"
   ]
  },
  {
   "cell_type": "code",
   "execution_count": 81,
   "id": "9136ce2f-f8c5-4336-9045-cc632b9d8f7c",
   "metadata": {},
   "outputs": [
    {
     "data": {
      "text/plain": [
       "0"
      ]
     },
     "execution_count": 81,
     "metadata": {},
     "output_type": "execute_result"
    }
   ],
   "source": [
    "next(f)"
   ]
  },
  {
   "cell_type": "code",
   "execution_count": 82,
   "id": "590b3074-6065-490e-b85f-4faec9d5e869",
   "metadata": {},
   "outputs": [
    {
     "data": {
      "text/plain": [
       "1"
      ]
     },
     "execution_count": 82,
     "metadata": {},
     "output_type": "execute_result"
    }
   ],
   "source": [
    "next(f)\n"
   ]
  },
  {
   "cell_type": "code",
   "execution_count": 84,
   "id": "93ffcf66-b164-457d-bddf-1d3e687bec5b",
   "metadata": {},
   "outputs": [
    {
     "data": {
      "text/plain": [
       "2"
      ]
     },
     "execution_count": 84,
     "metadata": {},
     "output_type": "execute_result"
    }
   ],
   "source": [
    "next(f)"
   ]
  },
  {
   "cell_type": "code",
   "execution_count": 85,
   "id": "3bc2b8a7-11eb-4d0c-b518-889ec303acfd",
   "metadata": {},
   "outputs": [
    {
     "data": {
      "text/plain": [
       "3"
      ]
     },
     "execution_count": 85,
     "metadata": {},
     "output_type": "execute_result"
    }
   ],
   "source": [
    "next(f)\n"
   ]
  },
  {
   "cell_type": "code",
   "execution_count": 86,
   "id": "c067d265-e0bf-4a23-ae38-8e692067fccf",
   "metadata": {},
   "outputs": [
    {
     "data": {
      "text/plain": [
       "5"
      ]
     },
     "execution_count": 86,
     "metadata": {},
     "output_type": "execute_result"
    }
   ],
   "source": [
    "next(f)"
   ]
  },
  {
   "cell_type": "code",
   "execution_count": null,
   "id": "3c73909b-2add-4617-8c95-73a48eebbe08",
   "metadata": {},
   "outputs": [],
   "source": []
  }
 ],
 "metadata": {
  "kernelspec": {
   "display_name": "Python 3 (ipykernel)",
   "language": "python",
   "name": "python3"
  },
  "language_info": {
   "codemirror_mode": {
    "name": "ipython",
    "version": 3
   },
   "file_extension": ".py",
   "mimetype": "text/x-python",
   "name": "python",
   "nbconvert_exporter": "python",
   "pygments_lexer": "ipython3",
   "version": "3.12.3"
  }
 },
 "nbformat": 4,
 "nbformat_minor": 5
}
