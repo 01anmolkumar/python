{
 "cells": [
  {
   "cell_type": "code",
   "execution_count": 1,
   "id": "1bf0eaa5-426a-49b5-89fa-a8cf73e2361c",
   "metadata": {},
   "outputs": [],
   "source": [
    "#lamda >> anonymous function\n",
    "#syntex: lamda arguments: expression"
   ]
  },
  {
   "cell_type": "code",
   "execution_count": 2,
   "id": "30aa141a-1d10-4dd3-ac80-cb712808526d",
   "metadata": {},
   "outputs": [],
   "source": [
    "def square(x):\n",
    "    return x**2\n"
   ]
  },
  {
   "cell_type": "code",
   "execution_count": 4,
   "id": "e86033f8-078a-4e4b-9817-12363798055f",
   "metadata": {},
   "outputs": [
    {
     "data": {
      "text/plain": [
       "25"
      ]
     },
     "execution_count": 4,
     "metadata": {},
     "output_type": "execute_result"
    }
   ],
   "source": [
    "square(5)"
   ]
  },
  {
   "cell_type": "code",
   "execution_count": 6,
   "id": "e696d286-2399-4dd1-bd99-a7be21fe083b",
   "metadata": {},
   "outputs": [],
   "source": [
    "sq_lambda = lambda x:x**2"
   ]
  },
  {
   "cell_type": "code",
   "execution_count": 7,
   "id": "1494e892-b522-44f1-aad8-7b5f703e8da5",
   "metadata": {},
   "outputs": [
    {
     "data": {
      "text/plain": [
       "25"
      ]
     },
     "execution_count": 7,
     "metadata": {},
     "output_type": "execute_result"
    }
   ],
   "source": [
    "sq_lambda(5)"
   ]
  },
  {
   "cell_type": "code",
   "execution_count": 9,
   "id": "c03c4df0-5f99-4f95-b32e-69ffd99bc018",
   "metadata": {},
   "outputs": [
    {
     "data": {
      "text/plain": [
       "7"
      ]
     },
     "execution_count": 9,
     "metadata": {},
     "output_type": "execute_result"
    }
   ],
   "source": [
    "add = lambda a,b:a+b\n",
    "add(3,4)"
   ]
  },
  {
   "cell_type": "code",
   "execution_count": 11,
   "id": "d1650ccd-5e1c-4d52-ba97-55dd1c5bf573",
   "metadata": {},
   "outputs": [
    {
     "data": {
      "text/plain": [
       "True"
      ]
     },
     "execution_count": 11,
     "metadata": {},
     "output_type": "execute_result"
    }
   ],
   "source": [
    "is_even = lambda x: x%2 ==0\n",
    "\n",
    "is_even(22)"
   ]
  },
  {
   "cell_type": "code",
   "execution_count": 2,
   "id": "f78cb8f4-03d1-45d1-a75b-ab87e70b5e81",
   "metadata": {},
   "outputs": [
    {
     "name": "stdout",
     "output_type": "stream",
     "text": [
      "['ritu', 'anmol', 'sonali', 'sweeta']\n"
     ]
    }
   ],
   "source": [
    "x=(\"anmol\",\"sonali\",\"sweeta\",\"ritu\")\n",
    "sorted_words=sorted(x, key=lambda x: len(x))\n",
    "print(sorted_words)\n"
   ]
  },
  {
   "cell_type": "code",
   "execution_count": 31,
   "id": "b5d31e10-7bb6-45bc-bd25-87c5ed6abc5d",
   "metadata": {},
   "outputs": [
    {
     "data": {
      "text/plain": [
       "[0, 1, 1, 2, 3, 5, 8, 13, 21, 34]"
      ]
     },
     "execution_count": 31,
     "metadata": {},
     "output_type": "execute_result"
    }
   ],
   "source": [
    "#fibonacci series\n",
    "fib = lambda n: n if n<=1 else fib(n-1) + fib(n-2)\n",
    "[fib(i) for i in range(10)]"
   ]
  },
  {
   "cell_type": "code",
   "execution_count": 9,
   "id": "8abd583e-95be-4bc9-ae00-c123570a0b9e",
   "metadata": {},
   "outputs": [],
   "source": [
    " #factroial of 5*4*3*2*1  #factorial of 0=1 #!5 means factorial 5\n",
    "\n",
    "def fact_num(n):\n",
    "   if n==0:\n",
    "      return 1\n",
    "   else:\n",
    "       return n*fact_num(n-1)\n",
    "    "
   ]
  },
  {
   "cell_type": "code",
   "execution_count": 10,
   "id": "786e4c8c-1ee8-44db-8b09-5abfe518dbc2",
   "metadata": {},
   "outputs": [
    {
     "data": {
      "text/plain": [
       "120"
      ]
     },
     "execution_count": 10,
     "metadata": {},
     "output_type": "execute_result"
    }
   ],
   "source": [
    "fact_num(5)"
   ]
  },
  {
   "cell_type": "code",
   "execution_count": 11,
   "id": "c97f1ac3-8675-4d9f-9b1f-6e1ca71a08b9",
   "metadata": {},
   "outputs": [],
   "source": [
    "fact_num = lambda n: 1 if n==0 else n*fact_num(n-1)"
   ]
  },
  {
   "cell_type": "code",
   "execution_count": 12,
   "id": "4c4d3eb8-4fe3-4c4e-8bb9-63cd76643815",
   "metadata": {},
   "outputs": [
    {
     "data": {
      "text/plain": [
       "120"
      ]
     },
     "execution_count": 12,
     "metadata": {},
     "output_type": "execute_result"
    }
   ],
   "source": [
    "fact_num(5)"
   ]
  },
  {
   "cell_type": "code",
   "execution_count": 13,
   "id": "117d5cb3-5253-4a2f-b7fd-63285c80c446",
   "metadata": {},
   "outputs": [],
   "source": [
    "#map executio a specfied function for each of item of an iterable\n",
    "#syntax >> map(func, *iterables)"
   ]
  },
  {
   "cell_type": "code",
   "execution_count": 14,
   "id": "98edd3e8-43c1-4a23-bada-7ff895a3effa",
   "metadata": {},
   "outputs": [
    {
     "name": "stdout",
     "output_type": "stream",
     "text": [
      "Help on class map in module builtins:\n",
      "\n",
      "class map(object)\n",
      " |  map(func, *iterables) --> map object\n",
      " |\n",
      " |  Make an iterator that computes the function using arguments from\n",
      " |  each of the iterables.  Stops when the shortest iterable is exhausted.\n",
      " |\n",
      " |  Methods defined here:\n",
      " |\n",
      " |  __getattribute__(self, name, /)\n",
      " |      Return getattr(self, name).\n",
      " |\n",
      " |  __iter__(self, /)\n",
      " |      Implement iter(self).\n",
      " |\n",
      " |  __next__(self, /)\n",
      " |      Implement next(self).\n",
      " |\n",
      " |  __reduce__(...)\n",
      " |      Return state information for pickling.\n",
      " |\n",
      " |  ----------------------------------------------------------------------\n",
      " |  Static methods defined here:\n",
      " |\n",
      " |  __new__(*args, **kwargs)\n",
      " |      Create and return a new object.  See help(type) for accurate signature.\n",
      "\n"
     ]
    }
   ],
   "source": [
    "help(map)"
   ]
  },
  {
   "cell_type": "code",
   "execution_count": 15,
   "id": "ffb8ec5c-7a3f-43cf-99f9-529f9be4a546",
   "metadata": {},
   "outputs": [],
   "source": [
    "l = [1,2,3,4,5]\n",
    "\n",
    "def square(l):\n",
    "    sq =[]\n",
    "    for i in l:\n",
    "        sq.append(i**2)\n",
    "     return sq    "
   ]
  },
  {
   "cell_type": "code",
   "execution_count": 20,
   "id": "5fb6c967-e0ce-44aa-a633-b912022335ee",
   "metadata": {},
   "outputs": [
    {
     "data": {
      "text/plain": [
       "[1, 4, 9, 16, 25]"
      ]
     },
     "execution_count": 20,
     "metadata": {},
     "output_type": "execute_result"
    }
   ],
   "source": [
    "square(l)"
   ]
  },
  {
   "cell_type": "code",
   "execution_count": 32,
   "id": "90dc1311-671c-4e7c-ba89-cfb1bc1c8519",
   "metadata": {},
   "outputs": [],
   "source": [
    "def sq(x):\n",
    "    return x**2\n"
   ]
  },
  {
   "cell_type": "code",
   "execution_count": 34,
   "id": "7730575a-a7f3-4327-a8d6-f4263de13b4d",
   "metadata": {},
   "outputs": [
    {
     "data": {
      "text/plain": [
       "[1, 4, 9, 16, 25]"
      ]
     },
     "execution_count": 34,
     "metadata": {},
     "output_type": "execute_result"
    }
   ],
   "source": [
    "list(map(sq,l))"
   ]
  },
  {
   "cell_type": "code",
   "execution_count": 35,
   "id": "b1e272a1-f78b-4b22-9636-7b4916f75592",
   "metadata": {},
   "outputs": [
    {
     "data": {
      "text/plain": [
       "[11, 12, 13, 14, 15]"
      ]
     },
     "execution_count": 35,
     "metadata": {},
     "output_type": "execute_result"
    }
   ],
   "source": [
    "def add(x):\n",
    "    return x + 10\n",
    "\n",
    "list(map(add,l))"
   ]
  },
  {
   "cell_type": "code",
   "execution_count": 36,
   "id": "62541295-8eee-4e44-ab3c-905d91df5264",
   "metadata": {},
   "outputs": [
    {
     "data": {
      "text/plain": [
       "[1, 4, 9, 16, 25]"
      ]
     },
     "execution_count": 36,
     "metadata": {},
     "output_type": "execute_result"
    }
   ],
   "source": [
    "def sq(x):\n",
    "    return x**2\n",
    "\n",
    "list(map(sq,l))"
   ]
  },
  {
   "cell_type": "code",
   "execution_count": 37,
   "id": "2597abda-ca8c-4ddf-bfca-d879f1f12cc0",
   "metadata": {},
   "outputs": [
    {
     "data": {
      "text/plain": [
       "[1, 4, 9, 16, 25]"
      ]
     },
     "execution_count": 37,
     "metadata": {},
     "output_type": "execute_result"
    }
   ],
   "source": [
    "#using Lambda\n",
    "list(map(lambda x: x**2,l))"
   ]
  },
  {
   "cell_type": "code",
   "execution_count": 38,
   "id": "0a8dbaab-3d9a-469d-a380-433ddad2f56b",
   "metadata": {},
   "outputs": [
    {
     "data": {
      "text/plain": [
       "[11, 12, 13, 14, 15]"
      ]
     },
     "execution_count": 38,
     "metadata": {},
     "output_type": "execute_result"
    }
   ],
   "source": [
    "list(map(lambda x: x+10,l))"
   ]
  },
  {
   "cell_type": "code",
   "execution_count": 39,
   "id": "fa96657a-f700-4172-a5dc-2db07e89a3de",
   "metadata": {},
   "outputs": [
    {
     "data": {
      "text/plain": [
       "[1, 4, 9, 16, 25]"
      ]
     },
     "execution_count": 39,
     "metadata": {},
     "output_type": "execute_result"
    }
   ],
   "source": [
    "a=(lambda x: x**2)\n",
    "list(map(a,l))"
   ]
  },
  {
   "cell_type": "code",
   "execution_count": 40,
   "id": "59f5afb1-96c3-4e01-be8d-6143fa17e4a3",
   "metadata": {},
   "outputs": [
    {
     "data": {
      "text/plain": [
       "[1, 2, 3, 100]"
      ]
     },
     "execution_count": 40,
     "metadata": {},
     "output_type": "execute_result"
    }
   ],
   "source": [
    "l = [\"1\" , \"2\", \"3\", \"100\"]\n",
    "list(map(lambda x: int(x),l))"
   ]
  },
  {
   "cell_type": "code",
   "execution_count": 42,
   "id": "837df1e7-7994-49dd-9998-06f749937a62",
   "metadata": {},
   "outputs": [
    {
     "data": {
      "text/plain": [
       "[101, 202, 303, 404]"
      ]
     },
     "execution_count": 42,
     "metadata": {},
     "output_type": "execute_result"
    }
   ],
   "source": [
    "l1 =[100,200,300,400]\n",
    "l2 =[1,2,3,4]\n",
    "list(map(lambda x,y: x+y,l1,l2))"
   ]
  },
  {
   "cell_type": "code",
   "execution_count": 44,
   "id": "eb691ee3-d83b-4787-a948-dbcef3104061",
   "metadata": {},
   "outputs": [
    {
     "data": {
      "text/plain": [
       "['P', 'W', 'S', 'K', 'I', 'L', 'L', 'S']"
      ]
     },
     "execution_count": 44,
     "metadata": {},
     "output_type": "execute_result"
    }
   ],
   "source": [
    "s=\"pwskills\"\n",
    "list(map(lambda x:x.upper(),s))"
   ]
  },
  {
   "cell_type": "code",
   "execution_count": 52,
   "id": "29e04fe3-2544-4dd2-b8ae-102e92d38529",
   "metadata": {},
   "outputs": [
    {
     "data": {
      "text/plain": [
       "['Python', 'Ajay']"
      ]
     },
     "execution_count": 52,
     "metadata": {},
     "output_type": "execute_result"
    }
   ],
   "source": [
    "words =[\"python\",\"ajay\"]\n",
    "list(map(str.capitalize,words))"
   ]
  },
  {
   "cell_type": "code",
   "execution_count": 53,
   "id": "dbd56200-b59c-41a9-9bf3-b2e572105f3f",
   "metadata": {},
   "outputs": [],
   "source": [
    "#reduce >> folating/reduction\n",
    "from functools import reduce"
   ]
  },
  {
   "cell_type": "code",
   "execution_count": 57,
   "id": "d5bf809c-6259-48e5-8134-5776e231f956",
   "metadata": {},
   "outputs": [
    {
     "data": {
      "text/plain": [
       "21"
      ]
     },
     "execution_count": 57,
     "metadata": {},
     "output_type": "execute_result"
    }
   ],
   "source": [
    "l=[1,2,3,4,5,6]\n",
    "reduce(lambda x,y: x+y,l)"
   ]
  },
  {
   "cell_type": "code",
   "execution_count": 59,
   "id": "98b3cbda-8901-4614-9c1f-b811ca70436d",
   "metadata": {},
   "outputs": [
    {
     "data": {
      "text/plain": [
       "21"
      ]
     },
     "execution_count": 59,
     "metadata": {},
     "output_type": "execute_result"
    }
   ],
   "source": [
    "def add(x,y):\n",
    "    return x+y\n",
    "\n",
    "reduce(add,l)\n"
   ]
  },
  {
   "cell_type": "code",
   "execution_count": 60,
   "id": "a16e9d89-c855-43b5-a40b-102f64e0af4e",
   "metadata": {},
   "outputs": [
    {
     "ename": "TypeError",
     "evalue": "<lambda>() missing 1 required positional argument: 'z'",
     "output_type": "error",
     "traceback": [
      "\u001b[1;31m---------------------------------------------------------------------------\u001b[0m",
      "\u001b[1;31mTypeError\u001b[0m                                 Traceback (most recent call last)",
      "Cell \u001b[1;32mIn[60], line 2\u001b[0m\n\u001b[0;32m      1\u001b[0m l\u001b[38;5;241m=\u001b[39m[\u001b[38;5;241m1\u001b[39m,\u001b[38;5;241m2\u001b[39m,\u001b[38;5;241m3\u001b[39m,\u001b[38;5;241m4\u001b[39m,\u001b[38;5;241m5\u001b[39m,\u001b[38;5;241m6\u001b[39m]\n\u001b[1;32m----> 2\u001b[0m \u001b[43mreduce\u001b[49m\u001b[43m(\u001b[49m\u001b[38;5;28;43;01mlambda\u001b[39;49;00m\u001b[43m \u001b[49m\u001b[43mx\u001b[49m\u001b[43m,\u001b[49m\u001b[43my\u001b[49m\u001b[43m,\u001b[49m\u001b[43mz\u001b[49m\u001b[43m:\u001b[49m\u001b[43m \u001b[49m\u001b[43mx\u001b[49m\u001b[38;5;241;43m+\u001b[39;49m\u001b[43my\u001b[49m\u001b[38;5;241;43m+\u001b[39;49m\u001b[43mz\u001b[49m\u001b[43m,\u001b[49m\u001b[43ml\u001b[49m\u001b[43m)\u001b[49m\n",
      "\u001b[1;31mTypeError\u001b[0m: <lambda>() missing 1 required positional argument: 'z'"
     ]
    }
   ],
   "source": [
    "l=[1,2,3,4,5,6]\n",
    "reduce(lambda x,y,z: x+y+z,l)"
   ]
  },
  {
   "cell_type": "code",
   "execution_count": 61,
   "id": "df269157-cd37-4429-9ad8-5dc7c8b1587c",
   "metadata": {},
   "outputs": [
    {
     "data": {
      "text/plain": [
       "720"
      ]
     },
     "execution_count": 61,
     "metadata": {},
     "output_type": "execute_result"
    }
   ],
   "source": [
    "reduce(lambda x,y: x*y,l)"
   ]
  },
  {
   "cell_type": "code",
   "execution_count": 63,
   "id": "926535ea-7936-4dc0-8aa4-00bc910dedd1",
   "metadata": {},
   "outputs": [
    {
     "data": {
      "text/plain": [
       "'data science course'"
      ]
     },
     "execution_count": 63,
     "metadata": {},
     "output_type": "execute_result"
    }
   ],
   "source": [
    "words = [\"data\", \"science\" , \"course\"]\n",
    "reduce(lambda x,y : x + \" \" +y,words)"
   ]
  },
  {
   "cell_type": "code",
   "execution_count": 64,
   "id": "2d0772d4-5a00-411e-af1f-93ff1d956e14",
   "metadata": {},
   "outputs": [
    {
     "data": {
      "text/plain": [
       "1000"
      ]
     },
     "execution_count": 64,
     "metadata": {},
     "output_type": "execute_result"
    }
   ],
   "source": [
    "numbers =[1,2,5,3,100,1000,6,1000]\n",
    "reduce(lambda x,y:x if x>y else y ,numbers)"
   ]
  },
  {
   "cell_type": "code",
   "execution_count": 65,
   "id": "b6450b54-ff90-4a3b-b495-ad23edcd7584",
   "metadata": {},
   "outputs": [],
   "source": [
    "def factorial(n):\n",
    "    return reduce(lambda x,y: x*y, range(1,n+1))"
   ]
  },
  {
   "cell_type": "code",
   "execution_count": 66,
   "id": "7952bfe4-ea30-4ede-bd3e-16795342ce7f",
   "metadata": {},
   "outputs": [
    {
     "data": {
      "text/plain": [
       "120"
      ]
     },
     "execution_count": 66,
     "metadata": {},
     "output_type": "execute_result"
    }
   ],
   "source": [
    "factorial(5)"
   ]
  },
  {
   "cell_type": "code",
   "execution_count": 67,
   "id": "4dbbb1c9-2762-4b60-bf43-72e86b280ec5",
   "metadata": {},
   "outputs": [],
   "source": [
    "#filter function >> is used to filter element from an iterable based on some certain condition\n",
    "#syntax >> filter(function,iterable)"
   ]
  },
  {
   "cell_type": "code",
   "execution_count": 68,
   "id": "b27adf65-83b5-4fba-bf25-12f804d1e9b6",
   "metadata": {},
   "outputs": [
    {
     "data": {
      "text/plain": [
       "[1, 2, 3, 4, 5, 6]"
      ]
     },
     "execution_count": 68,
     "metadata": {},
     "output_type": "execute_result"
    }
   ],
   "source": [
    "l"
   ]
  },
  {
   "cell_type": "code",
   "execution_count": 71,
   "id": "eb6f92e6-b498-4bad-a90b-dd0378a3ecef",
   "metadata": {},
   "outputs": [
    {
     "data": {
      "text/plain": [
       "[2, 4, 6]"
      ]
     },
     "execution_count": 71,
     "metadata": {},
     "output_type": "execute_result"
    }
   ],
   "source": [
    "list(filter(lambda x: x%2 == 0,l))"
   ]
  },
  {
   "cell_type": "code",
   "execution_count": 72,
   "id": "c0134757-e875-4e3b-8cf0-eba85e761a60",
   "metadata": {},
   "outputs": [
    {
     "data": {
      "text/plain": [
       "[1, 3, 5]"
      ]
     },
     "execution_count": 72,
     "metadata": {},
     "output_type": "execute_result"
    }
   ],
   "source": [
    "list(filter(lambda x: x%2 != 0,l))"
   ]
  },
  {
   "cell_type": "code",
   "execution_count": 73,
   "id": "6cf1008a-4066-4125-96ab-bf8ad805ada8",
   "metadata": {},
   "outputs": [
    {
     "data": {
      "text/plain": [
       "[-2, -1]"
      ]
     },
     "execution_count": 73,
     "metadata": {},
     "output_type": "execute_result"
    }
   ],
   "source": [
    "l1 = [-2,-1,4,5,6]\n",
    "list(filter(lambda x: x < 0,l1))"
   ]
  },
  {
   "cell_type": "code",
   "execution_count": 74,
   "id": "50d20162-4dbc-4a12-a1fd-6aa9ac9811d0",
   "metadata": {},
   "outputs": [
    {
     "data": {
      "text/plain": [
       "[4, 5, 6]"
      ]
     },
     "execution_count": 74,
     "metadata": {},
     "output_type": "execute_result"
    }
   ],
   "source": [
    "l1 = [-2,-1,4,5,6]\n",
    "list(filter(lambda x: x >= 0,l1))"
   ]
  },
  {
   "cell_type": "code",
   "execution_count": 75,
   "id": "4c9f957b-188f-46b8-a349-1b0d5b3acb80",
   "metadata": {},
   "outputs": [
    {
     "data": {
      "text/plain": [
       "['ajay', 'data', 'pwskills']"
      ]
     },
     "execution_count": 75,
     "metadata": {},
     "output_type": "execute_result"
    }
   ],
   "source": [
    "s=[\"ajay\",\"cmu\",\"data\",\"pwskills\"]\n",
    "list(filter(lambda x: len(x) >3,s))"
   ]
  },
  {
   "cell_type": "code",
   "execution_count": 76,
   "id": "f4047147-1169-4e6e-b990-b0b11d8e0a5e",
   "metadata": {},
   "outputs": [],
   "source": [
    "def check_even(num):\n",
    "    if num %2 == 0:\n",
    "        return True\n",
    "    return False    "
   ]
  },
  {
   "cell_type": "code",
   "execution_count": 78,
   "id": "242d4ca8-3d63-4e99-9cc9-b2339bf21ad0",
   "metadata": {},
   "outputs": [
    {
     "data": {
      "text/plain": [
       "[2, 4, 6, 8, 10]"
      ]
     },
     "execution_count": 78,
     "metadata": {},
     "output_type": "execute_result"
    }
   ],
   "source": [
    "num = [1,2,4,6,8,10]\n",
    "list(filter(check_even,num))"
   ]
  },
  {
   "cell_type": "code",
   "execution_count": null,
   "id": "bbff4302-79ea-4b4b-9495-0d1681d01761",
   "metadata": {},
   "outputs": [],
   "source": []
  }
 ],
 "metadata": {
  "kernelspec": {
   "display_name": "Python 3 (ipykernel)",
   "language": "python",
   "name": "python3"
  },
  "language_info": {
   "codemirror_mode": {
    "name": "ipython",
    "version": 3
   },
   "file_extension": ".py",
   "mimetype": "text/x-python",
   "name": "python",
   "nbconvert_exporter": "python",
   "pygments_lexer": "ipython3",
   "version": "3.12.3"
  }
 },
 "nbformat": 4,
 "nbformat_minor": 5
}
