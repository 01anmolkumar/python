{
 "cells": [
  {
   "cell_type": "code",
   "execution_count": 1,
   "id": "fb103ea1-0af6-4e30-8e72-bf4a1e4b3cf7",
   "metadata": {},
   "outputs": [
    {
     "data": {
      "text/plain": [
       "2.5"
      ]
     },
     "execution_count": 1,
     "metadata": {},
     "output_type": "execute_result"
    }
   ],
   "source": [
    "10/4\n"
   ]
  },
  {
   "cell_type": "code",
   "execution_count": 2,
   "id": "5c4e5212-7920-418e-81f5-2a552b805566",
   "metadata": {},
   "outputs": [
    {
     "ename": "ZeroDivisionError",
     "evalue": "division by zero",
     "output_type": "error",
     "traceback": [
      "\u001b[1;31m---------------------------------------------------------------------------\u001b[0m",
      "\u001b[1;31mZeroDivisionError\u001b[0m                         Traceback (most recent call last)",
      "Cell \u001b[1;32mIn[2], line 1\u001b[0m\n\u001b[1;32m----> 1\u001b[0m \u001b[38;5;241;43m10\u001b[39;49m\u001b[38;5;241;43m/\u001b[39;49m\u001b[38;5;241;43m0\u001b[39;49m\n",
      "\u001b[1;31mZeroDivisionError\u001b[0m: division by zero"
     ]
    }
   ],
   "source": [
    "10/0\n"
   ]
  },
  {
   "cell_type": "code",
   "execution_count": 3,
   "id": "70ef54b8-4062-402b-bdff-ed1772895549",
   "metadata": {},
   "outputs": [
    {
     "name": "stdout",
     "output_type": "stream",
     "text": [
      "division by zero\n"
     ]
    }
   ],
   "source": [
    "C"
   ]
  },
  {
   "cell_type": "code",
   "execution_count": 4,
   "id": "7992ff84-ff12-44ae-b314-ad954afa6b45",
   "metadata": {},
   "outputs": [
    {
     "name": "stdout",
     "output_type": "stream",
     "text": [
      "here i am handling the zero division error division by zero\n"
     ]
    }
   ],
   "source": [
    "try:\n",
    "    10/0\n",
    "except ZeroDivisionError as e:\n",
    "    print(\"here i am handling the zero division error\",e)\n"
   ]
  },
  {
   "cell_type": "code",
   "execution_count": 5,
   "id": "a5ecfe83-9d4b-4b68-af3c-e023964a1cd9",
   "metadata": {},
   "outputs": [],
   "source": [
    "#this is not best practice,always go for specific exception\n",
    "# try:\n",
    "#    10/0\n",
    "# except :\n",
    "#     print(\"this is some error\")\n",
    " "
   ]
  },
  {
   "cell_type": "code",
   "execution_count": 6,
   "id": "55089d87-169b-4bdb-a2d4-7282beac53f9",
   "metadata": {},
   "outputs": [
    {
     "ename": "ValueError",
     "evalue": "invalid literal for int() with base 10: 'pwskills'",
     "output_type": "error",
     "traceback": [
      "\u001b[1;31m---------------------------------------------------------------------------\u001b[0m",
      "\u001b[1;31mValueError\u001b[0m                                Traceback (most recent call last)",
      "Cell \u001b[1;32mIn[6], line 1\u001b[0m\n\u001b[1;32m----> 1\u001b[0m \u001b[38;5;28;43mint\u001b[39;49m\u001b[43m(\u001b[49m\u001b[38;5;124;43m\"\u001b[39;49m\u001b[38;5;124;43mpwskills\u001b[39;49m\u001b[38;5;124;43m\"\u001b[39;49m\u001b[43m)\u001b[49m\n",
      "\u001b[1;31mValueError\u001b[0m: invalid literal for int() with base 10: 'pwskills'"
     ]
    }
   ],
   "source": [
    "int(\"pwskills\")"
   ]
  },
  {
   "cell_type": "code",
   "execution_count": 8,
   "id": "1b16d989-05a6-4a43-a666-69585f8dfcc9",
   "metadata": {},
   "outputs": [
    {
     "name": "stdout",
     "output_type": "stream",
     "text": [
      "the string can not be convert to interger invalid literal for int() with base 10: 'pwskills'\n"
     ]
    }
   ],
   "source": [
    "try:\n",
    "    int(\"pwskills\")\n",
    "except ValueError as e:\n",
    "    print(\"the string can not be convert to interger\",e)\n"
   ]
  },
  {
   "cell_type": "code",
   "execution_count": 9,
   "id": "a7da94ef-bfb1-4db1-a3b0-9a381014542a",
   "metadata": {},
   "outputs": [
    {
     "name": "stdout",
     "output_type": "stream",
     "text": [
      "the string can not be convert to interger invalid literal for int() with base 10: 'pwskills'\n"
     ]
    }
   ],
   "source": [
    "try:\n",
    "    int(\"pwskills\")\n",
    "except (ValueError,TypeError) as e:\n",
    "    print(\"the string can not be convert to interger\",e)\n"
   ]
  },
  {
   "cell_type": "code",
   "execution_count": 10,
   "id": "4aad2763-bd07-4a1a-8f48-2576fc92ca97",
   "metadata": {},
   "outputs": [],
   "source": [
    "import csv"
   ]
  },
  {
   "cell_type": "code",
   "execution_count": 13,
   "id": "4972daf7-de10-441b-8d64-aeec02f4e09e",
   "metadata": {},
   "outputs": [
    {
     "name": "stdout",
     "output_type": "stream",
     "text": [
      "the module not found No module named 'pwskills'\n"
     ]
    }
   ],
   "source": [
    "try:\n",
    "    import pwskills\n",
    "except ModuleNotFoundError as e:\n",
    "    print(\"the module not found\",e)\n"
   ]
  },
  {
   "cell_type": "code",
   "execution_count": 14,
   "id": "18bfbc64-0d43-42eb-9ed6-7d4a10eb2e7c",
   "metadata": {},
   "outputs": [
    {
     "ename": "NameError",
     "evalue": "name 'test' is not defined",
     "output_type": "error",
     "traceback": [
      "\u001b[1;31m---------------------------------------------------------------------------\u001b[0m",
      "\u001b[1;31mNameError\u001b[0m                                 Traceback (most recent call last)",
      "Cell \u001b[1;32mIn[14], line 1\u001b[0m\n\u001b[1;32m----> 1\u001b[0m \u001b[43mtest\u001b[49m()\n",
      "\u001b[1;31mNameError\u001b[0m: name 'test' is not defined"
     ]
    }
   ],
   "source": [
    "test()"
   ]
  },
  {
   "cell_type": "code",
   "execution_count": 16,
   "id": "77df671f-b9e6-4b38-a458-52ee0ba73517",
   "metadata": {},
   "outputs": [
    {
     "name": "stdout",
     "output_type": "stream",
     "text": [
      "name 'test' is not defined\n"
     ]
    }
   ],
   "source": [
    "try:\n",
    "    test()\n",
    "except NameError as e:\n",
    "    print(e)\n"
   ]
  },
  {
   "cell_type": "code",
   "execution_count": 1,
   "id": "816c9654-6a74-4a0a-9e3f-30e692f24a3d",
   "metadata": {},
   "outputs": [],
   "source": [
    "d ={\"name\":\"ajay\",\"class\":\"ds\"}"
   ]
  },
  {
   "cell_type": "code",
   "execution_count": 2,
   "id": "8db2c6ad-3417-4540-a97e-6769fe4939e0",
   "metadata": {},
   "outputs": [
    {
     "data": {
      "text/plain": [
       "'ajay'"
      ]
     },
     "execution_count": 2,
     "metadata": {},
     "output_type": "execute_result"
    }
   ],
   "source": [
    "d[\"name\"]"
   ]
  },
  {
   "cell_type": "code",
   "execution_count": 3,
   "id": "3fbbb836-1dba-40fa-a4a9-6fd165832fa3",
   "metadata": {},
   "outputs": [
    {
     "ename": "KeyError",
     "evalue": "'fee'",
     "output_type": "error",
     "traceback": [
      "\u001b[1;31m---------------------------------------------------------------------------\u001b[0m",
      "\u001b[1;31mKeyError\u001b[0m                                  Traceback (most recent call last)",
      "Cell \u001b[1;32mIn[3], line 1\u001b[0m\n\u001b[1;32m----> 1\u001b[0m \u001b[43md\u001b[49m\u001b[43m[\u001b[49m\u001b[38;5;124;43m\"\u001b[39;49m\u001b[38;5;124;43mfee\u001b[39;49m\u001b[38;5;124;43m\"\u001b[39;49m\u001b[43m]\u001b[49m\n",
      "\u001b[1;31mKeyError\u001b[0m: 'fee'"
     ]
    }
   ],
   "source": [
    "d[\"fee\"]"
   ]
  },
  {
   "cell_type": "code",
   "execution_count": 6,
   "id": "663890f8-25b2-444e-82bb-5fe66e572e54",
   "metadata": {},
   "outputs": [
    {
     "name": "stdout",
     "output_type": "stream",
     "text": [
      "the key is not found 'fee'\n"
     ]
    }
   ],
   "source": [
    "try:\n",
    "    d={\"name\":\"ajay\",\"class\":\"ds\"}\n",
    "    d[\"fee\"]\n",
    "except KeyError as e:\n",
    "    print(\"the key is not found\",e)\n"
   ]
  },
  {
   "cell_type": "code",
   "execution_count": 10,
   "id": "3ebb4b7f-25f2-4bb2-88ef-2669970260db",
   "metadata": {},
   "outputs": [
    {
     "name": "stdout",
     "output_type": "stream",
     "text": [
      "list index out of range\n"
     ]
    }
   ],
   "source": [
    "try:\n",
    "    l =[1,2,3]\n",
    "    l[4]\n",
    "except IndexError as e:\n",
    "    print(e)\n",
    "\n"
   ]
  },
  {
   "cell_type": "code",
   "execution_count": 14,
   "id": "105e5d37-c769-4dec-8c66-79758dea10c3",
   "metadata": {},
   "outputs": [
    {
     "name": "stdout",
     "output_type": "stream",
     "text": [
      "my file not found [Errno 2] No such file or directory: 'example.text'\n"
     ]
    }
   ],
   "source": [
    "try:\n",
    "    f= open(\"example.text\",\"r\")\n",
    "    f.read()\n",
    "except FileNotFoundError  as e:\n",
    "    print(\"my file not found\",e)\n",
    "\n",
    "\n",
    "\n"
   ]
  },
  {
   "cell_type": "code",
   "execution_count": 16,
   "id": "02eade87-9f91-431b-bc4c-801fa17c660c",
   "metadata": {},
   "outputs": [
    {
     "name": "stdout",
     "output_type": "stream",
     "text": [
      "first msg [Errno 2] No such file or directory: 'example.text'\n"
     ]
    }
   ],
   "source": [
    "try:\n",
    "    f= open(\"example.text\",\"r\")\n",
    "    f.read()\n",
    "\n",
    "except Exception as e:\n",
    "    print(\"first msg\",e)\n",
    "except FileNotFoundError  as e:\n",
    "    print(\"my file not found\",e)\n",
    "\n",
    "\n"
   ]
  },
  {
   "cell_type": "code",
   "execution_count": 26,
   "id": "1ab92d97-359d-4446-9dc3-1dc08514a295",
   "metadata": {},
   "outputs": [
    {
     "name": "stderr",
     "output_type": "stream",
     "text": [
      "ERROR:root:This is my error [Errno 2] No such file or directory: 'example1.txt'\n"
     ]
    }
   ],
   "source": [
    "#always try to log\n",
    "import logging\n",
    "logging.basicConfig(filename = \"program.log\", level = logging.DEBUG)\n",
    "try:\n",
    "    f = open(\"example1.txt\", \"r\")\n",
    "    f.read()\n",
    "except FileNotFoundError as e:\n",
    "    logging.error(f\"This is my error {e}\")\n",
    "             "
   ]
  },
  {
   "cell_type": "code",
   "execution_count": 6,
   "id": "cc19242e-742e-448c-b836-1d623c17f4d8",
   "metadata": {},
   "outputs": [],
   "source": [
    "#always try to log\n",
    "import logging\n",
    "logging.basicConfig(filename = \"program1.log\", level = logging.DEBUG)\n",
    "try:\n",
    "    10/0\n",
    "except ZeroDivisionError as e:\n",
    "    logging.error(f\"This is my zero divison {e}\")"
   ]
  },
  {
   "cell_type": "code",
   "execution_count": 7,
   "id": "67bd657a-7193-40ee-96ac-f6a823c3c184",
   "metadata": {},
   "outputs": [],
   "source": [
    "def test(file):\n",
    "    try:\n",
    "        f = open(file, \"r\")\n",
    "        f.read()\n",
    "    except FileNotFoundError as e:\n",
    "        print(f\"This is my error {e}\")"
   ]
  },
  {
   "cell_type": "code",
   "execution_count": 8,
   "id": "1e6dac6d-9f2c-426c-b229-d21d813de132",
   "metadata": {},
   "outputs": [
    {
     "name": "stdout",
     "output_type": "stream",
     "text": [
      "This is my error [Errno 2] No such file or directory: 'example1.txt'\n"
     ]
    }
   ],
   "source": [
    "test(\"example1.txt\")"
   ]
  },
  {
   "cell_type": "code",
   "execution_count": 9,
   "id": "58320aa3-0c2d-4204-bc1a-d5472c0289a5",
   "metadata": {},
   "outputs": [
    {
     "name": "stdout",
     "output_type": "stream",
     "text": [
      "My file not found [Errno 2] No such file or directory: 'example1.txt'\n"
     ]
    }
   ],
   "source": [
    "#dont try use unnecessary exception/multiple exception\n",
    "\n",
    "try:\n",
    "    f = open(\"example1.txt\", \"r\")\n",
    "    f.read()\n",
    "except ZeroDivisionError as e:\n",
    "    print(\"first msg\", e)\n",
    "except FileNotFoundError as e:\n",
    "    print(\"My file not found\", e)"
   ]
  },
  {
   "cell_type": "code",
   "execution_count": 10,
   "id": "6d5e5c36-c33d-4ba3-aa8d-c6d34e279c47",
   "metadata": {},
   "outputs": [
    {
     "data": {
      "text/plain": [
       "'\\nThis is my documentation\\n'"
      ]
     },
     "execution_count": 10,
     "metadata": {},
     "output_type": "execute_result"
    }
   ],
   "source": [
    "#give proper documentation, proiper comments\n",
    "\n",
    "\"\"\"\n",
    "This is my documentation\n",
    "\"\"\""
   ]
  },
  {
   "cell_type": "code",
   "execution_count": null,
   "id": "276c42f2-a64b-4dff-abef-8be6b40484f5",
   "metadata": {},
   "outputs": [],
   "source": [
    "#always cleanup all the resources\n",
    "\n",
    "try:\n",
    "    f = open(\"example1.txt\",\"w\")\n",
    "    f.write(\"hello world\")\n",
    "except FileNotFound as e\n",
    "\n"
   ]
  }
 ],
 "metadata": {
  "kernelspec": {
   "display_name": "Python 3 (ipykernel)",
   "language": "python",
   "name": "python3"
  },
  "language_info": {
   "codemirror_mode": {
    "name": "ipython",
    "version": 3
   },
   "file_extension": ".py",
   "mimetype": "text/x-python",
   "name": "python",
   "nbconvert_exporter": "python",
   "pygments_lexer": "ipython3",
   "version": "3.12.3"
  }
 },
 "nbformat": 4,
 "nbformat_minor": 5
}
