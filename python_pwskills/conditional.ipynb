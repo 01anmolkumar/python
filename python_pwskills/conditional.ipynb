{
 "cells": [
  {
   "cell_type": "code",
   "execution_count": 4,
   "id": "19c471f8-501b-4056-9636-6e378a7b758e",
   "metadata": {},
   "outputs": [
    {
     "name": "stdout",
     "output_type": "stream",
     "text": [
      "ypu are on right track!\n"
     ]
    }
   ],
   "source": [
    "## if statement\n",
    "course= \"data science\"\n",
    "if course == \"data science\":\n",
    "     print(\"ypu are on right track!\")\n"
   ]
  },
  {
   "cell_type": "code",
   "execution_count": 6,
   "id": "fcaa09a2-f3c4-43e8-af39-b788d1e5eca3",
   "metadata": {},
   "outputs": [
    {
     "name": "stdout",
     "output_type": "stream",
     "text": [
      "impressive pwskills!\n"
     ]
    }
   ],
   "source": [
    "markes = 90\n",
    "if markes >= 90:\n",
    "    print(\"impressive pwskills!\")"
   ]
  },
  {
   "cell_type": "code",
   "execution_count": 8,
   "id": "f02fdbc6-8060-4d01-8eb5-b4622c891daf",
   "metadata": {},
   "outputs": [
    {
     "name": "stdout",
     "output_type": "stream",
     "text": [
      "the number is even\n"
     ]
    }
   ],
   "source": [
    "number= 42 \n",
    "if number % 2 == 0:\n",
    "    print(\"the number is even\")"
   ]
  },
  {
   "cell_type": "code",
   "execution_count": 9,
   "id": "36311dee-5ebe-491a-9e1a-126564a5be7a",
   "metadata": {},
   "outputs": [
    {
     "name": "stdout",
     "output_type": "stream",
     "text": [
      "x is not greater than 5\n"
     ]
    }
   ],
   "source": [
    "## if_else\n",
    "x=1\n",
    "if x>5:\n",
    "    print(\"x is greater than 5\")\n",
    "else:\n",
    "    print(\"x is not greater than 5\")"
   ]
  },
  {
   "cell_type": "code",
   "execution_count": 10,
   "id": "1a9ee81c-fe68-4f29-b63b-22558f526acc",
   "metadata": {},
   "outputs": [
    {
     "name": "stdout",
     "output_type": "stream",
     "text": [
      "not a adult\n"
     ]
    }
   ],
   "source": [
    "age = 20\n",
    "if age >=21:\n",
    "    print(\"allowed\")\n",
    "else:\n",
    "    print(\"not a adult\")"
   ]
  },
  {
   "cell_type": "code",
   "execution_count": 16,
   "id": "4dea8215-3dd9-4246-b5d4-5d838ed86ed9",
   "metadata": {},
   "outputs": [
    {
     "name": "stdin",
     "output_type": "stream",
     "text": [
      " 10\n"
     ]
    },
    {
     "name": "stdout",
     "output_type": "stream",
     "text": [
      "even\n"
     ]
    }
   ],
   "source": [
    "#check even or odd\n",
    "\n",
    "n= int(input())\n",
    "if n%2==0:\n",
    "    print(\"even\")\n",
    "else:\n",
    "    print(\"odd\")"
   ]
  },
  {
   "cell_type": "code",
   "execution_count": 18,
   "id": "b4ae1a44-597d-4a89-9693-79003434ed42",
   "metadata": {},
   "outputs": [
    {
     "name": "stdout",
     "output_type": "stream",
     "text": [
      "fail\n"
     ]
    }
   ],
   "source": [
    "score =20\n",
    "if score>=33:\n",
    "    print (\"pass\")\n",
    "else:    \n",
    "     print(\"fail\")      "
   ]
  },
  {
   "cell_type": "code",
   "execution_count": 22,
   "id": "6475555a-994b-4ad9-89d1-d7888af85217",
   "metadata": {},
   "outputs": [
    {
     "name": "stdout",
     "output_type": "stream",
     "text": [
      "will execute if a is lesser than 100\n"
     ]
    }
   ],
   "source": [
    "# if-elif-else\n",
    "\n",
    "a = 10\n",
    "if a>100:\n",
    "    print(\"will execute if ais greater than 100\")\n",
    "elif a<100:\n",
    "    print (\"will execute if a is lesser than 100\")\n",
    "else:\n",
    "    print (\"the number is equal to 100\")\n",
    "    \n"
   ]
  },
  {
   "cell_type": "code",
   "execution_count": 4,
   "id": "189ccda7-ed79-481b-a7ad-2628e0c4e33d",
   "metadata": {},
   "outputs": [
    {
     "name": "stdout",
     "output_type": "stream",
     "text": [
      "grade B\n"
     ]
    }
   ],
   "source": [
    "score = 85\n",
    "if score >= 90:\n",
    "    print(\"grade A\")\n",
    "elif(80<=score<=90):\n",
    "    print(\"grade B\")\n",
    "else:\n",
    " print(\"grade less than B\")    \n",
    "     "
   ]
  },
  {
   "cell_type": "code",
   "execution_count": 6,
   "id": "2ec81ced-4f5e-4119-81e6-5e0f77f54439",
   "metadata": {},
   "outputs": [
    {
     "name": "stdout",
     "output_type": "stream",
     "text": [
      "x is not greater than 5 \n"
     ]
    }
   ],
   "source": [
    "#nested if else condtion\n",
    "x = 1\n",
    "y = 6\n",
    "\n",
    "if x > 5:\n",
    "    if y > 5:\n",
    "        print(\"both x and y is greater than 5\")\n",
    "    else:\n",
    "        print(\"x is greater than 5 but y is not\")\n",
    "else:\n",
    "    print(\"x is not greater than 5 \")\n"
   ]
  },
  {
   "cell_type": "code",
   "execution_count": 10,
   "id": "ba8e6ed5-ddaa-41e1-aacd-a4fa3c74f6ec",
   "metadata": {},
   "outputs": [
    {
     "name": "stdin",
     "output_type": "stream",
     "text": [
      "enter a number 122\n"
     ]
    },
    {
     "name": "stdout",
     "output_type": "stream",
     "text": [
      "number is greater than 100\n"
     ]
    }
   ],
   "source": [
    "a = int(input(\"enter a number\"))\n",
    "if a>=100:\n",
    "    print (\"number is greater than 100\")\n",
    "elif 0<a<100:\n",
    "    print(\"a is greater than 0 and less than 100\")\n",
    "else:\n",
    "    print(\"negative number\")"
   ]
  },
  {
   "cell_type": "code",
   "execution_count": 16,
   "id": "a0e6b08d-3124-4e4b-a2d4-82966114cadf",
   "metadata": {},
   "outputs": [
    {
     "name": "stdout",
     "output_type": "stream",
     "text": [
      "you are vip but also qualified for senior citizen discount\n"
     ]
    }
   ],
   "source": [
    "is_vip=30\n",
    "age=70\n",
    "\n",
    "if is_vip:\n",
    "    if age>=18:\n",
    "       if age <65: \n",
    "          print(\"welcome vip customer\")\n",
    "       else:\n",
    "          print(\"you are vip but also qualified for senior citizen discount\")\n",
    "    else:\n",
    "        print(\"vip status is only for adult\")\n",
    "else:\n",
    "    print(\"you are not a vip and regular prices applied\")\n",
    "    "
   ]
  },
  {
   "cell_type": "code",
   "execution_count": null,
   "id": "75bed129-9b5c-48a6-9eb9-b8d05c6becc8",
   "metadata": {},
   "outputs": [],
   "source": []
  }
 ],
 "metadata": {
  "kernelspec": {
   "display_name": "Python 3 (ipykernel)",
   "language": "python",
   "name": "python3"
  },
  "language_info": {
   "codemirror_mode": {
    "name": "ipython",
    "version": 3
   },
   "file_extension": ".py",
   "mimetype": "text/x-python",
   "name": "python",
   "nbconvert_exporter": "python",
   "pygments_lexer": "ipython3",
   "version": "3.12.3"
  }
 },
 "nbformat": 4,
 "nbformat_minor": 5
}
