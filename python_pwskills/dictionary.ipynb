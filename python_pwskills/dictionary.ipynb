{
 "cells": [
  {
   "cell_type": "code",
   "execution_count": 1,
   "id": "b517622a-ca62-420a-9721-deccdb2bca2d",
   "metadata": {},
   "outputs": [],
   "source": [
    "#dictionary is a data structure that stores data as key value pair \n",
    "#unordered , keys are unique and immutable"
   ]
  },
  {
   "cell_type": "code",
   "execution_count": 2,
   "id": "1721d9a6-b67f-4e3f-82bf-2288385cf5ed",
   "metadata": {},
   "outputs": [
    {
     "data": {
      "text/plain": [
       "dict"
      ]
     },
     "execution_count": 2,
     "metadata": {},
     "output_type": "execute_result"
    }
   ],
   "source": [
    "d = {}\n",
    "type(d)"
   ]
  },
  {
   "cell_type": "code",
   "execution_count": 7,
   "id": "f31d7165-5a11-4d47-be94-017a9e8d9fb1",
   "metadata": {},
   "outputs": [],
   "source": [
    "d={\"name\":\"ajay\",\"email\":\"aj@gmail.com\",\"contact\": 1234}\n"
   ]
  },
  {
   "cell_type": "code",
   "execution_count": 8,
   "id": "88bb060e-1809-4814-bd8a-be8633e7aa3e",
   "metadata": {},
   "outputs": [
    {
     "data": {
      "text/plain": [
       "dict"
      ]
     },
     "execution_count": 8,
     "metadata": {},
     "output_type": "execute_result"
    }
   ],
   "source": [
    "type(d)"
   ]
  },
  {
   "cell_type": "code",
   "execution_count": 9,
   "id": "fc1c55e7-a9b6-49e8-a702-43da60650a13",
   "metadata": {},
   "outputs": [
    {
     "data": {
      "text/plain": [
       "{'name': 'ajay', 'email': 'aj@gmail.com', 'contact': 1234}"
      ]
     },
     "execution_count": 9,
     "metadata": {},
     "output_type": "execute_result"
    }
   ],
   "source": [
    "d"
   ]
  },
  {
   "cell_type": "code",
   "execution_count": 10,
   "id": "5e727166-ea16-42ae-a604-7aa97e3d3160",
   "metadata": {},
   "outputs": [
    {
     "data": {
      "text/plain": [
       "'ajay'"
      ]
     },
     "execution_count": 10,
     "metadata": {},
     "output_type": "execute_result"
    }
   ],
   "source": [
    "d['name']"
   ]
  },
  {
   "cell_type": "code",
   "execution_count": 11,
   "id": "ae0d9e79-d547-4af3-b82a-438556a71222",
   "metadata": {},
   "outputs": [
    {
     "data": {
      "text/plain": [
       "'aj@gmail.com'"
      ]
     },
     "execution_count": 11,
     "metadata": {},
     "output_type": "execute_result"
    }
   ],
   "source": [
    "d['email']"
   ]
  },
  {
   "cell_type": "code",
   "execution_count": 13,
   "id": "1acf3d32-424d-499e-9648-8ba08995006f",
   "metadata": {},
   "outputs": [],
   "source": [
    "d['name'] = \"bijay\""
   ]
  },
  {
   "cell_type": "code",
   "execution_count": 14,
   "id": "6e6b9a35-383e-4627-94cd-3413f6c88d69",
   "metadata": {},
   "outputs": [
    {
     "data": {
      "text/plain": [
       "{'name': 'bijay', 'email': 'aj@gmail.com', 'contact': 1234}"
      ]
     },
     "execution_count": 14,
     "metadata": {},
     "output_type": "execute_result"
    }
   ],
   "source": [
    "d"
   ]
  },
  {
   "cell_type": "code",
   "execution_count": 15,
   "id": "a985efa2-cd29-4b53-936e-61cb5d0dc687",
   "metadata": {},
   "outputs": [],
   "source": [
    "d={\"name\":\"Ajay\",\"email\":\"aj@gmail.com\",\"contact\": 1234,\"name\":\"anmol\"}\n"
   ]
  },
  {
   "cell_type": "code",
   "execution_count": 16,
   "id": "1ca040ce-bbd4-4e03-ac7c-ce9462f723bc",
   "metadata": {},
   "outputs": [
    {
     "data": {
      "text/plain": [
       "{'name': 'anmol', 'email': 'aj@gmail.com', 'contact': 1234}"
      ]
     },
     "execution_count": 16,
     "metadata": {},
     "output_type": "execute_result"
    }
   ],
   "source": [
    "d"
   ]
  },
  {
   "cell_type": "code",
   "execution_count": 19,
   "id": "0fa308b2-3db3-48b8-8dc1-430cd65a0d29",
   "metadata": {},
   "outputs": [],
   "source": [
    "d={1:\"abc\"}"
   ]
  },
  {
   "cell_type": "code",
   "execution_count": 20,
   "id": "33a17c1a-4f27-43e3-817f-8e3b94d1293c",
   "metadata": {},
   "outputs": [
    {
     "data": {
      "text/plain": [
       "{1: 'abc'}"
      ]
     },
     "execution_count": 20,
     "metadata": {},
     "output_type": "execute_result"
    }
   ],
   "source": [
    "d"
   ]
  },
  {
   "cell_type": "code",
   "execution_count": 21,
   "id": "edde1c12-2d51-4c5a-bed5-ff4db93c869e",
   "metadata": {},
   "outputs": [],
   "source": [
    "d={101:\"abc\"}"
   ]
  },
  {
   "cell_type": "code",
   "execution_count": 22,
   "id": "b34b1aad-6b90-46c6-98e6-0bf77f3f8ede",
   "metadata": {},
   "outputs": [
    {
     "data": {
      "text/plain": [
       "{101: 'abc'}"
      ]
     },
     "execution_count": 22,
     "metadata": {},
     "output_type": "execute_result"
    }
   ],
   "source": [
    "d"
   ]
  },
  {
   "cell_type": "code",
   "execution_count": 23,
   "id": "145b1d8a-1a61-4d7c-9da6-fe2e397599d0",
   "metadata": {},
   "outputs": [],
   "source": [
    "d={True:\"abc\"}"
   ]
  },
  {
   "cell_type": "code",
   "execution_count": 24,
   "id": "378b9813-c3cf-46f1-a7f5-28e37239e6e0",
   "metadata": {},
   "outputs": [
    {
     "data": {
      "text/plain": [
       "{True: 'abc'}"
      ]
     },
     "execution_count": 24,
     "metadata": {},
     "output_type": "execute_result"
    }
   ],
   "source": [
    "d"
   ]
  },
  {
   "cell_type": "code",
   "execution_count": 25,
   "id": "ebc6fcc6-cc32-46e6-977c-f0766ecfa1dc",
   "metadata": {},
   "outputs": [
    {
     "ename": "SyntaxError",
     "evalue": "invalid syntax (2581202111.py, line 1)",
     "output_type": "error",
     "traceback": [
      "\u001b[1;36m  Cell \u001b[1;32mIn[25], line 1\u001b[1;36m\u001b[0m\n\u001b[1;33m    d={@:\"abc\"}\u001b[0m\n\u001b[1;37m       ^\u001b[0m\n\u001b[1;31mSyntaxError\u001b[0m\u001b[1;31m:\u001b[0m invalid syntax\n"
     ]
    }
   ],
   "source": [
    "d={@:\"abc\"}"
   ]
  },
  {
   "cell_type": "code",
   "execution_count": 26,
   "id": "c59f2e6a-4571-4fad-82db-f52e71394043",
   "metadata": {},
   "outputs": [
    {
     "ename": "TypeError",
     "evalue": "unhashable type: 'list'",
     "output_type": "error",
     "traceback": [
      "\u001b[1;31m---------------------------------------------------------------------------\u001b[0m",
      "\u001b[1;31mTypeError\u001b[0m                                 Traceback (most recent call last)",
      "Cell \u001b[1;32mIn[26], line 1\u001b[0m\n\u001b[1;32m----> 1\u001b[0m d\u001b[38;5;241m=\u001b[39m{[\u001b[38;5;241m1\u001b[39m,\u001b[38;5;241m2\u001b[39m,\u001b[38;5;241m3\u001b[39m]:\u001b[38;5;124m\"\u001b[39m\u001b[38;5;124mabc\u001b[39m\u001b[38;5;124m\"\u001b[39m}\n",
      "\u001b[1;31mTypeError\u001b[0m: unhashable type: 'list'"
     ]
    }
   ],
   "source": [
    "d={[1,2,3]:\"abc\"}"
   ]
  },
  {
   "cell_type": "code",
   "execution_count": 27,
   "id": "5bd0c579-e8b3-4f2b-b6f7-0933a7af4e16",
   "metadata": {},
   "outputs": [],
   "source": [
    "d={(1,2,3):\"abc\"}"
   ]
  },
  {
   "cell_type": "code",
   "execution_count": 28,
   "id": "d3249cd7-8cbd-47d1-b844-f338a2bd4716",
   "metadata": {},
   "outputs": [
    {
     "data": {
      "text/plain": [
       "{(1, 2, 3): 'abc'}"
      ]
     },
     "execution_count": 28,
     "metadata": {},
     "output_type": "execute_result"
    }
   ],
   "source": [
    "d"
   ]
  },
  {
   "cell_type": "code",
   "execution_count": 29,
   "id": "dd6c41f4-e766-4bc6-a076-b8510b72571d",
   "metadata": {},
   "outputs": [
    {
     "ename": "TypeError",
     "evalue": "unhashable type: 'set'",
     "output_type": "error",
     "traceback": [
      "\u001b[1;31m---------------------------------------------------------------------------\u001b[0m",
      "\u001b[1;31mTypeError\u001b[0m                                 Traceback (most recent call last)",
      "Cell \u001b[1;32mIn[29], line 1\u001b[0m\n\u001b[1;32m----> 1\u001b[0m d\u001b[38;5;241m=\u001b[39m{{\u001b[38;5;241m1\u001b[39m,\u001b[38;5;241m2\u001b[39m,\u001b[38;5;241m3\u001b[39m}:\u001b[38;5;124m\"\u001b[39m\u001b[38;5;124mabc\u001b[39m\u001b[38;5;124m\"\u001b[39m}\n",
      "\u001b[1;31mTypeError\u001b[0m: unhashable type: 'set'"
     ]
    }
   ],
   "source": [
    "d={{1,2,3}:\"abc\"}"
   ]
  },
  {
   "cell_type": "code",
   "execution_count": 30,
   "id": "7e0667b9-c048-4c39-b3d9-e496c095a2d0",
   "metadata": {},
   "outputs": [],
   "source": [
    "d={\"name\":\"Ajay\",\"email\":\"aj@gmail.com\",\"contact\": 1234,\"name\":\"anmol\"}\n"
   ]
  },
  {
   "cell_type": "code",
   "execution_count": 31,
   "id": "fef6e184-2fd5-407f-8f6d-d25473e044af",
   "metadata": {},
   "outputs": [
    {
     "data": {
      "text/plain": [
       "{'name': 'anmol', 'email': 'aj@gmail.com', 'contact': 1234}"
      ]
     },
     "execution_count": 31,
     "metadata": {},
     "output_type": "execute_result"
    }
   ],
   "source": [
    "d"
   ]
  },
  {
   "cell_type": "code",
   "execution_count": 32,
   "id": "5aa1f0fd-94b0-4ca2-a74b-5f954d467903",
   "metadata": {},
   "outputs": [],
   "source": [
    "d[\"name\"] = \"data science\""
   ]
  },
  {
   "cell_type": "code",
   "execution_count": 33,
   "id": "35027e65-7dac-4d9f-8387-c1b952cc5495",
   "metadata": {},
   "outputs": [
    {
     "data": {
      "text/plain": [
       "{'name': 'data science', 'email': 'aj@gmail.com', 'contact': 1234}"
      ]
     },
     "execution_count": 33,
     "metadata": {},
     "output_type": "execute_result"
    }
   ],
   "source": [
    "d"
   ]
  },
  {
   "cell_type": "code",
   "execution_count": 35,
   "id": "9df95493-5457-49dc-94bd-c305e6e5fb53",
   "metadata": {},
   "outputs": [],
   "source": [
    "d={\"name\": [\"ajay\" \"bijay\", \"sanjay\"],\"course\":(\"ds\",\"ml\")}"
   ]
  },
  {
   "cell_type": "code",
   "execution_count": 36,
   "id": "5ea9d990-23e3-43d4-b312-5c257913a407",
   "metadata": {},
   "outputs": [
    {
     "data": {
      "text/plain": [
       "{'name': ['ajaybijay', 'sanjay'], 'course': ('ds', 'ml')}"
      ]
     },
     "execution_count": 36,
     "metadata": {},
     "output_type": "execute_result"
    }
   ],
   "source": [
    "d"
   ]
  },
  {
   "cell_type": "code",
   "execution_count": 37,
   "id": "4e524e2e-f7dd-43ab-ae11-a0816517cb3e",
   "metadata": {},
   "outputs": [
    {
     "data": {
      "text/plain": [
       "2"
      ]
     },
     "execution_count": 37,
     "metadata": {},
     "output_type": "execute_result"
    }
   ],
   "source": [
    "len(d)"
   ]
  },
  {
   "cell_type": "code",
   "execution_count": 39,
   "id": "58af9087-5419-491f-9738-19ac3986825d",
   "metadata": {},
   "outputs": [
    {
     "data": {
      "text/plain": [
       "dict_keys(['name', 'course'])"
      ]
     },
     "execution_count": 39,
     "metadata": {},
     "output_type": "execute_result"
    }
   ],
   "source": [
    "d.keys()"
   ]
  },
  {
   "cell_type": "code",
   "execution_count": 40,
   "id": "e4a8e056-d41f-4737-9bd8-224dab67c846",
   "metadata": {},
   "outputs": [
    {
     "data": {
      "text/plain": [
       "dict_values([['ajaybijay', 'sanjay'], ('ds', 'ml')])"
      ]
     },
     "execution_count": 40,
     "metadata": {},
     "output_type": "execute_result"
    }
   ],
   "source": [
    "d.values()"
   ]
  },
  {
   "cell_type": "code",
   "execution_count": 42,
   "id": "93bc7d23-ad9e-4fca-801f-3d01b35c20b4",
   "metadata": {},
   "outputs": [
    {
     "data": {
      "text/plain": [
       "dict_items([('name', ['ajaybijay', 'sanjay']), ('course', ('ds', 'ml'))])"
      ]
     },
     "execution_count": 42,
     "metadata": {},
     "output_type": "execute_result"
    }
   ],
   "source": [
    "d.items()"
   ]
  },
  {
   "cell_type": "code",
   "execution_count": 43,
   "id": "8a915d20-d77f-49e5-b859-2c517201a1e6",
   "metadata": {},
   "outputs": [
    {
     "data": {
      "text/plain": [
       "{'name': ['ajaybijay', 'sanjay'], 'course': ('ds', 'ml')}"
      ]
     },
     "execution_count": 43,
     "metadata": {},
     "output_type": "execute_result"
    }
   ],
   "source": [
    "d.copy()"
   ]
  },
  {
   "cell_type": "code",
   "execution_count": 44,
   "id": "8403090e-88a4-4eb4-9b17-4ae8a524e777",
   "metadata": {},
   "outputs": [],
   "source": [
    "d1 = d.copy()"
   ]
  },
  {
   "cell_type": "code",
   "execution_count": 45,
   "id": "0f48237e-9dc9-4676-9390-c20c0e459d1d",
   "metadata": {},
   "outputs": [
    {
     "data": {
      "text/plain": [
       "{'name': ['ajaybijay', 'sanjay'], 'course': ('ds', 'ml')}"
      ]
     },
     "execution_count": 45,
     "metadata": {},
     "output_type": "execute_result"
    }
   ],
   "source": [
    "d1"
   ]
  },
  {
   "cell_type": "code",
   "execution_count": 46,
   "id": "35ab08c6-1bd0-4ba8-8059-633756a2a6f2",
   "metadata": {},
   "outputs": [],
   "source": [
    "del d1"
   ]
  },
  {
   "cell_type": "code",
   "execution_count": 47,
   "id": "4cfac8a6-322d-4b90-9b58-d6d86b9a3f07",
   "metadata": {},
   "outputs": [
    {
     "data": {
      "text/plain": [
       "{'name': ['ajaybijay', 'sanjay'], 'course': ('ds', 'ml')}"
      ]
     },
     "execution_count": 47,
     "metadata": {},
     "output_type": "execute_result"
    }
   ],
   "source": [
    "d"
   ]
  },
  {
   "cell_type": "code",
   "execution_count": 49,
   "id": "1e33d191-01ed-4979-b4bb-c934aec99d71",
   "metadata": {},
   "outputs": [
    {
     "data": {
      "text/plain": [
       "('ds', 'ml')"
      ]
     },
     "execution_count": 49,
     "metadata": {},
     "output_type": "execute_result"
    }
   ],
   "source": [
    "d.pop(\"course\")"
   ]
  },
  {
   "cell_type": "code",
   "execution_count": 50,
   "id": "02af5276-6153-470b-ae04-cc80413f2aea",
   "metadata": {},
   "outputs": [
    {
     "data": {
      "text/plain": [
       "{'name': ['ajaybijay', 'sanjay']}"
      ]
     },
     "execution_count": 50,
     "metadata": {},
     "output_type": "execute_result"
    }
   ],
   "source": [
    "d"
   ]
  },
  {
   "cell_type": "code",
   "execution_count": 51,
   "id": "14d7c8a0-8b8a-4c83-8b0e-e8af0a7e5e38",
   "metadata": {},
   "outputs": [],
   "source": [
    "d1 = {\"course\":\"ds\",\"start\":\"20th mar\"}"
   ]
  },
  {
   "cell_type": "code",
   "execution_count": 52,
   "id": "6ebd8354-65e6-42f3-9366-46479d550bb0",
   "metadata": {},
   "outputs": [
    {
     "data": {
      "text/plain": [
       "{'course': 'ds', 'start': '20th mar'}"
      ]
     },
     "execution_count": 52,
     "metadata": {},
     "output_type": "execute_result"
    }
   ],
   "source": [
    "d1"
   ]
  },
  {
   "cell_type": "code",
   "execution_count": 53,
   "id": "4f98e277-ad81-41e9-85c9-be131a1f670a",
   "metadata": {},
   "outputs": [],
   "source": [
    "d.update(d1)"
   ]
  },
  {
   "cell_type": "code",
   "execution_count": 54,
   "id": "4ead96bd-7b8b-4cf5-afd8-a0e1adb00db0",
   "metadata": {},
   "outputs": [
    {
     "data": {
      "text/plain": [
       "{'name': ['ajaybijay', 'sanjay'], 'course': 'ds', 'start': '20th mar'}"
      ]
     },
     "execution_count": 54,
     "metadata": {},
     "output_type": "execute_result"
    }
   ],
   "source": [
    "d"
   ]
  },
  {
   "cell_type": "code",
   "execution_count": 55,
   "id": "cabffcef-ca37-451b-91bc-2ad79ee2c685",
   "metadata": {},
   "outputs": [
    {
     "data": {
      "text/plain": [
       "'20th mar'"
      ]
     },
     "execution_count": 55,
     "metadata": {},
     "output_type": "execute_result"
    }
   ],
   "source": [
    "d[\"start\"]"
   ]
  },
  {
   "cell_type": "code",
   "execution_count": 56,
   "id": "2f749ee2-b97c-4956-b651-276c18996f24",
   "metadata": {},
   "outputs": [
    {
     "data": {
      "text/plain": [
       "'20th mar'"
      ]
     },
     "execution_count": 56,
     "metadata": {},
     "output_type": "execute_result"
    }
   ],
   "source": [
    "d.get(\"start\")"
   ]
  },
  {
   "cell_type": "code",
   "execution_count": 57,
   "id": "3d5ef025-6c1c-4b63-ba2a-a329796072b1",
   "metadata": {},
   "outputs": [
    {
     "data": {
      "text/plain": [
       "{1: ('a', 'b', 'c'), 2: ('a', 'b', 'c'), 3: ('a', 'b', 'c')}"
      ]
     },
     "execution_count": 57,
     "metadata": {},
     "output_type": "execute_result"
    }
   ],
   "source": [
    "d.fromkeys((1,2,3),('a','b','c'))"
   ]
  },
  {
   "cell_type": "code",
   "execution_count": 61,
   "id": "e3506a19-107a-47cd-9a1c-028e267aaf57",
   "metadata": {},
   "outputs": [],
   "source": [
    "#dictionary comprehension\n",
    "\n",
    "students =['arun','ajay','bob']\n",
    "marks = [80,95,90]\n",
    "\n",
    "student_marks={}\n",
    "\n",
    "for student, mark in zip(students,marks):\n",
    "    student_marks[student] = mark"
   ]
  },
  {
   "cell_type": "code",
   "execution_count": 63,
   "id": "cc515ea9-c6ab-4239-8627-5106c093fda8",
   "metadata": {},
   "outputs": [
    {
     "data": {
      "text/plain": [
       "{'arun': 80, 'ajay': 95, 'bob': 90}"
      ]
     },
     "execution_count": 63,
     "metadata": {},
     "output_type": "execute_result"
    }
   ],
   "source": [
    "student_marks"
   ]
  },
  {
   "cell_type": "code",
   "execution_count": 64,
   "id": "932d80bc-f26f-4bde-85ab-d386c3da1ffc",
   "metadata": {},
   "outputs": [
    {
     "name": "stdout",
     "output_type": "stream",
     "text": [
      "('arun', 80)\n",
      "('ajay', 95)\n",
      "('bob', 90)\n"
     ]
    }
   ],
   "source": [
    "for i in zip(students,marks):\n",
    "    print(i)"
   ]
  },
  {
   "cell_type": "code",
   "execution_count": 65,
   "id": "43c6dbd5-3815-45d0-9ab1-716e1918d010",
   "metadata": {},
   "outputs": [
    {
     "data": {
      "text/plain": [
       "{'arun': 80, 'ajay': 95, 'bob': 90}"
      ]
     },
     "execution_count": 65,
     "metadata": {},
     "output_type": "execute_result"
    }
   ],
   "source": [
    "{student:marks for student, marks in zip(students,marks)}"
   ]
  },
  {
   "cell_type": "code",
   "execution_count": 67,
   "id": "c3ca5ad8-48ba-4426-976e-9117a4c97e2c",
   "metadata": {},
   "outputs": [
    {
     "data": {
      "text/plain": [
       "{1: 'a21', 2: 'a22', 3: 'a33'}"
      ]
     },
     "execution_count": 67,
     "metadata": {},
     "output_type": "execute_result"
    }
   ],
   "source": [
    "user_id =[1,2,3]\n",
    "user_name = [\"a21\",\"a22\",\"a33\"]\n",
    "{u_id:u_name for u_id,u_name in zip(user_id,user_name)}"
   ]
  },
  {
   "cell_type": "code",
   "execution_count": 68,
   "id": "22adc21b-5250-4b44-81dc-bfaa11e3f4c0",
   "metadata": {},
   "outputs": [],
   "source": [
    "restaurant_menu = {\n",
    "    'Dish1': {'name': 'Pasta Carbonara', 'price': 15.99, 'description': 'Creamy pasta with bacon and parmesan'},\n",
    "    'Dish2': {'name': 'Chicken Caesar Salad', 'price': 12.50, 'description': 'Grilled chicken with romaine lettuce and Caesar dressing'},\n",
    "    'Dish3': {'name': 'Margherita Pizza', 'price': 14.00, 'description': 'Pizza topped with tomato, mozzarella, and basil'}\n",
    "}"
   ]
  },
  {
   "cell_type": "code",
   "execution_count": 70,
   "id": "1284568d-073a-439f-8bb9-486c92affc0e",
   "metadata": {},
   "outputs": [
    {
     "data": {
      "text/plain": [
       "{'name': 'Pasta Carbonara',\n",
       " 'price': 15.99,\n",
       " 'description': 'Creamy pasta with bacon and parmesan'}"
      ]
     },
     "execution_count": 70,
     "metadata": {},
     "output_type": "execute_result"
    }
   ],
   "source": [
    "restaurant_menu['Dish1']"
   ]
  },
  {
   "cell_type": "code",
   "execution_count": 71,
   "id": "67d0462e-c68e-4210-a579-36ebae57e574",
   "metadata": {},
   "outputs": [
    {
     "data": {
      "text/plain": [
       "{'Dish1': {'name': 'Pasta Carbonara',\n",
       "  'price': 15.99,\n",
       "  'description': 'Creamy pasta with bacon and parmesan'},\n",
       " 'Dish2': {'name': 'Chicken Caesar Salad',\n",
       "  'price': 12.5,\n",
       "  'description': 'Grilled chicken with romaine lettuce and Caesar dressing'},\n",
       " 'Dish3': {'name': 'Margherita Pizza',\n",
       "  'price': 14.0,\n",
       "  'description': 'Pizza topped with tomato, mozzarella, and basil'}}"
      ]
     },
     "execution_count": 71,
     "metadata": {},
     "output_type": "execute_result"
    }
   ],
   "source": [
    "restaurant_menu"
   ]
  },
  {
   "cell_type": "code",
   "execution_count": 72,
   "id": "2eee6216-72b0-4b7b-97c2-4fcd56e76cea",
   "metadata": {},
   "outputs": [
    {
     "data": {
      "text/plain": [
       "dict_keys(['Dish1', 'Dish2', 'Dish3'])"
      ]
     },
     "execution_count": 72,
     "metadata": {},
     "output_type": "execute_result"
    }
   ],
   "source": [
    "#Dictionary view objects\n",
    "restaurant_menu.keys()"
   ]
  },
  {
   "cell_type": "code",
   "execution_count": 73,
   "id": "6cf14d52-9033-4e91-92ed-4ab6bb6ab19e",
   "metadata": {},
   "outputs": [
    {
     "data": {
      "text/plain": [
       "dict_values([{'name': 'Pasta Carbonara', 'price': 15.99, 'description': 'Creamy pasta with bacon and parmesan'}, {'name': 'Chicken Caesar Salad', 'price': 12.5, 'description': 'Grilled chicken with romaine lettuce and Caesar dressing'}, {'name': 'Margherita Pizza', 'price': 14.0, 'description': 'Pizza topped with tomato, mozzarella, and basil'}])"
      ]
     },
     "execution_count": 73,
     "metadata": {},
     "output_type": "execute_result"
    }
   ],
   "source": [
    "restaurant_menu.values()"
   ]
  },
  {
   "cell_type": "code",
   "execution_count": 74,
   "id": "20aa3323-4e0b-4090-bd67-edf1778e76de",
   "metadata": {},
   "outputs": [
    {
     "data": {
      "text/plain": [
       "dict_items([('Dish1', {'name': 'Pasta Carbonara', 'price': 15.99, 'description': 'Creamy pasta with bacon and parmesan'}), ('Dish2', {'name': 'Chicken Caesar Salad', 'price': 12.5, 'description': 'Grilled chicken with romaine lettuce and Caesar dressing'}), ('Dish3', {'name': 'Margherita Pizza', 'price': 14.0, 'description': 'Pizza topped with tomato, mozzarella, and basil'})])"
      ]
     },
     "execution_count": 74,
     "metadata": {},
     "output_type": "execute_result"
    }
   ],
   "source": [
    "restaurant_menu.items()"
   ]
  },
  {
   "cell_type": "code",
   "execution_count": null,
   "id": "b7d46225-6d97-4ba7-822a-ba81deed51cc",
   "metadata": {},
   "outputs": [],
   "source": []
  }
 ],
 "metadata": {
  "kernelspec": {
   "display_name": "Python 3 (ipykernel)",
   "language": "python",
   "name": "python3"
  },
  "language_info": {
   "codemirror_mode": {
    "name": "ipython",
    "version": 3
   },
   "file_extension": ".py",
   "mimetype": "text/x-python",
   "name": "python",
   "nbconvert_exporter": "python",
   "pygments_lexer": "ipython3",
   "version": "3.12.3"
  }
 },
 "nbformat": 4,
 "nbformat_minor": 5
}
