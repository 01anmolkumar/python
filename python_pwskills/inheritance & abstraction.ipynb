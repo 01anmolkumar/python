{
 "cells": [
  {
   "cell_type": "code",
   "execution_count": 1,
   "id": "1f4cb6ea-f4ca-4b7e-83a8-938ca233b47e",
   "metadata": {},
   "outputs": [],
   "source": [
    "#inheritance >> refers to process of child class recieving the properties of parent class \n",
    "#syntax\n",
    "#class Baseclass:\n",
    "#        body of base class\n",
    "#class derivedclass(Baseclass):\n",
    "#        body of derived class"
   ]
  },
  {
   "cell_type": "markdown",
   "id": "a1c33b84-f006-457b-acdc-53f6424ca97c",
   "metadata": {},
   "source": [
    "# single inheritance >> when a class has one parent class"
   ]
  },
  {
   "cell_type": "code",
   "execution_count": 4,
   "id": "6d0bd387-7516-49da-aa7c-ffea5bc6a8d2",
   "metadata": {},
   "outputs": [],
   "source": [
    "class father:\n",
    "    def father_property(self):\n",
    "        print(\"this is father property\")"
   ]
  },
  {
   "cell_type": "code",
   "execution_count": 5,
   "id": "9b1528da-e9df-4e5a-8d03-02674ea82a0d",
   "metadata": {},
   "outputs": [],
   "source": [
    "class son(father):\n",
    "    def job(self):\n",
    "        print(\"son has also ajob\")"
   ]
  },
  {
   "cell_type": "code",
   "execution_count": 6,
   "id": "8dc4be2a-19d1-477f-a95d-e41ff841664b",
   "metadata": {},
   "outputs": [],
   "source": [
    "child_obj =son()"
   ]
  },
  {
   "cell_type": "code",
   "execution_count": 7,
   "id": "9ba7bc51-6b1b-4519-abfa-7e91e2539a71",
   "metadata": {},
   "outputs": [
    {
     "name": "stdout",
     "output_type": "stream",
     "text": [
      "son has also ajob\n"
     ]
    }
   ],
   "source": [
    "child_obj.job()"
   ]
  },
  {
   "cell_type": "code",
   "execution_count": 8,
   "id": "67bc5811-abe2-45c2-b4f8-590e2095c239",
   "metadata": {},
   "outputs": [
    {
     "name": "stdout",
     "output_type": "stream",
     "text": [
      "this is father property\n"
     ]
    }
   ],
   "source": [
    "child_obj.father_property()"
   ]
  },
  {
   "cell_type": "code",
   "execution_count": 9,
   "id": "407a1198-83e9-4ce0-bc1f-c9e5345de305",
   "metadata": {},
   "outputs": [],
   "source": [
    "father_obj = father()"
   ]
  },
  {
   "cell_type": "code",
   "execution_count": 13,
   "id": "51fd0323-c49f-4f71-ba71-806682c7f829",
   "metadata": {},
   "outputs": [
    {
     "name": "stdout",
     "output_type": "stream",
     "text": [
      "this is father property\n"
     ]
    }
   ],
   "source": [
    "father_obj.father_property()\n"
   ]
  },
  {
   "cell_type": "code",
   "execution_count": 14,
   "id": "469b07ff-c094-43cd-b17b-81e25b206f82",
   "metadata": {},
   "outputs": [],
   "source": [
    "#parent class will not have acess to the property  of child class but child class will have access of both"
   ]
  },
  {
   "cell_type": "code",
   "execution_count": 15,
   "id": "787a9380-91da-42d0-b843-ba0c139bd731",
   "metadata": {},
   "outputs": [],
   "source": [
    "class fruit:\n",
    "    def fruit_info(self):\n",
    "        print(\"inside parent class\")\n",
    "\n",
    "class Apple(fruit):\n",
    "    def apple_info(self):\n",
    "        print(\"inside the child class\")\n",
    "    "
   ]
  },
  {
   "cell_type": "code",
   "execution_count": 16,
   "id": "d7f8ae85-7b62-4265-8f3b-be8a0bdd1379",
   "metadata": {},
   "outputs": [],
   "source": [
    "obj = Apple()\n"
   ]
  },
  {
   "cell_type": "code",
   "execution_count": 17,
   "id": "1af492a6-e611-4bac-bf11-48778a4da546",
   "metadata": {},
   "outputs": [
    {
     "name": "stdout",
     "output_type": "stream",
     "text": [
      "inside the child class\n"
     ]
    }
   ],
   "source": [
    "obj.apple_info()"
   ]
  },
  {
   "cell_type": "code",
   "execution_count": 18,
   "id": "2f46f7bd-f1f5-4ecf-856e-c7d5a225e691",
   "metadata": {},
   "outputs": [
    {
     "name": "stdout",
     "output_type": "stream",
     "text": [
      "inside parent class\n"
     ]
    }
   ],
   "source": [
    "obj.fruit_info()"
   ]
  },
  {
   "cell_type": "code",
   "execution_count": 19,
   "id": "7745f38f-508c-45c7-913a-24ce298c8058",
   "metadata": {},
   "outputs": [],
   "source": [
    "class fruit:\n",
    "    def fruit_info(self):\n",
    "        print(\"inside parent class\")\n",
    "\n",
    "class Apple(fruit):\n",
    "    def fruit_info(self):\n",
    "        print(\"inside child class\")\n",
    "    def apple_info(self):\n",
    "        print(\"inside the child class\")\n",
    "    "
   ]
  },
  {
   "cell_type": "code",
   "execution_count": 20,
   "id": "ddb6fd78-6cb2-4c45-acd3-4898de97b717",
   "metadata": {},
   "outputs": [],
   "source": [
    "apple = Apple()"
   ]
  },
  {
   "cell_type": "code",
   "execution_count": 22,
   "id": "69787091-915d-4f34-8189-6d78c4ffa215",
   "metadata": {},
   "outputs": [
    {
     "name": "stdout",
     "output_type": "stream",
     "text": [
      "inside child class\n"
     ]
    }
   ],
   "source": [
    "apple.fruit_info()  #Method overriding>> child class is very powerful"
   ]
  },
  {
   "cell_type": "markdown",
   "id": "609ec9ef-1731-4022-8f11-30e35ca26ce4",
   "metadata": {},
   "source": [
    "# Multi_level inheritence"
   ]
  },
  {
   "cell_type": "code",
   "execution_count": 24,
   "id": "7899a0d6-e288-4345-b859-bf1558d8138c",
   "metadata": {},
   "outputs": [],
   "source": [
    "class grandfather:\n",
    "    def prop_grand_father(self):\n",
    "        print(\"i am your grandfather\")"
   ]
  },
  {
   "cell_type": "code",
   "execution_count": 28,
   "id": "82669745-6206-45b9-9262-faf17461ced2",
   "metadata": {},
   "outputs": [],
   "source": [
    "class father(grandfather):\n",
    "    def prop_father(self):\n",
    "        print(\"i am your father and having property of mine and your grandfather as well\")\n",
    "            "
   ]
  },
  {
   "cell_type": "code",
   "execution_count": 29,
   "id": "cc8c7cfc-9d51-4b51-aece-bb29b3067775",
   "metadata": {},
   "outputs": [],
   "source": [
    "class son(father):\n",
    "    def prop_son(self):\n",
    "        print(\"i am son and having property of both my father and grand father\")"
   ]
  },
  {
   "cell_type": "code",
   "execution_count": 30,
   "id": "14742fc1-b421-4343-896d-1cca85a259b0",
   "metadata": {},
   "outputs": [],
   "source": [
    "son = son()"
   ]
  },
  {
   "cell_type": "code",
   "execution_count": 31,
   "id": "bde1efc6-f3b8-4aa6-a0f2-b11195a953f8",
   "metadata": {},
   "outputs": [
    {
     "name": "stdout",
     "output_type": "stream",
     "text": [
      "i am your father and having property of mine and your grandfather as well\n"
     ]
    }
   ],
   "source": [
    "son.prop_father()"
   ]
  },
  {
   "cell_type": "code",
   "execution_count": 32,
   "id": "6cf3e658-bab5-4c1f-9a10-fe3cf778d5a9",
   "metadata": {},
   "outputs": [
    {
     "name": "stdout",
     "output_type": "stream",
     "text": [
      "i am your grandfather\n"
     ]
    }
   ],
   "source": [
    "son.prop_grand_father()"
   ]
  },
  {
   "cell_type": "code",
   "execution_count": 34,
   "id": "7544b772-457d-42f1-a74c-2fe3dc09a927",
   "metadata": {},
   "outputs": [],
   "source": [
    "class vehicle:\n",
    "    def vehicle_info(self):\n",
    "        print(\"inside vehicle class\")\n",
    "class car(vehicle):\n",
    "    def car_info(self):\n",
    "        print(\"inside car class\")\n",
    "class sportscar(car):\n",
    "    def sports_car_info(self):\n",
    "        print(\"inside sports car class\")\n"
   ]
  },
  {
   "cell_type": "code",
   "execution_count": 35,
   "id": "0687cf5a-c8ef-4dec-8a41-d5355690108c",
   "metadata": {},
   "outputs": [],
   "source": [
    "sports_car = sportscar()"
   ]
  },
  {
   "cell_type": "code",
   "execution_count": 36,
   "id": "5c30b8e6-89bf-49de-bd6c-97de709ad9da",
   "metadata": {},
   "outputs": [
    {
     "name": "stdout",
     "output_type": "stream",
     "text": [
      "inside vehicle class\n"
     ]
    }
   ],
   "source": [
    "sports_car.vehicle_info()"
   ]
  },
  {
   "cell_type": "code",
   "execution_count": 37,
   "id": "62940b24-db9e-4005-93aa-2dc0e3515a12",
   "metadata": {},
   "outputs": [
    {
     "name": "stdout",
     "output_type": "stream",
     "text": [
      "inside sports car class\n"
     ]
    }
   ],
   "source": [
    "sports_car.sports_car_info()\n",
    "\n"
   ]
  },
  {
   "cell_type": "code",
   "execution_count": 38,
   "id": "cac2d8b4-56da-46f3-a106-252ea29f5dec",
   "metadata": {},
   "outputs": [],
   "source": [
    "class vehicle:\n",
    "    def vehicle_info(self):\n",
    "        print(\"inside vehicle class\")\n",
    "class car(vehicle):\n",
    "    def car_info(self):\n",
    "        print(\"inside car class\")\n",
    "class sportscar(car):\n",
    "    def vehicle_info(self):\n",
    "        print(\"inside sports car class\")\n"
   ]
  },
  {
   "cell_type": "code",
   "execution_count": 39,
   "id": "5fb2524c-36a2-43eb-97b8-9cc826d9a8d3",
   "metadata": {},
   "outputs": [],
   "source": [
    "obj = sportscar()"
   ]
  },
  {
   "cell_type": "code",
   "execution_count": 40,
   "id": "3ea5b996-cdbe-417e-9011-8b63ff20521b",
   "metadata": {},
   "outputs": [
    {
     "name": "stdout",
     "output_type": "stream",
     "text": [
      "inside sports car class\n"
     ]
    }
   ],
   "source": [
    "obj.vehicle_info() #method overrading"
   ]
  },
  {
   "cell_type": "markdown",
   "id": "601d4416-4a71-48b6-9186-32b6cfac4367",
   "metadata": {},
   "source": [
    "# multi inheritence >> one child class may inherit from multiple parent class "
   ]
  },
  {
   "cell_type": "code",
   "execution_count": 51,
   "id": "f4a6a169-6697-4355-904b-82f9711691c4",
   "metadata": {},
   "outputs": [],
   "source": [
    "class parentclass1:\n",
    "    def method1(self):\n",
    "        print(\"method 1 of parent class 1\")\n",
    "class parentclass2:\n",
    "    def method2(self):\n",
    "        print(\"method 2 of parent class 2\")\n",
    "    \n",
    "\n"
   ]
  },
  {
   "cell_type": "code",
   "execution_count": 52,
   "id": "27cc72f4-2681-462d-8649-83c9c968b133",
   "metadata": {},
   "outputs": [],
   "source": [
    "class childclass(parentclass1,parentclass2):\n",
    "    def child_method(self):\n",
    "        print(\"child method\")"
   ]
  },
  {
   "cell_type": "code",
   "execution_count": 53,
   "id": "d00ad4aa-ce6c-448c-8305-6df01fe8b485",
   "metadata": {},
   "outputs": [],
   "source": [
    "child = childclass()"
   ]
  },
  {
   "cell_type": "code",
   "execution_count": 54,
   "id": "48a71cb9-fa5c-49a9-93a9-e06c84852982",
   "metadata": {},
   "outputs": [
    {
     "name": "stdout",
     "output_type": "stream",
     "text": [
      "method 1 of parent class 1\n"
     ]
    }
   ],
   "source": [
    "child.method1()"
   ]
  },
  {
   "cell_type": "code",
   "execution_count": 55,
   "id": "38da6412-c350-4dff-83c1-2a6861fdf647",
   "metadata": {},
   "outputs": [
    {
     "name": "stdout",
     "output_type": "stream",
     "text": [
      "method 2 of parent class 2\n"
     ]
    }
   ],
   "source": [
    "child.method2()"
   ]
  },
  {
   "cell_type": "code",
   "execution_count": 60,
   "id": "e400860f-fc76-4b46-9c99-57ae5554bf99",
   "metadata": {},
   "outputs": [],
   "source": [
    "class A:\n",
    "    def method(self):\n",
    "        print(\"method of class A\")\n",
    "class B(A):\n",
    "    def method(self):\n",
    "        print(\"method of class B\")\n",
    "class C(A):\n",
    "    def method(self):\n",
    "        print(\"method of class c\")\n",
    "class D(C,B):\n",
    "    pass\n",
    "\n",
    "\n"
   ]
  },
  {
   "cell_type": "code",
   "execution_count": 62,
   "id": "d0eaf1d6-51ab-4c32-9553-a20c43a9c702",
   "metadata": {},
   "outputs": [],
   "source": [
    "d= D() #diamond problem"
   ]
  },
  {
   "cell_type": "code",
   "execution_count": 63,
   "id": "743d5434-0e9b-4a70-a369-db90ae12ecae",
   "metadata": {},
   "outputs": [
    {
     "name": "stdout",
     "output_type": "stream",
     "text": [
      "method of class c\n"
     ]
    }
   ],
   "source": [
    "d.method()"
   ]
  },
  {
   "cell_type": "markdown",
   "id": "1c55411e-3679-4c2b-8490-ef2675478199",
   "metadata": {},
   "source": [
    "# HIERACHICAL INHERITENCE"
   ]
  },
  {
   "cell_type": "code",
   "execution_count": 69,
   "id": "61174157-3f0d-41a8-8b40-ea97c879a2cc",
   "metadata": {},
   "outputs": [],
   "source": [
    "class vehicle:\n",
    "    def info(self):\n",
    "        print(\"this is vehicle\")\n",
    "        \n",
    "class car(vehicle):\n",
    "    def car_info(self,name):\n",
    "        print(\"this is car info\",name)\n",
    "class truck(vehicle):\n",
    "    def truck_info(self,name):\n",
    "        print(\"truck info\",name)\n",
    "\n",
    "        "
   ]
  },
  {
   "cell_type": "code",
   "execution_count": 73,
   "id": "f8193e53-3551-4a81-a65d-c69379a2f955",
   "metadata": {},
   "outputs": [],
   "source": [
    "obj1=car()"
   ]
  },
  {
   "cell_type": "code",
   "execution_count": 76,
   "id": "e8029c5f-b648-4180-b74e-ca236d0be5e0",
   "metadata": {},
   "outputs": [
    {
     "name": "stdout",
     "output_type": "stream",
     "text": [
      "this is vehicle\n"
     ]
    }
   ],
   "source": [
    "obj1.info()"
   ]
  },
  {
   "cell_type": "code",
   "execution_count": 79,
   "id": "f6d19050-f4ab-41bd-b40f-ca6f748aa7f7",
   "metadata": {},
   "outputs": [
    {
     "name": "stdout",
     "output_type": "stream",
     "text": [
      "this is car info BMW\n"
     ]
    }
   ],
   "source": [
    "obj1.car_info(\"BMW\")"
   ]
  },
  {
   "cell_type": "code",
   "execution_count": 80,
   "id": "629905d4-d091-40dc-8c08-a785044e1e7f",
   "metadata": {},
   "outputs": [],
   "source": [
    "obj2=truck()"
   ]
  },
  {
   "cell_type": "code",
   "execution_count": 81,
   "id": "c18a1fe1-ce35-4bfd-9d5d-63fd18e38c24",
   "metadata": {},
   "outputs": [
    {
     "name": "stdout",
     "output_type": "stream",
     "text": [
      "this is vehicle\n"
     ]
    }
   ],
   "source": [
    "obj2.info()"
   ]
  },
  {
   "cell_type": "code",
   "execution_count": 82,
   "id": "a2e0df8a-dc47-40d9-b949-7b6aad41656f",
   "metadata": {},
   "outputs": [
    {
     "name": "stdout",
     "output_type": "stream",
     "text": [
      "truck info ford\n"
     ]
    }
   ],
   "source": [
    "obj2.truck_info(\"ford\")"
   ]
  },
  {
   "cell_type": "markdown",
   "id": "c3f12738-2d74-4b4b-b946-40363b442cdb",
   "metadata": {},
   "source": [
    "# Hybride inheritance >> multiple types or a combination of different inheritence"
   ]
  },
  {
   "cell_type": "code",
   "execution_count": 83,
   "id": "ffa8f60b-f4ad-452b-968e-99e6104bd182",
   "metadata": {},
   "outputs": [],
   "source": [
    "class vehicle:\n",
    "    def vehicle_info (self):\n",
    "        print(\"inside vehicle class\")     \n",
    "class car(vehicle):\n",
    "    def car_info(self):\n",
    "        print(\"inside car class\")\n",
    "class truck(vehicle):\n",
    "    def truck_info(self,name):\n",
    "        print(\"truck info\",name)\n",
    "        \n",
    "class sportscar(car, vehicle):\n",
    "    def sports_info(self):\n",
    "        print(\"inside sports car class\")\n",
    "\n"
   ]
  },
  {
   "cell_type": "code",
   "execution_count": 84,
   "id": "cbeaf0f9-c7c5-4ce8-93b5-5b45c5212de1",
   "metadata": {},
   "outputs": [],
   "source": [
    "s_car = sportscar()"
   ]
  },
  {
   "cell_type": "code",
   "execution_count": 85,
   "id": "b639da6e-e219-4590-8a24-4e88a2990c89",
   "metadata": {},
   "outputs": [
    {
     "name": "stdout",
     "output_type": "stream",
     "text": [
      "inside car class\n"
     ]
    }
   ],
   "source": [
    "s_car.car_info()"
   ]
  },
  {
   "cell_type": "code",
   "execution_count": 86,
   "id": "117893e3-58fd-4c70-b2f5-4b173dd49361",
   "metadata": {},
   "outputs": [
    {
     "name": "stdout",
     "output_type": "stream",
     "text": [
      "inside vehicle class\n"
     ]
    }
   ],
   "source": [
    "s_car.vehicle_info()"
   ]
  },
  {
   "cell_type": "code",
   "execution_count": 87,
   "id": "233bb00f-34f1-4883-a42b-e596067e521a",
   "metadata": {},
   "outputs": [
    {
     "name": "stdout",
     "output_type": "stream",
     "text": [
      "inside sports car class\n"
     ]
    }
   ],
   "source": [
    "s_car.sports_info()"
   ]
  },
  {
   "cell_type": "markdown",
   "id": "2f9b336e-f7f1-4b00-b355-a63e3a3110eb",
   "metadata": {},
   "source": [
    "# Abstraction >> concept of hiding the complex implementation"
   ]
  },
  {
   "cell_type": "code",
   "execution_count": 88,
   "id": "a74cf337-c8c8-4be5-80a4-00ee101f4cbf",
   "metadata": {},
   "outputs": [],
   "source": [
    "import abc"
   ]
  },
  {
   "cell_type": "code",
   "execution_count": 89,
   "id": "7609fe61-01c7-402f-909c-068842070501",
   "metadata": {},
   "outputs": [],
   "source": [
    "class pwskills:\n",
    "\n",
    "    @abc.abstractmethod\n",
    "    def student_details(self):\n",
    "        pass\n",
    "\n",
    "    @abc.abstractmethod\n",
    "    def student_assignment(self):\n",
    "        pass\n",
    "\n",
    "    @abc.abstractmethod\n",
    "    def student_marks(self):\n",
    "        pass\n",
    "    \n",
    "    "
   ]
  },
  {
   "cell_type": "code",
   "execution_count": 91,
   "id": "ec9e3e7c-84b9-46ff-9339-c1c0fd635c2b",
   "metadata": {},
   "outputs": [],
   "source": [
    "class Datascience(pwskills):\n",
    "    def student_details(self):\n",
    "        return \"data science course student details\"\n",
    "\n",
    "    def student_marks(self):\n",
    "        return \"give ds course student's marks\"\n",
    "     "
   ]
  },
  {
   "cell_type": "code",
   "execution_count": 92,
   "id": "49995d96-dc7e-4b51-a90a-dc408e84a8f3",
   "metadata": {},
   "outputs": [],
   "source": [
    "class webdev(pwskills):\n",
    "    def student_assigement(self):\n",
    "        return \"this will give student assigement of web dev class\"\n",
    "\n",
    "    def student_marks(self):\n",
    "        return \"give web dev student's marks\"\n",
    "     "
   ]
  },
  {
   "cell_type": "code",
   "execution_count": 93,
   "id": "349c8a52-615f-4dbc-8109-61074c3aeb59",
   "metadata": {},
   "outputs": [],
   "source": [
    "ds=Datascience()"
   ]
  },
  {
   "cell_type": "code",
   "execution_count": 94,
   "id": "b3a5e055-5845-4fbe-9303-b453d047cdb8",
   "metadata": {},
   "outputs": [
    {
     "data": {
      "text/plain": [
       "'data science course student details'"
      ]
     },
     "execution_count": 94,
     "metadata": {},
     "output_type": "execute_result"
    }
   ],
   "source": [
    "ds.student_details()"
   ]
  },
  {
   "cell_type": "code",
   "execution_count": 95,
   "id": "9db3ecae-496b-45fa-bcf3-cf9dacef3dcc",
   "metadata": {},
   "outputs": [],
   "source": [
    "web=webdev()"
   ]
  },
  {
   "cell_type": "code",
   "execution_count": 97,
   "id": "e95c4a82-ba84-46cb-a598-705fca561719",
   "metadata": {},
   "outputs": [
    {
     "data": {
      "text/plain": [
       "\"give web dev student's marks\""
      ]
     },
     "execution_count": 97,
     "metadata": {},
     "output_type": "execute_result"
    }
   ],
   "source": [
    "web.student_marks()"
   ]
  },
  {
   "cell_type": "code",
   "execution_count": 98,
   "id": "3a5837f9-8a83-4bf5-8e0e-9bd0ce3a3f1b",
   "metadata": {},
   "outputs": [],
   "source": [
    "class Shape:\n",
    "    @abc.abstractmethod\n",
    "    def calculate_area(self):\n",
    "        pass\n",
    "\n",
    "class Rectange(Shape):\n",
    "    def calculate_area(self):\n",
    "        print(\"Area of rectangle : length * breadth\")\n",
    "class Circle(Shape):\n",
    "    def calculate_area(self):\n",
    "        print(\"Area of circle : pi r**2\")"
   ]
  },
  {
   "cell_type": "code",
   "execution_count": 99,
   "id": "ab2ce77f-6326-4268-bedd-3bc54d8e9131",
   "metadata": {},
   "outputs": [
    {
     "name": "stdout",
     "output_type": "stream",
     "text": [
      "Area of rectangle : length * breadth\n"
     ]
    }
   ],
   "source": [
    "rect = Rectange()\n",
    "rect.calculate_area()"
   ]
  },
  {
   "cell_type": "code",
   "execution_count": null,
   "id": "cef187cd-3929-4529-a4ba-1816bc7261fa",
   "metadata": {},
   "outputs": [],
   "source": []
  }
 ],
 "metadata": {
  "kernelspec": {
   "display_name": "Python 3 (ipykernel)",
   "language": "python",
   "name": "python3"
  },
  "language_info": {
   "codemirror_mode": {
    "name": "ipython",
    "version": 3
   },
   "file_extension": ".py",
   "mimetype": "text/x-python",
   "name": "python",
   "nbconvert_exporter": "python",
   "pygments_lexer": "ipython3",
   "version": "3.12.3"
  }
 },
 "nbformat": 4,
 "nbformat_minor": 5
}
